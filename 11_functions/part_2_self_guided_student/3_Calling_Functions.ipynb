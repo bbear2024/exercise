{
 "cells": [
  {
   "cell_type": "markdown",
   "metadata": {},
   "source": [
    "\n",
    "\n",
    "# Calling Functions with Positional Versus Keyword Arguments\n",
    "\n",
    "## Objectives\n",
    "\n",
    "At the end of this notebook you should be able to:\n",
    "\n",
    "- how to call a function correctly\n",
    "- know the difference between local and global variables\n",
    "\n",
    "We'll refer to this function below: \n",
    "\n",
    "```python \n",
    "def get_multiples(n=5, divisor=2): \n",
    "    multiples_lst = []\n",
    "    for element in range(n): \n",
    "        if element % divisor == 0: \n",
    "            multiples_lst.append(element)\n",
    "    return multiples_lst\n",
    "```\n",
    "\n",
    "So far, when we call a function and pass arguments to it we have seen Python assign those arguments to the correct parameters (for example, 5 to `n` and 2 to `divisor`, above). But how exactly does this happen - how does Python know that when we call `get_multiples(5, 2)`, 5 should get assigned to `n` and 2 should get assigned to `divisor`? \n",
    "\n",
    "It turns out that, by default, Python simply matches up the position of the arguments that are passed in with the position of the parameters that are given in the function definition. In our `get_multiples(5, 2)` call, it takes the first argument passed, `5`, and assigns that to the first parameter in the function definition, `n`. Similarly, it takes the second argument passed, `2`, and assigns it to the second parameter in the function definition, `divisor`. This method of passing arguments is **by position**, and the arguments `5` and `2` in this example are considered to be **positional arguments**.\n",
    "\n",
    "As you might have guessed from the title of this section, there is another method of passing arguments, and that is **by keyword**. The way this works is that instead of passing just the values in the function call, we call the values with the parameter name that they correspond to followed by an equals sign. Building off of our example above, using **keyword arguments** would mean our function call would look like this: `get_multiples(n=5, divisor=2)`.\n",
    "\n",
    "Okay, got it! But, there are one or two more things that we need to cover with regards to this topic. In the above examples, we used either **all** positional arguments or **all** keyword arguments. However, there is the possibility that we can use a mixture of positional and keyword arguments if we'd like. The only caveat is that we have to pass all positional arguments **before** passing any keyword arguments. For example:\n"
   ]
  },
  {
   "cell_type": "code",
   "execution_count": 1,
   "metadata": {
    "ExecuteTime": {
     "end_time": "2020-07-20T09:54:35.730820Z",
     "start_time": "2020-07-20T09:54:35.722794Z"
    }
   },
   "outputs": [],
   "source": [
    "def get_multiples(n=5, divisor=2): \n",
    "    multiples_lst = []\n",
    "    for element in range(n): \n",
    "        if element % divisor == 0: \n",
    "            multiples_lst.append(element)\n",
    "    return multiples_lst"
   ]
  },
  {
   "cell_type": "code",
   "execution_count": 2,
   "metadata": {
    "ExecuteTime": {
     "end_time": "2020-07-20T09:54:35.755520Z",
     "start_time": "2020-07-20T09:54:35.733785Z"
    }
   },
   "outputs": [
    {
     "data": {
      "text/plain": [
       "[0, 2, 4]"
      ]
     },
     "execution_count": 2,
     "metadata": {},
     "output_type": "execute_result"
    }
   ],
   "source": [
    "get_multiples(5, 2) # All arguments passed by position."
   ]
  },
  {
   "cell_type": "code",
   "execution_count": 3,
   "metadata": {
    "ExecuteTime": {
     "end_time": "2020-07-20T09:54:35.774128Z",
     "start_time": "2020-07-20T09:54:35.760441Z"
    }
   },
   "outputs": [
    {
     "data": {
      "text/plain": [
       "[0, 2, 4]"
      ]
     },
     "execution_count": 3,
     "metadata": {},
     "output_type": "execute_result"
    }
   ],
   "source": [
    "get_multiples(n=5, divisor=2) # All arguments passed by keyword."
   ]
  },
  {
   "cell_type": "code",
   "execution_count": 4,
   "metadata": {
    "ExecuteTime": {
     "end_time": "2020-07-20T09:54:35.792238Z",
     "start_time": "2020-07-20T09:54:35.780602Z"
    }
   },
   "outputs": [
    {
     "data": {
      "text/plain": [
       "[0, 3, 6, 9]"
      ]
     },
     "execution_count": 4,
     "metadata": {},
     "output_type": "execute_result"
    }
   ],
   "source": [
    "get_multiples(10, divisor=3) # Okay mix of positional and keyword arguments."
   ]
  },
  {
   "cell_type": "code",
   "execution_count": 5,
   "metadata": {
    "ExecuteTime": {
     "end_time": "2020-07-20T09:54:35.809623Z",
     "start_time": "2020-07-20T09:54:35.795527Z"
    }
   },
   "outputs": [
    {
     "ename": "SyntaxError",
     "evalue": "positional argument follows keyword argument (3694115901.py, line 1)",
     "output_type": "error",
     "traceback": [
      "\u001b[1;36m  Cell \u001b[1;32mIn[5], line 1\u001b[1;36m\u001b[0m\n\u001b[1;33m    get_multiples(n=10, 3) # Not okay mix of positional and keyword arguments.\u001b[0m\n\u001b[1;37m                         ^\u001b[0m\n\u001b[1;31mSyntaxError\u001b[0m\u001b[1;31m:\u001b[0m positional argument follows keyword argument\n"
     ]
    }
   ],
   "source": [
    "get_multiples(n=10, 3) # Not okay mix of positional and keyword arguments."
   ]
  },
  {
   "cell_type": "code",
   "execution_count": null,
   "metadata": {},
   "outputs": [],
   "source": []
  },
  {
   "cell_type": "markdown",
   "metadata": {},
   "source": [
    "### Variable Scope\n",
    "\n",
    "Variable scope is a topic in and of itself, but up until now we haven't really had a good reason to discuss it. **Variable scope** is going to define the part (or block) of your program in which a variable is visible. We typically refer to one of two scopes for variables - **global** scope and **local** scope. A variable with **global** scope is visible everywhere. It can be used anywhere in your script, including any of the functions you have written (it can even be used inside of a function written inside of a function). A variable with **local** scope, on the other hand, is only visible in the scope in which it is enclosed (typically a function).\n",
    "\n",
    "When referencing a variable, Python will search the following scopes (in order) to resolve the reference:\n",
    "\n",
    "1. The current function's scope.\n",
    "2. Any enclosing scopes (like other containing functions).\n",
    "3. The scope of the module (i.e. script) that contains the code (often referred to as the **global** scope).\n",
    "4. The built-in scope (contains the built-in functions).\n",
    "\n",
    "This is kind of a confusing concept to grasp, so let's look at a concrete example."
   ]
  },
  {
   "cell_type": "code",
   "execution_count": null,
   "metadata": {
    "ExecuteTime": {
     "end_time": "2020-07-20T09:54:44.972883Z",
     "start_time": "2020-07-20T09:54:44.967724Z"
    }
   },
   "outputs": [],
   "source": [
    "my_global_var = 5\n",
    "\n",
    "def my_test_func():\n",
    "    print(\"My global variable:\",  my_global_var) # Accessible and will print.\n",
    "    my_local_var = 10                            # Only accessible in my_test_func.\n",
    "    print(\"My local variable:\", my_local_var)  "
   ]
  },
  {
   "cell_type": "code",
   "execution_count": null,
   "metadata": {
    "ExecuteTime": {
     "end_time": "2020-07-20T09:54:45.270647Z",
     "start_time": "2020-07-20T09:54:45.262832Z"
    }
   },
   "outputs": [],
   "source": [
    "my_global_var     # Accessible also outside the function"
   ]
  },
  {
   "cell_type": "code",
   "execution_count": null,
   "metadata": {
    "ExecuteTime": {
     "end_time": "2020-07-20T09:54:45.582857Z",
     "start_time": "2020-07-20T09:54:45.573320Z"
    }
   },
   "outputs": [],
   "source": [
    "my_test_func()"
   ]
  },
  {
   "cell_type": "code",
   "execution_count": null,
   "metadata": {
    "ExecuteTime": {
     "end_time": "2020-07-20T09:54:46.052983Z",
     "start_time": "2020-07-20T09:54:45.894785Z"
    }
   },
   "outputs": [],
   "source": [
    "my_local_var      # Not accessible outside the function"
   ]
  },
  {
   "cell_type": "markdown",
   "metadata": {},
   "source": [
    "Notice that `my_global_var` is accessible anywhere - both inside and outside of our function. This is because it is in the **global scope**. `my_local_var`, on the other hand, was defined within `my_test_func`. As a result, it is enclosed within the scope of `my_test_func`, and not accessible outside of it.   "
   ]
  },
  {
   "cell_type": "markdown",
   "metadata": {},
   "source": [
    "## Check your understanding\n",
    "\n",
    "1. Which one of the following functions passes arguments by position, and which by keyword?\n",
    "\n",
    "    1. ```python \n",
    "        get_multiples(26, 2)      \n",
    "        ```\n",
    "\n",
    "    2. ```python \n",
    "        get_multiples(n=35, divisor=7)      \n",
    "        ```\n",
    "\n",
    "2. Which of the following function calls are valid? Why?\n",
    "    1. ```python \n",
    "       get_multiples(26, 13)\n",
    "       ```\n",
    "    2. ```python \n",
    "       get_multiples(n=26, 13)\n",
    "       ```\n",
    "    3. ```python \n",
    "       get_multiples(26, divisor=13)\n",
    "       ```\n",
    "    4. ```python \n",
    "       get_multiples(n=26, divisor=13)\n",
    "       ```\n",
    "    5. ```python \n",
    "       get_multiples(n=48, 8)\n",
    "       ```\n",
    "    6. ```python \n",
    "       get_multiples(50, divisor=10)\n",
    "       ```\n",
    "       \n",
    "3. Verify your answers by typing these into cells, or figure out why you don't see the results you expected. "
   ]
  },
  {
   "cell_type": "code",
   "execution_count": 14,
   "metadata": {},
   "outputs": [
    {
     "data": {
      "text/plain": [
       "[0, 10, 20, 30, 40]"
      ]
     },
     "execution_count": 14,
     "metadata": {},
     "output_type": "execute_result"
    }
   ],
   "source": [
    "get_multiples(50, divisor=10)"
   ]
  }
 ],
 "metadata": {
  "kernelspec": {
   "display_name": "Python 3",
   "language": "python",
   "name": "python3"
  },
  "language_info": {
   "codemirror_mode": {
    "name": "ipython",
    "version": 3
   },
   "file_extension": ".py",
   "mimetype": "text/x-python",
   "name": "python",
   "nbconvert_exporter": "python",
   "pygments_lexer": "ipython3",
   "version": "3.12.3"
  },
  "toc": {
   "base_numbering": 1,
   "nav_menu": {},
   "number_sections": true,
   "sideBar": true,
   "skip_h1_title": false,
   "title_cell": "Table of Contents",
   "title_sidebar": "Contents",
   "toc_cell": false,
   "toc_position": {},
   "toc_section_display": true,
   "toc_window_display": false
  },
  "varInspector": {
   "cols": {
    "lenName": 16,
    "lenType": 16,
    "lenVar": 40
   },
   "kernels_config": {
    "python": {
     "delete_cmd_postfix": "",
     "delete_cmd_prefix": "del ",
     "library": "var_list.py",
     "varRefreshCmd": "print(var_dic_list())"
    },
    "r": {
     "delete_cmd_postfix": ") ",
     "delete_cmd_prefix": "rm(",
     "library": "var_list.r",
     "varRefreshCmd": "cat(var_dic_list()) "
    }
   },
   "types_to_exclude": [
    "module",
    "function",
    "builtin_function_or_method",
    "instance",
    "_Feature"
   ],
   "window_display": false
  }
 },
 "nbformat": 4,
 "nbformat_minor": 4
}
