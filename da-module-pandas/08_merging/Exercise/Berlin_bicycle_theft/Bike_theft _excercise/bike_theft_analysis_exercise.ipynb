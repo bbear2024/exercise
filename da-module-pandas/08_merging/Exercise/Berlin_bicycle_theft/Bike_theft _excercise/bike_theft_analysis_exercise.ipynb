{
 "cells": [
  {
   "cell_type": "markdown",
   "id": "b917d030",
   "metadata": {},
   "source": [
    "# Bike Theft in Berlin 2020-2024 (as of 19.06.2024)"
   ]
  },
  {
   "cell_type": "markdown",
   "id": "0e2cdf72",
   "metadata": {},
   "source": [
    "in the folder `./data/bike_data` you will find 4 files with the [\"Fahrraddiebstahl\" data](https://daten.berlin.de/datensaetze/fahrraddiebstahl-berlin) data provided bei the city of Berlin: \n",
    "\n",
    "> Note: the data from the website is only for the last year and the current year so far.\n",
    "> the data you see was collected from different sources which initially downloaded it from the url above. Also the data was filted to a particular year but left unchanged otherwise."
   ]
  },
  {
   "cell_type": "markdown",
   "id": "b93a9a6c",
   "metadata": {},
   "source": [
    "### Objectives:"
   ]
  },
  {
   "cell_type": "markdown",
   "id": "587f369d",
   "metadata": {},
   "source": [
    "**1. Phase:** create one dataframe with all years of data  \n",
    "**2. Phase:** enrich the dataframe with the names of Bezirks (and optionally other sub-area names, etc.)  \n",
    "**3. Phase:** analyse some (3-5) questions and plot some visualizations   "
   ]
  },
  {
   "cell_type": "markdown",
   "id": "e816c1ba",
   "metadata": {},
   "source": [
    "### Steps:"
   ]
  },
  {
   "cell_type": "markdown",
   "id": "0f530775",
   "metadata": {},
   "source": [
    "##### 1. Phase"
   ]
  },
  {
   "cell_type": "markdown",
   "id": "76fa65bc",
   "metadata": {},
   "source": [
    "- open and clean each year's dataset (you can do it \"by feet\" or create/use a function from cleansing exercise)\n",
    "    - make columns lower case\n",
    "    - drop duplicate rows\n",
    "    - drop columns `angelegt_am`, `erfassungsgrund`\n",
    "    - filter out the rows with 'Unbekannt' in the column `versuch`\n",
    "    - change data type of `tatzeit_anfang_datum` and `tatzeit_ende_datum` to datetime\n",
    "    - concatenate all cleaned dataframes\n",
    "    > Note: if you wish you can flip the first 2 steps\n",
    "    - (optional): sort values by `tatzeit_anfang_datum`\n",
    "    - (optional): translate columns and values to english\n",
    "        > Hint: here is an example how to map values to new values in a column.\n",
    "        >```python\n",
    "        >attempt_dict = {\n",
    "                          'Ja' : 'yes', \n",
    "                          'Nein' : 'no'\n",
    "                       }\n",
    "        >\n",
    "        >df_total['attempt'] = df_total['attempt'].map(attempt_dict)\n",
    "        >```\n",
    "    - reset the index, **don't** keep the old index as values\n"
   ]
  },
  {
   "cell_type": "markdown",
   "id": "bf0e27e3",
   "metadata": {},
   "source": [
    "##### 2. Phase"
   ]
  },
  {
   "cell_type": "markdown",
   "id": "98c72fed",
   "metadata": {},
   "source": [
    "\n",
    "- download the LOR data from [the online table](https://fbinter.stadt-berlin.de/fb?loginkey=alphaDataStart&alphaDataId=s_lor_plr_2021@senstadt) (there is a button)\n",
    ">LOR : Lebensweltlich orientierte Räume (LOR) - Planungsräume\n",
    "- if it doesn't work >> go to [this url](https://daten.berlin.de/datensaetze/lebensweltlich-orientierte-r%C3%A4ume-lor-planungsr%C3%A4ume-01012021-wfs) and find the link under **\"Website:\"**  \n",
    "\n",
    "  \n",
    "- open the downloaded `broker.xls`\n",
    "- (optional) clean and filter the columns you want to keep\n",
    "- merge the LOR details data to the total bike_theft dataframe\n",
    "- save the big and enriched dataframe in a new file"
   ]
  },
  {
   "cell_type": "markdown",
   "id": "056f7af1",
   "metadata": {},
   "source": [
    "##### 3. Phase: "
   ]
  },
  {
   "cell_type": "markdown",
   "id": "227dd69a",
   "metadata": {},
   "source": [
    "- consider what insights you would like to eplore about this new data\n",
    "        - total count or value per month over time (line-plot?)\n",
    "        - share in theft count per bike type, per Bezirk\n",
    "        - distribution of values stolen (histogram)\n",
    "        - when do the most bike theft happen (timewise or day of week or month...)\n",
    "        - ... it is up to you\n",
    "- select / filter / aggregate the data to find answers to your questions\n",
    "- create plots for the found insights, a table could also be visualizing a message\n",
    "        "
   ]
  }
 ],
 "metadata": {
  "kernelspec": {
   "display_name": "Python 3 (ipykernel)",
   "language": "python",
   "name": "python3"
  },
  "language_info": {
   "codemirror_mode": {
    "name": "ipython",
    "version": 3
   },
   "file_extension": ".py",
   "mimetype": "text/x-python",
   "name": "python",
   "nbconvert_exporter": "python",
   "pygments_lexer": "ipython3",
   "version": "3.9.12"
  }
 },
 "nbformat": 4,
 "nbformat_minor": 5
}
