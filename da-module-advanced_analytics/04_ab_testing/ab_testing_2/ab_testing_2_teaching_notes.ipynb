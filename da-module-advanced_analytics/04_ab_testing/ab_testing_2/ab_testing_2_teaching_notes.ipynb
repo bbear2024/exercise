{
 "cells": [
  {
   "attachments": {},
   "cell_type": "markdown",
   "metadata": {},
   "source": [
    "## Is the conversion rate better for night shifts?"
   ]
  },
  {
   "cell_type": "code",
   "execution_count": 2,
   "metadata": {},
   "outputs": [
    {
     "name": "stdout",
     "output_type": "stream",
     "text": [
      "conversion rate for day shift: 0.0955223880597015\n",
      "conversion rate for night shift: 0.15915915915915915\n",
      "z statistic: 2.47\n",
      "p-value: 0.014\n"
     ]
    }
   ],
   "source": [
    "import pandas as pd\n",
    "from statsmodels.stats.proportion import proportions_ztest\n",
    "\n",
    "tips = pd.read_csv('data/tips_success.csv')\n",
    "\n",
    "tips_night = tips[tips['version'] == 'night']\n",
    "tips_day = tips[tips['version'] == 'day']\n",
    "\n",
    "n_night = len(tips_night)\n",
    "n_day = len(tips_day)\n",
    "successes = [tips_night.conversion.sum(), tips_day.conversion.sum()]\n",
    "nobs = [n_night, n_day]\n",
    "\n",
    "z_stat, pval = proportions_ztest(successes, nobs=nobs)\n",
    "\n",
    "print(f'conversion rate for day shift: {tips_day.conversion.sum()/n_day}')\n",
    "print(f'conversion rate for night shift: {tips_night.conversion.sum()/n_night}')\n",
    "print(f'z statistic: {z_stat:.2f}')\n",
    "print(f'p-value: {pval:.3f}')"
   ]
  },
  {
   "cell_type": "code",
   "execution_count": 3,
   "metadata": {},
   "outputs": [
    {
     "data": {
      "text/plain": [
       "conversion\n",
       "0    583\n",
       "1     85\n",
       "Name: count, dtype: int64"
      ]
     },
     "execution_count": 3,
     "metadata": {},
     "output_type": "execute_result"
    }
   ],
   "source": [
    "tips['conversion'].value_counts()"
   ]
  },
  {
   "attachments": {},
   "cell_type": "markdown",
   "metadata": {},
   "source": [
    "Conclusions: Based on the results of the calculations we could tell that it makes sense to switch to the night shift. The p value is low (below 5%) and the diff between the variants is bigger than 5% points (referring to MEI)."
   ]
  },
  {
   "attachments": {},
   "cell_type": "markdown",
   "metadata": {},
   "source": [
    "Let's check it now for the dataset called `tips_too_small_diff.csv`:"
   ]
  },
  {
   "cell_type": "code",
   "execution_count": 4,
   "metadata": {},
   "outputs": [
    {
     "name": "stdout",
     "output_type": "stream",
     "text": [
      "conversion rate for day shift: 0.12312312312312312\n",
      "conversion rate for night shift: 0.0955223880597015\n",
      "z statistic: -1.14\n",
      "p-value: 0.253\n"
     ]
    }
   ],
   "source": [
    "tips = pd.read_csv('data/tips_too_small_diff.csv')\n",
    "\n",
    "tips_night = tips[tips['version'] == 'night']\n",
    "tips_day = tips[tips['version'] == 'day']\n",
    "\n",
    "n_night = len(tips_night)\n",
    "n_day = len(tips_day)\n",
    "successes = [tips_night.conversion.sum(), tips_day.conversion.sum()]\n",
    "nobs = [n_night, n_day]\n",
    "\n",
    "z_stat, pval = proportions_ztest(successes, nobs=nobs)\n",
    "\n",
    "print(f'conversion rate for day shift: {tips_day.conversion.sum()/n_day}')\n",
    "print(f'conversion rate for night shift: {tips_night.conversion.sum()/n_night}')\n",
    "print(f'z statistic: {z_stat:.2f}')\n",
    "print(f'p-value: {pval:.3f}')"
   ]
  },
  {
   "cell_type": "code",
   "execution_count": null,
   "metadata": {},
   "outputs": [],
   "source": []
  },
  {
   "attachments": {},
   "cell_type": "markdown",
   "metadata": {},
   "source": [
    "Conclusions:\n",
    "\n",
    "The diff between the two tests is too small to make a significant conclusion - the p value is high."
   ]
  },
  {
   "attachments": {},
   "cell_type": "markdown",
   "metadata": {},
   "source": [
    "## Comparing means \n",
    "\n",
    "In this scenario we imagine that in several days we worked both shifts and every day we computed how many tips we got on average. Below you can see how to compare the results of the test: "
   ]
  },
  {
   "cell_type": "code",
   "execution_count": 5,
   "metadata": {},
   "outputs": [
    {
     "name": "stdout",
     "output_type": "stream",
     "text": [
      "average tips for day shift: 2.6518728895668593\n",
      "average tips for night shift 3.0040922252482574\n",
      "-2.8205655591656953 0.006551683740313615\n"
     ]
    }
   ],
   "source": [
    "import scipy.stats as sps\n",
    "\n",
    "tips = pd.read_csv('data/tips_means.csv')\n",
    "\n",
    "tips_night = tips['night']\n",
    "tips_day = tips['day']\n",
    "\n",
    "test_statistic, pvalue = sps.ttest_ind(tips_day, tips_night)\n",
    "print(f'average tips for day shift: {tips_day.mean()}')\n",
    "print(f'average tips for night shift {tips_night.mean()}')\n",
    "print (test_statistic, pvalue)"
   ]
  },
  {
   "attachments": {},
   "cell_type": "markdown",
   "metadata": {},
   "source": [
    "Conclusion: there is a significant difference between the two tests (small p value)"
   ]
  },
  {
   "attachments": {},
   "cell_type": "markdown",
   "metadata": {},
   "source": []
  }
 ],
 "metadata": {
  "kernelspec": {
   "display_name": "base",
   "language": "python",
   "name": "python3"
  },
  "language_info": {
   "codemirror_mode": {
    "name": "ipython",
    "version": 3
   },
   "file_extension": ".py",
   "mimetype": "text/x-python",
   "name": "python",
   "nbconvert_exporter": "python",
   "pygments_lexer": "ipython3",
   "version": "3.12.3"
  },
  "orig_nbformat": 4
 },
 "nbformat": 4,
 "nbformat_minor": 2
}
