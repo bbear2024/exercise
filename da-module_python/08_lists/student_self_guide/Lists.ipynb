{
 "cells": [
  {
   "cell_type": "markdown",
   "metadata": {},
   "source": [
    "# Lists\n",
    "\n",
    "From a high level, lists are collections of ordered items. These items can be of any type, and a list can contain items of different types (or all the same type). \n",
    "Lists are pretty useful to iterate through.\n",
    "You already got in contact with the idea of lists. Some parts here will be already familiar to you, but you will also find some more details and ways to handle them.\n",
    "\n",
    "Why are lists important?\n",
    "- To process larger amounts of data, we cannot invent a new variable  name for every entry (and write the code for it). Somehow it has to be  possible to store multiple data records in one variable.\n",
    "- python can improve performance if operations like mean or sum etc. are performed on lists. datastructures like lists make python very fast.\n",
    "- a list can store millions of entries -> compared to excel where excel would freeze if you do calculations on too many objects. \n",
    "\n",
    "List items are **ordered**, **mutable**, and **allow duplicate values**.\n",
    "\n",
    "- When we say that lists are **ordered**, it means that the items have a defined order, and that order will not change. If you add new items to a list, the new items will be placed at the end of the list.\n",
    "\n",
    "- The list is **mutable**, meaning that we can change, add, and remove items in a list after it has been created.\n",
    "\n",
    "- Since lists are indexed, lists can have items with the same value.\n",
    "\n",
    "\n",
    "## Objectives\n",
    "\n",
    "At the end of this notebook you should be able to:\n",
    "\n",
    "- create lists and access individual elements in lists\n",
    "- use list operations\n"
   ]
  },
  {
   "cell_type": "markdown",
   "metadata": {},
   "source": [
    "### Create New Lists\n",
    "\n",
    "You can construct a list in one of two ways. The first way should look already familiar to you: The first is simply by passing an arbitrary number of items into square brackets, `[]`, separated by commas. The second is by passing an iterable into the `list()` constructor (we'll discuss exactly what an iterable and constructor are later). For example..."
   ]
  },
  {
   "cell_type": "code",
   "execution_count": null,
   "metadata": {},
   "outputs": [],
   "source": [
    "namecounts = ['Hannah', 123, 'Emiliy', 234, 'Madison', 23]"
   ]
  },
  {
   "cell_type": "code",
   "execution_count": null,
   "metadata": {},
   "outputs": [],
   "source": [
    "my_second_lst = list('hello')\n",
    "my_second_lst"
   ]
  },
  {
   "cell_type": "code",
   "execution_count": null,
   "metadata": {},
   "outputs": [],
   "source": [
    "# partition\n",
    "output = 'hello ! Welt'.partition('!')\n",
    "list(output)"
   ]
  },
  {
   "cell_type": "markdown",
   "metadata": {},
   "source": [
    "> **Note** that when we pass an iterable to the `list()` constructor, it breaks up each individual element in the iterable into a separate element in the list. Also, note again that we are able to place multiple different types of data structures into our lists. If we wanted to, we could even create a list of lists.  "
   ]
  },
  {
   "cell_type": "code",
   "execution_count": null,
   "metadata": {},
   "outputs": [],
   "source": [
    "my_list_of_lists = [[1, 2, 3], ['str1', 'str2', 'str3'], [1, 'mixed', 3]] "
   ]
  },
  {
   "cell_type": "code",
   "execution_count": null,
   "metadata": {},
   "outputs": [],
   "source": [
    "my_list_of_lists"
   ]
  },
  {
   "cell_type": "markdown",
   "metadata": {},
   "source": [
    "### Accessing elements of lists\n",
    "\n",
    "List items are indexed, the first item has index `[0]`, the second item has index `[1]` etc."
   ]
  },
  {
   "cell_type": "markdown",
   "metadata": {},
   "source": [
    "<p style=\"text-align:center;\"><img src='./list_index.png' width='50%'></p>"
   ]
  },
  {
   "cell_type": "code",
   "execution_count": null,
   "metadata": {},
   "outputs": [],
   "source": [
    "weekdays_list = ['MON','TUE','WED','THU','FRI','SAT','SUN']"
   ]
  },
  {
   "cell_type": "code",
   "execution_count": null,
   "metadata": {},
   "outputs": [],
   "source": [
    "weekdays_list[6]"
   ]
  },
  {
   "cell_type": "code",
   "execution_count": null,
   "metadata": {},
   "outputs": [],
   "source": [
    "# what's the index of 'TUE' ?"
   ]
  },
  {
   "cell_type": "code",
   "execution_count": null,
   "metadata": {},
   "outputs": [],
   "source": [
    "my_list_of_lists = [[1, 2, 3], ['str1', 'str2', 'str3'], [1, 'mixed', 3]] "
   ]
  },
  {
   "cell_type": "code",
   "execution_count": null,
   "metadata": {},
   "outputs": [],
   "source": [
    "my_list_of_lists"
   ]
  },
  {
   "cell_type": "code",
   "execution_count": null,
   "metadata": {},
   "outputs": [],
   "source": [
    "# What's the output of my_list_of_lists[0] ?"
   ]
  },
  {
   "cell_type": "code",
   "execution_count": null,
   "metadata": {},
   "outputs": [],
   "source": [
    "# how to get value 2 ?\n",
    "my_list_of_lists[0][1]"
   ]
  },
  {
   "cell_type": "code",
   "execution_count": null,
   "metadata": {},
   "outputs": [],
   "source": [
    "# the same with variables\n",
    "\n",
    "first_elem = my_list_of_lists[0]\n",
    "result = first_elem[1]\n",
    "print(result)"
   ]
  },
  {
   "cell_type": "markdown",
   "metadata": {},
   "source": [
    "### List Operations"
   ]
  },
  {
   "cell_type": "code",
   "execution_count": null,
   "metadata": {},
   "outputs": [],
   "source": [
    "# you can add lists\n",
    "new_list = weekdays_list + my_list_of_lists\n",
    "print(new_list)"
   ]
  },
  {
   "cell_type": "code",
   "execution_count": null,
   "metadata": {},
   "outputs": [],
   "source": [
    "# substracting items is not that straighforward\n",
    "new_list - my_list_of_lists"
   ]
  },
  {
   "cell_type": "markdown",
   "metadata": {},
   "source": [
    "### List Methods"
   ]
  },
  {
   "cell_type": "markdown",
   "metadata": {},
   "source": [
    "As with strings, there are also a lot of list methods, that let us perform certain actions on lists. If you want to see which operations you can use on lists, just use the tab complete in a Jupyter Notebook and you will get a drop down menu of the methods.\n",
    "\n",
    "```python\n",
    "In [1]: my_lst. # Hit tab now!\n",
    "\n",
    "my_lst.append   my_lst.index    my_lst.remove   \n",
    "my_lst.count    my_lst.insert   my_lst.reverse  \n",
    "my_lst.extend   my_lst.pop      my_lst.sort\n",
    "```\n",
    "\n",
    "Keep in mind, that in order to execute a method you need to add `()` at the end of the method (eg. `my_lst.pop()`).\n",
    "For a more detailed discussion and/or to see all of the methods available for lists, see the [docs](https://docs.python.org/2/tutorial/datastructures.html#more-on-lists).\n",
    "\n",
    "We will explore the most common methods below:\n"
   ]
  },
  {
   "cell_type": "markdown",
   "metadata": {},
   "source": [
    "### Adding and removing elements: remove(), pop() and append()"
   ]
  },
  {
   "cell_type": "code",
   "execution_count": null,
   "metadata": {},
   "outputs": [],
   "source": [
    "# remove 'Star Trek'\n",
    "movies = [\"Star Wars\", \"Star Trek\", \"Ratatouille\"]\n",
    "print(movies)"
   ]
  },
  {
   "cell_type": "code",
   "execution_count": null,
   "metadata": {},
   "outputs": [],
   "source": [
    "movies.remove('Star Trek')\n",
    "print(movies)"
   ]
  },
  {
   "cell_type": "markdown",
   "metadata": {},
   "source": [
    "Add a new element to the end of the list:"
   ]
  },
  {
   "cell_type": "code",
   "execution_count": null,
   "metadata": {},
   "outputs": [],
   "source": [
    "numbers = [1, 2, 4, 8, 16, 32]\n",
    "numbers"
   ]
  },
  {
   "cell_type": "code",
   "execution_count": null,
   "metadata": {},
   "outputs": [],
   "source": [
    "numbers.append(45)\n",
    "numbers"
   ]
  },
  {
   "cell_type": "markdown",
   "metadata": {},
   "source": [
    "Remove a defined element:"
   ]
  },
  {
   "cell_type": "code",
   "execution_count": null,
   "metadata": {},
   "outputs": [],
   "source": [
    "numbers.remove(4)"
   ]
  },
  {
   "cell_type": "markdown",
   "metadata": {},
   "source": [
    "Remove an element at a given index position:"
   ]
  },
  {
   "cell_type": "code",
   "execution_count": null,
   "metadata": {},
   "outputs": [],
   "source": [
    "numbers.pop(3)"
   ]
  },
  {
   "cell_type": "markdown",
   "metadata": {},
   "source": [
    "Or remove the last element:"
   ]
  },
  {
   "cell_type": "code",
   "execution_count": null,
   "metadata": {},
   "outputs": [],
   "source": [
    "numbers.pop()"
   ]
  },
  {
   "cell_type": "markdown",
   "metadata": {},
   "source": [
    "### Checking the nr of elements with 'len()'"
   ]
  },
  {
   "cell_type": "code",
   "execution_count": null,
   "metadata": {},
   "outputs": [],
   "source": [
    "len(numbers)"
   ]
  },
  {
   "cell_type": "markdown",
   "metadata": {},
   "source": [
    "### Difference between `extend` and `append`\n",
    "\n",
    "Both methods let you add elements to a list. However, they slightly differ, which is illustrated in the example below. How would you describe this difference?"
   ]
  },
  {
   "cell_type": "code",
   "execution_count": null,
   "metadata": {},
   "outputs": [],
   "source": [
    "numbers = [1, 2, 4, 8, 16, 32]"
   ]
  },
  {
   "cell_type": "code",
   "execution_count": null,
   "metadata": {},
   "outputs": [],
   "source": [
    "numbers.extend([2, 3])\n",
    "numbers"
   ]
  },
  {
   "cell_type": "code",
   "execution_count": null,
   "metadata": {},
   "outputs": [],
   "source": [
    "numbers.append([2, 3])\n",
    "numbers"
   ]
  },
  {
   "cell_type": "code",
   "execution_count": null,
   "metadata": {},
   "outputs": [],
   "source": [
    "# append(numbers_2)\n",
    "[1, 2, 4, 8, 16, 32, [10,11]]\n",
    "\n",
    "# append(7)\n",
    "[1, 2, 4, 8, 16, 32,7]\n",
    "\n",
    "# extend(numbers_2)\n",
    "[1, 2, 4, 8, 16, 32, 10,11]\n",
    "\n",
    "# extend([7])\n",
    "[1, 2, 4, 8, 16, 32,7]"
   ]
  },
  {
   "cell_type": "markdown",
   "metadata": {},
   "source": [
    "### Working with Individual Elements in Lists\n",
    "\n",
    "Working with individual elements in a list is the same as working with characters in strings."
   ]
  },
  {
   "cell_type": "code",
   "execution_count": null,
   "metadata": {},
   "outputs": [],
   "source": [
    "my_lst = [1, 2, 'hello', 'goodbye']"
   ]
  },
  {
   "cell_type": "code",
   "execution_count": null,
   "metadata": {},
   "outputs": [],
   "source": [
    "# indexing\n",
    "my_lst[1]"
   ]
  },
  {
   "cell_type": "code",
   "execution_count": null,
   "metadata": {},
   "outputs": [],
   "source": [
    "# slicing\n",
    "my_lst[2:3]"
   ]
  },
  {
   "cell_type": "markdown",
   "metadata": {},
   "source": [
    ">**Note**: Remember that the ending index is non-inclusive.\n",
    "\n"
   ]
  },
  {
   "cell_type": "code",
   "execution_count": null,
   "metadata": {},
   "outputs": [],
   "source": [
    "my_lst[:]"
   ]
  },
  {
   "cell_type": "code",
   "execution_count": null,
   "metadata": {},
   "outputs": [],
   "source": [
    "my_lst[-1]"
   ]
  },
  {
   "cell_type": "markdown",
   "metadata": {},
   "source": [
    "Just as with strings, we can also add a 3rd number to our list indexing to step through the list and only grab elements at regular intervals."
   ]
  },
  {
   "cell_type": "code",
   "execution_count": null,
   "metadata": {},
   "outputs": [],
   "source": [
    "my_lst = [1, 2, 3, 4, 5, 6, 7, 8, 9, 10]"
   ]
  },
  {
   "cell_type": "code",
   "execution_count": null,
   "metadata": {},
   "outputs": [],
   "source": [
    "# grab every third element of whole list\n",
    "my_lst[::3]"
   ]
  },
  {
   "cell_type": "code",
   "execution_count": null,
   "metadata": {},
   "outputs": [],
   "source": [
    "# grab every third element ending with element #4\n",
    "my_lst[:4:3]"
   ]
  },
  {
   "cell_type": "markdown",
   "metadata": {},
   "source": [
    "### Checking whether an element exists"
   ]
  },
  {
   "cell_type": "code",
   "execution_count": null,
   "metadata": {},
   "outputs": [],
   "source": [
    "34 in numbers"
   ]
  },
  {
   "cell_type": "code",
   "execution_count": null,
   "metadata": {},
   "outputs": [],
   "source": [
    "a = int(input('what number?'))\n",
    "print(f'you picked the number: {a}')\n",
    "\n",
    "if a not in numbers:\n",
    "    print(f'the number {a} is not yet in the list.\\nadding...')\n",
    "    numbers.append(a)\n",
    "    print(f'new list is {numbers}')\n",
    "else:\n",
    "    print(f'the number {a} is in the list. at the index postion {numbers.index(a)}')\n",
    "    print(f'the current list is {numbers}')"
   ]
  },
  {
   "cell_type": "markdown",
   "metadata": {},
   "source": [
    "### Recap"
   ]
  },
  {
   "cell_type": "markdown",
   "metadata": {},
   "source": [
    "command  |  description\n",
    "---|---|\n",
    "`numbers = [1, 2, 3, 4, 4]`      |   list creation\n",
    "`numbers.append([2, 3])`      |   append the item to the end of the list\n",
    "`numbers.extend([2, 3])`      | append each element to the end of the list\n",
    "`numbers.remove(4)` | remove a defined element\n",
    "`numbers.pop(3)` | remove an element at a given index position\n",
    "`3 in numbers` | checking wether an element exists\n",
    "`numbers[3]`       |     indexing\n",
    "`numbers[2:4]`       |    slicing\n",
    "`len(numbers)`       |     returns the length of a list\n",
    "`numbers.count(4)`   | searches for and counts the number of an element in a list\n",
    "`numbers.index(32)`   | returns the index of the specified element in the list"
   ]
  }
 ],
 "metadata": {
  "kernelspec": {
   "display_name": "Python 3 (ipykernel)",
   "language": "python",
   "name": "python3"
  },
  "language_info": {
   "codemirror_mode": {
    "name": "ipython",
    "version": 3
   },
   "file_extension": ".py",
   "mimetype": "text/x-python",
   "name": "python",
   "nbconvert_exporter": "python",
   "pygments_lexer": "ipython3",
   "version": "3.9.12"
  }
 },
 "nbformat": 4,
 "nbformat_minor": 4
}
