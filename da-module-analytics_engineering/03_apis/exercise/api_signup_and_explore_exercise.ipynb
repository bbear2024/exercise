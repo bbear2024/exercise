{
 "cells": [
  {
   "cell_type": "markdown",
   "id": "1d6218ca",
   "metadata": {},
   "source": [
    "# Meteostat JSON API"
   ]
  },
  {
   "cell_type": "markdown",
   "id": "e5b66c59",
   "metadata": {},
   "source": [
    "We are going to get historical weather data from the Meteostat JSON API\n",
    "\n",
    "Meteostat JSON API service is hosted on [RapidAPI](https://rapidapi.com/), an API marketplace which allows developers to use thousands of APIs through the same platform."
   ]
  },
  {
   "cell_type": "markdown",
   "id": "b73444ee",
   "metadata": {},
   "source": [
    "#### Meteostat JSON API Documentation: https://dev.meteostat.net/api/"
   ]
  },
  {
   "cell_type": "markdown",
   "id": "8cc2ccb8",
   "metadata": {},
   "source": [
    "## Task #1: \n",
    "\n",
    "Follow the **Sign Up** to [RapidAPI](https://rapidapi.com/auth/sign-up) instructions in order to get access to the Meteostat API."
   ]
  },
  {
   "cell_type": "markdown",
   "id": "5c56c3dd",
   "metadata": {},
   "source": [
    "|<div style=\"width:60px\"></div>|<div style=\"width:300px\"></div> | |\n",
    "|:-----|:------:|:---:|\n",
    "|**STEP 1**|Visit: https://rapidapi.com/auth/sign-up <br><br> Enter a nickname, an email and a password to sign up.| <a href='./images/signup_1.PNG'><img src='./images/signup_1.PNG' width=600, align='right'></a>|\n",
    "|**STEP 2**|Check your email inbox for code <br><br> Copy/Paste the code for verification.| <a href='./images/signup_2.PNG'><img src='./images/signup_2.PNG' width=600, align='right'></a>|\n",
    "|**STEP 3**|Fill out the fields.| <a href='./images/signup_3.PNG'><img src='./images/signup_3.PNG' width=600, align='right'></a>|\n",
    "|**STEP 4**|Search for *'meteostat'*. And select it.| <a href='./images/signup_4.PNG'><img src='./images/signup_4.PNG' width=600, align='right'></a>|\n",
    "|**STEP 5**|Click the **Subscribe to Test** button.| <a href='./images/signup_5.PNG'><img src='./images/signup_5.PNG' width=600, align='right'></a>|\n",
    "|**STEP 6**|Click **Start Free Plan** button under the basic plan.| <a href='./images/signup_6.PNG'><img src='./images/signup_6.PNG' width=600, align='right'></a>|\n",
    "|**STEP 7**|Note that it is for free. <br><br>Note that it is limited to 500 requests per month.<br><br> Click **Subscribe** button.| <a href='./images/signup_7.PNG'><img src='./images/signup_7.PNG' width=600, align='right'></a>|\n",
    "|**STEP 8**|Feel free to skip. Click **Skip, get started** button| <a href='./images/signup_8.PNG'><img src='./images/signup_8.PNG' width=600, align='right'></a>|\n",
    "|**STEP 9**|You see now an online interface API preview area.<br><br> Select *Target:* **Python**| <a href='./images/signup_9.PNG'><img src='./images/signup_9.PNG' width=600, align='right'></a>|\n",
    "|**STEP 10**|Select *Client:* **Requests** | <a href='./images/signup_10.PNG'><img src='./images/signup_10.PNG' width=600, align='right'></a>|\n",
    "|**STEP 11**|Below you see now the python code.<br><br>We will not need it as we are going to use a slightly different syntax. <br><br>But for experiments you can check with this code for dafault syntax.<br><br>However the headers are the mandatory part as it contains your API Key.<br><br>Click **Test Endpoint** button (top/right) to get some data.| <a href='./images/signup_11.PNG'><img src='./images/signup_11.PNG' width=600, align='right'></a>|\n",
    "|**STEP 12**|On the right lower section we now have a Response. <br><br>Expand the numbers to see the contents.<br><br> Check out all those Respose parts (*Headers*, *Text*, *JSON*, *Raw*). <br><br>Also see *Info* and *Request*.<br><br> We just tested the **Daily Station Data** (see marked top/middle).<br><br>On the left you see all other available endpoints.| <a href='./images/signup_12.PNG'><img src='./images/signup_12.PNG' width=600, align='right'></a>|\n",
    "|**STEP 13**|Switch to **Params**. <br><br>Here you can adjust the period start and end also change the station id.<br><br>How can we find the station we need?<br><br> Check out the *Nearby Stations* endpoint.| <a href='./images/signup_13.PNG'><img src='./images/signup_13.PNG' width=600, align='right'></a>|"
   ]
  },
  {
   "cell_type": "markdown",
   "id": "d84207b1",
   "metadata": {},
   "source": [
    "#### Another way of finding a station we look for is to enter Names or Coordinates here: \n",
    "#### https://meteostat.net/en/"
   ]
  },
  {
   "cell_type": "markdown",
   "id": "60dfc33a",
   "metadata": {},
   "source": [
    "Finding a specific station id can get tricky and requires some patience and double checks. The API endpoint *Nearby Stations* finds multiple stations. \n",
    "\n",
    "We could make our requests based on coordinates only, then it will return aggregated values from the nearby stations. However sometimes the aggregation causes missing data. \n",
    "\n",
    "Hence we will address the exact station ids (will be given). And typically airport have their own weather stations."
   ]
  },
  {
   "cell_type": "markdown",
   "id": "58d817a2",
   "metadata": {},
   "source": [
    "## Task #2"
   ]
  },
  {
   "cell_type": "markdown",
   "id": "cc56645b",
   "metadata": {},
   "source": [
    "update your **.env** file with the `X-RapidAPI-Key = 'dfsd8w43roihlsdfu......whateveritis'`"
   ]
  },
  {
   "cell_type": "markdown",
   "id": "bf400ea1",
   "metadata": {},
   "source": [
    "## Task #3:\n",
    "\n",
    "- Check out the Meteostat JSON API documnetation: https://dev.meteostat.net/api/ \n",
    "- Find out what the call limits are for this API (Hint: it is not only the 500 requests per month)  \n",
    "  -> Consinder data retrieval needs (including testing) and how to fit within these limits.  \n",
    "   \n",
    "   \n",
    "- Check out the *Daily Data* and *Hourly Data*. \n",
    "- Which parameter can we pass to the Request?\n",
    "- Which data will get from the Response\n",
    "\n",
    "\n"
   ]
  },
  {
   "cell_type": "markdown",
   "id": "c7cc24fa",
   "metadata": {},
   "source": [
    "**Keep in mind that your API calls are limited!**\n",
    "\n",
    "**When possible, separate code calling the API from other code working on the data.**"
   ]
  },
  {
   "cell_type": "markdown",
   "id": "dc66243e",
   "metadata": {},
   "source": [
    "# How to check used API calls"
   ]
  },
  {
   "cell_type": "markdown",
   "id": "387ebf99",
   "metadata": {},
   "source": [
    "To check the number of API calls so far: https://rapidapi.com/console/analytics/my-subscriptions/playground\n",
    "\n",
    "Or on https://rapidapi.com/:\n",
    "- click your Icon (Top-Right-Corner) >> Console \n",
    "- Under Analytics switch from My APIs to **My Subscriptions** (My APIs is for API providers)\n",
    "- Click **Analytics Playground** button"
   ]
  },
  {
   "cell_type": "markdown",
   "id": "5a035567",
   "metadata": {},
   "source": [
    "# How to find meteostat interface on `rapidapi.com`"
   ]
  },
  {
   "cell_type": "markdown",
   "id": "e8ae5ca5",
   "metadata": {},
   "source": [
    "https://rapidapi.com/meteostat/api/meteostat\n",
    "\n",
    "Or on https://rapidapi.com/:\n",
    "\n",
    "- In the left Navigation select Workspace\n",
    "- Scroll down to **My Subscriptions** \n",
    "- CLick the link to meteostat"
   ]
  },
  {
   "cell_type": "code",
   "execution_count": null,
   "id": "070978c5",
   "metadata": {},
   "outputs": [],
   "source": []
  }
 ],
 "metadata": {
  "kernelspec": {
   "display_name": "Python 3 (ipykernel)",
   "language": "python",
   "name": "python3"
  },
  "language_info": {
   "codemirror_mode": {
    "name": "ipython",
    "version": 3
   },
   "file_extension": ".py",
   "mimetype": "text/x-python",
   "name": "python",
   "nbconvert_exporter": "python",
   "pygments_lexer": "ipython3",
   "version": "3.12.3"
  }
 },
 "nbformat": 4,
 "nbformat_minor": 5
}
