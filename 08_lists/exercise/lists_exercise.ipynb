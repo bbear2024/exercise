{
 "cells": [
  {
   "cell_type": "markdown",
   "metadata": {},
   "source": [
    "## Check your understanding!\n",
    "\n",
    "**1 - Create Lists**\n",
    "\n",
    "1. Construct a list with 5 integers in it.\n",
    "2. Construct a list of 5 floats in it.\n",
    "3. Construct a list with only strings in it.\n",
    "4. Construct a list that contains at least one integer, one floating point number, and one string.\n",
    "5. Construct a list that contains a list of integers, a list of floating point numbers, and a list of strings?\n",
    "    * If you saved the lists from questions 1-3 into their own variables then you can do this in more than one way."
   ]
  },
  {
   "cell_type": "code",
   "execution_count": null,
   "metadata": {},
   "outputs": [],
   "source": [
    "a = [1,3,5,7,9]\n",
    "b = [1.1, 2.3, 4.5677, 199.023, 0.54]\n",
    "c = ['yesterday','today', 'tomorrow']\n",
    "d = a + b + c\n",
    "e = [a, b, c]"
   ]
  },
  {
   "cell_type": "code",
   "execution_count": null,
   "metadata": {},
   "outputs": [],
   "source": [
    "e"
   ]
  },
  {
   "cell_type": "markdown",
   "metadata": {},
   "source": [
    "**2 - List Indexing**\n",
    "\n",
    "Assume that we are working the list [3, 7, 12, 15, 22]. \n",
    "\n",
    "1. How would we index into the list to grab the number 7? What about the number 15?\n",
    "2. Using negative indexing, how would we index into the list to grab the number 12?\n",
    "3. How would I use interval indexing to grab 7 and 15 from the list?"
   ]
  },
  {
   "cell_type": "code",
   "execution_count": null,
   "metadata": {},
   "outputs": [],
   "source": [
    "my_list = [3, 7, 12, 15, 22]\n",
    "print(my_list[1])\n",
    "print(my_list[3])\n",
    "print(my_list[-3])\n",
    "print(my_list[1:4:2])\n",
    "new_list = my_list[1:4:2]\n",
    "print(new_list[1])"
   ]
  },
  {
   "cell_type": "markdown",
   "metadata": {},
   "source": [
    "**3 - List Methods**\n",
    "\n",
    "1. Construct a list of the even numbers from 0 to 10.\n",
    "2. Add (with a method) the number 12 to the previous list.\n",
    "3. Use a method on the list to put the numbers in descending order (12 down to 0).\n",
    "4. Call .count(12) on your list. Given what it returns and the name of the method itself, can you take a guess at what this method does?\n",
    "5. Add (with a method) the number 12 to the list again.\n",
    "6. Call .count(12) on your list again. Did you get the intended result?\n",
    "7. Use a method on the list to put the numbers in asscending order (from 0 to 12).\n",
    "8. Remove the last item from the list.\n",
    "9. How many items are now in your list? (you can check if your right with len(my_list))"
   ]
  },
  {
   "cell_type": "code",
   "execution_count": null,
   "metadata": {},
   "outputs": [],
   "source": [
    "a = [0, 1, 2, 3, 4, 5, 6, 7, 8, 9, 10]\n",
    "a.extend([12])\n",
    "a.reverse()\n",
    "a.append(12)\n",
    "a.sort()\n",
    "a.pop()\n",
    "len(a)"
   ]
  },
  {
   "cell_type": "markdown",
   "metadata": {},
   "source": [
    "**4 - List for storing data and make efficient calculations**"
   ]
  },
  {
   "cell_type": "markdown",
   "metadata": {},
   "source": [
    "Remember this cool feature with 'input'-function, where you can ask for user input:\n",
    "```python\n",
    "user_name = input(\"Enter your name: \")\n",
    "greeting = \"Hello, \" + user_name + \"!\"\n",
    "print(greeting)\n",
    "```\n",
    "\n",
    "*Task:* \n",
    "\n",
    "- Write a program that asks the user for their daily hours of work and for their money spent on lunch. \n",
    "- Store all values that are entered in both user-interfaces in two lists, one should be called `daily_hours` and the other one `lunch_expenses`.\n",
    "- Then, calculate the sum of all daily hours worked so far and the average lunch expenses.\n",
    "- Print out the result to us in a nicely formatted way. \n",
    "(If you want to be really pythonic, try to use string formatting with the format-method and f-strings.)\n",
    "\n",
    "Optional task:\n",
    "- add a feature that let's the user tell you to delete a certain element if it was wrong.\n",
    "- we will not describe possible steps for this in more detail, try to come up with a step-by-step solution yourself :-) "
   ]
  },
  {
   "cell_type": "markdown",
   "metadata": {},
   "source": [
    "\n",
    "<details><summary>\n",
    "Click here for a hint…\n",
    "</summary>\n",
    "A pythonic way to define the two is to first define an empty list with `=[]` and then keep filling that list throughout your program with `.append()`. \n",
    "</details>\n"
   ]
  },
  {
   "cell_type": "code",
   "execution_count": 58,
   "metadata": {},
   "outputs": [],
   "source": [
    "daily_hours = []\n",
    "lunch_expenses = []\n",
    "stop = \"no\""
   ]
  },
  {
   "cell_type": "code",
   "execution_count": 59,
   "metadata": {},
   "outputs": [],
   "source": [
    "\n",
    "while stop != \"yes\":\n",
    "    daily_hours.append(int(input(\"Please enter the daily hours of work.\")))\n",
    "    lunch_expenses.append(int(input(\"Please enter the lunch expenses.\")))\n",
    "    user_input = input('Want to stop? type \"yes\". Continue? press Enter. Daily hours wrong? type \"1\", lunch expenses wrong? type \"2\"')\n",
    "    if user_input == \"yes\":\n",
    "        stop = \"yes\"\n",
    "    elif user_input == \"1\":\n",
    "        daily_hours.pop()\n",
    "        daily_hours.append(int(input(\"Please re-enter the daily hours of work.\")))\n",
    "        user_input = input('If you want to stop, please type yes')\n",
    "        if user_input == \"yes\":\n",
    "            break\n",
    "        continue\n",
    "    elif user_input == \"2\":\n",
    "        lunch_expenses.pop()\n",
    "        lunch_expenses.append(int(input(\"Please re-enter the lunch expenses.\")))\n",
    "        user_input = input('If you want to stop, please type yes')\n",
    "        if user_input == \"yes\":\n",
    "            break\n",
    "        continue\n"
   ]
  },
  {
   "cell_type": "code",
   "execution_count": 60,
   "metadata": {},
   "outputs": [
    {
     "name": "stdout",
     "output_type": "stream",
     "text": [
      "The average working hours are 6.3 hours\n",
      "The average expenses for the lunch are 20.0 Euros\n"
     ]
    }
   ],
   "source": [
    "average_hours = round(sum(daily_hours) / len(daily_hours), 1)\n",
    "average_expenses = round(sum(lunch_expenses) / len(lunch_expenses), 1)\n",
    "print(f\"The average working hours are {average_hours} hours\")\n",
    "print(f\"The average expenses for the lunch are {average_expenses} Euros\")"
   ]
  }
 ],
 "metadata": {
  "kernelspec": {
   "display_name": "Python 3 (ipykernel)",
   "language": "python",
   "name": "python3"
  },
  "language_info": {
   "codemirror_mode": {
    "name": "ipython",
    "version": 3
   },
   "file_extension": ".py",
   "mimetype": "text/x-python",
   "name": "python",
   "nbconvert_exporter": "python",
   "pygments_lexer": "ipython3",
   "version": "3.12.3"
  }
 },
 "nbformat": 4,
 "nbformat_minor": 4
}
