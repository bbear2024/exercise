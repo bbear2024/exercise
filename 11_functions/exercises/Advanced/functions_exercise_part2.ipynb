{
 "cells": [
  {
   "cell_type": "markdown",
   "metadata": {},
   "source": [
    "\n",
    "### Task 3 - Advanced Practice \n",
    "\n",
    "Now we're going to push our problem solving and programming skills even further by coding up functions to solve new problems. For each of the problems below, I would suggest coding it up in a similar way to how you did the other two (building the function, and then calling it some number of times (5) to test it out after that). \n",
    "\n",
    "1. Write a function that counts the number of words in an inputted string, where we consider words to be separated by spaces. \n",
    "2. Write a function that counts the number of words in an inputted string, where we consider words to be separated by a specified delimiter (so your function should accept two arguments, one for the string and one for the delimiter) and a space is defined as the default delimiter.  \n",
    "3. Write a function that takes in a string, and returns a list that holds the length of each word in the phrase, separated by an inputted delimiter (so you're function should accept two arguments again). Make a space the default delimiter like you did in `2`. For example, if the arguments to your function were `This is a test string` (and nothing else), your function should return `[4, 2, 1, 4, 6]`. Go ahead and don't worry about removing punctuation (you can include it in the word length - e.g. \"this.\" has five letters, if we count the period). \n",
    "4. Write a function that takes in a list of strings, as well as an inputted letter (which looks like a string with a single character), and returns a list of only those strings from the input list that end with that letter. For example, if I input `['I', 'am', 'in', 'love', 'with', 'Python']` as the list of strings, and `n` as the inputted letter, your function should return `['in', 'Python']`.\n",
    "\n"
   ]
  }
 ],
 "metadata": {
  "kernelspec": {
   "display_name": "nf_base",
   "language": "python",
   "name": "python3"
  },
  "language_info": {
   "name": "python",
   "version": "3.9.17"
  }
 },
 "nbformat": 4,
 "nbformat_minor": 2
}
