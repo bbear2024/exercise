{
 "cells": [
  {
   "cell_type": "markdown",
   "metadata": {},
   "source": [
    "## Exercise Option  \n",
    "\n",
    "For the exercise we can use the solutions from the SQL module's exercises. E.g from \"Joins\" or \"CTEs\". \n",
    "\n",
    "- imports\n",
    "- load credentials from the .env\n",
    "- create engine (specify schema if necessary)\n",
    "  \n",
    "- Run a query and make it a dataframe\n",
    "- Which of the facts can be now plotted as lines over time?\n",
    "- Any options for histograms?\n",
    "- Check out your own questions and visualizations"
   ]
  },
  {
   "cell_type": "code",
   "execution_count": null,
   "metadata": {},
   "outputs": [],
   "source": []
  }
 ],
 "metadata": {
  "language_info": {
   "name": "python"
  }
 },
 "nbformat": 4,
 "nbformat_minor": 2
}
