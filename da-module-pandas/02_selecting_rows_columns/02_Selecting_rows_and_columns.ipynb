{
 "cells": [
  {
   "cell_type": "markdown",
   "metadata": {},
   "source": [
    "# <font color=\"green\">Selecting Rows and Columns</font>"
   ]
  },
  {
   "cell_type": "markdown",
   "metadata": {},
   "source": [
    "----------------------------------"
   ]
  },
  {
   "cell_type": "markdown",
   "metadata": {},
   "source": [
    "\n",
    "\n",
    "## Columns: Selecting and Working with Columns from a DataFrame\n",
    "\n",
    "### Selecting Columns\n",
    "- You can select columns in Pandas using simple indexing with column names or with the `df[['column1', 'column2']]` syntax for multiple columns.\n",
    "- Selecting columns is a fundamental skill because it is often the first step in many data manipulation tasks.\n",
    "\n",
    "### Working with Columns\n",
    "- Once columns are selected, they can be used for various operations such as computation, aggregation, and combination with other data.\n",
    "- Tasks such as renaming columns, handling missing values, or changing the data type of columns are essential for further analysis.\n",
    "\n",
    "## Rows: Understanding the Difference Between `loc` and `iloc` Methods, and Selecting Rows from a DataFrame\n",
    "\n",
    "### Difference Between `loc` and `iloc`\n",
    "- **`loc`**: Used to access a group of rows and columns by labels or a boolean array. It is label-based, requiring specification of the row and column labels.\n",
    "- **`iloc`**: Used for integer index-based access, requiring row and column indices for selection.\n",
    "\n",
    "### Selecting Rows\n",
    "- Selecting rows is a process akin to selecting columns, typically accomplished using `loc` or `iloc`.\n",
    "- This is especially useful for filtering data based on some condition or when dealing with a specific range of indices.\n",
    "\n",
    "Understanding and mastering the manipulation of rows and columns in Pandas is pivotal for effective data cleaning, preparation, and analysis. These skills are integral to performing a broad spectrum of data analysis tasks with efficiency and precision.\n"
   ]
  },
  {
   "cell_type": "markdown",
   "metadata": {},
   "source": [
    "------------------"
   ]
  },
  {
   "cell_type": "markdown",
   "metadata": {},
   "source": [
    "### Key Concepts\n",
    "It is an essential part of working with data to able to select specific parts of a dataset. For example in order to fill in missing data in a particular column(s) this skill comes in very handy. This means that you should be very comfortable with the syntax of selecting rows and columns."
   ]
  },
  {
   "cell_type": "markdown",
   "metadata": {},
   "source": [
    "| Command                       | Description                                           |\n",
    "|-------------------------------|-------------------------------------------------------|\n",
    "| df[col]                       | select one column as a Series                         |\n",
    "| df[[col]]                     | select one column as a DataFrame                      |\n",
    "| df[[col1, col2, ... ]]        | select 2+ columns as a DataFrame                      |\n",
    "| df['column_name'] = new_values| assign new values to the column                        |\n",
    "| df.drop()                     | drop specified rows or columns                        |\n",
    "| df['column'].astype()         | cast a pandas column to a specified dtype             |\n",
    "| df.loc[row]                   | select one row as a Series by index                   |\n",
    "| df.loc[[row1, row2]]          | select 1+ rows as a DataFrame by index                |\n",
    "| df.loc[[row], [col]]          | select rows and columns as a DataFrame by index       |\n",
    "| df.iloc[a:b, c:d]             | select rows/columns by integer-location               |\n",
    "| df.set_index()                | set selected column as index                           |\n"
   ]
  },
  {
   "cell_type": "code",
   "execution_count": null,
   "metadata": {},
   "outputs": [],
   "source": [
    "import pandas as pd"
   ]
  },
  {
   "cell_type": "code",
   "execution_count": null,
   "metadata": {},
   "outputs": [],
   "source": [
    "df = pd.read_csv('./data/penguins_simple.csv', sep=\";\")"
   ]
  },
  {
   "cell_type": "code",
   "execution_count": null,
   "metadata": {},
   "outputs": [],
   "source": [
    "# look at the dataframe\n",
    "\n",
    "df"
   ]
  },
  {
   "cell_type": "code",
   "execution_count": null,
   "metadata": {},
   "outputs": [],
   "source": [
    "# check out the columns\n",
    "df.columns"
   ]
  },
  {
   "cell_type": "code",
   "execution_count": null,
   "metadata": {},
   "outputs": [],
   "source": [
    "#  first n rows (default 5)\n",
    "df.head()"
   ]
  },
  {
   "cell_type": "code",
   "execution_count": null,
   "metadata": {},
   "outputs": [],
   "source": [
    "#  last n rows (default 5)\n",
    "df.tail()"
   ]
  },
  {
   "cell_type": "markdown",
   "metadata": {},
   "source": [
    "## 1. Columns"
   ]
  },
  {
   "cell_type": "markdown",
   "metadata": {},
   "source": [
    "### 1.1 Renaming the columns"
   ]
  },
  {
   "cell_type": "code",
   "execution_count": null,
   "metadata": {},
   "outputs": [],
   "source": [
    "df.columns =['species', 'culmen_length_mm','culmen_depth_mm', 'flipper_length_mm', 'body_mass_gg', 'sex']"
   ]
  },
  {
   "cell_type": "code",
   "execution_count": null,
   "metadata": {},
   "outputs": [],
   "source": [
    "df"
   ]
  },
  {
   "cell_type": "markdown",
   "metadata": {},
   "source": [
    "### 1.2 Selecting a single column"
   ]
  },
  {
   "cell_type": "code",
   "execution_count": null,
   "metadata": {
    "scrolled": true
   },
   "outputs": [],
   "source": [
    "# using single square brackets, we select a single column as a series\n",
    "df['sex']"
   ]
  },
  {
   "cell_type": "markdown",
   "metadata": {},
   "source": [
    "This will extract the column as a pd.Series."
   ]
  },
  {
   "cell_type": "code",
   "execution_count": null,
   "metadata": {},
   "outputs": [],
   "source": [
    "type(df['sex']) # as we learned it in the pandas encounter, it is pandas series"
   ]
  },
  {
   "cell_type": "code",
   "execution_count": null,
   "metadata": {},
   "outputs": [],
   "source": [
    "# using double square brackets, we select a single columns as a dataframe\n",
    "df[['sex']]"
   ]
  },
  {
   "cell_type": "code",
   "execution_count": null,
   "metadata": {},
   "outputs": [],
   "source": [
    "type(df[['sex']])"
   ]
  },
  {
   "cell_type": "code",
   "execution_count": null,
   "metadata": {},
   "outputs": [],
   "source": [
    "# why? because if we want to call more then one column we would pass a list of column lables ['sex', '...'] inside df[...] \n",
    "# so it would be something like df[['sex', '...']]\n",
    "# and pandas would need to return a dataframe, because doh! multiple columns are not one Series :)\n",
    "# with just one column in a list forces the system to show a dataframe with columns from the list with just one column.\n",
    "df[     ['sex']      ]"
   ]
  },
  {
   "cell_type": "markdown",
   "metadata": {},
   "source": [
    "### 1.3 Selecting Multiple Columns"
   ]
  },
  {
   "cell_type": "code",
   "execution_count": null,
   "metadata": {},
   "outputs": [],
   "source": [
    "# when selecting multiple columns, we HAVE to use double square brackets\n",
    "# and we get a dataframe back\n",
    "df[['species','culmen_length_mm','sex']]"
   ]
  },
  {
   "cell_type": "markdown",
   "metadata": {},
   "source": [
    "### 1.4 Changing column types"
   ]
  },
  {
   "cell_type": "code",
   "execution_count": null,
   "metadata": {
    "scrolled": true
   },
   "outputs": [],
   "source": [
    "df.dtypes # Notice that dataframes may contain different data types and that's why here it is dtypes \n"
   ]
  },
  {
   "cell_type": "code",
   "execution_count": null,
   "metadata": {},
   "outputs": [],
   "source": [
    "# we sometimes need to change the data type of a column, that is usually part of data cleaning\n",
    "\n",
    "df['flipper_length_mm'] = df['flipper_length_mm'].astype(int)"
   ]
  },
  {
   "cell_type": "code",
   "execution_count": null,
   "metadata": {},
   "outputs": [],
   "source": [
    "# Let's check the datatypes again\n",
    "df.dtypes"
   ]
  },
  {
   "cell_type": "markdown",
   "metadata": {},
   "source": [
    "###  1.5 Creating columns"
   ]
  },
  {
   "cell_type": "code",
   "execution_count": null,
   "metadata": {},
   "outputs": [],
   "source": [
    "# Adding a new column\n",
    "# For example, let's add a 'year_collected' column with a constant value\n",
    "df['year_collected'] = 2024"
   ]
  },
  {
   "cell_type": "code",
   "execution_count": null,
   "metadata": {},
   "outputs": [],
   "source": [
    "df"
   ]
  },
  {
   "cell_type": "markdown",
   "metadata": {},
   "source": [
    "#### let's create another column for mody_mass... but in kilogramm"
   ]
  },
  {
   "cell_type": "markdown",
   "metadata": {},
   "source": [
    "> SIDEBAR: How to round numbers in python:\n",
    "`round(<number_to_round>, <number_of_decimal_points>)`"
   ]
  },
  {
   "cell_type": "code",
   "execution_count": null,
   "metadata": {},
   "outputs": [],
   "source": [
    "# Convert body_mass_g from grams to kilograms, round to 2 decimal places, and create a new column\n",
    "\n",
    "df['body_mass_kg'] = (df['body_mass_gg'] / 1000.0).round(2)"
   ]
  },
  {
   "cell_type": "code",
   "execution_count": null,
   "metadata": {},
   "outputs": [],
   "source": [
    "# Now, df includes a new column 'body_mass_kg' with the body mass in kilograms, rounded to 2 decimal places\n",
    "df"
   ]
  },
  {
   "cell_type": "markdown",
   "metadata": {},
   "source": [
    "### 1.6 Dropping columns"
   ]
  },
  {
   "cell_type": "code",
   "execution_count": null,
   "metadata": {},
   "outputs": [],
   "source": [
    "# dropping a single column\n",
    "\n",
    "df.drop('year_collected', axis='columns')\n",
    "#df.drop('year_collected', axis=1)"
   ]
  },
  {
   "cell_type": "code",
   "execution_count": null,
   "metadata": {},
   "outputs": [],
   "source": [
    "# note that the dataframe did not change!\n",
    "df"
   ]
  },
  {
   "cell_type": "markdown",
   "metadata": {},
   "source": [
    "Uh-oh! Dropping returned a (changed) copy of the dataframe, but didn't change the original!\n",
    "\n",
    "To make the changes stick, you can:\n",
    "* assign the result to another dataframe (or the same if you want to overwrite it)\n",
    "* use the `inplace=True` parameter"
   ]
  },
  {
   "cell_type": "code",
   "execution_count": null,
   "metadata": {},
   "outputs": [],
   "source": [
    "# assign the result to another datafram\n",
    "df_new = df.drop('year_collected', axis=1) # notice that instead of columns we used axis=1 which is the same thing"
   ]
  },
  {
   "cell_type": "code",
   "execution_count": null,
   "metadata": {},
   "outputs": [],
   "source": [
    "df_new"
   ]
  },
  {
   "cell_type": "code",
   "execution_count": null,
   "metadata": {},
   "outputs": [],
   "source": [
    "# to drop from the dataframe we use the inplace=True parameter\n",
    "df.drop('year_collected', axis='columns', inplace=True)"
   ]
  },
  {
   "cell_type": "code",
   "execution_count": null,
   "metadata": {},
   "outputs": [],
   "source": [
    "df"
   ]
  },
  {
   "cell_type": "markdown",
   "metadata": {},
   "source": [
    "## 2. Selecting rows (and columns): `.loc[]` and `.iloc[]` methods"
   ]
  },
  {
   "cell_type": "markdown",
   "metadata": {},
   "source": [
    "A brief slicing recap:"
   ]
  },
  {
   "cell_type": "code",
   "execution_count": null,
   "metadata": {},
   "outputs": [],
   "source": [
    "a = [1,2,3,4,5,6]"
   ]
  },
  {
   "cell_type": "code",
   "execution_count": null,
   "metadata": {},
   "outputs": [],
   "source": [
    "a"
   ]
  },
  {
   "cell_type": "markdown",
   "metadata": {},
   "source": [
    "Reminder: slicing syntax is `a[start:end:step]`\n",
    "* If not specified, `start` is the beginning of the list.\n",
    "* If not specified, `end` is the end of the list.\n",
    "* You can use minus to count from the back, e.g. the second element from the back is `a[-2]`\n",
    "* If not specified, `step` is 1."
   ]
  },
  {
   "cell_type": "code",
   "execution_count": null,
   "metadata": {},
   "outputs": [],
   "source": [
    "# select first 4 numbers\n",
    "a[:4]"
   ]
  },
  {
   "cell_type": "code",
   "execution_count": null,
   "metadata": {},
   "outputs": [],
   "source": [
    "a[1:4]"
   ]
  },
  {
   "cell_type": "code",
   "execution_count": null,
   "metadata": {},
   "outputs": [],
   "source": [
    "# what does this do?\n",
    "a[::3]\n",
    "# it gives us every third element in the list"
   ]
  },
  {
   "cell_type": "markdown",
   "metadata": {},
   "source": [
    "## Selecting rows with .loc[row_index]"
   ]
  },
  {
   "cell_type": "markdown",
   "metadata": {},
   "source": [
    "### Here's a quick guide on how to use `loc[]`:\n",
    "\n",
    "`loc[]` is a versatile selection method in Pandas that allows you to specify rows and columns to access based on their labels.\n",
    "\n",
    "- **Select a single row:** `df.loc['index_label']`   \n",
    "    Accesses the row with the specified label.  \n",
    "\n",
    "\n",
    "- **Select multiple rows:** `df.loc[['label1', 'label2']]`  \n",
    "    Retrieves multiple rows with the given labels.  \n",
    "\n",
    "\n",
    "- **Select rows by range of labels:** `df.loc['label1':'label3']`   \n",
    "    Selects all rows between and <u>including</u> the specified label range.  \n",
    "\n",
    "\n",
    "- **Conditional selection:** `df.loc[df['column'] > value]`  \n",
    "    Filters rows <u>based on a condition</u> applied to column values.  \n",
    "\n",
    "\n",
    "- **Select specific rows and columns:** `df.loc[['row1', 'row2'], ['column1', 'column2']]`  \n",
    "   Selects particular rows and columns by specifying their labels.  \n",
    "\n",
    "#### Important Notes:\n",
    "- `loc[]` operates on the DataFrame's index labels and column names. It is particularly well-suited for DataFrames where these labels are meaningful.\n",
    "- It's often used when the operations are based on the data's content rather than its position.\n",
    "- When using `loc[]` to select rows by a range of labels, the end label is <u>included</u> in the output, which is different from typical Python slicing.\n",
    "\n",
    "Mastering `loc[]` will enhance your data manipulation capabilities, allowing you to efficiently access and modify your data based on its labels.\n",
    "\n",
    "\n"
   ]
  },
  {
   "cell_type": "code",
   "execution_count": null,
   "metadata": {},
   "outputs": [],
   "source": [
    "df"
   ]
  },
  {
   "cell_type": "code",
   "execution_count": null,
   "metadata": {},
   "outputs": [],
   "source": [
    "# Example 1: Select the first row and all columns\n",
    "df.loc[0, :]"
   ]
  },
  {
   "cell_type": "code",
   "execution_count": null,
   "metadata": {},
   "outputs": [],
   "source": [
    "# Example 2: Select first two rows and all columns\n",
    "df.loc[0:1, :]"
   ]
  },
  {
   "cell_type": "code",
   "execution_count": null,
   "metadata": {},
   "outputs": [],
   "source": [
    "df"
   ]
  },
  {
   "cell_type": "code",
   "execution_count": null,
   "metadata": {
    "scrolled": true
   },
   "outputs": [],
   "source": [
    "# Example 3: Select rows where the condition is True\n",
    "df.loc[df['culmen_length_mm'] > 40] "
   ]
  },
  {
   "cell_type": "code",
   "execution_count": null,
   "metadata": {},
   "outputs": [],
   "source": [
    "# Example 4: Select all rows where the species is \"Adelie\" and assigning the subset of the dataframe to a new variable:\n",
    "\n",
    "adelie_penguins = df.loc[df['species'] == 'Adelie']\n",
    "adelie_penguins"
   ]
  },
  {
   "cell_type": "markdown",
   "metadata": {},
   "source": [
    "### Closer Look: How does loc[] work?\n",
    "\n",
    "**Notice that `df.loc[0:1]` is including both 0 and 1 rows.  \n",
    "Loc is using the labels of the row.**"
   ]
  },
  {
   "cell_type": "code",
   "execution_count": null,
   "metadata": {},
   "outputs": [],
   "source": [
    "# recap Example 2: Select first two rows and all columns\n",
    "df.loc[0:1]"
   ]
  },
  {
   "cell_type": "markdown",
   "metadata": {},
   "source": [
    "**Let's make some changes to understand it better**"
   ]
  },
  {
   "cell_type": "code",
   "execution_count": null,
   "metadata": {},
   "outputs": [],
   "source": [
    "# changing the index column of the dataframe\n",
    "df.set_index('species', inplace=True) \n",
    "\n",
    "# It is also possible to assign a column as index, when we are reading the data\n"
   ]
  },
  {
   "cell_type": "code",
   "execution_count": null,
   "metadata": {},
   "outputs": [],
   "source": [
    "df"
   ]
  },
  {
   "cell_type": "code",
   "execution_count": null,
   "metadata": {
    "scrolled": true
   },
   "outputs": [],
   "source": [
    "# Example 1: Select the second row\n",
    "\n",
    "# we will get an error now, because we changed the index labels to species names.\n",
    "df.loc[1, :] "
   ]
  },
  {
   "cell_type": "code",
   "execution_count": null,
   "metadata": {},
   "outputs": [],
   "source": [
    "df.loc['Adelie', :] # the new index labels are the species names. loc uses the labels."
   ]
  },
  {
   "cell_type": "code",
   "execution_count": null,
   "metadata": {},
   "outputs": [],
   "source": [
    "# Example 2: Select rows that contain Adelie and Chinstrap Species\n",
    "df.loc['Adelie':'Chinstrap', :]"
   ]
  },
  {
   "cell_type": "markdown",
   "metadata": {},
   "source": [
    "## Selecting rows with .iloc[integer_position]"
   ]
  },
  {
   "cell_type": "markdown",
   "metadata": {},
   "source": [
    "+ Te iloc[] function in pandas is used for integer-location based indexing, which means it selects rows and columns using integer indices. Here are some scenarios when you might use iloc():\n",
    "\n",
    "## iloc[] Usage Guide\n",
    "\n",
    "`iloc[]` provides flexibility in data selection within pandas DataFrames through integer indexing. Below are some common ways to utilize `iloc[]`:\n",
    " \n",
    "- **Select a Single Row**: `df.iloc[5]`  \n",
    "  This accesses the sixth row in the DataFrame since indexing starts at 0.   \n",
    "\n",
    "\n",
    "- **Select Multiple Rows**: `df.iloc[5:10]`  \n",
    "  Retrieves rows 6 to 10, including the start index but <u>excluding</u> the end index.  \n",
    "\n",
    "\n",
    "- **Select Rows and Specific Columns**: `df.iloc[5:10, 0:2]`  \n",
    "  Selects rows 6 to 10 and the first two columns.  \n",
    "\n",
    "\n",
    "- **Select Specific Rows and All Columns**: `df.iloc[[1, 3, 7], :]`  \n",
    "  Accesses rows 2, 4, and 8 across all columns.  \n",
    " \n",
    "    \n",
    "## Additional Tips\n",
    "\n",
    "- Remember that `iloc[]` uses zero-based indexing, similar to indexing in native Python lists or numpy arrays.\n",
    "\n",
    "- The end index in a range is excluded, aligning with standard Python slicing notation.\n",
    "\n",
    "- With `iloc[]`, you can also access rows and columns in reverse order by employing negative indices.\n"
   ]
  },
  {
   "cell_type": "code",
   "execution_count": null,
   "metadata": {
    "scrolled": true
   },
   "outputs": [],
   "source": [
    "df.iloc[5] #(selects the row at position 5)"
   ]
  },
  {
   "cell_type": "code",
   "execution_count": null,
   "metadata": {},
   "outputs": [],
   "source": [
    "df.iloc[5:10] #(selects rows at positions 5 to 9)"
   ]
  },
  {
   "cell_type": "code",
   "execution_count": null,
   "metadata": {},
   "outputs": [],
   "source": [
    "df.iloc[5:10, 0:2]  #(selects rows at positions 5 to 9 and columns at positions 0 to 1)"
   ]
  },
  {
   "cell_type": "code",
   "execution_count": null,
   "metadata": {},
   "outputs": [],
   "source": [
    "df.iloc[[1, 3, 7], :] #(selects rows at positions 1, 3, and 7, along with all columns)"
   ]
  },
  {
   "cell_type": "markdown",
   "metadata": {},
   "source": [
    "# Recap: .loc vs .iloc in Pandas\n",
    "\n",
    "Pandas offers two powerful methods for data selection within DataFrames, `.loc` and `.iloc`, each catering to different selection criteria:\n",
    "\n",
    "## .loc Method (Label-based Selection)\n",
    "\n",
    "- **Label-based Selection**: Utilizes row and column **labels** for data access.\n",
    "- **Syntax**: `df.loc[row_label, column_label]`\n",
    "  - You specify the rows and columns by using their labels.\n",
    "  - This method is ideal when you know the exact labels of the rows and columns you're interested in.\n",
    "\n",
    "## .iloc Method (Integer Position-based Selection)\n",
    "\n",
    "- **Integer Position-based Selection**: Relies on **integer position values** (0-based) for selecting rows and columns.\n",
    "- **Syntax**: `df.iloc[row_position, column_position]`\n",
    "  - Rows and columns are specified by their integer index positions.\n",
    "  - This approach is useful when you want to access data based on its position in the DataFrame, similar to indexing in Python lists or arrays.\n"
   ]
  },
  {
   "cell_type": "code",
   "execution_count": null,
   "metadata": {},
   "outputs": [],
   "source": []
  }
 ],
 "metadata": {
  "kernelspec": {
   "display_name": "Python 3 (ipykernel)",
   "language": "python",
   "name": "python3"
  },
  "language_info": {
   "codemirror_mode": {
    "name": "ipython",
    "version": 3
   },
   "file_extension": ".py",
   "mimetype": "text/x-python",
   "name": "python",
   "nbconvert_exporter": "python",
   "pygments_lexer": "ipython3",
   "version": "3.9.12"
  }
 },
 "nbformat": 4,
 "nbformat_minor": 4
}
