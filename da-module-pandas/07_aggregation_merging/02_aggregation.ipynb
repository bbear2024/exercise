{
 "cells": [
  {
   "cell_type": "markdown",
   "id": "89868025",
   "metadata": {},
   "source": [
    "#  <font color=\"green\">Aggregation and Group By</font>"
   ]
  },
  {
   "cell_type": "markdown",
   "id": "2980f17d",
   "metadata": {},
   "source": [
    "----------------"
   ]
  },
  {
   "cell_type": "markdown",
   "id": "16747e73",
   "metadata": {},
   "source": [
    "Data aggregation is a process in which data is gathered and represented in a summary form, for purposes including statistical analysis.\n",
    "\n",
    "Some aggregation methods were encountered in the descriptive statistics lesson. However, in this lesson, they will be applied to a groupby object in order to aggregate by groups. This means that we can perform aggregation operations, such as sum, mean, count, etc., on specific groups within our dataset. Grouping the data allows us to analyze subsets of the data independently and gain insights into how different groups behave or differ from each other."
   ]
  },
  {
   "cell_type": "markdown",
   "id": "0f9ab919",
   "metadata": {},
   "source": [
    "## Pandas Aggregation Syntax Options:\n",
    "\n",
    "Pandas provides several options for performing aggregation operations on data. Some common syntax options include:\n",
    "\n",
    "- Using the `groupby()` function: This function allows us to group the data based on one or more variables and then apply aggregation functions to each group.\n",
    "\n",
    "- Using the `agg()` function: This function is used in combination with `groupby()` to specify the aggregation functions to apply to each group. It accepts a dictionary where the keys are column names and the values are the aggregation functions to apply.\n",
    "\n",
    "- Using named aggregation with `agg()`: This syntax allows us to specify multiple aggregation functions for different columns using named parameters.\n",
    "\n",
    "- Using method chaining: Pandas also supports method chaining, where multiple operations can be applied in sequence using dot notation. For example, `groupby().agg().reset_index()`.\n",
    "\n",
    "## Pandas Grouping + Descriptive Statistics:\n",
    "\n",
    "Grouping data in Pandas allows us to compute descriptive statistics on subsets of the data. After grouping the data using `groupby()`, we can apply descriptive statistics functions such as `mean()`, `median()`, `sum()`, `min()`, `max()`, `std()`, `var()`, etc., to calculate summary statistics for each group. This allows us to analyze the distribution and characteristics of the data within each group separately.\n",
    "\n",
    "## Pandas Grouping + Counting:\n",
    "\n",
    "Counting the occurrences of values within groups is a common operation in data analysis. After grouping the data using `groupby()`, we can use the `size()` function to count the number of records in each group. Alternatively, we can use the `count()` function to count non-null values within each group for specific columns. This allows us to understand the frequency or prevalence of certain categories or values within different groups of the dataset.\n"
   ]
  },
  {
   "cell_type": "markdown",
   "id": "bf0b9898",
   "metadata": {},
   "source": [
    "## Warm-up"
   ]
  },
  {
   "cell_type": "markdown",
   "id": "d74bf3c5",
   "metadata": {},
   "source": [
    "- In an empty notebook open a dataset about penguins ‘built-in’ to the seaborn library\n",
    "- Calculate the average bill length in the dataset\n",
    "- Find out which gender of penguins occurs the most in the dataset"
   ]
  },
  {
   "cell_type": "code",
   "execution_count": null,
   "id": "6c9dc1c2",
   "metadata": {},
   "outputs": [],
   "source": [
    "import pandas as pd\n",
    "import seaborn as sns"
   ]
  },
  {
   "cell_type": "markdown",
   "id": "53c078cc",
   "metadata": {},
   "source": [
    "#### 1. In an empty notebook open a dataset about pengiuns ‘built-in’ to the seabornlibrary using the following commands:"
   ]
  },
  {
   "cell_type": "code",
   "execution_count": null,
   "id": "0d00c70e",
   "metadata": {},
   "outputs": [],
   "source": [
    "penguins = sns.load_dataset('penguins')"
   ]
  },
  {
   "cell_type": "code",
   "execution_count": null,
   "id": "5244808b",
   "metadata": {},
   "outputs": [],
   "source": [
    "penguins.head()"
   ]
  },
  {
   "cell_type": "markdown",
   "id": "32d3f5fd",
   "metadata": {},
   "source": [
    "#### 2. Calculate the average bill length in the dataset"
   ]
  },
  {
   "cell_type": "code",
   "execution_count": null,
   "id": "dd789f5a",
   "metadata": {},
   "outputs": [],
   "source": [
    "penguins['bill_length_mm'].mean()"
   ]
  },
  {
   "cell_type": "markdown",
   "id": "1f5e9cb8",
   "metadata": {},
   "source": [
    "#### 3.Find out which gender of pengiuns occurs the most in the dataset"
   ]
  },
  {
   "cell_type": "code",
   "execution_count": null,
   "id": "419c4042",
   "metadata": {},
   "outputs": [],
   "source": [
    "penguins['sex'].mode()"
   ]
  },
  {
   "cell_type": "code",
   "execution_count": null,
   "id": "8d5e31e9",
   "metadata": {},
   "outputs": [],
   "source": [
    "penguins['sex'].value_counts()"
   ]
  },
  {
   "cell_type": "code",
   "execution_count": null,
   "id": "d71f0192",
   "metadata": {},
   "outputs": [],
   "source": [
    "# we can also calculate the corresponding percentages\n",
    "\n",
    "penguins['sex'].value_counts(normalize=True)"
   ]
  },
  {
   "cell_type": "markdown",
   "id": "0abbcc1a",
   "metadata": {},
   "source": [
    "### 1. Pandas aggregation syntax options"
   ]
  },
  {
   "cell_type": "markdown",
   "id": "7eb690be",
   "metadata": {},
   "source": [
    "#### Option 1: using a list"
   ]
  },
  {
   "cell_type": "code",
   "execution_count": null,
   "id": "8ed77ab5",
   "metadata": {},
   "outputs": [],
   "source": [
    "# let's calculate the mean, median and standard deviation of the penguins bill length\n",
    "\n",
    "# all aggregations in the list will be applied to the column we specified\n",
    "\n",
    "penguins['bill_length_mm'].agg(['mean', 'median', 'std'])"
   ]
  },
  {
   "cell_type": "code",
   "execution_count": null,
   "id": "44677cb5",
   "metadata": {},
   "outputs": [],
   "source": [
    "# we can also apply on a list of columns\n",
    "\n",
    "penguins[['bill_length_mm', 'bill_depth_mm']].agg(['mean', 'median', 'std'])"
   ]
  },
  {
   "cell_type": "markdown",
   "id": "4ed3dcc2",
   "metadata": {},
   "source": [
    "#### Option 2: using a dictionary"
   ]
  },
  {
   "cell_type": "code",
   "execution_count": null,
   "id": "c3906bbd",
   "metadata": {},
   "outputs": [],
   "source": [
    "# with this option we can specify which aggregations to apply on which columns\n",
    "\n",
    "agg_dict = {'island':['count'],\n",
    "             'body_mass_g': ['min', 'max', 'mean']\n",
    "           }\n",
    "\n",
    "penguins.agg(agg_dict)"
   ]
  },
  {
   "cell_type": "markdown",
   "id": "38fe7e55",
   "metadata": {},
   "source": [
    "#### Option 3: using a tuple"
   ]
  },
  {
   "cell_type": "code",
   "execution_count": null,
   "id": "92b392ac",
   "metadata": {},
   "outputs": [],
   "source": [
    "# here we pass a tuple or multiple tuples of a (column name, aggregation)\n",
    "# we get to name the result row index\n",
    "\n",
    "\n",
    "penguins.agg(\n",
    "             sex_count = ('sex', 'count'),\n",
    "             bill_length_max = ('bill_length_mm', 'max'),\n",
    "             body_mass_mean = ('body_mass_g', 'mean')\n",
    "            )"
   ]
  },
  {
   "cell_type": "markdown",
   "id": "4231dd6c",
   "metadata": {},
   "source": [
    "### 2.  Pandas grouping + descriptive statistics\n",
    "\n",
    "![groupby](groupby_steps.png)"
   ]
  },
  {
   "cell_type": "markdown",
   "id": "5e57ae07",
   "metadata": {},
   "source": [
    "#### Q1: What is the average weight of penguins for each of the species in the data set ??"
   ]
  },
  {
   "cell_type": "code",
   "execution_count": null,
   "id": "66c9a404",
   "metadata": {},
   "outputs": [],
   "source": [
    "# groupby() creates a groupby object\n",
    "# we need to group the data by species first\n",
    "# then do a mean on each group for the body_mass_g column\n",
    "# we can save the object in a variable and examine it\n",
    "df_group = penguins.groupby('species')\n",
    "df_group"
   ]
  },
  {
   "cell_type": "code",
   "execution_count": null,
   "id": "4d866f82",
   "metadata": {},
   "outputs": [],
   "source": [
    "# to see which observations belong to which group\n",
    "df_group.groups"
   ]
  },
  {
   "cell_type": "code",
   "execution_count": null,
   "id": "486b3715",
   "metadata": {},
   "outputs": [],
   "source": [
    "# to see the observations of one group\n",
    "df_group.get_group('Adelie')"
   ]
  },
  {
   "cell_type": "code",
   "execution_count": null,
   "id": "5c734abf",
   "metadata": {},
   "outputs": [],
   "source": [
    "# Let's go back to the exercise\n",
    "penguins.groupby('species')['body_mass_g']"
   ]
  },
  {
   "cell_type": "code",
   "execution_count": null,
   "id": "949c92ba",
   "metadata": {},
   "outputs": [],
   "source": [
    "penguins.groupby('species')['body_mass_g'].agg('mean')"
   ]
  },
  {
   "cell_type": "code",
   "execution_count": null,
   "id": "70765488",
   "metadata": {},
   "outputs": [],
   "source": [
    "# another option would be to use the dictionary syntax\n",
    "\n",
    "agg_dict = {'body_mass_g':['mean', 'min', 'max']}\n",
    "\n",
    "penguins.groupby('species').agg(agg_dict)"
   ]
  },
  {
   "cell_type": "code",
   "execution_count": null,
   "id": "0b2a9807",
   "metadata": {},
   "outputs": [],
   "source": [
    "# we can also call the describe method to calculate all defualt descriptive stats!!\n",
    "\n",
    "agg_dict = {'body_mass_g':['describe']}\n",
    "\n",
    "penguins.groupby('species').agg(agg_dict)"
   ]
  },
  {
   "cell_type": "markdown",
   "id": "caa063a7",
   "metadata": {},
   "source": [
    "### 3. Pandas grouping + counting"
   ]
  },
  {
   "cell_type": "markdown",
   "id": "1c7dac13",
   "metadata": {},
   "source": [
    "#### Q2: Where does each species of penguins live ? Are there species that live in more than one island ?"
   ]
  },
  {
   "cell_type": "code",
   "execution_count": null,
   "id": "bbfb14c4",
   "metadata": {},
   "outputs": [],
   "source": [
    "agg_dict = { 'island': ['count', 'nunique', pd.Series.mode]}\n",
    "\n",
    "penguins.groupby('species').agg(agg_dict)"
   ]
  },
  {
   "cell_type": "markdown",
   "id": "dfc8ef3d",
   "metadata": {},
   "source": [
    "#### Q3: What is the number of male and female penguins for each species in the dataset? Are there any missing values ?"
   ]
  },
  {
   "cell_type": "code",
   "execution_count": null,
   "id": "8f06ed30",
   "metadata": {},
   "outputs": [],
   "source": [
    "# size here in aggregation gives us the number of rows including null values\n",
    "\n",
    "# count gives us the number of non-null values\n",
    "\n",
    "agg_dict = {'sex': ['count', 'size', 'nunique']}\n",
    "\n",
    "penguins.groupby('species').agg(agg_dict)"
   ]
  },
  {
   "cell_type": "code",
   "execution_count": null,
   "id": "6c118ef9",
   "metadata": {},
   "outputs": [],
   "source": [
    "# if we want the number of rows in each group including the number of null values\n",
    "\n",
    "# notice that we can group by multiple columns!!!\n",
    "\n",
    "penguins.groupby(['species', 'sex'], dropna=False).size()"
   ]
  },
  {
   "cell_type": "markdown",
   "id": "30b1e0e5",
   "metadata": {},
   "source": [
    "### More examples"
   ]
  },
  {
   "cell_type": "markdown",
   "id": "de7c60c2",
   "metadata": {},
   "source": [
    "#### Q4: What is the weight of the heaviest and lightest penguin on each island ?"
   ]
  },
  {
   "cell_type": "code",
   "execution_count": null,
   "id": "587885a7",
   "metadata": {},
   "outputs": [],
   "source": [
    "agg_dict = {'body_mass_g': ['min', 'max']}\n",
    "\n",
    "penguins.groupby('island').agg(agg_dict)"
   ]
  },
  {
   "cell_type": "markdown",
   "id": "6035c650",
   "metadata": {},
   "source": [
    "### Extra stuff"
   ]
  },
  {
   "cell_type": "code",
   "execution_count": null,
   "id": "82a85239",
   "metadata": {},
   "outputs": [],
   "source": [
    "penguins[['species','bill_length_mm', 'bill_depth_mm', 'flipper_length_mm', 'body_mass_g']].groupby('species').max()"
   ]
  },
  {
   "cell_type": "code",
   "execution_count": null,
   "id": "16484fa8",
   "metadata": {},
   "outputs": [],
   "source": [
    "# if we group it by two columns\n",
    "penguins[['species','island','bill_length_mm', 'bill_depth_mm', 'flipper_length_mm', 'body_mass_g']].groupby(['species', 'island']).mean()"
   ]
  },
  {
   "cell_type": "code",
   "execution_count": null,
   "id": "cbdda1ba",
   "metadata": {},
   "outputs": [],
   "source": [
    "penguins[['species','bill_length_mm', 'bill_depth_mm', 'flipper_length_mm', 'body_mass_g']].groupby('species').var()"
   ]
  },
  {
   "cell_type": "code",
   "execution_count": null,
   "id": "65f31c67",
   "metadata": {},
   "outputs": [],
   "source": [
    "penguins[['species','bill_length_mm', 'bill_depth_mm', 'flipper_length_mm', 'body_mass_g']].groupby('species').corr()"
   ]
  },
  {
   "cell_type": "markdown",
   "id": "4ed271b9",
   "metadata": {},
   "source": [
    "#### Transform method"
   ]
  },
  {
   "cell_type": "code",
   "execution_count": null,
   "id": "2a295610",
   "metadata": {},
   "outputs": [],
   "source": [
    "penguins_transformed = penguins.groupby('species')[['bill_length_mm', 'bill_depth_mm', 'flipper_length_mm','body_mass_g']].transform(sum)\n",
    "penguins_transformed\n",
    "# The sum function in this example calculates the sum of each group."
   ]
  },
  {
   "cell_type": "code",
   "execution_count": null,
   "id": "a5a7dc60",
   "metadata": {},
   "outputs": [],
   "source": []
  }
 ],
 "metadata": {
  "kernelspec": {
   "display_name": "Python 3 (ipykernel)",
   "language": "python",
   "name": "python3"
  },
  "language_info": {
   "codemirror_mode": {
    "name": "ipython",
    "version": 3
   },
   "file_extension": ".py",
   "mimetype": "text/x-python",
   "name": "python",
   "nbconvert_exporter": "python",
   "pygments_lexer": "ipython3",
   "version": "3.11.5"
  }
 },
 "nbformat": 4,
 "nbformat_minor": 5
}
