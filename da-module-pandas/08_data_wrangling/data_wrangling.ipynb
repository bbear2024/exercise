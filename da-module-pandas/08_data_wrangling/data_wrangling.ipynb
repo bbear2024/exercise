{
 "cells": [
  {
   "cell_type": "markdown",
   "id": "d8d929c5",
   "metadata": {},
   "source": [
    "# Data Wrangling\n",
    "\n"
   ]
  },
  {
   "cell_type": "markdown",
   "id": "8230c275",
   "metadata": {},
   "source": [
    "-----------------------"
   ]
  },
  {
   "cell_type": "markdown",
   "id": "300a59a9",
   "metadata": {},
   "source": [
    "# The idea behind Data Wrangling\n",
    "\n",
    "Data wrangling, also known as data munging, is a crucial step in the data analysis process that involves cleaning, structuring, and enriching raw data into a desired format for better decision making in less time. It is essentially the process of transforming and mapping data from one \"raw\" data form into another format with the intent of making it more appropriate and valuable for a variety of downstream purposes, such as analytics and reporting. Let's delve into the idea behind data wrangling and why it's so important."
   ]
  },
  {
   "cell_type": "markdown",
   "id": "bca97d44",
   "metadata": {},
   "source": [
    "## Why is Data Wrangling Important?\n",
    "\n",
    "Data wrangling is essential for several reasons:\n",
    "\n",
    "1. **Facilitates Easier Analysis:** Data in its raw form is often complex and unwieldy. Wrangling simplifies this data, making it easier to work with in analysis tools.\n",
    "\n",
    "2. **Improves Data Quality:** The process helps identify and correct errors or inconsistencies in data, leading to more accurate analysis results.\n",
    "\n",
    "3. **Saves Time:** Although data wrangling can be time-consuming, it ultimately saves time during the analysis phase by ensuring that data is in a consistent format that can be easily manipulated and explored.\n"
   ]
  },
  {
   "cell_type": "markdown",
   "id": "14ec55dc",
   "metadata": {},
   "source": [
    "### Concept of Tidy Data (Long Format)\n",
    "\n",
    "\n",
    "\n",
    "\n",
    "\n",
    "Tidy datasets are easy to manipulate, model and visualize, and have a specific structure:\n",
    "- each variable is a column\n",
    "- each observation is a row\n",
    "- and each type of observational unit is a table\n",
    "Tidy data makes it easy for an analyst or a computer to extract needed variables because it provides a standard way of structuring a dataset. It is also very pleasant to work with in the data exploration and plotting phases of a data project."
   ]
  },
  {
   "cell_type": "markdown",
   "id": "76c18d81",
   "metadata": {},
   "source": [
    "![Tidy data](https://d33wubrfki0l68.cloudfront.net/6f1ddb544fc5c69a2478e444ab8112fb0eea23f8/91adc/images/tidy-1.png)"
   ]
  },
  {
   "cell_type": "code",
   "execution_count": null,
   "id": "dab871b1",
   "metadata": {},
   "outputs": [],
   "source": [
    "# example of a tidy dataset --> Pinguins dataset\n",
    "\n",
    "import pandas as pd\n",
    "import seaborn as sns\n",
    "import matplotlib.pyplot as plt"
   ]
  },
  {
   "cell_type": "code",
   "execution_count": null,
   "id": "32151631",
   "metadata": {},
   "outputs": [],
   "source": [
    "penguins = sns.load_dataset(\"penguins\")"
   ]
  },
  {
   "cell_type": "code",
   "execution_count": null,
   "id": "865cc492",
   "metadata": {},
   "outputs": [],
   "source": [
    "penguins.head()"
   ]
  },
  {
   "cell_type": "markdown",
   "id": "951d64a6",
   "metadata": {},
   "source": [
    "### Penguins is a tidy dataset. Why is this data tidy ?\n",
    "\n",
    "Characteristics of tidy datasets:\n",
    "- observational unit ==: one penguin\n",
    "- each variable is a column\n",
    "- the table is all about penguins\n"
   ]
  },
  {
   "cell_type": "markdown",
   "id": "c4efaf9d",
   "metadata": {},
   "source": [
    "#### Untidy datasets can violate the Tidy data structure rules above in different ways. For example:\n",
    "- Column headers are values, not variable names.\n",
    "- Multiple variables are stored in one column.\n",
    "- Variables are stored in both rows and columns.\n",
    "- Multiple types of observational units are stored in the same table.\n",
    "- A single observational unit is stored in multiple tables."
   ]
  },
  {
   "cell_type": "code",
   "execution_count": null,
   "id": "a0e84c19",
   "metadata": {},
   "outputs": [],
   "source": [
    "penguins.describe()"
   ]
  },
  {
   "cell_type": "code",
   "execution_count": null,
   "id": "79afb442",
   "metadata": {},
   "outputs": [],
   "source": [
    "penguins.info()"
   ]
  },
  {
   "cell_type": "code",
   "execution_count": null,
   "id": "848c6468",
   "metadata": {},
   "outputs": [],
   "source": [
    "penguins.shape"
   ]
  },
  {
   "cell_type": "markdown",
   "id": "2e2cebaf",
   "metadata": {},
   "source": [
    "#### Let's visualize how many penguins are living on different islands, including the information about gender."
   ]
  },
  {
   "cell_type": "code",
   "execution_count": null,
   "id": "602feb67",
   "metadata": {},
   "outputs": [],
   "source": [
    "sns.countplot(data=penguins, hue='sex', x='island')"
   ]
  },
  {
   "cell_type": "markdown",
   "id": "9dd847d2",
   "metadata": {},
   "source": [
    "#### Let's imagine we want now to compare penguins from different islands, but now we want to use the type of the bill measurement as the hue."
   ]
  },
  {
   "cell_type": "code",
   "execution_count": null,
   "id": "0f64332c",
   "metadata": {
    "scrolled": true
   },
   "outputs": [],
   "source": [
    "# let's experiment with the possible options: barplot instead of countplot\n",
    "\n",
    "sns.barplot(data=penguins, x='island', y='bill_length_mm')"
   ]
  },
  {
   "cell_type": "code",
   "execution_count": null,
   "id": "c0c342bf",
   "metadata": {
    "scrolled": true
   },
   "outputs": [],
   "source": [
    "# let's experiment with the possible options: boxplot instead of barplot\n",
    "\n",
    "sns.boxplot(hue='sex', y='island', x='bill_length_mm', data=penguins)"
   ]
  },
  {
   "cell_type": "markdown",
   "id": "868b163e",
   "metadata": {},
   "source": [
    "There is no easy option to bring both of the bill measurements to a single visual besides changing the format of the data. To bring both of the bill measurements it would be helpful to have the distinction between the measurements in a column (the same way as we have it for e.g. island)"
   ]
  },
  {
   "cell_type": "markdown",
   "id": "27afdeef",
   "metadata": {},
   "source": [
    "### Wide versus Long Data Format\n",
    "Data in pandas and tabular data in general can exist in two forms: long and wide format.\n",
    "\n",
    "- In the long format, for each type of variable, there is a single value column and another column that contains the variable name for each of the values. This format is great for plotting with seaborn.\n",
    "\n",
    "- In the wide format, each variable has its own column. This format is great for calculating descriptive statistics or for applying machine learning with sklearn.\n",
    "\n",
    "The conversion between long and wide format helps you to bring data into the right format for merging, concatenation or plotting.\n",
    "\n",
    "Before applying the transformations, make sure that your data is Tidy Data. Once your data is tidy, transformations from one format to the other will become simple.\n"
   ]
  },
  {
   "cell_type": "markdown",
   "id": "5c1786f1",
   "metadata": {},
   "source": [
    "We can melt bill measurements and have a single bill column, this will give us a long format dataframe"
   ]
  },
  {
   "cell_type": "code",
   "execution_count": null,
   "id": "f62a2f46",
   "metadata": {},
   "outputs": [],
   "source": [
    "# before we do that, it would be helpful to have an additional penguin id column\n",
    "penguins['id'] = penguins.index"
   ]
  },
  {
   "cell_type": "code",
   "execution_count": null,
   "id": "eae8bda3",
   "metadata": {},
   "outputs": [],
   "source": [
    "penguins.head()"
   ]
  },
  {
   "cell_type": "markdown",
   "id": "2e1721a4",
   "metadata": {},
   "source": [
    "Melt is used to transform the data from wide to long format.\n",
    "\n",
    "- id_vars:                 <=== Column(s) to use as identifier variables\n",
    "- value_vars:              <=== Column(s) to unpivot. If not specified, uses all columns that are not set as id_vars.\n",
    "- var_name:                <=== Name to use for the ‘variable’ column.\n",
    "- value_name:              <=== Name to use for the ‘value’ column."
   ]
  },
  {
   "cell_type": "code",
   "execution_count": null,
   "id": "891c3d33",
   "metadata": {},
   "outputs": [],
   "source": [
    "penguins_long = pd.melt(penguins,                                        # dataset\n",
    "                        id_vars=['id', 'sex', 'species', 'island'],      # Column(s) to use as identifier variables\n",
    "                        value_vars=['bill_length_mm', 'bill_depth_mm'],  # Column(s) to unpivot\n",
    "                        var_name='bill_measurement',                     # Name to use for the ‘variable’ column\n",
    "                        value_name='value')                              # Name to use for the ‘value’ column"
   ]
  },
  {
   "cell_type": "code",
   "execution_count": null,
   "id": "1de51e27",
   "metadata": {},
   "outputs": [],
   "source": [
    "penguins_long.head()"
   ]
  },
  {
   "cell_type": "markdown",
   "id": "c5aec6ba",
   "metadata": {},
   "source": [
    "How are the dimensions different from the original dataframe? How to interpret it?"
   ]
  },
  {
   "cell_type": "code",
   "execution_count": null,
   "id": "8cbed3e9",
   "metadata": {},
   "outputs": [],
   "source": [
    "penguins_long.shape"
   ]
  },
  {
   "cell_type": "markdown",
   "id": "613c7abd",
   "metadata": {},
   "source": [
    "A: For every penguin we have 2 rows right now (double number of rows). Numerical columns were reduced to only one."
   ]
  },
  {
   "cell_type": "code",
   "execution_count": null,
   "id": "45ab2a3c",
   "metadata": {},
   "outputs": [],
   "source": [
    "penguins_long.sort_values(by='id')"
   ]
  },
  {
   "cell_type": "code",
   "execution_count": null,
   "id": "9e527237",
   "metadata": {
    "scrolled": true
   },
   "outputs": [],
   "source": [
    "sns.boxplot(hue='bill_measurement', y='value', x='island', data=penguins_long)"
   ]
  },
  {
   "cell_type": "markdown",
   "id": "d14a04f9",
   "metadata": {},
   "source": [
    "Come back to the previous format using pivot function"
   ]
  },
  {
   "cell_type": "code",
   "execution_count": null,
   "id": "f4d6c6eb",
   "metadata": {},
   "outputs": [],
   "source": [
    "wide_penguins = pd.pivot(penguins_long,             # <===  tidy/long format df\n",
    "                     columns='bill_measurement',    # <=== column(s) whose values we want as our new columns\n",
    "                     index=['id', 'island', 'sex'], # <=== column(s) that will be used as a new index\n",
    "                     values='value')                # <=== column whose values we want to populate our new wide dataframe"
   ]
  },
  {
   "cell_type": "code",
   "execution_count": null,
   "id": "895b5b0f",
   "metadata": {},
   "outputs": [],
   "source": [
    "wide_penguins.reset_index()"
   ]
  },
  {
   "cell_type": "markdown",
   "id": "8ce156c5",
   "metadata": {},
   "source": [
    "#### Is the data the same as before? If not, why do you think so?\n",
    "\n",
    "We dropped some of the columns while performing melting at the beginning and we can't retrieve them"
   ]
  },
  {
   "cell_type": "markdown",
   "id": "865b71a4",
   "metadata": {},
   "source": [
    "### What are the average bill measurements? More about penguins statistics\n",
    "\n",
    "There are a few ways how to get some descriptive statistics about the data:\n",
    "- run `.describe` method\n",
    "- perform groupby\n",
    "- pivot table the data"
   ]
  },
  {
   "cell_type": "markdown",
   "id": "8f1b3494",
   "metadata": {},
   "source": [
    "### Pivot Table\n",
    "- pivots table with aggregation\n",
    "- default aggregation function is mean\n",
    "- do not use unless you want to have aggregation\n",
    "- if you have duplicates in the table pivot will return an error\n",
    "- if you have duplicates in the table pivot_table will take the mean of the two observations\n",
    "- please be careful which function you use and ensure the result you want is not aggregation without that being you goal"
   ]
  },
  {
   "cell_type": "code",
   "execution_count": null,
   "id": "f012a7be",
   "metadata": {},
   "outputs": [],
   "source": [
    "penguins_wide = penguins_long.pivot_table(values='value', \n",
    "                                            columns='bill_measurement',\n",
    "                                            index=['island', 'sex'],\n",
    "                                         aggfunc=\"mean\")"
   ]
  },
  {
   "cell_type": "code",
   "execution_count": null,
   "id": "1bb7a118",
   "metadata": {},
   "outputs": [],
   "source": [
    "penguins_wide"
   ]
  },
  {
   "cell_type": "code",
   "execution_count": null,
   "id": "c94b9842",
   "metadata": {},
   "outputs": [],
   "source": [
    "penguins_wide.reset_index()"
   ]
  },
  {
   "cell_type": "code",
   "execution_count": null,
   "id": "2ca9cf3e",
   "metadata": {},
   "outputs": [],
   "source": []
  }
 ],
 "metadata": {
  "kernelspec": {
   "display_name": "Python 3 (ipykernel)",
   "language": "python",
   "name": "python3"
  },
  "language_info": {
   "codemirror_mode": {
    "name": "ipython",
    "version": 3
   },
   "file_extension": ".py",
   "mimetype": "text/x-python",
   "name": "python",
   "nbconvert_exporter": "python",
   "pygments_lexer": "ipython3",
   "version": "3.11.5"
  }
 },
 "nbformat": 4,
 "nbformat_minor": 5
}
