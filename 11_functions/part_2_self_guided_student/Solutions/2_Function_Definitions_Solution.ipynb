{
 "cells": [
  {
   "cell_type": "markdown",
   "source": [
    "# Function Definitions"
   ],
   "metadata": {}
  },
  {
   "cell_type": "markdown",
   "source": [
    "## Check your understanding\n",
    "\n",
    "**Function Definitions: Part 2 Intro Questions**\n",
    "\n",
    "1. **Type** out the `get_evens` in the cell below. Typing it out will give you some practice building a function. \n",
    "2. Call the function with a couple of different arguments. Before you call it, though, write down what you expect it to output. Do the function calls output what you expect? Why or why not?"
   ],
   "metadata": {}
  },
  {
   "cell_type": "code",
   "execution_count": null,
   "source": [
    "#1\n",
    "def get_evens(n=20):\n",
    "    evens = []\n",
    "    for e in range(n): \n",
    "        if e % 2 == 0: \n",
    "            evens.append(e)\n",
    "    return evens"
   ],
   "outputs": [],
   "metadata": {}
  },
  {
   "cell_type": "code",
   "execution_count": null,
   "source": [
    "#2\n",
    "get_evens(10)"
   ],
   "outputs": [],
   "metadata": {}
  },
  {
   "cell_type": "markdown",
   "source": [
    "**Function Default Arguments Questions**\n",
    "\n",
    "1. Take the function defintion above, and change the default value to `10`. What do you expect the function call `get_evens()` with no arguments to return? What about `get_evens(10)`? \\[they both give the same output since the input and default are the same]\n",
    "2. Now change the function definition above to have a default value of `20`. Do you expect the calls `get_evens()` and `get_evens(20)` give the same output? Why or why not? \n",
    "3. Leaving the function with a default output value of `20`, call it with arguments of `5` and `10`. What do you expect the output to be? Run it, and either verify your results or figure out why the output differed from what you expected. \\[the input overrides the default value therefore the output always references the input over the default value] "
   ],
   "metadata": {}
  },
  {
   "cell_type": "markdown",
   "source": [
    "**Multiple Argument Function Questions**\n",
    "\n",
    "1. Change the default values of `n` and `divisor` in our `get_multiples` function to `100` and `10`, respectively. What do you think the function call `get_multiples()` would output, now? Call this from a cell, and verify your answer or figure out why the output differed from what you expected. \n",
    "2. Now, call `get_multiples(100, 10)`. Again, note what you expect this call will output before calling it. Is the output the same as in `1`. Why or why not?"
   ],
   "metadata": {}
  },
  {
   "cell_type": "code",
   "execution_count": null,
   "source": [
    "#1\n",
    "def get_multiples(n=100, divisor=10): \n",
    "    multiples_lst = []\n",
    "    for element in range(n): \n",
    "        if element % divisor == 0: \n",
    "            multiples_lst.append(element)\n",
    "    return multiples_lst"
   ],
   "outputs": [],
   "metadata": {}
  },
  {
   "cell_type": "code",
   "execution_count": null,
   "source": [
    "get_multiples()"
   ],
   "outputs": [],
   "metadata": {}
  },
  {
   "cell_type": "code",
   "execution_count": null,
   "source": [
    "#2\n",
    "get_multiples(100, 10)"
   ],
   "outputs": [],
   "metadata": {}
  },
  {
   "cell_type": "markdown",
   "source": [
    "**Parameters vs Arguments**\n",
    "\n",
    "As a quick reminder, it may seem like the terms \"parameter\" and \"argument\" are being used seemingly interchangeably. These two terms have specific and distinct definitions. A **parameter** is the name of a variable given in a function definition. An **argument** is the value that is passed to a function when it is called. \n",
    "\n",
    "#### Multiple Argument Function Questions Part 2\n",
    "\n",
    "1. Which of the following function definitions are valid? Why?\n",
    "    1. ```python \n",
    "            def my_func1(var1='Hello', var2): \n",
    "                pass\n",
    "       ```\n",
    "    2. ```python \n",
    "            def my_func2(var1, var2='Hello'): \n",
    "                pass\n",
    "       ```\n",
    "    3. ```python \n",
    "            def my_func3(var1, var2=35): \n",
    "                pass\n",
    "       ```\n",
    "    4. ```python \n",
    "            def my_func4(var1=35, var2): \n",
    "                pass\n",
    "       ```\n",
    "    5. ```python \n",
    "            def my_func5(var1=35, var2='Hello'): \n",
    "                pass\n",
    "       ```\n",
    "    6. ```python \n",
    "            def my_func6(var1, var2): \n",
    "                pass\n",
    "       ```\n",
    "2. Verify your answers by typing these into cells, or figure out why you don't see the results you expected. "
   ],
   "metadata": {}
  },
  {
   "cell_type": "markdown",
   "source": [
    "1. does not work because var1 is a default argument and var2 isnt, it has to be the other way around\n",
    "2. works because var2 is a default argument and var1 is not\n",
    "3. works also because of this\n",
    "4. 1. does not work because var1 is a default argument and var2 isnt, it has to be the other way around\n",
    "5. works because they are both default values\n",
    "6. works because there are no default values"
   ],
   "metadata": {}
  }
 ],
 "metadata": {
  "kernelspec": {
   "name": "python3",
   "display_name": "Python 3.8.5 64-bit ('nf_base': conda)"
  },
  "language_info": {
   "codemirror_mode": {
    "name": "ipython",
    "version": 3
   },
   "file_extension": ".py",
   "mimetype": "text/x-python",
   "name": "python",
   "nbconvert_exporter": "python",
   "pygments_lexer": "ipython3",
   "version": "3.8.5"
  },
  "toc": {
   "base_numbering": 1,
   "nav_menu": {},
   "number_sections": true,
   "sideBar": true,
   "skip_h1_title": false,
   "title_cell": "Table of Contents",
   "title_sidebar": "Contents",
   "toc_cell": false,
   "toc_position": {},
   "toc_section_display": true,
   "toc_window_display": false
  },
  "varInspector": {
   "cols": {
    "lenName": 16,
    "lenType": 16,
    "lenVar": 40
   },
   "kernels_config": {
    "python": {
     "delete_cmd_postfix": "",
     "delete_cmd_prefix": "del ",
     "library": "var_list.py",
     "varRefreshCmd": "print(var_dic_list())"
    },
    "r": {
     "delete_cmd_postfix": ") ",
     "delete_cmd_prefix": "rm(",
     "library": "var_list.r",
     "varRefreshCmd": "cat(var_dic_list()) "
    }
   },
   "types_to_exclude": [
    "module",
    "function",
    "builtin_function_or_method",
    "instance",
    "_Feature"
   ],
   "window_display": false
  },
  "interpreter": {
   "hash": "0e4771abb73651cc71498e03f3559c7e0f15f38d5124065b3832974a7bbffea7"
  }
 },
 "nbformat": 4,
 "nbformat_minor": 4
}