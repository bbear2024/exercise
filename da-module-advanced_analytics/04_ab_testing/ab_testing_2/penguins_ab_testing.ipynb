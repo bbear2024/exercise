{
 "cells": [
  {
   "attachments": {},
   "cell_type": "markdown",
   "id": "6bab3448",
   "metadata": {},
   "source": [
    "## Example - Comparing Penguins 🐧 \n",
    "\n",
    "Let's discover if there are significant differences in measures defining penguins (e.g. bill_length)"
   ]
  },
  {
   "cell_type": "code",
   "execution_count": null,
   "id": "dd551f15",
   "metadata": {},
   "outputs": [],
   "source": [
    "# import needed packages\n",
    "\n",
    "import numpy as np\n",
    "import pandas as pd\n",
    "import scipy.stats as sps\n",
    "# import statsmodels.api as sm\n",
    "import matplotlib.pyplot as plt\n",
    "import seaborn as sns"
   ]
  },
  {
   "cell_type": "code",
   "execution_count": null,
   "id": "e4de46f5",
   "metadata": {
    "scrolled": true
   },
   "outputs": [],
   "source": [
    "# read penguins dataset, remove rows with nans\n",
    "\n",
    "penguins = sns.load_dataset(name='penguins')\n",
    "# penguins.dropna(inplace=True)\n",
    "penguins.head()"
   ]
  },
  {
   "cell_type": "code",
   "execution_count": null,
   "id": "fd7b57ec",
   "metadata": {},
   "outputs": [],
   "source": [
    "# Visually explore the data \n",
    "# Create a boxplot\n",
    "\n",
    "sns.boxplot(data=penguins, x='species', y='bill_depth_mm');"
   ]
  },
  {
   "attachments": {},
   "cell_type": "markdown",
   "id": "3243c2c1",
   "metadata": {},
   "source": [
    "Can you already make some conclusion from this visualization? Are some of the species more or less similar to each other?"
   ]
  },
  {
   "cell_type": "code",
   "execution_count": null,
   "id": "56df0d55",
   "metadata": {},
   "outputs": [],
   "source": [
    "# Create a distplot\n",
    "\n",
    "sns.displot(data=penguins, x='bill_depth_mm', hue='species', kind='kde');"
   ]
  },
  {
   "attachments": {},
   "cell_type": "markdown",
   "id": "532def28",
   "metadata": {},
   "source": [
    "## AB testing\n",
    "\n",
    "Let's split our dataset into 3 smaller subsets representing different species. The tests that we will run can be only performed between 2 species at once:"
   ]
  },
  {
   "cell_type": "code",
   "execution_count": null,
   "id": "64c5a9b3",
   "metadata": {},
   "outputs": [],
   "source": [
    "# create 3 datasets - each of them representing one of the species \n",
    "chinstraps = penguins[penguins['species'] == 'Chinstrap']\n",
    "adelies = penguins[penguins['species'] == 'Adelie']\n",
    "gentoos = penguins[penguins['species'] == 'Gentoo']"
   ]
  },
  {
   "cell_type": "code",
   "execution_count": null,
   "id": "db181cfa",
   "metadata": {},
   "outputs": [],
   "source": [
    "# With the help of scipy.stats perform a t test checking if there is a significant difference between the penguins\n",
    "\n",
    "sps.ttest_ind(adelies['bill_depth_mm'], chinstraps['bill_depth_mm'], nan_policy='omit', equal_var=False)"
   ]
  },
  {
   "cell_type": "code",
   "execution_count": null,
   "id": "7e012ec2",
   "metadata": {},
   "outputs": [],
   "source": [
    "sps.ttest_ind(adelies['bill_depth_mm'], gentoos['bill_depth_mm'], nan_policy='omit', equal_var=False)"
   ]
  },
  {
   "cell_type": "code",
   "execution_count": null,
   "id": "723cd79f",
   "metadata": {},
   "outputs": [],
   "source": [
    "sps.ttest_ind(chinstraps['bill_depth_mm'], gentoos['bill_depth_mm'], nan_policy='omit', equal_var=False)"
   ]
  },
  {
   "attachments": {},
   "cell_type": "markdown",
   "id": "d6505516",
   "metadata": {},
   "source": [
    "Conclusions: \n",
    "- adelies and chinstraps have very similar bill depth \n",
    "- there is however a significant difference between gentoos and both chinstraps and adelies (p value is very tiny for both of these tests)\n"
   ]
  },
  {
   "attachments": {},
   "cell_type": "markdown",
   "id": "7f3449a7",
   "metadata": {},
   "source": [
    "Question: what about other penguins features? The test above is only checking the bill length. It means that we can only draw this conclusion about this feature only and if we would like to check e.g. differences between flippers lengths we would need to perform another set of tests. Feel free to give a try!"
   ]
  },
  {
   "attachments": {},
   "cell_type": "markdown",
   "id": "101a6fd0",
   "metadata": {},
   "source": []
  }
 ],
 "metadata": {
  "kernelspec": {
   "display_name": "Python 3 (ipykernel)",
   "language": "python",
   "name": "python3"
  },
  "language_info": {
   "codemirror_mode": {
    "name": "ipython",
    "version": 3
   },
   "file_extension": ".py",
   "mimetype": "text/x-python",
   "name": "python",
   "nbconvert_exporter": "python",
   "pygments_lexer": "ipython3",
   "version": "3.11.5"
  }
 },
 "nbformat": 4,
 "nbformat_minor": 5
}
