{
 "cells": [
  {
   "cell_type": "markdown",
   "id": "6c0c2438",
   "metadata": {},
   "source": [
    "# Data Cleansing and Missing Data"
   ]
  },
  {
   "cell_type": "markdown",
   "id": "31fba265",
   "metadata": {},
   "source": [
    "## Objectives"
   ]
  },
  {
   "cell_type": "markdown",
   "id": "d693d038",
   "metadata": {},
   "source": [
    "1. inspecting a dataframe\n",
    "2. renaming columns\n",
    "3. replacing values in columns\n",
    "4. dropping duplicates\n",
    "5. changing column types\n",
    "6. dealing with missing values\n",
    "7. creating new columns"
   ]
  },
  {
   "cell_type": "markdown",
   "id": "45c9e4dd",
   "metadata": {},
   "source": [
    "Data is often very disorganized. Messy data can hinder data exploration and other steps in your analysis. Data cleansing is about identifying incorrect, incomplete, inaccurate, or irrelevant data, fixing the problems, and making sure that all such issues will be fixed automatically in the future."
   ]
  },
  {
   "cell_type": "markdown",
   "id": "4c80aa91",
   "metadata": {},
   "source": [
    "### Missing Data\n",
    "\n",
    "\n",
    "Missing data can invalidate the data analysis, reports, dashboards, etc that are being created. Thus it is esstential to deal with in some fashion before the actual analysis begins.\n",
    "\n",
    "In pandas missing data is represented by the values NA or NaN. As data comes in many shapes and forms, pandas aims to be flexible with regard to handling missing data.\n",
    "\n",
    "While NaN is the default missing value marker for reasons of computational speed and convenience, we need to be able to easily detect this value with data of different types: floating point, integer, boolean, and general object. In many cases, however, the Python None will arise and we wish to also consider that “missing” or “not available” or “NA”.\n",
    "\n",
    "### Common missing values representations:\n",
    "\n",
    "NaN (the primary one and the one used by pandas)\n",
    "Empty string “”\n",
    "Other strings (e.g. “unknown”, “uncategorized”, “?”, etc.)\n",
    "Negative values (i.e. -1, huge negatives like -999)\n",
    "Where does missing data come from?\n",
    "\n",
    "### Failure of measurement\n",
    "\n",
    "No information (e.g. lack of observation)\n",
    "Technical issue (e.g. battery in a smart watch died)\n",
    "Programming error\n",
    "\n",
    "Note: Some missing data can still be representaional of an event or data point:\n",
    "\n",
    "Purchase data with NaNs in coupon discount column - it will mean that a customer didn’t use a coupon code\n",
    "Recipe data with NaN for amount of the ingredient - it will mean we don’t this ingredient at all"
   ]
  },
  {
   "cell_type": "markdown",
   "id": "a46620a9",
   "metadata": {},
   "source": [
    "### Dealing with missing data\n",
    "If upon inspecting data, missing values are evident how to handle them becomes of the utmost importance. This will always depend upon the situation. Above all the introduction of any bias into the dataset must be avoided. Therefore one option would be to leave it as is, yet that may also hinder the use of some valuable data analysis tools. Here are some options as to how to deal with missing data:\n",
    "\n",
    "- drop the observations with missing values\n",
    "- insert mode/mean/median depending on data type\n",
    "- insert the next or last known value using pandas.DataFrame.fillna()\n",
    "- insert the mean/median dependent on another column\n",
    "- for time series data: interpolate using pandas.Series.interpolate"
   ]
  },
  {
   "cell_type": "markdown",
   "id": "b3ad080e",
   "metadata": {},
   "source": [
    "### Pandas topic related commands"
   ]
  },
  {
   "cell_type": "markdown",
   "id": "72d615f0",
   "metadata": {},
   "source": [
    "| Command              | Description                                            |\n",
    "|----------------------|--------------------------------------------------------|\n",
    "| df.info()            | prints concise summary of dataframe                    |\n",
    "| df.rename()          | alter row or column axes labels                        |\n",
    "| df.dropna()          | removes rows or columns that contain missing values     |\n",
    "| df.set_index()       | assign a column to be the row index of the table       |\n",
    "| df.reset_index()     | replace the current row index with a default           |\n",
    "| df[\"col_name\"].isna()| identify missing values in a column                    |\n",
    "| df[\"col_name\"].replace()| replace values in a Series                           |\n",
    "| df[\"col_name\"].fillna()| fill NaN values using the specified method           |\n"
   ]
  },
  {
   "cell_type": "code",
   "execution_count": null,
   "id": "c692196c",
   "metadata": {},
   "outputs": [],
   "source": [
    "import pandas as pd\n",
    "import numpy as np"
   ]
  },
  {
   "cell_type": "code",
   "execution_count": null,
   "id": "fca4e0c5",
   "metadata": {},
   "outputs": [],
   "source": [
    "data = pd.read_csv(\"../data/messy_data.csv\")"
   ]
  },
  {
   "cell_type": "code",
   "execution_count": null,
   "id": "8068a7c2",
   "metadata": {},
   "outputs": [],
   "source": [
    "data"
   ]
  },
  {
   "cell_type": "markdown",
   "id": "4d636f61",
   "metadata": {},
   "source": [
    "## 1. inspecting a dataframe"
   ]
  },
  {
   "cell_type": "code",
   "execution_count": null,
   "id": "99e2efbb",
   "metadata": {},
   "outputs": [],
   "source": [
    "data.head()"
   ]
  },
  {
   "cell_type": "code",
   "execution_count": null,
   "id": "bb68714c",
   "metadata": {},
   "outputs": [],
   "source": [
    "data.info()"
   ]
  },
  {
   "cell_type": "code",
   "execution_count": null,
   "id": "2e19fe63",
   "metadata": {},
   "outputs": [],
   "source": [
    "data.describe()"
   ]
  },
  {
   "cell_type": "code",
   "execution_count": null,
   "id": "e02a78ab",
   "metadata": {},
   "outputs": [],
   "source": [
    "data.describe(include='O') # includes objects"
   ]
  },
  {
   "cell_type": "code",
   "execution_count": null,
   "id": "cfbb754e",
   "metadata": {},
   "outputs": [],
   "source": [
    "# checking for missing values\n",
    "\n",
    "data.isnull()"
   ]
  },
  {
   "cell_type": "code",
   "execution_count": null,
   "id": "34edb827",
   "metadata": {},
   "outputs": [],
   "source": [
    "# add the missing values up\n",
    "\n",
    "data.isnull().sum()"
   ]
  },
  {
   "cell_type": "markdown",
   "id": "c30e068c",
   "metadata": {},
   "source": [
    "**we can see the following problems:**\n",
    "\n",
    "1. we have two columns containing missing values: Date, Calories\n",
    "2. Data is a string rather than pandas datetime format\n",
    "3. Column names are capitalized\n",
    "4. There is a miswritten date value in row 26"
   ]
  },
  {
   "cell_type": "markdown",
   "id": "34a76f23",
   "metadata": {},
   "source": [
    "## 2. Renaming columns"
   ]
  },
  {
   "cell_type": "code",
   "execution_count": null,
   "id": "50e14613",
   "metadata": {},
   "outputs": [],
   "source": [
    "# method 1\n",
    "\n",
    "# renaming all columns\n",
    "\n",
    "data.columns"
   ]
  },
  {
   "cell_type": "code",
   "execution_count": null,
   "id": "91ab1e95",
   "metadata": {},
   "outputs": [],
   "source": [
    "data.columns = ['duration', 'date', 'pulse', 'max_pulse', 'calories']\n",
    "\n",
    "data"
   ]
  },
  {
   "cell_type": "code",
   "execution_count": null,
   "id": "015954ab",
   "metadata": {},
   "outputs": [],
   "source": [
    "# method 2\n",
    "\n",
    "# replacing the name of a specific column\n",
    "\n",
    "data.rename(columns={'duration':'duration_min', 'pulse': 'avg_pulse'})\n",
    "\n",
    "data.head()"
   ]
  },
  {
   "cell_type": "code",
   "execution_count": null,
   "id": "1dae026f",
   "metadata": {},
   "outputs": [],
   "source": [
    "# remember to set inplace True\n",
    "\n",
    "data.rename(columns={'duration':'duration_min', 'pulse': 'avg_pulse'}, inplace=True)\n",
    "\n",
    "data.head()"
   ]
  },
  {
   "cell_type": "code",
   "execution_count": null,
   "id": "c00cf204",
   "metadata": {},
   "outputs": [],
   "source": [
    "# we can also manipulate column names as strings\n",
    "# keep in mind any string manipulation done to a pandas Series or DataFrame requires `.str` before the method\n",
    "\n",
    "\n",
    "data.columns = data.columns.str.capitalize()"
   ]
  },
  {
   "cell_type": "code",
   "execution_count": null,
   "id": "760e8c46",
   "metadata": {},
   "outputs": [],
   "source": [
    "data.head()"
   ]
  },
  {
   "cell_type": "code",
   "execution_count": null,
   "id": "1dfa7512",
   "metadata": {},
   "outputs": [],
   "source": [
    "# reverting the change using the lower method\n",
    "\n",
    "data.columns = data.columns.str.lower()\n",
    "\n",
    "data.head()"
   ]
  },
  {
   "cell_type": "markdown",
   "id": "71e583ea",
   "metadata": {},
   "source": [
    "## 3. replacing values in columns"
   ]
  },
  {
   "cell_type": "code",
   "execution_count": null,
   "id": "7b7ce1ad",
   "metadata": {},
   "outputs": [],
   "source": [
    "# let's remove those single quotes from the date column\n",
    "\n",
    "data['date'].str.replace(\"'\", \"\")"
   ]
  },
  {
   "cell_type": "code",
   "execution_count": null,
   "id": "73a6a2c2",
   "metadata": {},
   "outputs": [],
   "source": [
    "data.head()"
   ]
  },
  {
   "cell_type": "code",
   "execution_count": null,
   "id": "bd13227a",
   "metadata": {},
   "outputs": [],
   "source": [
    "data['date'] = data['date'].str.replace(\"'\", \"\")\n",
    "\n",
    "data.head()"
   ]
  },
  {
   "cell_type": "code",
   "execution_count": null,
   "id": "6427440e",
   "metadata": {},
   "outputs": [],
   "source": [
    "# now let's replace the misformatted value in row 26\n",
    "\n",
    "data.loc[26, 'date']"
   ]
  },
  {
   "cell_type": "code",
   "execution_count": null,
   "id": "36db840f",
   "metadata": {},
   "outputs": [],
   "source": [
    "data.loc[26, 'date'] = '2020/12/26'\n",
    "\n",
    "data"
   ]
  },
  {
   "cell_type": "markdown",
   "id": "486599d2",
   "metadata": {},
   "source": [
    "## 4. dropping duplicate rows"
   ]
  },
  {
   "cell_type": "code",
   "execution_count": null,
   "id": "e367bf65",
   "metadata": {},
   "outputs": [],
   "source": [
    "# rows 11 and 12 are identical, we need to drop one of them\n",
    "\n",
    "data.drop_duplicates(inplace=True)\n",
    "\n",
    "data"
   ]
  },
  {
   "cell_type": "code",
   "execution_count": null,
   "id": "1e18a3a3",
   "metadata": {},
   "outputs": [],
   "source": [
    "# notice now that the duplicate row is dropped but the index is no longer correct\n",
    "\n",
    "# let's reset the index\n",
    "data.reset_index(drop=True, inplace=True)\n",
    "\n",
    "data"
   ]
  },
  {
   "cell_type": "markdown",
   "id": "6c37cbef",
   "metadata": {},
   "source": [
    "## 5. changing column types"
   ]
  },
  {
   "cell_type": "code",
   "execution_count": null,
   "id": "d1263094",
   "metadata": {},
   "outputs": [],
   "source": [
    "data.info()"
   ]
  },
  {
   "cell_type": "code",
   "execution_count": null,
   "id": "aa33a612",
   "metadata": {},
   "outputs": [],
   "source": [
    "# let's change the format of the date column to datetime\n",
    "\n",
    "pd.to_datetime(data['date'])"
   ]
  },
  {
   "cell_type": "code",
   "execution_count": null,
   "id": "ba34598a",
   "metadata": {},
   "outputs": [],
   "source": [
    "data['date'] = pd.to_datetime(data['date']) # we will dive deeper into the datetime data type in week 4!\n",
    "\n",
    "data.head()"
   ]
  },
  {
   "cell_type": "code",
   "execution_count": null,
   "id": "b0d16fa3",
   "metadata": {},
   "outputs": [],
   "source": [
    "data.info()"
   ]
  },
  {
   "cell_type": "code",
   "execution_count": null,
   "id": "c99e51ef",
   "metadata": {},
   "outputs": [],
   "source": [
    "# let's also round the calories column and convert to integer\n",
    "\n",
    "data['calories'] = data['calories'].round()\n",
    "\n",
    "data"
   ]
  },
  {
   "cell_type": "code",
   "execution_count": null,
   "id": "f9acb103",
   "metadata": {},
   "outputs": [],
   "source": [
    "# changing the column to integer\n",
    "\n",
    "data['calories'] = data['calories'].astype('Int64')"
   ]
  },
  {
   "cell_type": "code",
   "execution_count": null,
   "id": "d2d0ba3a",
   "metadata": {},
   "outputs": [],
   "source": [
    "data"
   ]
  },
  {
   "cell_type": "markdown",
   "id": "234994cb",
   "metadata": {},
   "source": [
    "# Missing Data"
   ]
  },
  {
   "cell_type": "markdown",
   "id": "4c866d26",
   "metadata": {},
   "source": [
    "Missing data can invalidate the data analysis, reports, dashboards, etc that are being created. Thus it is esstential to deal with in some fashion before the actual analysis begins. \n",
    "\n",
    "In `pandas` missing data is represented by the values `NA` or `NaN`. As data comes in many shapes and forms, pandas aims to be flexible with regard to handling missing data. \n",
    "\n",
    "While NaN is the default missing value marker for reasons of computational speed and convenience, we need to be able to easily detect this value with data of different types: floating point, integer, boolean, and general object. In many cases, however, the Python None will arise and we wish to also consider that “missing” or “not available” or “NA”.\n",
    "\n",
    "Common missing values representations:\n",
    "\n",
    "- NaN (the primary one and the one used by pandas)\n",
    "- Empty string “”\n",
    "- Other strings (e.g. “unknown”, “uncategorized”, “?”, etc.)\n",
    "- Negative values (i.e. -1, huge negatives like -999)\n",
    "\n",
    "### Where does missing data come from?\n",
    "\n",
    "-  Failure of measurement\n",
    "    - No information (e.g. lack of observation)\n",
    "    - Technical issue (e.g. battery in a smart watch died)\n",
    "\n",
    "- Programming error\n",
    "\n",
    "**Note:** Some missing data can still be representaional of an event or data point:\n",
    "    - Purchase data with NaNs in coupon discount column\n",
    "    - Recipe data with NaN for amount of the ingredient if we don’t need it"
   ]
  },
  {
   "cell_type": "markdown",
   "id": "128f5a38",
   "metadata": {},
   "source": [
    "## 6. Dealing with missing values"
   ]
  },
  {
   "cell_type": "markdown",
   "id": "253d1cf7",
   "metadata": {},
   "source": [
    "If upon inspecting data, missing values are evident how to handle them becomes of the utmost importance. This will always depend upon the situation. Above all the introduction of any bias into the dataset must be avoided. Therefore one option would be to leave it as is, yet that may also hinder the use of some valuable data analysis tools. Here are some options as to how to deal with missing data:\n",
    "\n",
    "-  drop the observations with missing values\n",
    "-  insert mode/mean/median depending on data type\n",
    "-  insert the next or last known value using `pandas.DataFrame.fillna()`\n",
    "-  insert the mean/median dependent on another column \n",
    "-  for time series data: interpolate using `pandas.Series.interpolate`\n"
   ]
  },
  {
   "cell_type": "code",
   "execution_count": null,
   "id": "739e8d1b",
   "metadata": {},
   "outputs": [],
   "source": [
    "data.isna().sum()"
   ]
  },
  {
   "cell_type": "code",
   "execution_count": null,
   "id": "81485038",
   "metadata": {},
   "outputs": [],
   "source": [
    "# fill any missing data with a specific value\n",
    "\n",
    "data['date'].fillna('2020-12-22')"
   ]
  },
  {
   "cell_type": "code",
   "execution_count": null,
   "id": "69af2401",
   "metadata": {},
   "outputs": [],
   "source": [
    "# fill the missing data with the mean of the given values\n",
    "\n",
    "mean_calories = int(data['calories'].mean().round())\n",
    "\n",
    "data['calories'].fillna(mean_calories)"
   ]
  },
  {
   "cell_type": "code",
   "execution_count": null,
   "id": "98a9ac89",
   "metadata": {},
   "outputs": [],
   "source": [
    "#  we can also choose to drop any rows with missing values\n",
    "\n",
    "data.dropna(axis=0) # or axis='rows'"
   ]
  },
  {
   "cell_type": "code",
   "execution_count": null,
   "id": "84a51335",
   "metadata": {},
   "outputs": [],
   "source": []
  },
  {
   "cell_type": "markdown",
   "id": "44c029cd",
   "metadata": {},
   "source": [
    "## 6. Creating New Columns\n",
    "\n",
    "Creating columns is done in one of two ways: \n",
    "\n",
    "1. Using bracket notation\n",
    "\n",
    "2. Using the `eval()` method on the Pandas DataFrame. "
   ]
  },
  {
   "cell_type": "markdown",
   "id": "0426b394",
   "metadata": {},
   "source": [
    "Calories Burned per Minute (Calories_per_Minute):\n",
    "\n",
    "Calculate the rate of burning calories per minute by dividing the total calories burned (Calories) by the duration of the activity (Duration). This can give insights into the intensity of the exercise."
   ]
  },
  {
   "cell_type": "code",
   "execution_count": null,
   "id": "e7bfad42",
   "metadata": {},
   "outputs": [],
   "source": [
    "data['calories_per_minute'] = data['calories'] / data['duration_min']\n"
   ]
  },
  {
   "cell_type": "markdown",
   "id": "ac726b46",
   "metadata": {},
   "source": [
    "with `.eval()` we can create new columns\n",
    "\n",
    "Calculate the heart rate reserve, which is the difference between the maximum heart rate (Maxpulse) and the resting heart rate (Pulse). This can provide insights into the intensity of the workout relative to the individual's resting heart rate."
   ]
  },
  {
   "cell_type": "code",
   "execution_count": null,
   "id": "325b6ffe",
   "metadata": {},
   "outputs": [],
   "source": [
    "data.eval('hrr = max_pulse - avg_pulse', inplace = True)\n",
    "data.columns"
   ]
  },
  {
   "cell_type": "markdown",
   "id": "cb366ab1",
   "metadata": {},
   "source": [
    "Day of the Week (Day_of_Week):\n",
    "\n",
    "Extract the day of the week from the Date column. This can help analyze trends based on the day of the week when the activity was performed."
   ]
  },
  {
   "cell_type": "code",
   "execution_count": null,
   "id": "f000c4f6",
   "metadata": {},
   "outputs": [],
   "source": [
    "data['day_of_week'] = data['date'].dt.day_name()"
   ]
  },
  {
   "cell_type": "markdown",
   "id": "0ca9816c",
   "metadata": {},
   "source": [
    "Weekend vs. Weekday (Weekend):\n",
    "\n",
    "Create a binary indicator variable to identify whether the activity was performed on a weekend (Saturday or Sunday)."
   ]
  },
  {
   "cell_type": "code",
   "execution_count": null,
   "id": "7923cd1a",
   "metadata": {},
   "outputs": [],
   "source": [
    "data['weekend'] = data['day_of_week'].isin(['Saturday', 'Sunday']).astype(int)\n"
   ]
  }
 ],
 "metadata": {
  "kernelspec": {
   "display_name": "Python 3 (ipykernel)",
   "language": "python",
   "name": "python3"
  },
  "language_info": {
   "codemirror_mode": {
    "name": "ipython",
    "version": 3
   },
   "file_extension": ".py",
   "mimetype": "text/x-python",
   "name": "python",
   "nbconvert_exporter": "python",
   "pygments_lexer": "ipython3",
   "version": "3.11.5"
  }
 },
 "nbformat": 4,
 "nbformat_minor": 5
}
