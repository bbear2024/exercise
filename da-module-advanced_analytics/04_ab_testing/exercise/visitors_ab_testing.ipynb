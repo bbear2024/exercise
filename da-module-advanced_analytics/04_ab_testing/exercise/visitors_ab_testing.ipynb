{
 "cells": [
  {
   "attachments": {},
   "cell_type": "markdown",
   "metadata": {},
   "source": [
    "# A/B Test Exercise: Spiced search results - changing title color\n",
    "\n",
    "Comparing two different versions of a website or a search result is a very typical example of A/B testing that you can encounter as a business or marketing data analyst.\n",
    "\n",
    "In this case we are experimenting with two different colors as presented on pictures below. The visitors were randomly split into two groups where each group has seen only one color. Our task is to establish which color is performing better in terms of the conversion rate (the proportion of how many people clicked on the linked vs the number of people who have seen the search result)"
   ]
  },
  {
   "attachments": {},
   "cell_type": "markdown",
   "metadata": {},
   "source": [
    "#### Group A\n",
    "\n",
    "![group_a.png](visitors_group_a.png)"
   ]
  },
  {
   "attachments": {},
   "cell_type": "markdown",
   "metadata": {},
   "source": [
    "#### Group B\n",
    "\n",
    "![visitors_group_b.png](visitors_group_b.png)"
   ]
  },
  {
   "attachments": {},
   "cell_type": "markdown",
   "metadata": {},
   "source": [
    "Below you can see how we can perform such a test using python:"
   ]
  },
  {
   "cell_type": "code",
   "execution_count": 1,
   "metadata": {},
   "outputs": [],
   "source": [
    "import pandas as pd\n",
    "import numpy as np\n",
    "import seaborn as sns\n",
    "import scipy.stats as stats"
   ]
  },
  {
   "cell_type": "code",
   "execution_count": 5,
   "metadata": {},
   "outputs": [],
   "source": [
    "# read the visitors.csv file containing the number of daily visitors for both groups for 30 days\n",
    "\n",
    "df = pd.read_csv('visitors.csv')\n",
    "df = df.drop('Unnamed: 0', axis=1)"
   ]
  },
  {
   "cell_type": "code",
   "execution_count": 13,
   "metadata": {},
   "outputs": [
    {
     "data": {
      "text/html": [
       "<div>\n",
       "<style scoped>\n",
       "    .dataframe tbody tr th:only-of-type {\n",
       "        vertical-align: middle;\n",
       "    }\n",
       "\n",
       "    .dataframe tbody tr th {\n",
       "        vertical-align: top;\n",
       "    }\n",
       "\n",
       "    .dataframe thead th {\n",
       "        text-align: right;\n",
       "    }\n",
       "</style>\n",
       "<table border=\"1\" class=\"dataframe\">\n",
       "  <thead>\n",
       "    <tr style=\"text-align: right;\">\n",
       "      <th></th>\n",
       "      <th>purple</th>\n",
       "      <th>blue</th>\n",
       "    </tr>\n",
       "  </thead>\n",
       "  <tbody>\n",
       "    <tr>\n",
       "      <th>0</th>\n",
       "      <td>32.357176</td>\n",
       "      <td>24.010799</td>\n",
       "    </tr>\n",
       "    <tr>\n",
       "      <th>1</th>\n",
       "      <td>24.045122</td>\n",
       "      <td>27.687188</td>\n",
       "    </tr>\n",
       "    <tr>\n",
       "      <th>2</th>\n",
       "      <td>37.163535</td>\n",
       "      <td>31.237893</td>\n",
       "    </tr>\n",
       "    <tr>\n",
       "      <th>3</th>\n",
       "      <td>28.436741</td>\n",
       "      <td>31.229691</td>\n",
       "    </tr>\n",
       "    <tr>\n",
       "      <th>4</th>\n",
       "      <td>26.397056</td>\n",
       "      <td>30.318586</td>\n",
       "    </tr>\n",
       "    <tr>\n",
       "      <th>5</th>\n",
       "      <td>34.435815</td>\n",
       "      <td>25.389542</td>\n",
       "    </tr>\n",
       "    <tr>\n",
       "      <th>6</th>\n",
       "      <td>34.297942</td>\n",
       "      <td>26.623565</td>\n",
       "    </tr>\n",
       "    <tr>\n",
       "      <th>7</th>\n",
       "      <td>26.817382</td>\n",
       "      <td>24.386026</td>\n",
       "    </tr>\n",
       "    <tr>\n",
       "      <th>8</th>\n",
       "      <td>30.078482</td>\n",
       "      <td>30.208374</td>\n",
       "    </tr>\n",
       "    <tr>\n",
       "      <th>9</th>\n",
       "      <td>18.786575</td>\n",
       "      <td>37.954803</td>\n",
       "    </tr>\n",
       "    <tr>\n",
       "      <th>10</th>\n",
       "      <td>35.750179</td>\n",
       "      <td>26.380998</td>\n",
       "    </tr>\n",
       "    <tr>\n",
       "      <th>11</th>\n",
       "      <td>34.959730</td>\n",
       "      <td>23.167770</td>\n",
       "    </tr>\n",
       "    <tr>\n",
       "      <th>12</th>\n",
       "      <td>34.766621</td>\n",
       "      <td>26.180710</td>\n",
       "    </tr>\n",
       "    <tr>\n",
       "      <th>13</th>\n",
       "      <td>19.893726</td>\n",
       "      <td>15.625112</td>\n",
       "    </tr>\n",
       "    <tr>\n",
       "      <th>14</th>\n",
       "      <td>28.329613</td>\n",
       "      <td>27.238961</td>\n",
       "    </tr>\n",
       "    <tr>\n",
       "      <th>15</th>\n",
       "      <td>30.010592</td>\n",
       "      <td>21.514216</td>\n",
       "    </tr>\n",
       "    <tr>\n",
       "      <th>16</th>\n",
       "      <td>32.027267</td>\n",
       "      <td>25.316026</td>\n",
       "    </tr>\n",
       "    <tr>\n",
       "      <th>17</th>\n",
       "      <td>31.445460</td>\n",
       "      <td>26.091446</td>\n",
       "    </tr>\n",
       "    <tr>\n",
       "      <th>18</th>\n",
       "      <td>36.605791</td>\n",
       "      <td>29.777070</td>\n",
       "    </tr>\n",
       "    <tr>\n",
       "      <th>19</th>\n",
       "      <td>22.265472</td>\n",
       "      <td>27.076343</td>\n",
       "    </tr>\n",
       "    <tr>\n",
       "      <th>20</th>\n",
       "      <td>28.986768</td>\n",
       "      <td>30.205044</td>\n",
       "    </tr>\n",
       "    <tr>\n",
       "      <th>21</th>\n",
       "      <td>26.720153</td>\n",
       "      <td>18.770950</td>\n",
       "    </tr>\n",
       "    <tr>\n",
       "      <th>22</th>\n",
       "      <td>30.967107</td>\n",
       "      <td>18.990134</td>\n",
       "    </tr>\n",
       "    <tr>\n",
       "      <th>23</th>\n",
       "      <td>32.767195</td>\n",
       "      <td>25.495409</td>\n",
       "    </tr>\n",
       "    <tr>\n",
       "      <th>24</th>\n",
       "      <td>36.590758</td>\n",
       "      <td>23.258788</td>\n",
       "    </tr>\n",
       "    <tr>\n",
       "      <th>25</th>\n",
       "      <td>27.653474</td>\n",
       "      <td>25.276902</td>\n",
       "    </tr>\n",
       "    <tr>\n",
       "      <th>26</th>\n",
       "      <td>33.377770</td>\n",
       "      <td>27.770102</td>\n",
       "    </tr>\n",
       "    <tr>\n",
       "      <th>27</th>\n",
       "      <td>20.914864</td>\n",
       "      <td>25.822435</td>\n",
       "    </tr>\n",
       "    <tr>\n",
       "      <th>28</th>\n",
       "      <td>29.084457</td>\n",
       "      <td>28.828692</td>\n",
       "    </tr>\n",
       "    <tr>\n",
       "      <th>29</th>\n",
       "      <td>35.294846</td>\n",
       "      <td>33.728294</td>\n",
       "    </tr>\n",
       "  </tbody>\n",
       "</table>\n",
       "</div>"
      ],
      "text/plain": [
       "       purple       blue\n",
       "0   32.357176  24.010799\n",
       "1   24.045122  27.687188\n",
       "2   37.163535  31.237893\n",
       "3   28.436741  31.229691\n",
       "4   26.397056  30.318586\n",
       "5   34.435815  25.389542\n",
       "6   34.297942  26.623565\n",
       "7   26.817382  24.386026\n",
       "8   30.078482  30.208374\n",
       "9   18.786575  37.954803\n",
       "10  35.750179  26.380998\n",
       "11  34.959730  23.167770\n",
       "12  34.766621  26.180710\n",
       "13  19.893726  15.625112\n",
       "14  28.329613  27.238961\n",
       "15  30.010592  21.514216\n",
       "16  32.027267  25.316026\n",
       "17  31.445460  26.091446\n",
       "18  36.605791  29.777070\n",
       "19  22.265472  27.076343\n",
       "20  28.986768  30.205044\n",
       "21  26.720153  18.770950\n",
       "22  30.967107  18.990134\n",
       "23  32.767195  25.495409\n",
       "24  36.590758  23.258788\n",
       "25  27.653474  25.276902\n",
       "26  33.377770  27.770102\n",
       "27  20.914864  25.822435\n",
       "28  29.084457  28.828692\n",
       "29  35.294846  33.728294"
      ]
     },
     "execution_count": 13,
     "metadata": {},
     "output_type": "execute_result"
    }
   ],
   "source": [
    "df"
   ]
  },
  {
   "cell_type": "code",
   "execution_count": 12,
   "metadata": {},
   "outputs": [
    {
     "name": "stdout",
     "output_type": "stream",
     "text": [
      "mean of purple is 30.04092225248258, mean of blue is 26.518728895668595, difference is 3.522193356813986\n"
     ]
    }
   ],
   "source": [
    "# calculate the means of both groups and their difference\n",
    "\n",
    "mean_p = df.purple.mean()\n",
    "mean_b = df.blue.mean()\n",
    "difference = mean_p - mean_b\n",
    "print(f'mean of purple is {mean_p}, mean of blue is {mean_b}, difference is {difference}')"
   ]
  },
  {
   "cell_type": "code",
   "execution_count": 7,
   "metadata": {},
   "outputs": [
    {
     "data": {
      "text/plain": [
       "<Axes: >"
      ]
     },
     "execution_count": 7,
     "metadata": {},
     "output_type": "execute_result"
    },
    {
     "data": {
      "image/png": "[encoded data removed]",
      "text/plain": [
       "<Figure size 640x480 with 1 Axes>"
      ]
     },
     "metadata": {},
     "output_type": "display_data"
    }
   ],
   "source": [
    "# plot the two groups boxplots\n",
    "sns.boxplot(data=df)"
   ]
  },
  {
   "cell_type": "code",
   "execution_count": 9,
   "metadata": {},
   "outputs": [
    {
     "data": {
      "text/plain": [
       "<seaborn.axisgrid.FacetGrid at 0x15d32a46300>"
      ]
     },
     "execution_count": 9,
     "metadata": {},
     "output_type": "execute_result"
    },
    {
     "data": {
      "image/png": "[encoded data removed]",
      "text/plain": [
       "<Figure size 594.625x500 with 1 Axes>"
      ]
     },
     "metadata": {},
     "output_type": "display_data"
    }
   ],
   "source": [
    "# plot the distributions of both groups using either histograms of displot\n",
    "\n",
    "sns.displot(data=df, kind='kde')"
   ]
  },
  {
   "cell_type": "code",
   "execution_count": 10,
   "metadata": {},
   "outputs": [
    {
     "data": {
      "text/plain": [
       "TtestResult(statistic=np.float64(2.8205655591656997), pvalue=np.float64(0.006585299356873966), df=np.float64(56.985398615456674))"
      ]
     },
     "execution_count": 10,
     "metadata": {},
     "output_type": "execute_result"
    }
   ],
   "source": [
    "# apply the two-sample t-test on the data. What is the p-value?  Use a significance level of 0.05\n",
    "stats.ttest_ind(df['purple'], df['blue'], nan_policy='omit', equal_var=False)\n"
   ]
  },
  {
   "attachments": {},
   "cell_type": "markdown",
   "metadata": {},
   "source": [
    "### Conclusion: Which group is better ??\n",
    "\n",
    "since p-value < 0.05, then we conclude that the purple title did indeed cause an increase in the number of people visiting the SPICED website after doing a google search on 'spiced'"
   ]
  },
  {
   "cell_type": "code",
   "execution_count": null,
   "metadata": {},
   "outputs": [],
   "source": []
  }
 ],
 "metadata": {
  "kernelspec": {
   "display_name": "base",
   "language": "python",
   "name": "python3"
  },
  "language_info": {
   "codemirror_mode": {
    "name": "ipython",
    "version": 3
   },
   "file_extension": ".py",
   "mimetype": "text/x-python",
   "name": "python",
   "nbconvert_exporter": "python",
   "pygments_lexer": "ipython3",
   "version": "3.12.3"
  }
 },
 "nbformat": 4,
 "nbformat_minor": 4
}
