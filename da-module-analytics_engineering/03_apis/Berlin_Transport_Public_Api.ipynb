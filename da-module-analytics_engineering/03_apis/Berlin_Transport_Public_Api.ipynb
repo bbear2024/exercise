{
 "cells": [
  {
   "cell_type": "code",
   "execution_count": 1,
   "id": "bf3e8985",
   "metadata": {},
   "outputs": [],
   "source": [
    "import requests"
   ]
  },
  {
   "cell_type": "code",
   "execution_count": null,
   "id": "237585e9",
   "metadata": {},
   "outputs": [],
   "source": [
    "\"\"\"\n",
    "Berlin public transport API\n",
    "\"\"\"\n",
    "\n",
    "BASE_URL = 'https://v6.vbb.transport.rest'\n",
    "\n",
    "# find a station\n",
    "name = 'moritzplatz'\n",
    "url_loc = f\"{BASE_URL}/locations?query={name}\"\n",
    "\n",
    "# same as 'https://v6.vbb.transport.rest/locations?query=moritzplatz' but kept optional\n",
    "\n",
    "result = requests.get(url_loc).json()\n",
    "station_id = result[0]['id']\n",
    "\n",
    "print(f'Station ID: {station_id} for {result[0][\"name\"]}')"
   ]
  },
  {
   "cell_type": "code",
   "execution_count": null,
   "id": "b3021072",
   "metadata": {},
   "outputs": [],
   "source": [
    "import pandas as pd \n",
    "pd.DataFrame(result)"
   ]
  },
  {
   "cell_type": "code",
   "execution_count": null,
   "id": "3ace8db0",
   "metadata": {},
   "outputs": [],
   "source": [
    "# look up departures\n",
    "print(f'now looking for next departures from Station : {result[0][\"name\"]}...')\n",
    "\n",
    "url_dep = f'{BASE_URL}/stops/{station_id}/departures?duration={10}'\n",
    "\n",
    "# same as 'https://v6.vbb.transport.rest/stops/900013101/departures?duration={10}' but kept optional\n",
    "\n",
    "j = requests.get(url_dep).json()\n",
    "\n",
    "print(f'\\nNext connections from U {name.capitalize()}:\\n')\n",
    "\n",
    "for e in j['departures']:\n",
    "    print(e['plannedWhen'][11:-9], '  ', e['line']['name'], e['direction'])"
   ]
  },
  {
   "cell_type": "code",
   "execution_count": null,
   "id": "4ccc7e3e",
   "metadata": {},
   "outputs": [],
   "source": [
    "Calling the URL in a browser shows the structure of the response."
   ]
  },
  {
   "cell_type": "code",
   "execution_count": null,
   "id": "2228215d",
   "metadata": {},
   "outputs": [],
   "source": []
  }
 ],
 "metadata": {
  "kernelspec": {
   "display_name": "Python 3 (ipykernel)",
   "language": "python",
   "name": "python3"
  },
  "language_info": {
   "codemirror_mode": {
    "name": "ipython",
    "version": 3
   },
   "file_extension": ".py",
   "mimetype": "text/x-python",
   "name": "python",
   "nbconvert_exporter": "python",
   "pygments_lexer": "ipython3",
   "version": "3.10.9"
  }
 },
 "nbformat": 4,
 "nbformat_minor": 5
}
