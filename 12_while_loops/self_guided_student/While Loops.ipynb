{
 "cells": [
  {
   "cell_type": "markdown",
   "metadata": {},
   "source": [
    "# Looping\n",
    "\n",
    "## Objectives\n",
    "\n",
    "At the end of this notebook you should be able to:\n",
    "\n",
    "- understand the logic/structure of while-loops and for-loops (flowcharts)\n",
    "- avoid the traps of the while-loop (unintentional infinite loops)\n",
    "- have more control over loops with continue, break and pass\n",
    "\n"
   ]
  },
  {
   "cell_type": "markdown",
   "metadata": {},
   "source": [
    "\n",
    "\n",
    "\n",
    "## While Loops\n",
    "\n",
    "The `while` loop is executed as long as the conditional expression at the beginning holds (=`True`). The conditional expressions work in exactly the same way as in `if` statements. It’s up to you to make sure that at some point the conditional expression returns `False`. Otherwise your program will run forever!\n",
    "\n",
    "```python\n",
    "while condition:\n",
    "    while_block_statement\n",
    "```\n",
    "\n",
    "A `while` loop is useful if the number of repetitions is unknown at the beginning. In cases where you already know the number of iterations you should use a [`for` loop](http://localhost:1313/01-introduction-to-python/60_for_loops.md). Which will be covered later this week. \n",
    "\n"
   ]
  },
  {
   "cell_type": "code",
   "execution_count": 1,
   "metadata": {
    "ExecuteTime": {
     "end_time": "2020-02-03T13:50:55.348617Z",
     "start_time": "2020-02-03T13:50:55.343254Z"
    }
   },
   "outputs": [
    {
     "name": "stdout",
     "output_type": "stream",
     "text": [
      "1\n",
      "2\n",
      "3\n",
      "4\n",
      "5\n"
     ]
    }
   ],
   "source": [
    "number = 0\n",
    "while number < 5:\n",
    "   number += 1\n",
    "   print(number)\n",
    "\n",
    "\n",
    "# btw i = i+ 1 is the same as i += 1"
   ]
  },
  {
   "cell_type": "markdown",
   "metadata": {},
   "source": [
    "### Counting until a certain value\n",
    "A simple usage of while is to count until an exit condition is met. The following loop calculates the sum of all numbers from 1 through 10:"
   ]
  },
  {
   "cell_type": "code",
   "execution_count": 2,
   "metadata": {},
   "outputs": [
    {
     "name": "stdout",
     "output_type": "stream",
     "text": [
      "0\n",
      "1\n",
      "2\n",
      "3\n",
      "4\n",
      "5\n",
      "6\n",
      "7\n",
      "8\n",
      "9\n"
     ]
    }
   ],
   "source": [
    "i = 0\n",
    "total = 0\n",
    "while i < 10:\n",
    "    print(i)\n",
    "    i = i + 1\n",
    "    total = total + i"
   ]
  },
  {
   "cell_type": "markdown",
   "metadata": {},
   "source": [
    "### Waiting for user input\n",
    "\n",
    "With a `while` loop the code from the warmup gets much easier to read: "
   ]
  },
  {
   "cell_type": "code",
   "execution_count": 3,
   "metadata": {},
   "outputs": [
    {
     "name": "stdin",
     "output_type": "stream",
     "text": [
      "What is your name? pei\n"
     ]
    },
    {
     "name": "stdout",
     "output_type": "stream",
     "text": [
      "unauthorized name, please try again\n"
     ]
    },
    {
     "name": "stdin",
     "output_type": "stream",
     "text": [
      "What is your name? huang\n"
     ]
    },
    {
     "name": "stdout",
     "output_type": "stream",
     "text": [
      "unauthorized name, please try again\n"
     ]
    },
    {
     "name": "stdin",
     "output_type": "stream",
     "text": [
      "What is your name? Spiced\n"
     ]
    },
    {
     "name": "stdout",
     "output_type": "stream",
     "text": [
      "well done! you entered the correct name 'Spiced'\n"
     ]
    }
   ],
   "source": [
    "name = ''\n",
    "while name != 'Spiced':\n",
    "   name = input('What is your name?' )\n",
    "   if name != 'Spiced':\n",
    "      print('unauthorized name, please try again')\n",
    "   else: \n",
    "      print(\"well done! you entered the correct name 'Spiced'\")"
   ]
  },
  {
   "cell_type": "markdown",
   "metadata": {},
   "source": [
    "### Endless loops\n",
    "With while it is possible to build loops that never stop. Most of the time this happens by accident. In the following loop, the instruction to decrease `a` is missing. It runs endlessly:"
   ]
  },
  {
   "cell_type": "code",
   "execution_count": null,
   "metadata": {},
   "outputs": [],
   "source": [
    "a = 10\n",
    "b = 1\n",
    "while a > 0:\n",
    "    b = 1 - b\n",
    "    print(b)"
   ]
  },
  {
   "cell_type": "markdown",
   "metadata": {},
   "source": [
    "\n",
    "How can you fix the loop?  \n",
    "\n",
    "`Interrupt Kernel` by clicking on the play symbol on the left of your cell.\n",
    "\n",
    "For stronger groups continue on with **loop control statements** \n",
    "\n",
    "## Loop Control Statements\n",
    "\n",
    "Loop control statements change execution from its normal sequence. When  execution leaves a scope, all automatic objects that were created in  that scope are destroyed. Python supports the following control  statements."
   ]
  },
  {
   "cell_type": "markdown",
   "metadata": {},
   "source": [
    "\n",
    "#### Continue Statement\n",
    "\n",
    "The python continue statement returns the control to the beginning of the loop"
   ]
  },
  {
   "cell_type": "code",
   "execution_count": null,
   "metadata": {},
   "outputs": [],
   "source": [
    "i = 0\n",
    "name = 'spicedacademy'"
   ]
  },
  {
   "cell_type": "code",
   "execution_count": null,
   "metadata": {},
   "outputs": [],
   "source": [
    "len(name)"
   ]
  },
  {
   "cell_type": "code",
   "execution_count": 7,
   "metadata": {},
   "outputs": [
    {
     "name": "stdout",
     "output_type": "stream",
     "text": [
      "Current Letter : p\n",
      "Current Letter : i\n",
      "Current Letter : c\n",
      "Current Letter : d\n",
      "Current Letter : a\n",
      "Current Letter : c\n",
      "Current Letter : a\n",
      "Current Letter : d\n",
      "Current Letter : m\n",
      "Current Letter : y\n"
     ]
    }
   ],
   "source": [
    "# Prints all letters except 'e' and 's'\n",
    "i = 0\n",
    "a = 'spicedacademy'\n",
    " \n",
    "while i < len(a):\n",
    "    if a[i] == 'e' or a[i] == 's':\n",
    "        i += 1\n",
    "        continue\n",
    "         \n",
    "    print('Current Letter :', a[i])\n",
    "    i += 1"
   ]
  },
  {
   "cell_type": "markdown",
   "metadata": {},
   "source": [
    "#### Break Statement\n",
    "\n",
    "The python break statement brings control out of the loop."
   ]
  },
  {
   "cell_type": "code",
   "execution_count": 12,
   "metadata": {},
   "outputs": [
    {
     "name": "stdout",
     "output_type": "stream",
     "text": [
      "Current Letter : s\n"
     ]
    }
   ],
   "source": [
    "# break the loop as soon it sees 'e'\n",
    "# or 's'\n",
    "i = 0\n",
    "a = 'spicedacademy'\n",
    " \n",
    "while i < len(a):\n",
    "    if a[i] == 'e' or a[i] == 'p':\n",
    "        i += 1\n",
    "        break\n",
    "         \n",
    "    print('Current Letter :', a[i])\n",
    "    i += 1"
   ]
  },
  {
   "cell_type": "markdown",
   "metadata": {},
   "source": [
    "#### Pass statement\n",
    "\n",
    "For writing empty loops. Can also be used for empty functions and classes."
   ]
  },
  {
   "cell_type": "code",
   "execution_count": null,
   "metadata": {},
   "outputs": [],
   "source": [
    "# An empty loop\n",
    "a = 'spicedacademy'\n",
    "i = 0\n",
    " \n",
    "while i < len(a):\n",
    "    i += 1\n",
    "    pass\n",
    "   \n",
    "print('Value of i :', i)"
   ]
  }
 ],
 "metadata": {
  "kernelspec": {
   "display_name": "Python 3 (ipykernel)",
   "language": "python",
   "name": "python3"
  },
  "language_info": {
   "codemirror_mode": {
    "name": "ipython",
    "version": 3
   },
   "file_extension": ".py",
   "mimetype": "text/x-python",
   "name": "python",
   "nbconvert_exporter": "python",
   "pygments_lexer": "ipython3",
   "version": "3.12.3"
  },
  "toc": {
   "base_numbering": 1,
   "nav_menu": {},
   "number_sections": true,
   "sideBar": true,
   "skip_h1_title": false,
   "title_cell": "Table of Contents",
   "title_sidebar": "Contents",
   "toc_cell": false,
   "toc_position": {},
   "toc_section_display": true,
   "toc_window_display": false
  },
  "varInspector": {
   "cols": {
    "lenName": 16,
    "lenType": 16,
    "lenVar": 40
   },
   "kernels_config": {
    "python": {
     "delete_cmd_postfix": "",
     "delete_cmd_prefix": "del ",
     "library": "var_list.py",
     "varRefreshCmd": "print(var_dic_list())"
    },
    "r": {
     "delete_cmd_postfix": ") ",
     "delete_cmd_prefix": "rm(",
     "library": "var_list.r",
     "varRefreshCmd": "cat(var_dic_list()) "
    }
   },
   "types_to_exclude": [
    "module",
    "function",
    "builtin_function_or_method",
    "instance",
    "_Feature"
   ],
   "window_display": false
  }
 },
 "nbformat": 4,
 "nbformat_minor": 4
}
