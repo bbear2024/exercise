{
 "cells": [
  {
   "cell_type": "markdown",
   "metadata": {},
   "source": [
    "# Simple Linear Regression Exercise\n",
    "\n",
    "In this notebook you will implement a linear regression model in Python. \n",
    "\n",
    "**Objectives**  \n",
    "At the end of the notebook you should be able to:\n",
    "- define the relationship between two variables\n",
    "- define the concepts of intercept and slope\n",
    "- reproduce the equation of Linear Regression\n",
    "- explain the concept behind OLS\n",
    "- build a Linear Regression model with the statsmodels module in Python\n",
    "- interpret the output of a Linear Regression model built with the statsmodels module"
   ]
  },
  {
   "cell_type": "markdown",
   "metadata": {},
   "source": [
    "**Task 1**  \n",
    "Let's look at a dataset which is about Car seats. It includes the sales of child car seats at 400 different stores.\n",
    "You can find the data in the data folder ('data/Carseats.csv').\n",
    "\n",
    "It contains 400 observations for 400 different stores on the following 11 variables:\n",
    "\n",
    "```\n",
    "Sales:         Unit sales (in thousands) at each location\n",
    "CompPrice:     Price charged by competitor at each location\n",
    "Income:        Community income level (in thousands of dollars)\n",
    "Advertising:   Local advertising budget for company at each location (in thousands of dollars)\n",
    "Population:    Population size in region (in thousands)\n",
    "Price:         Price company charges for car seats at each site\n",
    "ShelveLoc:     A factor with levels Bad, Good and Medium indicating the quality of the shelving location\n",
    "for the car seats at each site\n",
    "Age:           Average age of the local population\n",
    "Education:     Education level at each location\n",
    "Urban:         A factor with levels No and Yes to indicate whether the store is in an urban or rural location\n",
    "US:            A factor with levels No and Yes to indicate whether the store is in the US or not\n",
    "```\n",
    "\n",
    "-----\n",
    "**Task**  \n",
    "A company that makes these carseats want to predict their sales -  based on different factors. \n",
    "\n",
    "As you may see, there a many variables which you could include to help the company in redicting their sales. However, at this point we want to focus on one variable.  \n",
    "**Your task is, to use the variable price as independent variable to predict Sales (nr of sales).**"
   ]
  },
  {
   "cell_type": "markdown",
   "metadata": {},
   "source": [
    "\n",
    "Import all necessary libraries and read in the data:"
   ]
  },
  {
   "cell_type": "code",
   "execution_count": null,
   "metadata": {
    "collapsed": true,
    "jupyter": {
     "outputs_hidden": true
    }
   },
   "outputs": [],
   "source": [
    "import pandas as pd\n",
    "import statsmodels.api as sms\n",
    "import seaborn as sns\n",
    "import matplotlib.pyplot as plt"
   ]
  },
  {
   "cell_type": "markdown",
   "metadata": {},
   "source": [
    "1. Read in carseats data and get an overview of the data."
   ]
  },
  {
   "cell_type": "code",
   "execution_count": null,
   "metadata": {},
   "outputs": [],
   "source": [
    "\n"
   ]
  },
  {
   "cell_type": "markdown",
   "metadata": {},
   "source": [
    "2.a) Create scatterplot showing the relationship between price and Sales.\n"
   ]
  },
  {
   "cell_type": "code",
   "execution_count": null,
   "metadata": {},
   "outputs": [],
   "source": []
  },
  {
   "cell_type": "markdown",
   "metadata": {},
   "source": [
    "2.b) From visual inspection, what is the relationship between the variables?"
   ]
  },
  {
   "cell_type": "code",
   "execution_count": null,
   "metadata": {},
   "outputs": [],
   "source": []
  },
  {
   "cell_type": "markdown",
   "metadata": {},
   "source": [
    "2.c) Which other variables could explain variance in sales? Plot them against sales.\n",
    "<br>\n",
    "<details><summary>\n",
    "Click here for a suggestion on how to easily vizualise:\n",
    "</summary>\n",
    "... there is a seaborn plot called pairplot, syntax: sns.pairplot(data)\n",
    "</details>\n"
   ]
  },
  {
   "cell_type": "markdown",
   "metadata": {},
   "source": [
    "3. Fit a simple linear regression with sales as dependent and price as independent variable using statsmodel OLS. "
   ]
  },
  {
   "cell_type": "code",
   "execution_count": null,
   "metadata": {},
   "outputs": [],
   "source": []
  },
  {
   "cell_type": "markdown",
   "metadata": {},
   "source": [
    "4.a) Print out the model summary. "
   ]
  },
  {
   "cell_type": "code",
   "execution_count": null,
   "metadata": {},
   "outputs": [],
   "source": []
  },
  {
   "cell_type": "markdown",
   "metadata": {},
   "source": [
    "4.b) What are the intercept and slope of your regression line?\n"
   ]
  },
  {
   "cell_type": "code",
   "execution_count": null,
   "metadata": {},
   "outputs": [],
   "source": []
  },
  {
   "cell_type": "markdown",
   "metadata": {},
   "source": [
    "4.c) Interpret the intercept and slope coefficients in terms the Carseats company would understand."
   ]
  },
  {
   "cell_type": "code",
   "execution_count": null,
   "metadata": {},
   "outputs": [],
   "source": []
  },
  {
   "cell_type": "markdown",
   "metadata": {},
   "source": [
    "5. Calculate and interpret the value of R_squared.  "
   ]
  },
  {
   "cell_type": "code",
   "execution_count": null,
   "metadata": {},
   "outputs": [],
   "source": []
  },
  {
   "cell_type": "markdown",
   "metadata": {},
   "source": [
    "6. What is the 95% confidence interval for the price?  "
   ]
  },
  {
   "cell_type": "code",
   "execution_count": null,
   "metadata": {},
   "outputs": [],
   "source": []
  },
  {
   "cell_type": "markdown",
   "metadata": {},
   "source": [
    "7. Is the price a significant predictor of the Carseat sales? Why or why not?"
   ]
  },
  {
   "cell_type": "code",
   "execution_count": null,
   "metadata": {},
   "outputs": [],
   "source": []
  },
  {
   "cell_type": "markdown",
   "metadata": {},
   "source": [
    "8. Use the least squares line to estimate the sales if the price of a carseat is 150$.   \n",
    "Hint:  \n",
    "model.predict(…)  \n",
    "The values you want to predict need to be located in an array together with a constant.\n"
   ]
  },
  {
   "cell_type": "code",
   "execution_count": null,
   "metadata": {},
   "outputs": [],
   "source": []
  },
  {
   "cell_type": "markdown",
   "metadata": {},
   "source": []
  }
 ],
 "metadata": {
  "anaconda-cloud": {},
  "interpreter": {
   "hash": "52746facf0ff27bba74d90023bea822bf28860e85219d052de28537e22041b59"
  },
  "kernelspec": {
   "display_name": "Python 3.8.5 64-bit ('nf_base': conda)",
   "name": "python3"
  },
  "language_info": {
   "codemirror_mode": {
    "name": "ipython",
    "version": 3
   },
   "file_extension": ".py",
   "mimetype": "text/x-python",
   "name": "python",
   "nbconvert_exporter": "python",
   "pygments_lexer": "ipython3",
   "version": "3.9.17"
  },
  "toc": {
   "base_numbering": 1,
   "nav_menu": {},
   "number_sections": true,
   "sideBar": true,
   "skip_h1_title": false,
   "title_cell": "Table of Contents",
   "title_sidebar": "Contents",
   "toc_cell": false,
   "toc_position": {},
   "toc_section_display": true,
   "toc_window_display": false
  },
  "varInspector": {
   "cols": {
    "lenName": 16,
    "lenType": 16,
    "lenVar": 40
   },
   "kernels_config": {
    "python": {
     "delete_cmd_postfix": "",
     "delete_cmd_prefix": "del ",
     "library": "var_list.py",
     "varRefreshCmd": "print(var_dic_list())"
    },
    "r": {
     "delete_cmd_postfix": ") ",
     "delete_cmd_prefix": "rm(",
     "library": "var_list.r",
     "varRefreshCmd": "cat(var_dic_list()) "
    }
   },
   "types_to_exclude": [
    "module",
    "function",
    "builtin_function_or_method",
    "instance",
    "_Feature"
   ],
   "window_display": false
  }
 },
 "nbformat": 4,
 "nbformat_minor": 4
}
