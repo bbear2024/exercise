{
 "cells": [
  {
   "cell_type": "markdown",
   "id": "c4bc2c45",
   "metadata": {},
   "source": [
    "# <font color=\"green\">Methods, Functions and Attributes</font>\n"
   ]
  },
  {
   "cell_type": "markdown",
   "id": "8feb4ad8",
   "metadata": {},
   "source": [
    "## Introduction to Methods, Functions, and Attributes in Pandas\n",
    "\n",
    "In the world of data analysis with Python, pandas stands out as one of the most powerful and versatile libraries. It offers a rich ecosystem of functionality designed to make data manipulation and analysis both straightforward and efficient. Central to its design are the concepts of methods, functions, and attributes, each playing a crucial role in the data analysis workflow.\n",
    "\n",
    "## Understanding the Basics\n",
    "\n",
    "- **Methods**: These are actions you can perform on pandas objects (like DataFrames and Series). Methods are invoked using dot notation and can perform operations such as filtering, grouping, and transforming data. Examples include `.groupby()`, `.merge()`, and `.sort_values()`.\n",
    "\n",
    "- **Functions**: In the context of pandas, functions are standalone procedures called by their name and can take one or more arguments, including pandas objects. Functions perform specific tasks on the data and return a result. Common pandas functions include `pd.read_csv()` for reading data into a DataFrame and `pd.to_datetime()` for converting a column to datetime format.\n",
    "\n",
    "- **Attributes**: Attributes are properties of pandas objects that you can access to gain information about the data's structure or content without modifying the data itself. They are accessed using dot notation. For instance, `DataFrame.shape` returns the dimensions of the DataFrame, and `Series.dtype` gives the data type of the Series.\n",
    "\n",
    "## The Power of Pandas\n",
    "\n",
    "Combining methods, functions, and attributes allows for a highly expressive and intuitive approach to data analysis. Whether you're reshaping your data, merging multiple datasets, or simply exploring your data's characteristics, these tools provide the foundation for a robust data analysis pipeline.\n",
    "\n",
    "In this guide, we will dive deeper into how methods, functions, and attributes are used in pandas to manipulate, analyze, and gain insights from data. Understanding these concepts is key to leveraging the full potential of pandas and becoming proficient in data analysis.\n"
   ]
  },
  {
   "cell_type": "code",
   "execution_count": null,
   "id": "a268b0c6",
   "metadata": {},
   "outputs": [],
   "source": []
  },
  {
   "cell_type": "markdown",
   "id": "b46234fb",
   "metadata": {},
   "source": [
    "## Key Pandas Functions"
   ]
  },
  {
   "cell_type": "markdown",
   "id": "7fc19d78",
   "metadata": {},
   "source": [
    "Some of the most used pandas functions:"
   ]
  },
  {
   "cell_type": "markdown",
   "id": "490eb9a4",
   "metadata": {},
   "source": [
    "\n",
    "\n",
    "- **DataFrame Creation (`pd.DataFrame(...)`):** The `DataFrame` is a two-dimensional, size-mutable, and potentially heterogeneous tabular data structure with labeled axes (rows and columns). Creating a `DataFrame` involves structuring your data into this format, allowing for more complex data manipulations.\n",
    "\n",
    "- **Series Creation (`pd.Series(...)`):** A `Series` is a one-dimensional array with labels. It can hold data of any type (integer, string, float, python objects, etc.). The `Series` creation function is fundamental for working with single-dimensional data, providing a simple yet powerful tool for data analysis.\n",
    "\n",
    "- **Reading CSV Files (`pd.read_csv(file)`):** This function is used to read a table from a CSV file into a DataFrame. It's one of the most common methods for importing data into pandas for further processing and analysis.\n",
    "\n",
    "- **Finding Unique Values (`pd.unique(values)`):** `pd.unique` returns the unique values from a one-dimensional array-like object, helping identify distinct values within a dataset. This function is crucial for data cleaning and exploration, allowing analysts to quickly understand the variety of data they are dealing with.\n",
    "\n",
    "- **Combining Data (`pd.concat([df1, df2])`):** This function is used to concatenate pandas objects along a particular axis. `pd.concat` can be used to combine Series, DataFrame, or Panel objects, providing a flexible way to add new rows or columns to your dataset.\n",
    "\n",
    "These functions are just the tip of the iceberg when it comes to pandas' capabilities. As you delve deeper into data analysis with pandas, you'll discover a rich ecosystem of tools designed to tackle virtually any data manipulation task."
   ]
  },
  {
   "cell_type": "markdown",
   "id": "a4599787",
   "metadata": {},
   "source": [
    "#### Example: `pd.read_csv()` \n",
    "\n",
    "The `pd.read_csv()` function is a fundamental tool in pandas for importing data from CSV files into pandas DataFrames. Here's a closer look at how it works and its significance:\n",
    "\n",
    "- **Required Parameter**: The primary parameter for `pd.read_csv()` is `filepath_or_buffer`. This argument expects a string that represents the file path or URL to the CSV file you intend to read.\n",
    "\n",
    "- **Standalone Function**: Unlike methods that need to be called on an object, `pd.read_csv()` is a standalone function. It doesn't depend on any prior object instantiation and can be used directly after importing pandas.\n",
    "\n",
    "- **Functionality**: At its core, `pd.read_csv()` is designed to take a file path as input and return a DataFrame. This DataFrame represents the data contained within the CSV file, structured in a tabular format that is easy to manipulate and analyze within pandas.\n",
    "\n",
    "- **Location within Pandas**: This function is part of the pandas library's top-level namespace. Once you've imported pandas (typically as `pd`), `pd.read_csv()` is readily accessible and ready to transform your CSV data into a powerful DataFrame for analysis.\n",
    "\n",
    "This function is crucial for data scientists and analysts who often work with data stored in CSV format, providing a seamless bridge between raw data files and the robust analytical capabilities of pandas."
   ]
  },
  {
   "cell_type": "code",
   "execution_count": null,
   "id": "26fe308f",
   "metadata": {},
   "outputs": [],
   "source": [
    "import pandas as pd\n",
    "import pandas"
   ]
  },
  {
   "cell_type": "code",
   "execution_count": null,
   "id": "4914ebab",
   "metadata": {},
   "outputs": [],
   "source": [
    "# let's pass a relative filepath to the large_countries_2015.csv \n",
    "\n",
    "pd.read_csv('./data/large_countries_2015.csv') "
   ]
  },
  {
   "cell_type": "code",
   "execution_count": null,
   "id": "67cc3803",
   "metadata": {},
   "outputs": [],
   "source": [
    "# Save the dataframe in a variable\n",
    "\n",
    "df = pd.read_csv('./data/large_countries_2015.csv') "
   ]
  },
  {
   "cell_type": "code",
   "execution_count": null,
   "id": "5006e9a7",
   "metadata": {
    "collapsed": true,
    "jupyter": {
     "outputs_hidden": true
    }
   },
   "outputs": [],
   "source": [
    "df"
   ]
  },
  {
   "cell_type": "markdown",
   "id": "96bb3fa5",
   "metadata": {},
   "source": [
    "### Other function examples"
   ]
  },
  {
   "cell_type": "markdown",
   "id": "16cfa437",
   "metadata": {},
   "source": [
    "The **len()** function is a built-in Python function that returns the number of items in an object. When you apply **len()** to a container object (like a list, tuple, string, dictionary, or set), it counts and returns the total number of elements within that object. Here's a breakdown of how it works with different types of objects:"
   ]
  },
  {
   "cell_type": "code",
   "execution_count": null,
   "id": "dcecb34b",
   "metadata": {},
   "outputs": [],
   "source": [
    "\n",
    "\n",
    "len(df)\n"
   ]
  },
  {
   "cell_type": "code",
   "execution_count": null,
   "id": "b18f6e3a",
   "metadata": {},
   "outputs": [],
   "source": [
    "# what if we run the function without the parantheses?\n",
    "\n",
    "len"
   ]
  },
  {
   "cell_type": "code",
   "execution_count": null,
   "id": "15179463",
   "metadata": {},
   "outputs": [],
   "source": [
    "# save it in also a variable\n",
    "\n",
    "length_df = len(df)\n"
   ]
  },
  {
   "cell_type": "code",
   "execution_count": null,
   "id": "6b1930fc",
   "metadata": {},
   "outputs": [],
   "source": [
    "length_df"
   ]
  },
  {
   "cell_type": "markdown",
   "id": "c47da6f2",
   "metadata": {},
   "source": [
    "Python built-in functions: https://docs.python.org/3/library/functions.html"
   ]
  },
  {
   "cell_type": "markdown",
   "id": "3f248d9a",
   "metadata": {},
   "source": [
    "### Functions related to packages and libraries"
   ]
  },
  {
   "cell_type": "code",
   "execution_count": null,
   "id": "04f0ab13",
   "metadata": {},
   "outputs": [],
   "source": [
    "# pd.DataFrame() from a dictionary\n",
    "\n",
    "pd.DataFrame(\n",
    "    {'a':[1,2,3],\n",
    "     'b':[4,5,6]\n",
    "    }\n",
    ")"
   ]
  },
  {
   "cell_type": "code",
   "execution_count": null,
   "id": "80411132",
   "metadata": {},
   "outputs": [],
   "source": [
    "# pd.Series() from a list\n",
    "\n",
    "pd.Series([1,2,3,4,5,6])\n"
   ]
  },
  {
   "cell_type": "code",
   "execution_count": null,
   "id": "e9d38ae3",
   "metadata": {},
   "outputs": [],
   "source": []
  },
  {
   "cell_type": "markdown",
   "id": "11406fa9",
   "metadata": {},
   "source": [
    "**Comments:**\n",
    "- python has built in functions as we have seen in the functions encounter (len, sum, input, ...)\n",
    "- most python libraries have functions \n",
    "- custom functions can be written by the coders to make their job easier"
   ]
  },
  {
   "cell_type": "markdown",
   "id": "1ea0e8da",
   "metadata": {},
   "source": [
    "## 2. Methods\n",
    "\n",
    "In Python, methods are functions that are associated with objects and can access and modify the state of those objects. Unlike standalone functions, methods are invoked on specific instances of classes, allowing for object-oriented programming practices. Here's a closer look at the characteristics of methods:\n",
    "\n",
    "- **Association with Objects**: Methods are inherently tied to the objects on which they are called. This association means that a method is always attached to an object's class and is accessed through the object itself. For instance, if you have a list object named `my_list`, you can call its method `append` by using `my_list.append(item)`.\n",
    "\n",
    "- **Access to Object State**: One of the key features of methods is their ability to interact with the object's state (its attributes or properties). Since methods are part of an object's definition, they have direct access to other attributes and methods of the object. This allows them to read the object's current state, modify it, or even call other methods of the same object to perform operations.\n",
    "\n",
    "- **Syntax and Calling Convention**: Methods are called by specifying the object name followed by a dot (`.`) and the method name. Any parameters the method requires are passed inside parentheses. This syntax emphasizes the method's connection to the object. For example, `object.method(param1, param2)`.\n",
    "\n",
    "- **Self Parameter**: In the method definition within a class, the first parameter is often `self`, which is a reference to the instance on which the method is called. This mechanism allows the method to access and manipulate the instance's attributes and call other methods within the same object.\n",
    "\n",
    "- **Enhances Encapsulation**: By allowing methods to operate on the data within the object they belong to, Python reinforces the principle of encapsulation. This design hides the internal state of an object from the outside world and only exposes operations (methods) that are safe for the object's integrity.\n",
    "\n",
    "In summary, methods are a fundamental part of Python's approach to object-oriented programming, enabling interactions with and between objects through a well-defined interface of actions that objects can perform or have performed on them.\n"
   ]
  },
  {
   "cell_type": "markdown",
   "id": "5d3f2187",
   "metadata": {},
   "source": [
    "The difference between a method and a function is that a function is given data to perform a transformation upon and a method performs the transformation on a defined object it is associated with. In this case that object would be a pandas DataFrame."
   ]
  },
  {
   "cell_type": "markdown",
   "id": "d67fc4cc",
   "metadata": {},
   "source": [
    "## Key Pandas Methods"
   ]
  },
  {
   "cell_type": "markdown",
   "id": "b8d33812",
   "metadata": {},
   "source": [
    "| Command               | Description                                             |\n",
    "|-----------------------|---------------------------------------------------------|\n",
    "| `df.to_csv(file)`     | Write a table to disk.                                  |\n",
    "| `df.sum()`            | Returns the sum of the values over the requested axis.  |\n",
    "| `df.sort_values()`    | Sorts by the values along either axis.                  |\n",
    "| `df.count()`          | Returns count of non-NA cells for each column or row.   |\n",
    "| `df.nunique()`        | Returns the number of unique values in a Series or DataFrame. |\n",
    "| `df['col'].str.len()` | Returns the length of each string in pandas Series.     |\n"
   ]
  },
  {
   "cell_type": "markdown",
   "id": "5e07668a",
   "metadata": {},
   "source": [
    "### Notes:\n",
    "\n",
    "When applying python string methods to pandas Series the method must be preceded by .str accessor in order for the method to be called correctly\n",
    "Keep in mind that many but not all pandasmethods can be applied to pandas DataFrames and Series"
   ]
  },
  {
   "cell_type": "markdown",
   "id": "8ccb63dd",
   "metadata": {},
   "source": [
    "In our example `df` is the object in question. `df` is a dataframe object. It is a small dataframe and like every object in python is constrained by the architecture of it's datatype"
   ]
  },
  {
   "cell_type": "code",
   "execution_count": null,
   "id": "09912cd7",
   "metadata": {},
   "outputs": [],
   "source": [
    "# what is the datatype of df?\n",
    "\n",
    "type(df)\n"
   ]
  },
  {
   "cell_type": "markdown",
   "id": "5a6cced5",
   "metadata": {},
   "source": [
    "If the variable name of an object is typed out in jupyter notebook and a period afterwards the user can push the tab key to get a dropdown like menu of all the available methods and attributes. Try it below"
   ]
  },
  {
   "cell_type": "code",
   "execution_count": null,
   "id": "239608a1",
   "metadata": {},
   "outputs": [],
   "source": [
    "df."
   ]
  },
  {
   "cell_type": "code",
   "execution_count": null,
   "id": "73bc838c",
   "metadata": {},
   "outputs": [],
   "source": [
    "pandas."
   ]
  },
  {
   "cell_type": "markdown",
   "id": "3b707006",
   "metadata": {},
   "source": [
    "### Inspect the content of the dataframe"
   ]
  },
  {
   "cell_type": "code",
   "execution_count": null,
   "id": "f3575307",
   "metadata": {},
   "outputs": [],
   "source": [
    "# display the first few rows\n",
    "\n",
    "df.head()\n"
   ]
  },
  {
   "cell_type": "code",
   "execution_count": null,
   "id": "5ac250f2",
   "metadata": {},
   "outputs": [],
   "source": [
    "# display a few random rows\n",
    "\n",
    "df.sample(4)"
   ]
  },
  {
   "cell_type": "markdown",
   "id": "9fb357ae",
   "metadata": {},
   "source": [
    "Now execute one of the methods on the object such as `.sum()`"
   ]
  },
  {
   "cell_type": "code",
   "execution_count": null,
   "id": "29277329",
   "metadata": {},
   "outputs": [],
   "source": [
    "# sum the values from the dataframe\n",
    "\n",
    "df.sum()"
   ]
  },
  {
   "cell_type": "code",
   "execution_count": null,
   "id": "e37c55c4",
   "metadata": {},
   "outputs": [],
   "source": [
    "'Name'+'Surname'"
   ]
  },
  {
   "cell_type": "markdown",
   "id": "0cc2d478",
   "metadata": {},
   "source": [
    "The `.sum()` method adds up the total of each column. In the cases of the strings it concatenates them together. What is important to see here is that a method performs an opertaion on the object it is associated with."
   ]
  },
  {
   "cell_type": "code",
   "execution_count": null,
   "id": "4ebfe0ab",
   "metadata": {},
   "outputs": [],
   "source": [
    "# what is the overall population?\n",
    "\n",
    "df['population'].sum()"
   ]
  },
  {
   "cell_type": "markdown",
   "id": "6d4a6a6a",
   "metadata": {},
   "source": [
    "### String methods \n",
    "\n"
   ]
  },
  {
   "cell_type": "code",
   "execution_count": null,
   "id": "e90f7315",
   "metadata": {},
   "outputs": [],
   "source": [
    "# get the length of each of the country names\n",
    "\n",
    "df['continent'].str.len()"
   ]
  },
  {
   "cell_type": "code",
   "execution_count": null,
   "id": "bf57b295",
   "metadata": {},
   "outputs": [],
   "source": [
    "# assign this information as a new column\n",
    "\n",
    "df['continent_len']  =  df['continent'].str.len()"
   ]
  },
  {
   "cell_type": "code",
   "execution_count": null,
   "id": "828e7623",
   "metadata": {},
   "outputs": [],
   "source": [
    "df"
   ]
  },
  {
   "cell_type": "markdown",
   "id": "6ac68aa4",
   "metadata": {},
   "source": [
    "### Saving your data to a file"
   ]
  },
  {
   "cell_type": "code",
   "execution_count": null,
   "id": "846c7bd8",
   "metadata": {},
   "outputs": [],
   "source": [
    "# save your data to a file\n",
    "\n",
    "df.to_csv('new_table.csv', header=False, index=False)"
   ]
  },
  {
   "cell_type": "markdown",
   "id": "9dfa2baa",
   "metadata": {},
   "source": [
    "## 3. Attributes\n",
    "\n",
    "\n",
    "\n",
    "Attributes in Python play a crucial role in representing the properties or characteristics of an object. They are fundamentally different from methods, focusing on providing information rather than performing actions. Below are the key aspects of attributes, particularly within the pandas library context, which is widely used for data manipulation and analysis.\n",
    "\n",
    "## Nature of Attributes\n",
    "\n",
    "- **What They Are**: Attributes are data values tied to a specific object. They encapsulate the properties or state of an object, offering insights into its characteristics without altering it.\n",
    "- **Example in pandas**: In a pandas DataFrame, an attribute like `shape` indicates the DataFrame's dimensions, providing the number of rows and columns. This insight is essential for understanding the data structure you're working with.\n",
    "\n",
    "## Accessing Attributes\n",
    "\n",
    "- **How to Access**: Attributes are accessed using dot notation but, importantly, without parentheses. This distinction from method calls is crucial because attributes are not functions and do not accept parameters.\n",
    "- **Dot Notation**: Accessing an attribute looks like `object.attribute`, where `object` is your specific Python object (like a DataFrame) and `attribute` is the property you wish to retrieve.\n",
    "\n",
    "## Example - DataFrame.`shape` Attribute\n",
    "\n",
    "- **Utility**: The `shape` attribute of a pandas DataFrame returns a tuple representing the DataFrame's size as `(rows, columns)`. It is a direct way to get the DataFrame's dimensions.\n",
    "- **Usage**: You can access this attribute as `df.shape` for a DataFrame named `df`. This provides a simple yet effective insight into how large the DataFrame is, facilitating further data processing or analysis decisions.\n",
    "\n",
    "In summary, attributes are a foundational concept in Python, allowing for a clear delineation between the actions an object can perform (methods) and the information it holds (attributes). This distinction is vital in data analysis workflows, especially when working with complex structures like pandas DataFrames.\n",
    "\n",
    "\n"
   ]
  },
  {
   "cell_type": "markdown",
   "id": "3ee0f2d9",
   "metadata": {},
   "source": [
    "## Key Pandas attributes"
   ]
  },
  {
   "cell_type": "markdown",
   "id": "463a7df6",
   "metadata": {},
   "source": [
    "| Command           | Description                                                  |\n",
    "|-------------------|--------------------------------------------------------------|\n",
    "| df.shape          | returns tuple representing the dimensionality of the DataFrame |\n",
    "| df.index          | returns the index as an array-like object                    |\n",
    "| df.columns        | returns the column index as an array-like object             |\n",
    "| df.dtypes         | returns the data types in the DataFrame                      |\n",
    "| df.values         | returns the values of the DataFrame as an array-like object  |\n",
    "| df.ndim           | returns an integer representing the number of axes            |\n"
   ]
  },
  {
   "cell_type": "markdown",
   "id": "31208439",
   "metadata": {},
   "source": [
    "Functions, methods and attributes all depend on how the developers of a language or library program and design it. In the case of pandas the developers use Object Oriented Programming and instilled all three options for the users."
   ]
  },
  {
   "cell_type": "code",
   "execution_count": null,
   "id": "ec880944",
   "metadata": {},
   "outputs": [],
   "source": [
    "# let's describe our dataframe: what is the shape?\n",
    "\n",
    "df.shape"
   ]
  },
  {
   "cell_type": "code",
   "execution_count": null,
   "id": "cb0b9033",
   "metadata": {},
   "outputs": [],
   "source": [
    "# what is the size? and how to interpret it?\n",
    "\n",
    "df.size"
   ]
  },
  {
   "cell_type": "code",
   "execution_count": null,
   "id": "dfa44381",
   "metadata": {},
   "outputs": [],
   "source": [
    "# what are the column names?\n",
    "\n",
    "df.columns"
   ]
  },
  {
   "cell_type": "code",
   "execution_count": null,
   "id": "57654b37",
   "metadata": {},
   "outputs": [],
   "source": [
    "df.info() \n",
    "# this is a method though, it performs some functionality \n",
    "# on the object DataFrame and returns as summarized information"
   ]
  },
  {
   "cell_type": "code",
   "execution_count": null,
   "id": "e47191e9",
   "metadata": {},
   "outputs": [],
   "source": []
  }
 ],
 "metadata": {
  "kernelspec": {
   "display_name": "Python 3 (ipykernel)",
   "language": "python",
   "name": "python3"
  },
  "language_info": {
   "codemirror_mode": {
    "name": "ipython",
    "version": 3
   },
   "file_extension": ".py",
   "mimetype": "text/x-python",
   "name": "python",
   "nbconvert_exporter": "python",
   "pygments_lexer": "ipython3",
   "version": "3.11.5"
  }
 },
 "nbformat": 4,
 "nbformat_minor": 5
}
