{
 "cells": [
  {
   "cell_type": "markdown",
   "id": "d8f08c2b",
   "metadata": {},
   "source": [
    "### Clean dataset on stolen bikes.\n"
   ]
  },
  {
   "cell_type": "code",
   "execution_count": null,
   "id": "d74a4514",
   "metadata": {},
   "outputs": [],
   "source": [
    "# standard import of pandas\n",
    "import pandas as pd"
   ]
  },
  {
   "cell_type": "markdown",
   "id": "b0f8afee",
   "metadata": {},
   "source": [
    "## Loading the first dataset\n",
    "The data we'll use is data on bicycle theft crimes at the granular level of Berlin city planning areas, so-called \"LOR\" - \"Lebensweltlich orientierte Räume\", we will stumble over it again later!  \n",
    "This data is provided by Berlin Open Data and collected by the police of Berlin.  \n",
    "\n",
    "### The goal for later: To be able to identify areas in Berlin with the most bike thefts or the highest theft amounts  \n",
    "### The goal for today: clean this dataset to prepare it for our data analysis\n",
    "\n",
    "First things first: We make the data accessible just by loading the .csv-file into a dataframe and get an overview.\n",
    "\n",
    "[Website to datatset -  daten.berlin.de](https://daten.berlin.de/datensaetze/fahrraddiebstahl-berlin)\n",
    "\n",
    "- Licence:\n",
    "    - Creative Commons Namensnennung CC-BY License\n",
    "- Geographical Granularity: \n",
    "    - Berlin\n",
    "- Publisher: \n",
    "    - Polizei Berlin LKA St 14\n",
    "- E Mail: \n",
    "    - onlineredaktion@polizei.berlin.de"
   ]
  },
  {
   "cell_type": "code",
   "execution_count": null,
   "id": "fe484d4e",
   "metadata": {},
   "outputs": [],
   "source": [
    "# proper encoding is necessary here!\n",
    "thefts_df_raw = pd.read_csv('./data/Fahrraddiebstahl.csv', encoding='latin-1') \n",
    "thefts_df_raw\n"
   ]
  },
  {
   "cell_type": "code",
   "execution_count": null,
   "id": "a2597902",
   "metadata": {},
   "outputs": [],
   "source": [
    "\n",
    " # make column names lowercase\n",
    "thefts_df_raw.columns = thefts_df_raw.columns.str.lower() \n",
    "\n",
    "thefts_df_raw.head(2)"
   ]
  },
  {
   "cell_type": "code",
   "execution_count": null,
   "id": "8ad79892",
   "metadata": {},
   "outputs": [],
   "source": [
    "# what's the shape, the observations, datatypes and null-counts?\n",
    "thefts_df_raw.shape\n"
   ]
  },
  {
   "cell_type": "code",
   "execution_count": null,
   "id": "39a5c19a",
   "metadata": {},
   "outputs": [],
   "source": [
    "thefts_df_raw.info()"
   ]
  },
  {
   "cell_type": "markdown",
   "id": "6a6ba7f3",
   "metadata": {},
   "source": [
    "Let's think about cleaning our data:\n",
    "\n",
    "- drop duplicates? inspect!\n",
    "- drop column 'angelegt_am' and 'erfassungsgrund' - irrelevant to us\n",
    "- column 'versuch': inspect!  \n",
    "- column 'tatzeit_anfang_datum': change date string to datetime format  \n",
    "- column 'tatzeit_anfang_ende': change date string to datetime format"
   ]
  },
  {
   "cell_type": "code",
   "execution_count": null,
   "id": "3a304929",
   "metadata": {},
   "outputs": [],
   "source": [
    "# inspect duplicates\n",
    "duplicates = thefts_df_raw[thefts_df_raw.duplicated(keep=False)]"
   ]
  },
  {
   "cell_type": "code",
   "execution_count": null,
   "id": "cb2a0f0e",
   "metadata": {},
   "outputs": [],
   "source": [
    "duplicates"
   ]
  },
  {
   "cell_type": "code",
   "execution_count": null,
   "id": "f990eca3",
   "metadata": {},
   "outputs": [],
   "source": [
    "# inspect duplicates\n",
    "duplicates.sort_values(by=['tatzeit_anfang_datum', 'schadenshoehe'])\\\n",
    "    .tail(6)"
   ]
  },
  {
   "cell_type": "code",
   "execution_count": null,
   "id": "76e0370f",
   "metadata": {},
   "outputs": [],
   "source": [
    "# inspect duplicates\n",
    "duplicates.sort_values(by=['tatzeit_anfang_datum', 'schadenshoehe'])"
   ]
  },
  {
   "cell_type": "code",
   "execution_count": null,
   "id": "1ff54be1",
   "metadata": {},
   "outputs": [],
   "source": [
    "# total nr of duplicates\n",
    "len(duplicates)"
   ]
  },
  {
   "cell_type": "code",
   "execution_count": null,
   "id": "82f13222",
   "metadata": {},
   "outputs": [],
   "source": [
    "# the specifications of the duplicates indicate that they are implausible, so we drop them.\n",
    "# drop duplicates and assign result to a new dataframe called 'thefts_df_dedup'\n",
    "\n",
    "thefts_df_dedup = thefts_df_raw.drop_duplicates()\n"
   ]
  },
  {
   "cell_type": "code",
   "execution_count": null,
   "id": "76822aa7",
   "metadata": {},
   "outputs": [],
   "source": [
    "thefts_df_dedup"
   ]
  },
  {
   "cell_type": "code",
   "execution_count": null,
   "id": "d360c36d",
   "metadata": {},
   "outputs": [],
   "source": [
    "# Always double check your results\n",
    "print('thefts_df_raw count: '+str(len(thefts_df_raw)))\n",
    "print('thefts_df_dedup: '+ str(len(thefts_df_dedup)))\n",
    "print('difference: '+ str(len(thefts_df_raw)-len(thefts_df_dedup)))\n"
   ]
  },
  {
   "cell_type": "code",
   "execution_count": null,
   "id": "3247b642",
   "metadata": {},
   "outputs": [],
   "source": [
    "# does this match with our duplicates?\n",
    "# the 96 means there were 96 duplicated rows deleted\n",
    "print('nr of duplicates: '+ str(len(duplicates)))\n",
    "print('nr of unique rows in duplicates: '+ str(len(duplicates.drop_duplicates())))\n",
    "print('nr of duplicated rows in duplicates: '+ str(len(duplicates)-len(duplicates.drop_duplicates())))\n"
   ]
  },
  {
   "cell_type": "markdown",
   "id": "a4372bbb",
   "metadata": {},
   "source": [
    "do the numbers make sense to you? "
   ]
  },
  {
   "cell_type": "code",
   "execution_count": null,
   "id": "091af5c6",
   "metadata": {},
   "outputs": [],
   "source": [
    "# in worst case, if this is really confusing, you can download and double check manually in Excel\n",
    "# thefts_df_raw[thefts_df_raw.duplicated(keep=False)]\\\n",
    "#     .sort_values(by=['tatzeit_anfang_datum', 'schadenshoehe'])\\\n",
    "#         .to_csv('./check.csv')"
   ]
  },
  {
   "cell_type": "markdown",
   "id": "60814381",
   "metadata": {},
   "source": [
    "...if yes, let's continue.."
   ]
  },
  {
   "cell_type": "code",
   "execution_count": 42,
   "id": "c8e8b80c",
   "metadata": {},
   "outputs": [
    {
     "data": {
      "text/plain": [
       "Index(['tatzeit_anfang_datum', 'tatzeit_anfang_stunde', 'tatzeit_ende_datum',\n",
       "       'tatzeit_ende_stunde', 'lor', 'schadenshoehe', 'versuch',\n",
       "       'art_des_fahrrads', 'delikt'],\n",
       "      dtype='object')"
      ]
     },
     "execution_count": 42,
     "metadata": {},
     "output_type": "execute_result"
    }
   ],
   "source": [
    "# drop column 'angelegt_am' and 'erfassungsgrund' - irrelevant to us, when and why observation got added to the database.\n",
    "thefts_df_dedup.columns"
   ]
  },
  {
   "cell_type": "code",
   "execution_count": 41,
   "id": "bda249ad",
   "metadata": {},
   "outputs": [],
   "source": [
    "thefts_df_dedup = thefts_df_dedup.drop(columns=['angelegt_am','erfassungsgrund'])"
   ]
  },
  {
   "cell_type": "code",
   "execution_count": 43,
   "id": "79de75b5",
   "metadata": {},
   "outputs": [
    {
     "data": {
      "text/plain": [
       "array(['Nein', 'Ja', 'Unbekannt'], dtype=object)"
      ]
     },
     "execution_count": 43,
     "metadata": {},
     "output_type": "execute_result"
    }
   ],
   "source": [
    "# how many unique values holds the column of the attempts?\n",
    "# look up 'unique()' and try to understand what it's doing\n",
    "\n",
    "thefts_df_dedup.versuch.unique()"
   ]
  },
  {
   "cell_type": "code",
   "execution_count": 38,
   "id": "1afe49a7",
   "metadata": {},
   "outputs": [
    {
     "data": {
      "text/plain": [
       "array(['Nein', 'Ja', 'Unbekannt'], dtype=object)"
      ]
     },
     "execution_count": 38,
     "metadata": {},
     "output_type": "execute_result"
    }
   ],
   "source": [
    "# how many unique values holds the column of the attempts?\n",
    "# look up 'unique()' and try to understand what it's doing\n",
    "\n",
    "thefts_df_dedup['versuch'].unique()"
   ]
  },
  {
   "cell_type": "code",
   "execution_count": 40,
   "id": "e3dcf4ec",
   "metadata": {},
   "outputs": [
    {
     "data": {
      "text/plain": [
       "versuch\n",
       "Nein         39137\n",
       "Ja             167\n",
       "Unbekannt        7\n",
       "Name: count, dtype: int64"
      ]
     },
     "execution_count": 40,
     "metadata": {},
     "output_type": "execute_result"
    }
   ],
   "source": [
    "# and what is the count of those categories?\n",
    "# look up 'value_counts()' and try to understand what it's doing\n",
    "\n",
    "thefts_df_dedup.versuch.value_counts()"
   ]
  },
  {
   "cell_type": "code",
   "execution_count": 52,
   "id": "e483cb8b",
   "metadata": {},
   "outputs": [],
   "source": [
    "# we have just 167 attempts and 7 thefts of unknown state in our dataset, so we decide to drop those observations.\n",
    "conditions = thefts_df_dedup.versuch == 'Nein'\n",
    "thefts_df_dedup = thefts_df_dedup[conditions]"
   ]
  },
  {
   "cell_type": "code",
   "execution_count": 54,
   "id": "ea6fd75c",
   "metadata": {},
   "outputs": [
    {
     "data": {
      "text/html": [
       "<div>\n",
       "<style scoped>\n",
       "    .dataframe tbody tr th:only-of-type {\n",
       "        vertical-align: middle;\n",
       "    }\n",
       "\n",
       "    .dataframe tbody tr th {\n",
       "        vertical-align: top;\n",
       "    }\n",
       "\n",
       "    .dataframe thead th {\n",
       "        text-align: right;\n",
       "    }\n",
       "</style>\n",
       "<table border=\"1\" class=\"dataframe\">\n",
       "  <thead>\n",
       "    <tr style=\"text-align: right;\">\n",
       "      <th></th>\n",
       "      <th>tatzeit_anfang_datum</th>\n",
       "      <th>tatzeit_anfang_stunde</th>\n",
       "      <th>tatzeit_ende_datum</th>\n",
       "      <th>tatzeit_ende_stunde</th>\n",
       "      <th>lor</th>\n",
       "      <th>schadenshoehe</th>\n",
       "      <th>versuch</th>\n",
       "      <th>art_des_fahrrads</th>\n",
       "      <th>delikt</th>\n",
       "    </tr>\n",
       "  </thead>\n",
       "  <tbody>\n",
       "    <tr>\n",
       "      <th>0</th>\n",
       "      <td>10.09.2020</td>\n",
       "      <td>10</td>\n",
       "      <td>10.09.2020</td>\n",
       "      <td>12</td>\n",
       "      <td>3400723</td>\n",
       "      <td>706</td>\n",
       "      <td>Nein</td>\n",
       "      <td>Damenfahrrad</td>\n",
       "      <td>Fahrraddiebstahl</td>\n",
       "    </tr>\n",
       "    <tr>\n",
       "      <th>1</th>\n",
       "      <td>09.09.2020</td>\n",
       "      <td>16</td>\n",
       "      <td>10.09.2020</td>\n",
       "      <td>7</td>\n",
       "      <td>9200716</td>\n",
       "      <td>220</td>\n",
       "      <td>Nein</td>\n",
       "      <td>Damenfahrrad</td>\n",
       "      <td>Fahrraddiebstahl</td>\n",
       "    </tr>\n",
       "    <tr>\n",
       "      <th>2</th>\n",
       "      <td>10.09.2020</td>\n",
       "      <td>15</td>\n",
       "      <td>10.09.2020</td>\n",
       "      <td>18</td>\n",
       "      <td>6100207</td>\n",
       "      <td>550</td>\n",
       "      <td>Nein</td>\n",
       "      <td>Herrenfahrrad</td>\n",
       "      <td>Fahrraddiebstahl</td>\n",
       "    </tr>\n",
       "    <tr>\n",
       "      <th>3</th>\n",
       "      <td>10.09.2020</td>\n",
       "      <td>20</td>\n",
       "      <td>10.09.2020</td>\n",
       "      <td>21</td>\n",
       "      <td>1300733</td>\n",
       "      <td>548</td>\n",
       "      <td>Nein</td>\n",
       "      <td>Herrenfahrrad</td>\n",
       "      <td>Fahrraddiebstahl</td>\n",
       "    </tr>\n",
       "    <tr>\n",
       "      <th>4</th>\n",
       "      <td>09.09.2020</td>\n",
       "      <td>22</td>\n",
       "      <td>10.09.2020</td>\n",
       "      <td>11</td>\n",
       "      <td>8100207</td>\n",
       "      <td>700</td>\n",
       "      <td>Nein</td>\n",
       "      <td>Fahrrad</td>\n",
       "      <td>Fahrraddiebstahl</td>\n",
       "    </tr>\n",
       "    <tr>\n",
       "      <th>...</th>\n",
       "      <td>...</td>\n",
       "      <td>...</td>\n",
       "      <td>...</td>\n",
       "      <td>...</td>\n",
       "      <td>...</td>\n",
       "      <td>...</td>\n",
       "      <td>...</td>\n",
       "      <td>...</td>\n",
       "      <td>...</td>\n",
       "    </tr>\n",
       "    <tr>\n",
       "      <th>39402</th>\n",
       "      <td>06.08.2021</td>\n",
       "      <td>18</td>\n",
       "      <td>09.08.2021</td>\n",
       "      <td>8</td>\n",
       "      <td>1100309</td>\n",
       "      <td>600</td>\n",
       "      <td>Nein</td>\n",
       "      <td>Fahrrad</td>\n",
       "      <td>Fahrraddiebstahl</td>\n",
       "    </tr>\n",
       "    <tr>\n",
       "      <th>39403</th>\n",
       "      <td>07.08.2021</td>\n",
       "      <td>13</td>\n",
       "      <td>09.08.2021</td>\n",
       "      <td>8</td>\n",
       "      <td>1200522</td>\n",
       "      <td>3300</td>\n",
       "      <td>Nein</td>\n",
       "      <td>Herrenfahrrad</td>\n",
       "      <td>Fahrraddiebstahl</td>\n",
       "    </tr>\n",
       "    <tr>\n",
       "      <th>39404</th>\n",
       "      <td>07.08.2021</td>\n",
       "      <td>11</td>\n",
       "      <td>09.08.2021</td>\n",
       "      <td>9</td>\n",
       "      <td>6100102</td>\n",
       "      <td>499</td>\n",
       "      <td>Nein</td>\n",
       "      <td>Damenfahrrad</td>\n",
       "      <td>Fahrraddiebstahl</td>\n",
       "    </tr>\n",
       "    <tr>\n",
       "      <th>39405</th>\n",
       "      <td>09.08.2021</td>\n",
       "      <td>13</td>\n",
       "      <td>09.08.2021</td>\n",
       "      <td>14</td>\n",
       "      <td>2200211</td>\n",
       "      <td>300</td>\n",
       "      <td>Nein</td>\n",
       "      <td>Damenfahrrad</td>\n",
       "      <td>Fahrraddiebstahl</td>\n",
       "    </tr>\n",
       "    <tr>\n",
       "      <th>39406</th>\n",
       "      <td>09.08.2021</td>\n",
       "      <td>8</td>\n",
       "      <td>09.08.2021</td>\n",
       "      <td>12</td>\n",
       "      <td>6100102</td>\n",
       "      <td>1400</td>\n",
       "      <td>Nein</td>\n",
       "      <td>Herrenfahrrad</td>\n",
       "      <td>Fahrraddiebstahl</td>\n",
       "    </tr>\n",
       "  </tbody>\n",
       "</table>\n",
       "<p>39137 rows × 9 columns</p>\n",
       "</div>"
      ],
      "text/plain": [
       "      tatzeit_anfang_datum  tatzeit_anfang_stunde tatzeit_ende_datum  \\\n",
       "0               10.09.2020                     10         10.09.2020   \n",
       "1               09.09.2020                     16         10.09.2020   \n",
       "2               10.09.2020                     15         10.09.2020   \n",
       "3               10.09.2020                     20         10.09.2020   \n",
       "4               09.09.2020                     22         10.09.2020   \n",
       "...                    ...                    ...                ...   \n",
       "39402           06.08.2021                     18         09.08.2021   \n",
       "39403           07.08.2021                     13         09.08.2021   \n",
       "39404           07.08.2021                     11         09.08.2021   \n",
       "39405           09.08.2021                     13         09.08.2021   \n",
       "39406           09.08.2021                      8         09.08.2021   \n",
       "\n",
       "       tatzeit_ende_stunde      lor  schadenshoehe versuch art_des_fahrrads  \\\n",
       "0                       12  3400723            706    Nein     Damenfahrrad   \n",
       "1                        7  9200716            220    Nein     Damenfahrrad   \n",
       "2                       18  6100207            550    Nein    Herrenfahrrad   \n",
       "3                       21  1300733            548    Nein    Herrenfahrrad   \n",
       "4                       11  8100207            700    Nein          Fahrrad   \n",
       "...                    ...      ...            ...     ...              ...   \n",
       "39402                    8  1100309            600    Nein          Fahrrad   \n",
       "39403                    8  1200522           3300    Nein    Herrenfahrrad   \n",
       "39404                    9  6100102            499    Nein     Damenfahrrad   \n",
       "39405                   14  2200211            300    Nein     Damenfahrrad   \n",
       "39406                   12  6100102           1400    Nein    Herrenfahrrad   \n",
       "\n",
       "                 delikt  \n",
       "0      Fahrraddiebstahl  \n",
       "1      Fahrraddiebstahl  \n",
       "2      Fahrraddiebstahl  \n",
       "3      Fahrraddiebstahl  \n",
       "4      Fahrraddiebstahl  \n",
       "...                 ...  \n",
       "39402  Fahrraddiebstahl  \n",
       "39403  Fahrraddiebstahl  \n",
       "39404  Fahrraddiebstahl  \n",
       "39405  Fahrraddiebstahl  \n",
       "39406  Fahrraddiebstahl  \n",
       "\n",
       "[39137 rows x 9 columns]"
      ]
     },
     "execution_count": 54,
     "metadata": {},
     "output_type": "execute_result"
    }
   ],
   "source": [
    "thefts_df_dedup"
   ]
  },
  {
   "cell_type": "code",
   "execution_count": 56,
   "id": "631c4289",
   "metadata": {},
   "outputs": [],
   "source": [
    "# change date text string to datetime datatype\n",
    "# fill in the gap....\n",
    "thefts_df_dedup['tatzeit_anfang_datum'] = pd.to_datetime(thefts_df_dedup['tatzeit_anfang_datum'], dayfirst=True)\n",
    "thefts_df_dedup['tatzeit_ende_datum'] = pd.to_datetime(thefts_df_dedup['tatzeit_ende_datum'], dayfirst=True)"
   ]
  },
  {
   "cell_type": "code",
   "execution_count": 57,
   "id": "1a6cba81",
   "metadata": {},
   "outputs": [
    {
     "name": "stdout",
     "output_type": "stream",
     "text": [
      "<class 'pandas.core.frame.DataFrame'>\n",
      "Index: 39137 entries, 0 to 39406\n",
      "Data columns (total 9 columns):\n",
      " #   Column                 Non-Null Count  Dtype         \n",
      "---  ------                 --------------  -----         \n",
      " 0   tatzeit_anfang_datum   39137 non-null  datetime64[ns]\n",
      " 1   tatzeit_anfang_stunde  39137 non-null  int64         \n",
      " 2   tatzeit_ende_datum     39137 non-null  datetime64[ns]\n",
      " 3   tatzeit_ende_stunde    39137 non-null  int64         \n",
      " 4   lor                    39137 non-null  int64         \n",
      " 5   schadenshoehe          39137 non-null  int64         \n",
      " 6   versuch                39137 non-null  object        \n",
      " 7   art_des_fahrrads       39137 non-null  object        \n",
      " 8   delikt                 39137 non-null  object        \n",
      "dtypes: datetime64[ns](2), int64(4), object(3)\n",
      "memory usage: 3.0+ MB\n"
     ]
    }
   ],
   "source": [
    "thefts_df_dedup.info()"
   ]
  },
  {
   "cell_type": "code",
   "execution_count": 58,
   "id": "8adcc698",
   "metadata": {},
   "outputs": [
    {
     "data": {
      "text/html": [
       "<div>\n",
       "<style scoped>\n",
       "    .dataframe tbody tr th:only-of-type {\n",
       "        vertical-align: middle;\n",
       "    }\n",
       "\n",
       "    .dataframe tbody tr th {\n",
       "        vertical-align: top;\n",
       "    }\n",
       "\n",
       "    .dataframe thead th {\n",
       "        text-align: right;\n",
       "    }\n",
       "</style>\n",
       "<table border=\"1\" class=\"dataframe\">\n",
       "  <thead>\n",
       "    <tr style=\"text-align: right;\">\n",
       "      <th></th>\n",
       "      <th>tatzeit_anfang_datum</th>\n",
       "      <th>tatzeit_anfang_stunde</th>\n",
       "      <th>tatzeit_ende_datum</th>\n",
       "      <th>tatzeit_ende_stunde</th>\n",
       "      <th>lor</th>\n",
       "      <th>schadenshoehe</th>\n",
       "      <th>versuch</th>\n",
       "      <th>art_des_fahrrads</th>\n",
       "      <th>delikt</th>\n",
       "    </tr>\n",
       "  </thead>\n",
       "  <tbody>\n",
       "    <tr>\n",
       "      <th>0</th>\n",
       "      <td>2020-09-10</td>\n",
       "      <td>10</td>\n",
       "      <td>2020-09-10</td>\n",
       "      <td>12</td>\n",
       "      <td>3400723</td>\n",
       "      <td>706</td>\n",
       "      <td>Nein</td>\n",
       "      <td>Damenfahrrad</td>\n",
       "      <td>Fahrraddiebstahl</td>\n",
       "    </tr>\n",
       "    <tr>\n",
       "      <th>1</th>\n",
       "      <td>2020-09-09</td>\n",
       "      <td>16</td>\n",
       "      <td>2020-09-10</td>\n",
       "      <td>7</td>\n",
       "      <td>9200716</td>\n",
       "      <td>220</td>\n",
       "      <td>Nein</td>\n",
       "      <td>Damenfahrrad</td>\n",
       "      <td>Fahrraddiebstahl</td>\n",
       "    </tr>\n",
       "    <tr>\n",
       "      <th>2</th>\n",
       "      <td>2020-09-10</td>\n",
       "      <td>15</td>\n",
       "      <td>2020-09-10</td>\n",
       "      <td>18</td>\n",
       "      <td>6100207</td>\n",
       "      <td>550</td>\n",
       "      <td>Nein</td>\n",
       "      <td>Herrenfahrrad</td>\n",
       "      <td>Fahrraddiebstahl</td>\n",
       "    </tr>\n",
       "    <tr>\n",
       "      <th>3</th>\n",
       "      <td>2020-09-10</td>\n",
       "      <td>20</td>\n",
       "      <td>2020-09-10</td>\n",
       "      <td>21</td>\n",
       "      <td>1300733</td>\n",
       "      <td>548</td>\n",
       "      <td>Nein</td>\n",
       "      <td>Herrenfahrrad</td>\n",
       "      <td>Fahrraddiebstahl</td>\n",
       "    </tr>\n",
       "    <tr>\n",
       "      <th>4</th>\n",
       "      <td>2020-09-09</td>\n",
       "      <td>22</td>\n",
       "      <td>2020-09-10</td>\n",
       "      <td>11</td>\n",
       "      <td>8100207</td>\n",
       "      <td>700</td>\n",
       "      <td>Nein</td>\n",
       "      <td>Fahrrad</td>\n",
       "      <td>Fahrraddiebstahl</td>\n",
       "    </tr>\n",
       "    <tr>\n",
       "      <th>...</th>\n",
       "      <td>...</td>\n",
       "      <td>...</td>\n",
       "      <td>...</td>\n",
       "      <td>...</td>\n",
       "      <td>...</td>\n",
       "      <td>...</td>\n",
       "      <td>...</td>\n",
       "      <td>...</td>\n",
       "      <td>...</td>\n",
       "    </tr>\n",
       "    <tr>\n",
       "      <th>39402</th>\n",
       "      <td>2021-08-06</td>\n",
       "      <td>18</td>\n",
       "      <td>2021-08-09</td>\n",
       "      <td>8</td>\n",
       "      <td>1100309</td>\n",
       "      <td>600</td>\n",
       "      <td>Nein</td>\n",
       "      <td>Fahrrad</td>\n",
       "      <td>Fahrraddiebstahl</td>\n",
       "    </tr>\n",
       "    <tr>\n",
       "      <th>39403</th>\n",
       "      <td>2021-08-07</td>\n",
       "      <td>13</td>\n",
       "      <td>2021-08-09</td>\n",
       "      <td>8</td>\n",
       "      <td>1200522</td>\n",
       "      <td>3300</td>\n",
       "      <td>Nein</td>\n",
       "      <td>Herrenfahrrad</td>\n",
       "      <td>Fahrraddiebstahl</td>\n",
       "    </tr>\n",
       "    <tr>\n",
       "      <th>39404</th>\n",
       "      <td>2021-08-07</td>\n",
       "      <td>11</td>\n",
       "      <td>2021-08-09</td>\n",
       "      <td>9</td>\n",
       "      <td>6100102</td>\n",
       "      <td>499</td>\n",
       "      <td>Nein</td>\n",
       "      <td>Damenfahrrad</td>\n",
       "      <td>Fahrraddiebstahl</td>\n",
       "    </tr>\n",
       "    <tr>\n",
       "      <th>39405</th>\n",
       "      <td>2021-08-09</td>\n",
       "      <td>13</td>\n",
       "      <td>2021-08-09</td>\n",
       "      <td>14</td>\n",
       "      <td>2200211</td>\n",
       "      <td>300</td>\n",
       "      <td>Nein</td>\n",
       "      <td>Damenfahrrad</td>\n",
       "      <td>Fahrraddiebstahl</td>\n",
       "    </tr>\n",
       "    <tr>\n",
       "      <th>39406</th>\n",
       "      <td>2021-08-09</td>\n",
       "      <td>8</td>\n",
       "      <td>2021-08-09</td>\n",
       "      <td>12</td>\n",
       "      <td>6100102</td>\n",
       "      <td>1400</td>\n",
       "      <td>Nein</td>\n",
       "      <td>Herrenfahrrad</td>\n",
       "      <td>Fahrraddiebstahl</td>\n",
       "    </tr>\n",
       "  </tbody>\n",
       "</table>\n",
       "<p>39137 rows × 9 columns</p>\n",
       "</div>"
      ],
      "text/plain": [
       "      tatzeit_anfang_datum  tatzeit_anfang_stunde tatzeit_ende_datum  \\\n",
       "0               2020-09-10                     10         2020-09-10   \n",
       "1               2020-09-09                     16         2020-09-10   \n",
       "2               2020-09-10                     15         2020-09-10   \n",
       "3               2020-09-10                     20         2020-09-10   \n",
       "4               2020-09-09                     22         2020-09-10   \n",
       "...                    ...                    ...                ...   \n",
       "39402           2021-08-06                     18         2021-08-09   \n",
       "39403           2021-08-07                     13         2021-08-09   \n",
       "39404           2021-08-07                     11         2021-08-09   \n",
       "39405           2021-08-09                     13         2021-08-09   \n",
       "39406           2021-08-09                      8         2021-08-09   \n",
       "\n",
       "       tatzeit_ende_stunde      lor  schadenshoehe versuch art_des_fahrrads  \\\n",
       "0                       12  3400723            706    Nein     Damenfahrrad   \n",
       "1                        7  9200716            220    Nein     Damenfahrrad   \n",
       "2                       18  6100207            550    Nein    Herrenfahrrad   \n",
       "3                       21  1300733            548    Nein    Herrenfahrrad   \n",
       "4                       11  8100207            700    Nein          Fahrrad   \n",
       "...                    ...      ...            ...     ...              ...   \n",
       "39402                    8  1100309            600    Nein          Fahrrad   \n",
       "39403                    8  1200522           3300    Nein    Herrenfahrrad   \n",
       "39404                    9  6100102            499    Nein     Damenfahrrad   \n",
       "39405                   14  2200211            300    Nein     Damenfahrrad   \n",
       "39406                   12  6100102           1400    Nein    Herrenfahrrad   \n",
       "\n",
       "                 delikt  \n",
       "0      Fahrraddiebstahl  \n",
       "1      Fahrraddiebstahl  \n",
       "2      Fahrraddiebstahl  \n",
       "3      Fahrraddiebstahl  \n",
       "4      Fahrraddiebstahl  \n",
       "...                 ...  \n",
       "39402  Fahrraddiebstahl  \n",
       "39403  Fahrraddiebstahl  \n",
       "39404  Fahrraddiebstahl  \n",
       "39405  Fahrraddiebstahl  \n",
       "39406  Fahrraddiebstahl  \n",
       "\n",
       "[39137 rows x 9 columns]"
      ]
     },
     "execution_count": 58,
     "metadata": {},
     "output_type": "execute_result"
    }
   ],
   "source": [
    "thefts_df_dedup"
   ]
  },
  {
   "cell_type": "code",
   "execution_count": 59,
   "id": "09b2b6bb",
   "metadata": {},
   "outputs": [
    {
     "data": {
      "text/plain": [
       "(Timestamp('2020-01-01 00:00:00'), Timestamp('2021-11-28 00:00:00'))"
      ]
     },
     "execution_count": 59,
     "metadata": {},
     "output_type": "execute_result"
    }
   ],
   "source": [
    "# now that the dates are not only strings anymore, we can have a look at the timeframe\n",
    "thefts_df_dedup.tatzeit_anfang_datum.min(), thefts_df_dedup.tatzeit_ende_datum.max()"
   ]
  },
  {
   "cell_type": "code",
   "execution_count": 60,
   "id": "b1f7ab48",
   "metadata": {},
   "outputs": [
    {
     "data": {
      "text/plain": [
       "Timedelta('697 days 00:00:00')"
      ]
     },
     "execution_count": 60,
     "metadata": {},
     "output_type": "execute_result"
    }
   ],
   "source": [
    "# ... or can even do calculations on the date fields\n",
    "thefts_df_dedup.tatzeit_ende_datum.max() - thefts_df_dedup.tatzeit_anfang_datum.min()"
   ]
  },
  {
   "cell_type": "code",
   "execution_count": 61,
   "id": "751e66f2",
   "metadata": {},
   "outputs": [
    {
     "name": "stdout",
     "output_type": "stream",
     "text": [
      "<class 'pandas.core.frame.DataFrame'>\n",
      "Index: 39137 entries, 0 to 39406\n",
      "Data columns (total 2 columns):\n",
      " #   Column                Non-Null Count  Dtype         \n",
      "---  ------                --------------  -----         \n",
      " 0   tatzeit_anfang_datum  39137 non-null  datetime64[ns]\n",
      " 1   tatzeit_ende_datum    39137 non-null  datetime64[ns]\n",
      "dtypes: datetime64[ns](2)\n",
      "memory usage: 917.3 KB\n"
     ]
    }
   ],
   "source": [
    "# confirm the new datatypes\n",
    "thefts_df_dedup[['tatzeit_anfang_datum', 'tatzeit_ende_datum']].info()"
   ]
  },
  {
   "cell_type": "markdown",
   "id": "280de336",
   "metadata": {},
   "source": [
    "### Yay!  We're done with cleaning our dataset :-) "
   ]
  },
  {
   "cell_type": "markdown",
   "id": "3e4c6ead",
   "metadata": {},
   "source": [
    "Now, we want to re-use this code later. Let's wrap all the final cleaning steps that we came up with into a function. The function should:\n",
    "- be called 'clean_bike_data',\n",
    "- have a dataframe df as input variable,\n",
    "- return the same dataframe df with all the cleaning steps performed on it.\n",
    "- Add comments to explain each cleaning step.\n",
    "\n",
    "Test your function with your dataframe !"
   ]
  },
  {
   "cell_type": "code",
   "execution_count": 62,
   "id": "5e9550b2",
   "metadata": {},
   "outputs": [],
   "source": [
    "def clean_bike_data(df):\n",
    "    import pandas as pd\n",
    "    # drop duplicates\n",
    "    df = df.drop_duplicates()\n",
    "    # drop column 'angelegt_am' and 'erfassungsgrund' - irrelevant to us, when and why observation got added to the database.\n",
    "    df = df.drop(columns=['angelegt_am','erfassungsgrund'])\n",
    "\n",
    "    # we have just 167 attempts and 7 thefts of unknown state in our dataset, so we decide to drop those observations.\n",
    "    conditions = df.versuch == 'Nein'\n",
    "    df = df[conditions]\n",
    "\n",
    "    # change date text string to datetime datatype\n",
    "    df['tatzeit_anfang_datum'] = pd.to_datetime(df['tatzeit_anfang_datum'], dayfirst=True)\n",
    "    df['tatzeit_ende_datum'] = pd.to_datetime(df['tatzeit_ende_datum'], dayfirst=True)\n",
    "    \n",
    "    return df"
   ]
  },
  {
   "cell_type": "code",
   "execution_count": 64,
   "id": "897b9e7b",
   "metadata": {},
   "outputs": [
    {
     "data": {
      "text/html": [
       "<div>\n",
       "<style scoped>\n",
       "    .dataframe tbody tr th:only-of-type {\n",
       "        vertical-align: middle;\n",
       "    }\n",
       "\n",
       "    .dataframe tbody tr th {\n",
       "        vertical-align: top;\n",
       "    }\n",
       "\n",
       "    .dataframe thead th {\n",
       "        text-align: right;\n",
       "    }\n",
       "</style>\n",
       "<table border=\"1\" class=\"dataframe\">\n",
       "  <thead>\n",
       "    <tr style=\"text-align: right;\">\n",
       "      <th></th>\n",
       "      <th>angelegt_am</th>\n",
       "      <th>tatzeit_anfang_datum</th>\n",
       "      <th>tatzeit_anfang_stunde</th>\n",
       "      <th>tatzeit_ende_datum</th>\n",
       "      <th>tatzeit_ende_stunde</th>\n",
       "      <th>lor</th>\n",
       "      <th>schadenshoehe</th>\n",
       "      <th>versuch</th>\n",
       "      <th>art_des_fahrrads</th>\n",
       "      <th>delikt</th>\n",
       "      <th>erfassungsgrund</th>\n",
       "    </tr>\n",
       "  </thead>\n",
       "  <tbody>\n",
       "    <tr>\n",
       "      <th>0</th>\n",
       "      <td>14.09.2020</td>\n",
       "      <td>10.09.2020</td>\n",
       "      <td>10</td>\n",
       "      <td>10.09.2020</td>\n",
       "      <td>12</td>\n",
       "      <td>3400723</td>\n",
       "      <td>706</td>\n",
       "      <td>Nein</td>\n",
       "      <td>Damenfahrrad</td>\n",
       "      <td>Fahrraddiebstahl</td>\n",
       "      <td>Sonstiger schwerer Diebstahl von Fahrrädern</td>\n",
       "    </tr>\n",
       "    <tr>\n",
       "      <th>1</th>\n",
       "      <td>29.09.2020</td>\n",
       "      <td>09.09.2020</td>\n",
       "      <td>16</td>\n",
       "      <td>10.09.2020</td>\n",
       "      <td>7</td>\n",
       "      <td>9200716</td>\n",
       "      <td>220</td>\n",
       "      <td>Nein</td>\n",
       "      <td>Damenfahrrad</td>\n",
       "      <td>Fahrraddiebstahl</td>\n",
       "      <td>Sonstiger schwerer Diebstahl von Fahrrädern</td>\n",
       "    </tr>\n",
       "  </tbody>\n",
       "</table>\n",
       "</div>"
      ],
      "text/plain": [
       "  angelegt_am tatzeit_anfang_datum  tatzeit_anfang_stunde tatzeit_ende_datum  \\\n",
       "0  14.09.2020           10.09.2020                     10         10.09.2020   \n",
       "1  29.09.2020           09.09.2020                     16         10.09.2020   \n",
       "\n",
       "   tatzeit_ende_stunde      lor  schadenshoehe versuch art_des_fahrrads  \\\n",
       "0                   12  3400723            706    Nein     Damenfahrrad   \n",
       "1                    7  9200716            220    Nein     Damenfahrrad   \n",
       "\n",
       "             delikt                              erfassungsgrund  \n",
       "0  Fahrraddiebstahl  Sonstiger schwerer Diebstahl von Fahrrädern  \n",
       "1  Fahrraddiebstahl  Sonstiger schwerer Diebstahl von Fahrrädern  "
      ]
     },
     "execution_count": 64,
     "metadata": {},
     "output_type": "execute_result"
    }
   ],
   "source": [
    "# test your function\n",
    "\n",
    "# read in the raw data again\n",
    "# proper encoding is necessary here!\n",
    "thefts_df_test = pd.read_csv('./data/Fahrraddiebstahl.csv', encoding='latin-1') \n",
    " # make column names lowercase\n",
    "thefts_df_test.columns = thefts_df_test.columns.str.lower() \n",
    "thefts_df_test.head(2)\n"
   ]
  },
  {
   "cell_type": "code",
   "execution_count": 65,
   "id": "73f2ff26",
   "metadata": {},
   "outputs": [],
   "source": [
    "\n",
    "clean_df = clean_bike_data(thefts_df_test)"
   ]
  },
  {
   "cell_type": "code",
   "execution_count": 66,
   "id": "8093225d",
   "metadata": {},
   "outputs": [
    {
     "data": {
      "text/html": [
       "<div>\n",
       "<style scoped>\n",
       "    .dataframe tbody tr th:only-of-type {\n",
       "        vertical-align: middle;\n",
       "    }\n",
       "\n",
       "    .dataframe tbody tr th {\n",
       "        vertical-align: top;\n",
       "    }\n",
       "\n",
       "    .dataframe thead th {\n",
       "        text-align: right;\n",
       "    }\n",
       "</style>\n",
       "<table border=\"1\" class=\"dataframe\">\n",
       "  <thead>\n",
       "    <tr style=\"text-align: right;\">\n",
       "      <th></th>\n",
       "      <th>tatzeit_anfang_datum</th>\n",
       "      <th>tatzeit_anfang_stunde</th>\n",
       "      <th>tatzeit_ende_datum</th>\n",
       "      <th>tatzeit_ende_stunde</th>\n",
       "      <th>lor</th>\n",
       "      <th>schadenshoehe</th>\n",
       "      <th>versuch</th>\n",
       "      <th>art_des_fahrrads</th>\n",
       "      <th>delikt</th>\n",
       "    </tr>\n",
       "  </thead>\n",
       "  <tbody>\n",
       "    <tr>\n",
       "      <th>0</th>\n",
       "      <td>2020-09-10</td>\n",
       "      <td>10</td>\n",
       "      <td>2020-09-10</td>\n",
       "      <td>12</td>\n",
       "      <td>3400723</td>\n",
       "      <td>706</td>\n",
       "      <td>Nein</td>\n",
       "      <td>Damenfahrrad</td>\n",
       "      <td>Fahrraddiebstahl</td>\n",
       "    </tr>\n",
       "    <tr>\n",
       "      <th>1</th>\n",
       "      <td>2020-09-09</td>\n",
       "      <td>16</td>\n",
       "      <td>2020-09-10</td>\n",
       "      <td>7</td>\n",
       "      <td>9200716</td>\n",
       "      <td>220</td>\n",
       "      <td>Nein</td>\n",
       "      <td>Damenfahrrad</td>\n",
       "      <td>Fahrraddiebstahl</td>\n",
       "    </tr>\n",
       "    <tr>\n",
       "      <th>2</th>\n",
       "      <td>2020-09-10</td>\n",
       "      <td>15</td>\n",
       "      <td>2020-09-10</td>\n",
       "      <td>18</td>\n",
       "      <td>6100207</td>\n",
       "      <td>550</td>\n",
       "      <td>Nein</td>\n",
       "      <td>Herrenfahrrad</td>\n",
       "      <td>Fahrraddiebstahl</td>\n",
       "    </tr>\n",
       "    <tr>\n",
       "      <th>3</th>\n",
       "      <td>2020-09-10</td>\n",
       "      <td>20</td>\n",
       "      <td>2020-09-10</td>\n",
       "      <td>21</td>\n",
       "      <td>1300733</td>\n",
       "      <td>548</td>\n",
       "      <td>Nein</td>\n",
       "      <td>Herrenfahrrad</td>\n",
       "      <td>Fahrraddiebstahl</td>\n",
       "    </tr>\n",
       "    <tr>\n",
       "      <th>4</th>\n",
       "      <td>2020-09-09</td>\n",
       "      <td>22</td>\n",
       "      <td>2020-09-10</td>\n",
       "      <td>11</td>\n",
       "      <td>8100207</td>\n",
       "      <td>700</td>\n",
       "      <td>Nein</td>\n",
       "      <td>Fahrrad</td>\n",
       "      <td>Fahrraddiebstahl</td>\n",
       "    </tr>\n",
       "    <tr>\n",
       "      <th>...</th>\n",
       "      <td>...</td>\n",
       "      <td>...</td>\n",
       "      <td>...</td>\n",
       "      <td>...</td>\n",
       "      <td>...</td>\n",
       "      <td>...</td>\n",
       "      <td>...</td>\n",
       "      <td>...</td>\n",
       "      <td>...</td>\n",
       "    </tr>\n",
       "    <tr>\n",
       "      <th>39402</th>\n",
       "      <td>2021-08-06</td>\n",
       "      <td>18</td>\n",
       "      <td>2021-08-09</td>\n",
       "      <td>8</td>\n",
       "      <td>1100309</td>\n",
       "      <td>600</td>\n",
       "      <td>Nein</td>\n",
       "      <td>Fahrrad</td>\n",
       "      <td>Fahrraddiebstahl</td>\n",
       "    </tr>\n",
       "    <tr>\n",
       "      <th>39403</th>\n",
       "      <td>2021-08-07</td>\n",
       "      <td>13</td>\n",
       "      <td>2021-08-09</td>\n",
       "      <td>8</td>\n",
       "      <td>1200522</td>\n",
       "      <td>3300</td>\n",
       "      <td>Nein</td>\n",
       "      <td>Herrenfahrrad</td>\n",
       "      <td>Fahrraddiebstahl</td>\n",
       "    </tr>\n",
       "    <tr>\n",
       "      <th>39404</th>\n",
       "      <td>2021-08-07</td>\n",
       "      <td>11</td>\n",
       "      <td>2021-08-09</td>\n",
       "      <td>9</td>\n",
       "      <td>6100102</td>\n",
       "      <td>499</td>\n",
       "      <td>Nein</td>\n",
       "      <td>Damenfahrrad</td>\n",
       "      <td>Fahrraddiebstahl</td>\n",
       "    </tr>\n",
       "    <tr>\n",
       "      <th>39405</th>\n",
       "      <td>2021-08-09</td>\n",
       "      <td>13</td>\n",
       "      <td>2021-08-09</td>\n",
       "      <td>14</td>\n",
       "      <td>2200211</td>\n",
       "      <td>300</td>\n",
       "      <td>Nein</td>\n",
       "      <td>Damenfahrrad</td>\n",
       "      <td>Fahrraddiebstahl</td>\n",
       "    </tr>\n",
       "    <tr>\n",
       "      <th>39406</th>\n",
       "      <td>2021-08-09</td>\n",
       "      <td>8</td>\n",
       "      <td>2021-08-09</td>\n",
       "      <td>12</td>\n",
       "      <td>6100102</td>\n",
       "      <td>1400</td>\n",
       "      <td>Nein</td>\n",
       "      <td>Herrenfahrrad</td>\n",
       "      <td>Fahrraddiebstahl</td>\n",
       "    </tr>\n",
       "  </tbody>\n",
       "</table>\n",
       "<p>39137 rows × 9 columns</p>\n",
       "</div>"
      ],
      "text/plain": [
       "      tatzeit_anfang_datum  tatzeit_anfang_stunde tatzeit_ende_datum  \\\n",
       "0               2020-09-10                     10         2020-09-10   \n",
       "1               2020-09-09                     16         2020-09-10   \n",
       "2               2020-09-10                     15         2020-09-10   \n",
       "3               2020-09-10                     20         2020-09-10   \n",
       "4               2020-09-09                     22         2020-09-10   \n",
       "...                    ...                    ...                ...   \n",
       "39402           2021-08-06                     18         2021-08-09   \n",
       "39403           2021-08-07                     13         2021-08-09   \n",
       "39404           2021-08-07                     11         2021-08-09   \n",
       "39405           2021-08-09                     13         2021-08-09   \n",
       "39406           2021-08-09                      8         2021-08-09   \n",
       "\n",
       "       tatzeit_ende_stunde      lor  schadenshoehe versuch art_des_fahrrads  \\\n",
       "0                       12  3400723            706    Nein     Damenfahrrad   \n",
       "1                        7  9200716            220    Nein     Damenfahrrad   \n",
       "2                       18  6100207            550    Nein    Herrenfahrrad   \n",
       "3                       21  1300733            548    Nein    Herrenfahrrad   \n",
       "4                       11  8100207            700    Nein          Fahrrad   \n",
       "...                    ...      ...            ...     ...              ...   \n",
       "39402                    8  1100309            600    Nein          Fahrrad   \n",
       "39403                    8  1200522           3300    Nein    Herrenfahrrad   \n",
       "39404                    9  6100102            499    Nein     Damenfahrrad   \n",
       "39405                   14  2200211            300    Nein     Damenfahrrad   \n",
       "39406                   12  6100102           1400    Nein    Herrenfahrrad   \n",
       "\n",
       "                 delikt  \n",
       "0      Fahrraddiebstahl  \n",
       "1      Fahrraddiebstahl  \n",
       "2      Fahrraddiebstahl  \n",
       "3      Fahrraddiebstahl  \n",
       "4      Fahrraddiebstahl  \n",
       "...                 ...  \n",
       "39402  Fahrraddiebstahl  \n",
       "39403  Fahrraddiebstahl  \n",
       "39404  Fahrraddiebstahl  \n",
       "39405  Fahrraddiebstahl  \n",
       "39406  Fahrraddiebstahl  \n",
       "\n",
       "[39137 rows x 9 columns]"
      ]
     },
     "execution_count": 66,
     "metadata": {},
     "output_type": "execute_result"
    }
   ],
   "source": [
    "clean_df"
   ]
  },
  {
   "cell_type": "markdown",
   "id": "69aa549c",
   "metadata": {},
   "source": []
  },
  {
   "cell_type": "markdown",
   "id": "11e0e23f",
   "metadata": {},
   "source": []
  }
 ],
 "metadata": {
  "interpreter": {
   "hash": "0e4771abb73651cc71498e03f3559c7e0f15f38d5124065b3832974a7bbffea7"
  },
  "kernelspec": {
   "display_name": "Python 3 (ipykernel)",
   "language": "python",
   "name": "python3"
  },
  "language_info": {
   "codemirror_mode": {
    "name": "ipython",
    "version": 3
   },
   "file_extension": ".py",
   "mimetype": "text/x-python",
   "name": "python",
   "nbconvert_exporter": "python",
   "pygments_lexer": "ipython3",
   "version": "3.11.7"
  }
 },
 "nbformat": 4,
 "nbformat_minor": 5
}
