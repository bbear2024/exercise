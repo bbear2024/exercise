{
 "cells": [
  {
   "cell_type": "markdown",
   "metadata": {},
   "source": [
    "# Disney+ Movies and TV Shows #\n"
   ]
  },
  {
   "cell_type": "markdown",
   "metadata": {},
   "source": [
    "You are working as Junior Data Analyst at Disney Plus. There is combined data on movies and TV shows. It is available in [Kaggle](https://www.kaggle.com/datasets/shivamb/disney-movies-and-tv-shows). \n",
    "\n",
    ">The Content Manager wants you to clean the data and provide insights to answer some of the questions like:\n",
    ">\n",
    ">1. Identify the unique list of ratings. How many movies and tv shows are listed under each rating?\n",
    ">2. What is the average duration of movies and tv shows?\n",
    ">3. How many movies and tv shows have been released till now in Germany. Give the list year-wise.\n",
    ">4. Which Director has directed the maximum number of movies and in which genre?\n",
    "\n",
    "The task has been handed over to you by your team lead in the data department. They expect you to apply your Python knowledge on strings, descriptive statistics and want you to <span style=\"color:#fc5a37\">build re-usable functions.</span>\n",
    "\n",
    "Your analysis will help the Content Manager at Disney Plus to make a decision on the direction and future investments the company makes in movies as well as TV shows and will influence what gets released. \n",
    "\n",
    "Also, your manager wants to use the functions himself and he is not code savvy. For him to understand the functions and re-use them, <span style=\"color:#fc5a37\">add DocStrings to your functions</span> mentioning what it does, expected inputs along with their default values and expected outputs.\n",
    "\n",
    "There are expected outputs mentioned for few of the cells for you to confirm that you are on right track. \n",
    "\n",
    "You might have to refer to Python documentation. "
   ]
  },
  {
   "cell_type": "markdown",
   "metadata": {},
   "source": [
    "## Data dictionary ##\n",
    "|nr | name | description |\n",
    "|----|----|:----|\n",
    "|1.| **show_id** | Unique id |\n",
    "|2.| **type** | Movie or TV Show |\n",
    "|3.| **title** | Name of the movie/show |\n",
    "|4.| **director** | Directors of the movie/show |\n",
    "|5.| **cast** | Main cast of the movie/show |\n",
    "|6.| **country** | Country of production |\n",
    "|7.| **date_added** | Date added on Disney Plus |\n",
    "|8.| **release_year** | Original Release Year of the movie/tv show |\n",
    "|9.| **rating** | Rating of the movie/show |\n",
    "|10.| **duration** | Total duration of the movie/show |\n",
    "|11.| **listed_in** | Genres in which the movie is listed |  \n",
    "|12.| **description** | One-Line content description |\n"
   ]
  },
  {
   "cell_type": "markdown",
   "metadata": {},
   "source": [
    "## Step 1: Read the file"
   ]
  },
  {
   "cell_type": "code",
   "execution_count": 3,
   "metadata": {},
   "outputs": [],
   "source": [
    "# This code block is pre-coded for you. You don't have to write anything in this one.\n",
    "\n",
    "from csv import reader #Package that reads the csv file.\n",
    "\n",
    "with open('./Data/disney_plus_titles.csv', encoding=\"utf-8\") as opened_file:\n",
    "    read_file = reader(opened_file)\n",
    "    data_list = list(read_file) # This stores the data in the list of lists format."
   ]
  },
  {
   "cell_type": "markdown",
   "metadata": {},
   "source": [
    "- extract the header (column names), which is first row in data_list and assign it to **`data_header`**\n",
    "- keep rest other rows (except header) in **`data`**. \n",
    "\n",
    "Hint: How would you access the first element of a list?"
   ]
  },
  {
   "cell_type": "code",
   "execution_count": null,
   "metadata": {},
   "outputs": [],
   "source": [
    "data_list"
   ]
  },
  {
   "cell_type": "code",
   "execution_count": 4,
   "metadata": {},
   "outputs": [],
   "source": [
    "# Complete this code block\n",
    "data_header = data_list[0]\n",
    "data = data_list[1:]"
   ]
  },
  {
   "cell_type": "code",
   "execution_count": null,
   "metadata": {},
   "outputs": [],
   "source": [
    "# print the column names of given data. \n",
    "data_header"
   ]
  },
  {
   "cell_type": "code",
   "execution_count": null,
   "metadata": {},
   "outputs": [],
   "source": [
    "data"
   ]
  },
  {
   "cell_type": "markdown",
   "metadata": {},
   "source": [
    "## Step 2: Create function `explore_data` to explore data ##"
   ]
  },
  {
   "cell_type": "markdown",
   "metadata": {},
   "source": [
    "### Function description and output overview\n",
    "The function **`explore_data`** should print the following:\n",
    "1. Selected rows from start to end.\n",
    "2. Number of rows and columns if chosen to do so.\n",
    "\n",
    "The function will take following parameters as input\n",
    "1. **`my_data_local`**\n",
    "2. **`start_row_local`**\n",
    "3. **`end_row_local`**\n",
    "4. **`rows_and_columns_local`** a boolean to check if you want to display total number of rows and columns. \n",
    "\n",
    "For example, I want to display first five rows and also want to display total number of rows and columns in the input data. \n",
    "\n",
    "So I will call this function as **`explore_data(data,0,5,True)`** and the expected output is:  \n",
    "  \n",
    "```python\n",
    "['s1', 'Movie - Animation', 'Duck the Halls: A Mickey Mouse Christmas Special', 'Alonso Ramirez Ramos, Dave Wasson', 'Chris Diamantopoulos, Tony Anselmo, Tress MacNeille, Bill Farmer, Russi Taylor, Corey Burton', '', 'November 26, 2021', '2016', 'TV-G', '23 min', 'Animation, Family', 'Join Mickey and the gang as they duck the halls!']\n",
    "\n",
    "\n",
    "['s2', 'Movie-Comedy', 'Ernest Saves Christmas', 'John Cherry', 'Jim Varney, Noelle Parker, Douglas Seale', '', 'November 26, 2021', '1988', 'PG', '91 min', 'Comedy', 'Santa Claus passes his magic bag to a new St. Nic.']\n",
    "\n",
    "\n",
    "['s3', 'Movie', 'Ice Age: A Mammoth Christmas', 'Karen Disher', 'Raymond Albert Romano, John Leguizamo, Denis Leary, Queen Latifah', 'United States', 'November 26, 2021', '2011', 'TV-G', '23 min', 'Animation, Comedy, Family', \"Sid the Sloth is on Santa's naughty list.\"]\n",
    "\n",
    "\n",
    "['s4', 'Movie', 'The Queen Family Singalong', 'Hamish Hamilton', 'Darren Criss, Adam Lambert, Derek Hough, Alexander Jean, Fall Out Boy, Jimmie Allen', '', 'November 26, 2021', '2021', 'TV-PG', '41 min', 'Musical', 'This is real life, not just fantasy!']\n",
    "\n",
    "\n",
    "['s5', 'TV Show - Docuseries', 'The Beatles: Get Back', '', 'John Lennon, Paul McCartney, George Harrison, Ringo Starr', '', 'November 25, 2021', '2021', '', '1 Season', 'Docuseries, Historical, Music', 'A three-part documentary from Peter Jackson capturing a moment in music history with The Beatles.']\n",
    "\n",
    "\n",
    "no. of rows: 1450\n",
    "\n",
    "no. of columns: 12\n",
    "```"
   ]
  },
  {
   "cell_type": "markdown",
   "metadata": {},
   "source": [
    "### Pseudocode (example)\n",
    "\n",
    "\n",
    "[How to write Pseudocode](https://www.geeksforgeeks.org/how-to-write-a-pseudo-code/)\n",
    "\n",
    "Below is the Pseudocode for the function\n",
    "\n",
    "def explore_data(Give the parameters along with default values):\n",
    "\n",
    "  1. Slice the **`my_data_local`** using **`start_row_local`** and **`end_row_local`**. Remember data is a list.\n",
    "\n",
    "  2. Write a for loop to print each element in sliced data and adding a new empty line after each row using print('\\n').\n",
    "        \n",
    "  3. Write an **`if statement`** which checks for if user wants to display number of rows and columns.   \n",
    "    \n",
    "     If **yes**, then print: \n",
    "     - the number of rows using **`len`** function on data \n",
    "     - and number of columns using **`len`** function on the first element of data. "
   ]
  },
  {
   "cell_type": "markdown",
   "metadata": {},
   "source": [
    "### Function definition"
   ]
  },
  {
   "cell_type": "markdown",
   "metadata": {},
   "source": [
    "def explore_data(my_data_local, start_row_local, end_row_local, rows_and_colums_local):\n",
    "    \"\"\"\n",
    "    \n",
    "    \"\"\"\n",
    "    for rows in range(start_row_local - 1, end_row_local):\n",
    "        print(data[rows],'\\n')\n",
    "    if rows_and_colums_local:\n",
    "        print(f'The total number of rows is {len(my_data_local)}.')\n",
    "        print(f'The total number of colums is {len(my_data_local[0])}.')"
   ]
  },
  {
   "cell_type": "code",
   "execution_count": null,
   "metadata": {},
   "outputs": [],
   "source": [
    "explore_data(data,1,5,True)"
   ]
  },
  {
   "cell_type": "code",
   "execution_count": 5,
   "metadata": {},
   "outputs": [],
   "source": [
    "# Update the function definition based on the Pseudocode above\n",
    "def explore_data(my_data_local, start_row_local, end_row_local, rows_and_colums_local=False):\n",
    "    '''\n",
    "    This function explores the data. It takes following parameters as input:\\n\n",
    "        1. Data\n",
    "        2. Start Row\n",
    "        3. End Row\n",
    "        4. A boolean to display number of rows and columns\n",
    "    It will print:\n",
    "        1. Required rows\n",
    "        2. Number of rows and columns if required.\n",
    "    '''\n",
    "    if start_row_local > 0:\n",
    "        for rows in range(start_row_local-1, end_row_local):\n",
    "            print(data[rows],'\\n')\n",
    "    elif start_row_local < 0:\n",
    "        for rows in range(start_row_local, end_row_local+1):\n",
    "            print(data[rows],'\\n')\n",
    "    if rows_and_colums_local:\n",
    "        print(f'The total number of rows is {len(my_data_local)}.')\n",
    "        print(f'The total number of colums is {len(my_data_local[0])}.')"
   ]
  },
  {
   "cell_type": "markdown",
   "metadata": {},
   "source": [
    "def explore_data(data_local, start_row_local, end_row_local, show_last_row):\n",
    "    if show_last_row == True and end_row_local == -1:\n",
    "        sliced_data = data_local[start_row_local:]\n",
    "    else:\n",
    "        sliced_data = data_local[start_row_local: end_row_local]\n",
    "    for data in sliced_data:\n",
    "        print(data, '\\n')"
   ]
  },
  {
   "cell_type": "markdown",
   "metadata": {},
   "source": [
    "### Calling function to explore data"
   ]
  },
  {
   "cell_type": "markdown",
   "metadata": {},
   "source": [
    "#### top 5 rows\n",
    "Use `explore_data` function to display top 5 rows along with number of rows and columns."
   ]
  },
  {
   "cell_type": "code",
   "execution_count": null,
   "metadata": {},
   "outputs": [],
   "source": [
    "explore_data(data,-5,-1,True)"
   ]
  },
  {
   "cell_type": "markdown",
   "metadata": {},
   "source": [
    "####  last 5 rows\n",
    "\n",
    "Again use the `explore_data` function to display the last 5 rows. \n",
    "\n",
    "Use negative indexing for the **start_row**. \n",
    "\n",
    "For the **end_row**, modify your function definition to display until the last row. \n",
    "\n",
    "This time you don't have to display the number of rows and columns. \n",
    "\n",
    "Double-check that the **`title`** in the last row is <span style=\"color:#fc5a37\">'Captain Sparky vs. The Flying Saucers'.</span>"
   ]
  },
  {
   "cell_type": "code",
   "execution_count": null,
   "metadata": {},
   "outputs": [],
   "source": [
    "explore_data(data,-5,-1)"
   ]
  },
  {
   "cell_type": "markdown",
   "metadata": {},
   "source": [
    "## Step 3: Separate Movies and TV Shows\n",
    "\n",
    "### Description\n",
    "Code a **`for loop`** to separate lists\n",
    "\n",
    "1. Movies to **`disney_movies`**\n",
    "2. TV Shows to **`disney_shows`**\n",
    "3. In **`disney_other`** collect anything other than movies and shows\n",
    "    \n",
    "So, if the **`type`** is *\"Movie - Animation\"* or *\"MOVIE-Comedy\"*, it should be in **`disney_movies`**.\n",
    "\n",
    "There could be many other combinations. So, if the **`type`** starts with *\"movie\"* it should be in **`disney_movies`**\n",
    "\n",
    "Similarly, for example, if the **`type`** is *\"TV Show - Docuseries\"* or *\"TV show - Season 1\"*, it should be in **`disney_shows`**. \n",
    "\n",
    "Rest other that do not start with *\"Movie\"* or *\"TV Show\"* should be classified as **`disney_other`**. "
   ]
  },
  {
   "cell_type": "markdown",
   "metadata": {},
   "source": [
    "### Pseudocode (example)\n",
    "\n",
    "Write a for loop to go through each row in the **`data`**\n",
    "\n",
    "- Convert the **`title`** to lower case. Because the **`title`** column is the second column, you will need to get the element at index 1 in each row. \n",
    "- Write an if else statement\n",
    "  - If title starts with <span style=\"color:#fc5a37\"> \"movie\" </span>\n",
    "    - Update the **`title`** to just <span style=\"color:#fc5a37\"> \"Movie\" </span>\n",
    "    - Append it to **`disney_movies`**\n",
    "  - Else, do the same with <span style=\"color:#fc5a37\"> \"tv\" </span> and append to **`disney_shows`**\n",
    "  - Anything else, should be appended to **`disney_other`**\n"
   ]
  },
  {
   "cell_type": "markdown",
   "metadata": {},
   "source": [
    "### Write code below"
   ]
  },
  {
   "cell_type": "code",
   "execution_count": 6,
   "metadata": {},
   "outputs": [],
   "source": [
    "disney_movies = []\n",
    "disney_shows = []\n",
    "disney_other = []\n",
    "\n",
    "data_1 = []\n",
    "for r in data:\n",
    "    data_1.append(r.copy()) #To copy a list which contains other list, have to go down deeper and make copy of the lowest level list.\n",
    "\n",
    "for row in data_1:\n",
    "    typ = row[1].lower()\n",
    "    if typ.startswith('movie'):\n",
    "        row[1] = 'Movie'\n",
    "        disney_movies.append(row)\n",
    "    elif typ.startswith('tv'):\n",
    "        row[1] = 'TV Show'\n",
    "        disney_shows.append(row)\n",
    "    else:\n",
    "        disney_other.append(row)"
   ]
  },
  {
   "cell_type": "markdown",
   "metadata": {},
   "source": [
    "### Explore newly created datasets\n",
    "\n",
    "Explore all your new datasets created using your earlier created function. \n",
    "\n",
    "How many Movies and TV Shows are listed? \n",
    "\n",
    "Are there any other than Movies and TV Shows?\n",
    "\n",
    "Expected outputs:\n",
    "\n",
    "```python\n",
    "\n",
    "Disney Movies:  1052\n",
    "\n",
    "Disney TV Shows:  398\n",
    "\n",
    "Disney Others:  0\n",
    "```"
   ]
  },
  {
   "cell_type": "code",
   "execution_count": null,
   "metadata": {},
   "outputs": [],
   "source": [
    "# Movies\n",
    "print(len(disney_movies))"
   ]
  },
  {
   "cell_type": "code",
   "execution_count": null,
   "metadata": {},
   "outputs": [],
   "source": [
    "# TV Shows\n",
    "print(len(disney_shows))"
   ]
  },
  {
   "cell_type": "code",
   "execution_count": null,
   "metadata": {},
   "outputs": [],
   "source": [
    "# Others\n",
    "print(len(disney_other))"
   ]
  },
  {
   "cell_type": "markdown",
   "metadata": {},
   "source": [
    "## Step 4: Get a list of unique values in a column ##"
   ]
  },
  {
   "cell_type": "markdown",
   "metadata": {},
   "source": [
    "### Function description and output overview\n",
    "\n",
    "The function **`list_of_elements`** should print:\n",
    "  - The list of unique values in any required column\n",
    "\n",
    "The function will take the following as parameters:\n",
    "1. **`my_data_local`**\n",
    "2. **`col_index_local`**\n",
    "\n",
    "For example, I want to get unique values in `rating`column.\n",
    "I will call this function and the output will be:\n",
    "\n",
    "```python\n",
    "['TV-G', 'PG', 'TV-PG', '', 'PG-13', 'TV-14', 'G', 'TV-Y7', 'TV-Y', 'TV-Y7-FV']\n",
    "```\n"
   ]
  },
  {
   "cell_type": "markdown",
   "metadata": {},
   "source": [
    "### Pseudocode\n",
    "Below is the Pseudocode for the function\n",
    "\n",
    "def list_of_elements(Give the parameters along with default values):\n",
    "\n",
    "  1. Create an empty list and assign it to **`result_list`**\n",
    "\n",
    "  2. Write a for loop to iterate over each row element in **`my_data_local`**\n",
    "      - If element in the row at **`col_index_local`** is not in the **`result_list`**, append it.\n",
    "      \n",
    "  3. Return **`result_list`**"
   ]
  },
  {
   "cell_type": "markdown",
   "metadata": {},
   "source": [
    "### Function definition"
   ]
  },
  {
   "cell_type": "code",
   "execution_count": 7,
   "metadata": {},
   "outputs": [],
   "source": [
    "# Update the function definition based on the Pseudocode above\n",
    "def list_of_elements(my_data_local, col_index_local):\n",
    "    '''\n",
    "    This function prints the list of unique values in any required column. \\n\n",
    "    It takes following parameters as input:\\n\n",
    "        1. Data\n",
    "        2. Column index\n",
    "    '''\n",
    "    result_list = []\n",
    "    for row in my_data_local:\n",
    "        if row[col_index_local] not in result_list:\n",
    "            result_list.append(row[col_index_local])\n",
    "    return result_list"
   ]
  },
  {
   "cell_type": "markdown",
   "metadata": {},
   "source": [
    "### Calling function\n",
    "\n",
    "What is the column index of `rating`column?\n",
    "\n",
    "Use the above created function to generate the list of unique `rating` in the original dataset. "
   ]
  },
  {
   "cell_type": "code",
   "execution_count": null,
   "metadata": {},
   "outputs": [],
   "source": [
    "print(list_of_elements(data,8))"
   ]
  },
  {
   "cell_type": "markdown",
   "metadata": {},
   "source": [
    "## Step 5: For each corresponding unique value in a column get the number of movies and shows. ##"
   ]
  },
  {
   "cell_type": "markdown",
   "metadata": {},
   "source": [
    "### Function description and output overview\n",
    "\n",
    "The function `elements_count` should return:\n",
    "  - The key value pair where\n",
    "    - key is the unique element\n",
    "    - value is the count of movies or TV shows or both with that unique element\n",
    "\n",
    "The function will take the following as parameters:\n",
    "1. **`my_data_local`**\n",
    "2. **`col_index_local`**\n",
    "\n",
    "For example, I want to get unique values and corresponding count in **`rating`** column in **`disney_movies`**.\n",
    "I will call this function on **`disney_movies`** and the output will be:\n",
    "\n",
    "```python\n",
    "{'G': 253, 'PG': 235, 'TV-G': 233, 'TV-PG': 181, 'PG-13': 66, 'TV-14': 37, 'TV-Y7': 36, 'TV-Y7-FV': 7, 'TV-Y': 3, '': 1}\n",
    "```\n"
   ]
  },
  {
   "cell_type": "markdown",
   "metadata": {},
   "source": [
    "### Pseudocode\n",
    "Below is the Pseudocode for the function\n",
    "\n",
    "def elements_count(Give the parameters along with default values):\n",
    "\n",
    "  1. Create an empty dictionary and assign it to **`element_count_dict`**\n",
    "\n",
    "  2. Write a for loop to iterate over each row element in **`my_data_local`**\n",
    "      - If element in the row at **`col_index_local`** is not in the key of **`element_count_dict`**, add it and initialize the value to 1.\n",
    "      - If element in the row at **`col_index_local`** is in the **`element_count_dict`**, increment the value by 1.\n",
    "\n",
    "  3. Sort the dictionary based on the corresponding values in descending order. \n",
    "      \n",
    "  3. Return **`element_count_dict`**"
   ]
  },
  {
   "cell_type": "markdown",
   "metadata": {},
   "source": [
    "### Function definition"
   ]
  },
  {
   "cell_type": "code",
   "execution_count": 8,
   "metadata": {},
   "outputs": [],
   "source": [
    "# Update the function definition based on the Pseudocode above\n",
    "def elements_count(my_data_local, col_index_local):\n",
    "    \"\"\"\n",
    "    This function returns the key value pair where\n",
    "    - key is the unique element\n",
    "    - value is the count of movies or TV shows or both with that unique element \\n\n",
    "    It takes following parameters as input:\\n\n",
    "        1. Data\n",
    "        2. Column index\n",
    "    It returns a dictionary in which the key-value pairs are stored with value in descending order.\n",
    "    \"\"\"\n",
    "    element_count_dict = {}\n",
    "    for row in my_data_local:\n",
    "        item = row[col_index_local]\n",
    "        if item not in element_count_dict:\n",
    "            element_count_dict[item] = 1\n",
    "        else:\n",
    "            element_count_dict[item] += 1\n",
    "    sorted_elements_count = dict(sorted(element_count_dict.items(), key=lambda x:x[1], reverse=True))\n",
    "    return sorted_elements_count"
   ]
  },
  {
   "cell_type": "code",
   "execution_count": 9,
   "metadata": {},
   "outputs": [
    {
     "data": {
      "text/plain": [
       "{'Animation, Comedy, Family': 124,\n",
       " 'Action-Adventure, Animation, Comedy': 77,\n",
       " 'Action-Adventure, Animation, Kids': 45,\n",
       " 'Action-Adventure, Animation, Family': 40,\n",
       " 'Animals & Nature, Documentary, Family': 40,\n",
       " 'Animals & Nature, Docuseries, Family': 39,\n",
       " 'Animals & Nature, Documentary': 35,\n",
       " 'Animation, Family, Fantasy': 31,\n",
       " 'Action-Adventure, Comedy, Family': 28,\n",
       " 'Animation, Family': 26,\n",
       " 'Documentary': 25,\n",
       " 'Comedy, Family, Fantasy': 21,\n",
       " 'Comedy, Family': 21,\n",
       " 'Documentary, Historical': 21,\n",
       " 'Animation, Kids': 17,\n",
       " 'Action-Adventure, Animation, Fantasy': 17,\n",
       " 'Action-Adventure, Family, Fantasy': 16,\n",
       " 'Comedy, Coming of Age, Family': 16,\n",
       " 'Action-Adventure, Family, Science Fiction': 16,\n",
       " 'Animation, Family, Kids': 16,\n",
       " 'Action-Adventure, Comedy, Coming of Age': 15,\n",
       " 'Action-Adventure, Science Fiction': 14,\n",
       " 'Comedy, Coming of Age, Drama': 13,\n",
       " 'Documentary, Family': 12,\n",
       " 'Action-Adventure, Science Fiction, Superhero': 11,\n",
       " 'Action-Adventure, Animals & Nature, Family': 11,\n",
       " 'Action-Adventure, Animals & Nature, Docuseries': 10,\n",
       " 'Action-Adventure, Fantasy': 10,\n",
       " 'Docuseries, Historical': 10,\n",
       " 'Animals & Nature, Docuseries': 10,\n",
       " 'Comedy, Coming of Age': 10,\n",
       " 'Action-Adventure, Animation, Coming of Age': 10,\n",
       " 'Animation, Comedy, Coming of Age': 9,\n",
       " 'Action-Adventure, Coming of Age, Family': 9,\n",
       " 'Comedy, Coming of Age, Fantasy': 9,\n",
       " 'Buddy, Comedy, Coming of Age': 9,\n",
       " 'Comedy': 8,\n",
       " 'Biographical, Documentary': 8,\n",
       " 'Action-Adventure, Animation, Buddy': 8,\n",
       " 'Animation, Fantasy, Kids': 7,\n",
       " 'Comedy, Family, Science Fiction': 7,\n",
       " 'Action-Adventure, Fantasy, Science Fiction': 7,\n",
       " 'Coming of Age, Fantasy': 7,\n",
       " 'Comedy, Coming of Age, Kids': 7,\n",
       " 'Comedy, Fantasy': 7,\n",
       " 'Coming of Age, Drama, Music': 7,\n",
       " 'Action-Adventure, Comedy, Science Fiction': 7,\n",
       " 'Animals & Nature, Comedy, Family': 7,\n",
       " 'Action-Adventure, Animals & Nature, Documentary': 7,\n",
       " 'Animation, Buddy, Comedy': 6,\n",
       " 'Animals & Nature, Drama, Family': 6,\n",
       " 'Coming of Age, Drama, Family': 6,\n",
       " 'Comedy, Coming of Age, Music': 6,\n",
       " 'Action-Adventure, Comedy, Kids': 5,\n",
       " 'Comedy, Family, Sports': 5,\n",
       " 'Docuseries': 5,\n",
       " 'Action-Adventure, Animation, Science Fiction': 5,\n",
       " 'Family, Game Show / Competition': 5,\n",
       " 'Animals & Nature, Docuseries, Reality': 5,\n",
       " 'Action-Adventure, Animation, Anthology': 5,\n",
       " 'Docuseries, Family': 5,\n",
       " 'Biographical, Documentary, Music': 5,\n",
       " 'Action-Adventure, Animals & Nature, Drama': 5,\n",
       " 'Coming of Age, Fantasy, Musical': 5,\n",
       " 'Coming of Age, Drama, Sports': 5,\n",
       " 'Comedy, Coming of Age, Science Fiction': 5,\n",
       " 'Comedy, Family, Music': 4,\n",
       " 'Animation, Comedy': 4,\n",
       " 'Drama, Family, Fantasy': 4,\n",
       " 'Reality': 4,\n",
       " 'Animation, Family, Parody': 4,\n",
       " 'Action-Adventure, Animation, Anime': 4,\n",
       " 'Animation, Anthology, Family': 4,\n",
       " 'Coming of Age, Drama': 4,\n",
       " 'Action-Adventure, Animation': 4,\n",
       " 'Animation, Kids, Musical': 4,\n",
       " 'Comedy, Family, Kids': 4,\n",
       " 'Animation, Comedy, Kids': 4,\n",
       " 'Family, Fantasy, Musical': 4,\n",
       " 'Biographical, Drama, Sports': 4,\n",
       " 'Action-Adventure, Coming of Age, Drama': 4,\n",
       " 'Comedy, Drama, Family': 4,\n",
       " 'Animation, Family, Sports': 4,\n",
       " 'Action-Adventure, Comedy, Fantasy': 4,\n",
       " 'Animation, Family, Musical': 4,\n",
       " 'Docuseries, Reality, Survival': 3,\n",
       " 'Animation, Comedy, Drama': 3,\n",
       " 'Movies': 3,\n",
       " 'Action-Adventure, Fantasy, Superhero': 3,\n",
       " 'Concert Film, Music': 3,\n",
       " 'Comedy, Fantasy, Kids': 3,\n",
       " 'Animation, Coming of Age, Fantasy': 3,\n",
       " 'Coming of Age, Drama, Romance': 3,\n",
       " 'Animals & Nature, Biographical, Documentary': 3,\n",
       " 'Action-Adventure, Family': 3,\n",
       " 'Drama': 3,\n",
       " 'Biographical, Drama': 3,\n",
       " 'Fantasy, Musical': 3,\n",
       " 'Comedy, Drama, Sports': 3,\n",
       " 'Series': 3,\n",
       " 'Anthology, Docuseries': 3,\n",
       " 'Action-Adventure, Docuseries, Family': 3,\n",
       " 'Docuseries, Reality': 3,\n",
       " 'Animals & Nature, Docuseries, Kids': 3,\n",
       " 'Animation, Drama, Family': 3,\n",
       " 'Animation, Coming of Age, Family': 3,\n",
       " 'Animation, Anthology, Comedy': 3,\n",
       " 'Comedy, Science Fiction': 3,\n",
       " 'Comedy, Family, Romance': 3,\n",
       " 'Comedy, Family, Musical': 2,\n",
       " 'Animation': 2,\n",
       " 'Science Fiction': 2,\n",
       " 'Drama, Sports': 2,\n",
       " 'Anthology, Comedy, Coming of Age': 2,\n",
       " 'Family, Variety': 2,\n",
       " 'Action-Adventure, Science Fiction, Spy/Espionage': 2,\n",
       " 'Animation, Buddy, Coming of Age': 2,\n",
       " 'Kids, Music': 2,\n",
       " 'Comedy, Drama, Romance': 2,\n",
       " 'Family, Music, Variety': 2,\n",
       " 'Animals & Nature, Coming of Age, Drama': 2,\n",
       " 'Animation, Fantasy': 2,\n",
       " 'Animation, Kids, Sports': 2,\n",
       " 'Animation, Comedy, Fantasy': 2,\n",
       " 'Animation, Kids, Western': 2,\n",
       " 'Fantasy': 2,\n",
       " 'Action-Adventure, Comedy, Crime': 2,\n",
       " 'Comedy, Coming of Age, Crime': 2,\n",
       " 'Animation, Kids, Medical': 2,\n",
       " 'Action-Adventure, Fantasy, Soap Opera / Melodrama': 2,\n",
       " 'Drama, Historical': 2,\n",
       " 'Drama, Music': 2,\n",
       " 'Biographical, Drama, Family': 2,\n",
       " 'Anthology, Docuseries, Family': 2,\n",
       " 'Documentary, Sports': 2,\n",
       " 'Animals & Nature, Kids, Variety': 2,\n",
       " 'Animation, Kids, Music': 2,\n",
       " 'Documentary, Family, Historical': 2,\n",
       " 'Historical, Musical': 2,\n",
       " 'Comedy, Kids': 2,\n",
       " 'Action-Adventure, Docuseries, Historical': 2,\n",
       " 'Action-Adventure, Mystery, Thriller': 2,\n",
       " 'Comedy, Coming of Age, Romance': 2,\n",
       " 'Coming of Age, Drama, Musical': 2,\n",
       " 'Action-Adventure, Animation, Musical': 2,\n",
       " 'Action-Adventure, Animation, Superhero': 2,\n",
       " 'Animation, Comedy, Dance': 2,\n",
       " 'Drama, Family': 2,\n",
       " 'Coming of Age, Music, Musical': 2,\n",
       " 'Action-Adventure, Family, Historical': 2,\n",
       " 'Family, Lifestyle, Reality': 2,\n",
       " 'Biographical, Sports': 2,\n",
       " 'Coming of Age, Sports': 2,\n",
       " 'Animals & Nature, Docuseries, Survival': 2,\n",
       " 'Concert Film, Documentary, Music': 2,\n",
       " 'Animals & Nature, Comedy, Coming of Age': 2,\n",
       " 'Biographical, Family, Sports': 2,\n",
       " 'Buddy, Comedy': 2,\n",
       " 'Drama, Historical, Sports': 2,\n",
       " 'Drama, Fantasy': 2,\n",
       " 'Biographical, Drama, Historical': 2,\n",
       " 'Animals & Nature, Biographical, Drama': 2,\n",
       " 'Comedy, Crime, Family': 2,\n",
       " 'Comedy, Family, Western': 2,\n",
       " 'Coming of Age, Drama, Fantasy': 2,\n",
       " 'Musical': 1,\n",
       " 'Docuseries, Historical, Music': 1,\n",
       " 'Action-Adventure, Superhero': 1,\n",
       " 'Animals & Nature': 1,\n",
       " 'Lifestyle': 1,\n",
       " 'Coming of Age, Music': 1,\n",
       " 'Animation, Drama': 1,\n",
       " 'Animation, Crime, Family': 1,\n",
       " 'Animals & Nature, Reality': 1,\n",
       " 'Animals & Nature, Docuseries, Medical': 1,\n",
       " 'Animation, Science Fiction': 1,\n",
       " 'Animation, Anthology, Science Fiction': 1,\n",
       " 'Comedy, Romance, Romantic Comedy': 1,\n",
       " 'Animation, Fantasy, Musical': 1,\n",
       " 'Crime, Drama': 1,\n",
       " 'Comedy, Drama, Thriller': 1,\n",
       " 'Action-Adventure, Family, Parody': 1,\n",
       " 'Animation, Kids, Police/Cop': 1,\n",
       " 'Comedy, Drama': 1,\n",
       " 'Animation, Buddy, Kids': 1,\n",
       " 'Talk Show': 1,\n",
       " 'Action-Adventure, Buddy, Comedy': 1,\n",
       " 'Action-Adventure, Docuseries, Reality': 1,\n",
       " 'Comedy, Sports': 1,\n",
       " 'Action-Adventure, Reality, Survival': 1,\n",
       " 'Biographical, Coming of Age, Family': 1,\n",
       " 'Action-Adventure, Comedy, Spy/Espionage': 1,\n",
       " 'Action-Adventure, Docuseries, Lifestyle': 1,\n",
       " 'Action-Adventure, Drama, Historical': 1,\n",
       " 'Animation, Dance, Family': 1,\n",
       " 'Animation, Superhero': 1,\n",
       " 'Animals & Nature, Animation, Kids': 1,\n",
       " 'Action-Adventure, Family, Game Show / Competition': 1,\n",
       " 'Animation, Comedy, Parody': 1,\n",
       " 'Anthology, Science Fiction': 1,\n",
       " 'Musical, Romance, Western': 1,\n",
       " 'Animals & Nature, Anthology': 1,\n",
       " 'Family, Kids': 1,\n",
       " 'Biographical, Coming of Age, Drama': 1,\n",
       " 'Action-Adventure, Biographical, Drama': 1,\n",
       " 'Action-Adventure, Fantasy, Survival': 1,\n",
       " 'Animals & Nature, Comedy': 1,\n",
       " 'Comedy, Reality': 1,\n",
       " 'Action-Adventure, Buddy, Science Fiction': 1,\n",
       " 'Buddy, Comedy, Docuseries': 1,\n",
       " 'Game Show / Competition, Sports, Variety': 1,\n",
       " 'Comedy, Docuseries, Family': 1,\n",
       " 'Family, Fantasy, Mystery': 1,\n",
       " 'Variety': 1,\n",
       " 'Comedy, Family, Variety': 1,\n",
       " 'Anthology, Documentary': 1,\n",
       " 'Drama, Fantasy, Mystery': 1,\n",
       " 'Family, Game Show / Competition, Reality': 1,\n",
       " 'Action-Adventure, Docuseries, Fantasy': 1,\n",
       " 'Action-Adventure, Fantasy, Musical': 1,\n",
       " 'Fantasy, Variety': 1,\n",
       " 'Drama, Music, Romance': 1,\n",
       " 'Animals & Nature, Kids, Music': 1,\n",
       " 'Documentary, Music': 1,\n",
       " 'Comedy, Variety': 1,\n",
       " 'Biographical, Drama, Music': 1,\n",
       " 'Animals & Nature, Documentary, Survival': 1,\n",
       " 'Drama, Romance': 1,\n",
       " 'Docuseries, Historical, Reality': 1,\n",
       " 'Comedy, Parody, Science Fiction': 1,\n",
       " 'Docuseries, Kids': 1,\n",
       " 'Animals & Nature, Family, Reality': 1,\n",
       " 'Dance, Music, Musical': 1,\n",
       " 'Comedy, Family, Lifestyle': 1,\n",
       " 'Buddy, Docuseries': 1,\n",
       " 'Action-Adventure, Crime, Science Fiction': 1,\n",
       " 'Biographical, Historical, Musical': 1,\n",
       " 'Animation, Documentary, Family': 1,\n",
       " 'Action-Adventure, Crime, Fantasy': 1,\n",
       " 'Comedy, Coming of Age, Medical': 1,\n",
       " 'Drama, Family, Historical': 1,\n",
       " 'Coming of Age, Fantasy, Mystery': 1,\n",
       " 'Crime, Drama, Mystery': 1,\n",
       " 'Animation, Comedy, Crime': 1,\n",
       " 'Comedy, Musical, Romance': 1,\n",
       " 'Docuseries, Family, Game Show / Competition': 1,\n",
       " 'Concert Film, Music, Musical': 1,\n",
       " 'Animals & Nature, Family': 1,\n",
       " 'Animation, Family, Historical': 1,\n",
       " 'Action-Adventure, Disaster, Drama': 1,\n",
       " 'Docuseries, Family, Lifestyle': 1,\n",
       " 'Comedy, Fantasy, Romance': 1,\n",
       " 'Buddy, Comedy, Drama': 1,\n",
       " 'Animation, Family, Romance': 1,\n",
       " 'Coming of Age, Drama, Science Fiction': 1,\n",
       " 'Biographical, Comedy, Family': 1,\n",
       " 'Animals & Nature, Family, Sports': 1,\n",
       " 'Docuseries, Science Fiction': 1,\n",
       " 'Coming of Age, Documentary, Drama': 1,\n",
       " 'Action-Adventure, Documentary, Historical': 1,\n",
       " 'Buddy, Docuseries, Lifestyle': 1,\n",
       " 'Concert Film, Family, Fantasy': 1,\n",
       " 'Drama, Family, Musical': 1,\n",
       " 'Animation, Drama, Kids': 1,\n",
       " 'Animation, Anthology, Fantasy': 1,\n",
       " 'Buddy, Coming of Age, Drama': 1,\n",
       " 'Coming of Age, Docuseries, Family': 1,\n",
       " 'Drama, Family, Mystery': 1,\n",
       " 'Animation, Comedy, Disaster': 1,\n",
       " 'Sports': 1,\n",
       " 'Comedy, Family, Game Show / Competition': 1,\n",
       " 'Comedy, Mystery': 1,\n",
       " 'Family, Fantasy, Romance': 1,\n",
       " 'Documentary, Family, Reality': 1,\n",
       " 'Buddy, Comedy, Family': 1,\n",
       " 'Anthology, Family, Lifestyle': 1,\n",
       " 'Animation, Kids, Parody': 1,\n",
       " 'Fantasy, Musical, Thriller': 1,\n",
       " 'Documentary, Family, Variety': 1,\n",
       " 'Docuseries, Family, Medical': 1,\n",
       " 'Comedy, Coming of Age, Sports': 1,\n",
       " 'Action-Adventure, Crime, Family': 1,\n",
       " 'Music, Reality': 1,\n",
       " 'Drama, Parody, Science Fiction': 1,\n",
       " 'Action-Adventure, Documentary, Sports': 1,\n",
       " 'Drama, Mystery': 1,\n",
       " 'Coming of Age, Dance, Drama': 1,\n",
       " 'Animation, Family, Music': 1,\n",
       " 'Comedy, Family, Romantic Comedy': 1,\n",
       " 'Coming of Age, Musical, Romance': 1,\n",
       " 'Coming of Age, Musical': 1,\n",
       " 'Coming of Age, Family, Musical': 1,\n",
       " 'Animals & Nature, Documentary, Medical': 1,\n",
       " 'Coming of Age, Dance, Sports': 1,\n",
       " 'Action-Adventure, Coming of Age': 1,\n",
       " 'Action-Adventure, Documentary, Superhero': 1,\n",
       " 'Action-Adventure, Documentary': 1,\n",
       " 'Anthology, Comedy, Kids': 1,\n",
       " 'Action-Adventure, Animals & Nature, Comedy': 1,\n",
       " 'Kids': 1,\n",
       " 'Animals & Nature, Animation, Family': 1,\n",
       " 'Anthology, Comedy, Family': 1,\n",
       " 'Animals & Nature, Coming of Age, Family': 1,\n",
       " 'Family, Fantasy': 1,\n",
       " 'Buddy, Family, Sports': 1,\n",
       " 'Animation, Buddy, Family': 1,\n",
       " 'Fantasy, Kids, Mystery': 1,\n",
       " 'Action-Adventure, Family, Survival': 1,\n",
       " 'Action-Adventure, Western': 1,\n",
       " 'Buddy, Coming of Age, Family': 1,\n",
       " 'Action-Adventure, Science Fiction, Thriller': 1,\n",
       " 'Animation, Anthology, Kids': 1,\n",
       " 'Action-Adventure, Family, Western': 1,\n",
       " 'Crime, Drama, Family': 1,\n",
       " 'Comedy, Crime, Science Fiction': 1,\n",
       " 'Comedy, Music': 1,\n",
       " 'Action-Adventure, Comedy': 1,\n",
       " 'Animation, Drama, Fantasy': 1,\n",
       " 'Action-Adventure, Drama, Family': 1,\n",
       " 'Biographical, Family, Historical': 1,\n",
       " 'Buddy, Comedy, Romance': 1,\n",
       " 'Action-Adventure, Family, Mystery': 1,\n",
       " 'Comedy, Crime, Fantasy': 1,\n",
       " 'Action-Adventure, Coming of Age, Fantasy': 1,\n",
       " 'Animals & Nature, Docuseries, Travel': 1,\n",
       " 'Coming of Age, Musical, Science Fiction': 1,\n",
       " 'Animation, Family, Mystery': 1,\n",
       " 'Biographical, Comedy, Drama': 1,\n",
       " 'Action-Adventure, Animals & Nature, Animation': 1}"
      ]
     },
     "execution_count": 9,
     "metadata": {},
     "output_type": "execute_result"
    }
   ],
   "source": [
    "elements_count(data, 10)"
   ]
  },
  {
   "cell_type": "markdown",
   "metadata": {},
   "source": [
    "### Calling function\n",
    "Print the Movie Ratings Count and TV Shows Ratings Count. \n",
    "\n",
    "You will have to call above function separately on **`disney_movies`** and **`disney_shows`**"
   ]
  },
  {
   "cell_type": "code",
   "execution_count": null,
   "metadata": {},
   "outputs": [],
   "source": [
    "elements_count(disney_movies,8)"
   ]
  },
  {
   "cell_type": "code",
   "execution_count": null,
   "metadata": {},
   "outputs": [],
   "source": [
    "elements_count(disney_shows,8)"
   ]
  },
  {
   "cell_type": "markdown",
   "metadata": {},
   "source": [
    "## Step 6: Get the list of categories for `listed_in` column ##\n",
    "\n",
    "Get the list of unique values in `listed_in` column. \n",
    "\n",
    "It's now a one line code. \n",
    "\n",
    "You have to just re-use one of the earlier created functions. \n",
    "\n",
    "Could you identify which one?"
   ]
  },
  {
   "cell_type": "code",
   "execution_count": 10,
   "metadata": {},
   "outputs": [
    {
     "name": "stdout",
     "output_type": "stream",
     "text": [
      "['Animation, Family', 'Comedy', 'Animation, Comedy, Family', 'Musical', 'Docuseries, Historical, Music', 'Biographical, Documentary', 'Action-Adventure, Superhero', 'Docuseries, Reality, Survival', 'Animals & Nature, Docuseries, Family', 'Comedy, Family, Musical', 'Documentary', 'Comedy, Family, Music', 'Documentary, Family', 'Action-Adventure, Animals & Nature, Docuseries', 'Animals & Nature', 'Animation', 'Animation, Kids', 'Comedy, Coming of Age, Drama', 'Comedy, Family, Fantasy', 'Animation, Comedy, Drama', 'Animation, Family, Fantasy', 'Action-Adventure, Animation, Comedy', 'Comedy, Family', 'Action-Adventure, Comedy, Family', 'Lifestyle', 'Movies', 'Action-Adventure, Science Fiction', 'Action-Adventure, Fantasy, Superhero', 'Coming of Age, Music', 'Animation, Drama', 'Concert Film, Music', 'Animation, Comedy, Coming of Age', 'Animation, Comedy', 'Animation, Crime, Family', 'Science Fiction', 'Action-Adventure, Fantasy', 'Comedy, Fantasy, Kids', 'Action-Adventure, Comedy, Kids', 'Drama, Family, Fantasy', 'Action-Adventure, Science Fiction, Superhero', 'Drama, Sports', 'Comedy, Family, Sports', 'Action-Adventure, Animation, Kids', 'Animals & Nature, Reality', 'Documentary, Historical', 'Docuseries, Historical', 'Anthology, Comedy, Coming of Age', 'Reality', 'Animals & Nature, Docuseries, Medical', 'Animation, Coming of Age, Fantasy', 'Family, Variety', 'Docuseries', 'Action-Adventure, Science Fiction, Spy/Espionage', 'Animation, Buddy, Coming of Age', 'Action-Adventure, Animation, Science Fiction', 'Action-Adventure, Family, Fantasy', 'Animation, Family, Parody', 'Animation, Fantasy, Kids', 'Family, Game Show / Competition', 'Animals & Nature, Docuseries', 'Kids, Music', 'Animation, Science Fiction', 'Animation, Anthology, Science Fiction', 'Animals & Nature, Docuseries, Reality', 'Coming of Age, Drama, Romance', 'Action-Adventure, Animation, Anime', 'Comedy, Romance, Romantic Comedy', 'Animation, Fantasy, Musical', 'Animals & Nature, Documentary', 'Action-Adventure, Animation, Fantasy', 'Comedy, Coming of Age, Family', 'Action-Adventure, Family, Science Fiction', 'Crime, Drama', 'Comedy, Drama, Romance', 'Family, Music, Variety', 'Comedy, Drama, Thriller', 'Action-Adventure, Family, Parody', 'Animation, Kids, Police/Cop', 'Comedy, Family, Science Fiction', 'Action-Adventure, Animation, Anthology', 'Comedy, Drama', 'Animation, Anthology, Family', 'Animation, Buddy, Comedy', 'Animation, Buddy, Kids', 'Talk Show', 'Animals & Nature, Biographical, Documentary', 'Docuseries, Family', 'Action-Adventure, Buddy, Comedy', 'Animals & Nature, Drama, Family', 'Comedy, Coming of Age', 'Animals & Nature, Coming of Age, Drama', 'Animation, Fantasy', 'Action-Adventure, Docuseries, Reality', 'Animation, Kids, Sports', 'Animation, Comedy, Fantasy', 'Comedy, Sports', 'Action-Adventure, Comedy, Coming of Age', 'Action-Adventure, Reality, Survival', 'Action-Adventure, Family', 'Animation, Kids, Western', 'Action-Adventure, Animation, Family', 'Biographical, Coming of Age, Family', 'Action-Adventure, Comedy, Spy/Espionage', 'Action-Adventure, Fantasy, Science Fiction', 'Action-Adventure, Docuseries, Lifestyle', 'Action-Adventure, Drama, Historical', 'Animation, Dance, Family', 'Drama', 'Coming of Age, Drama', 'Coming of Age, Fantasy', 'Fantasy', 'Animation, Superhero', 'Animals & Nature, Animation, Kids', 'Action-Adventure, Family, Game Show / Competition', 'Biographical, Drama', 'Animation, Comedy, Parody', 'Anthology, Science Fiction', 'Fantasy, Musical', 'Biographical, Documentary, Music', 'Musical, Romance, Western', 'Action-Adventure, Comedy, Crime', 'Comedy, Coming of Age, Kids', 'Comedy, Drama, Sports', 'Animals & Nature, Anthology', 'Action-Adventure, Coming of Age, Family', 'Action-Adventure, Animals & Nature, Drama', 'Family, Kids', 'Action-Adventure, Animation', 'Comedy, Coming of Age, Crime', 'Biographical, Coming of Age, Drama', 'Action-Adventure, Biographical, Drama', 'Animation, Kids, Musical', 'Action-Adventure, Fantasy, Survival', 'Series', 'Animals & Nature, Comedy', 'Comedy, Reality', 'Action-Adventure, Buddy, Science Fiction', 'Animation, Kids, Medical', 'Anthology, Docuseries', 'Comedy, Family, Kids', 'Buddy, Comedy, Docuseries', 'Game Show / Competition, Sports, Variety', 'Comedy, Docuseries, Family', 'Comedy, Fantasy', 'Animation, Comedy, Kids', 'Family, Fantasy, Mystery', 'Variety', 'Comedy, Family, Variety', 'Anthology, Documentary', 'Family, Fantasy, Musical', 'Drama, Fantasy, Mystery', 'Family, Game Show / Competition, Reality', 'Action-Adventure, Docuseries, Fantasy', 'Action-Adventure, Docuseries, Family', 'Action-Adventure, Fantasy, Musical', 'Fantasy, Variety', 'Drama, Music, Romance', 'Biographical, Drama, Sports', 'Action-Adventure, Coming of Age, Drama', 'Action-Adventure, Fantasy, Soap Opera / Melodrama', 'Animals & Nature, Kids, Music', 'Documentary, Music', 'Coming of Age, Drama, Music', 'Action-Adventure, Animation, Buddy', 'Comedy, Variety', 'Docuseries, Reality', 'Biographical, Drama, Music', 'Animals & Nature, Documentary, Survival', 'Drama, Historical', 'Animals & Nature, Documentary, Family', 'Drama, Music', 'Biographical, Drama, Family', 'Anthology, Docuseries, Family', 'Drama, Romance', 'Docuseries, Historical, Reality', 'Documentary, Sports', 'Comedy, Drama, Family', 'Comedy, Parody, Science Fiction', 'Animals & Nature, Kids, Variety', 'Animation, Kids, Music', 'Coming of Age, Fantasy, Musical', 'Action-Adventure, Comedy, Science Fiction', 'Animals & Nature, Docuseries, Kids', 'Docuseries, Kids', 'Animals & Nature, Family, Reality', 'Dance, Music, Musical', 'Comedy, Family, Lifestyle', 'Buddy, Docuseries', 'Documentary, Family, Historical', 'Coming of Age, Drama, Family', 'Historical, Musical', 'Action-Adventure, Crime, Science Fiction', 'Biographical, Historical, Musical', 'Comedy, Coming of Age, Music', 'Animation, Documentary, Family', 'Action-Adventure, Animation, Coming of Age', 'Comedy, Kids', 'Action-Adventure, Crime, Fantasy', 'Comedy, Coming of Age, Medical', 'Drama, Family, Historical', 'Animals & Nature, Comedy, Family', 'Coming of Age, Fantasy, Mystery', 'Crime, Drama, Mystery', 'Animation, Comedy, Crime', 'Comedy, Musical, Romance', 'Action-Adventure, Docuseries, Historical', 'Action-Adventure, Animals & Nature, Family', 'Animation, Family, Sports', 'Action-Adventure, Mystery, Thriller', 'Docuseries, Family, Game Show / Competition', 'Concert Film, Music, Musical', 'Animals & Nature, Family', 'Comedy, Coming of Age, Romance', 'Animation, Family, Historical', 'Coming of Age, Drama, Musical', 'Action-Adventure, Disaster, Drama', 'Action-Adventure, Animation, Musical', 'Docuseries, Family, Lifestyle', 'Comedy, Fantasy, Romance', 'Comedy, Coming of Age, Fantasy', 'Buddy, Comedy, Drama', 'Animation, Family, Romance', 'Coming of Age, Drama, Science Fiction', 'Biographical, Comedy, Family', 'Animals & Nature, Family, Sports', 'Action-Adventure, Animation, Superhero', 'Docuseries, Science Fiction', 'Coming of Age, Documentary, Drama', 'Action-Adventure, Comedy, Fantasy', 'Action-Adventure, Documentary, Historical', 'Buddy, Docuseries, Lifestyle', 'Concert Film, Family, Fantasy', 'Animation, Comedy, Dance', 'Action-Adventure, Animals & Nature, Documentary', 'Coming of Age, Drama, Sports', 'Drama, Family', 'Drama, Family, Musical', 'Animation, Drama, Family', 'Animation, Drama, Kids', 'Animation, Anthology, Fantasy', 'Buddy, Comedy, Coming of Age', 'Animation, Family, Kids', 'Animation, Coming of Age, Family', 'Buddy, Coming of Age, Drama', 'Coming of Age, Docuseries, Family', 'Coming of Age, Music, Musical', 'Comedy, Coming of Age, Science Fiction', 'Drama, Family, Mystery', 'Animation, Comedy, Disaster', 'Sports', 'Comedy, Family, Game Show / Competition', 'Comedy, Mystery', 'Family, Fantasy, Romance', 'Action-Adventure, Family, Historical', 'Documentary, Family, Reality', 'Buddy, Comedy, Family', 'Anthology, Family, Lifestyle', 'Animation, Anthology, Comedy', 'Animation, Kids, Parody', 'Fantasy, Musical, Thriller', 'Family, Lifestyle, Reality', 'Documentary, Family, Variety', 'Biographical, Sports', 'Docuseries, Family, Medical', 'Comedy, Coming of Age, Sports', 'Action-Adventure, Crime, Family', 'Music, Reality', 'Drama, Parody, Science Fiction', 'Action-Adventure, Documentary, Sports', 'Drama, Mystery', 'Coming of Age, Sports', 'Coming of Age, Dance, Drama', 'Animation, Family, Music', 'Animals & Nature, Docuseries, Survival', 'Concert Film, Documentary, Music', 'Comedy, Family, Romantic Comedy', 'Coming of Age, Musical, Romance', 'Coming of Age, Musical', 'Coming of Age, Family, Musical', 'Animals & Nature, Comedy, Coming of Age', 'Biographical, Family, Sports', 'Comedy, Science Fiction', 'Animals & Nature, Documentary, Medical', 'Coming of Age, Dance, Sports', 'Action-Adventure, Coming of Age', 'Animation, Family, Musical', 'Action-Adventure, Documentary, Superhero', 'Buddy, Comedy', 'Drama, Historical, Sports', 'Action-Adventure, Documentary', 'Anthology, Comedy, Kids', 'Drama, Fantasy', 'Action-Adventure, Animals & Nature, Comedy', 'Kids', 'Animals & Nature, Animation, Family', 'Anthology, Comedy, Family', 'Animals & Nature, Coming of Age, Family', 'Family, Fantasy', 'Buddy, Family, Sports', 'Biographical, Drama, Historical', 'Animals & Nature, Biographical, Drama', 'Comedy, Crime, Family', 'Animation, Buddy, Family', 'Fantasy, Kids, Mystery', 'Action-Adventure, Family, Survival', 'Action-Adventure, Western', 'Buddy, Coming of Age, Family', 'Comedy, Family, Western', 'Action-Adventure, Science Fiction, Thriller', 'Animation, Anthology, Kids', 'Action-Adventure, Family, Western', 'Crime, Drama, Family', 'Comedy, Crime, Science Fiction', 'Comedy, Music', 'Action-Adventure, Comedy', 'Animation, Drama, Fantasy', 'Comedy, Family, Romance', 'Action-Adventure, Drama, Family', 'Biographical, Family, Historical', 'Buddy, Comedy, Romance', 'Action-Adventure, Family, Mystery', 'Coming of Age, Drama, Fantasy', 'Comedy, Crime, Fantasy', 'Action-Adventure, Coming of Age, Fantasy', 'Animals & Nature, Docuseries, Travel', 'Coming of Age, Musical, Science Fiction', 'Animation, Family, Mystery', 'Biographical, Comedy, Drama', 'Action-Adventure, Animals & Nature, Animation']\n"
     ]
    }
   ],
   "source": [
    "print(list_of_elements(data,10))"
   ]
  },
  {
   "cell_type": "markdown",
   "metadata": {},
   "source": [
    "## Step 7: Get the unique list of above categories and then the count in each category ##"
   ]
  },
  {
   "cell_type": "markdown",
   "metadata": {},
   "source": [
    "### Function description and output overview\n",
    "\n",
    "From the output of **Step 6**, it is clear that there are multiple genres listed in single row.\n",
    "\n",
    "So, a movie might be listed in animation as well as family.\n",
    "\n",
    "The function **`elements_count`** should return:\n",
    "  - The key value pair where\n",
    "    - key is the unique element\n",
    "    - value is the count of movies or TV shows or both with that unique element\n",
    "\n",
    "The function will take the following as parameters:\n",
    "1. **`my_data_local`**\n",
    "2. **`col_index_local`**\n",
    "3. **`sep_local`** which separates each items in one single cell. So if it is listed in 'animation, family', it should be considered in the count for both the genres\n",
    "\n",
    "For example, I want to get unique values and corresponding count in `listed_in`column in `disney_movies`.\n",
    "I will call this function on `disney_movies` and the output will be:\n",
    "\n",
    "```python\n",
    "{'Family': 533, 'Comedy': 407, 'Animation': 381, 'Action-Adventure': 314, 'Documentary': 174, 'Fantasy': 158, 'Coming of Age': 153, 'Animals & Nature': 130, 'Drama': 121, 'Science Fiction': 76, 'Biographical': 41, 'Musical': 40, 'Kids': 39, 'Music': 38, 'Sports': 38, 'Historical': 38, 'Buddy': 24, 'Romance': 19, 'Superhero': 16, 'Crime': 16, 'Mystery': 8, 'Concert Film': 7, 'Variety': 7, 'Parody': 7, 'Anthology': 7, 'Dance': 6, 'Thriller': 5, 'Western': 5, 'Reality': 4, 'Lifestyle': 3, 'Movies': 3, 'Survival': 3, 'Spy/Espionage': 2, 'Romantic Comedy': 2, 'Medical': 2, 'Disaster': 2}\n",
    "```"
   ]
  },
  {
   "cell_type": "markdown",
   "metadata": {},
   "source": [
    "### Pseudocode\n",
    "\n",
    "\n",
    "\n",
    "<span style=\"color:#fc5a37\"> UPDATE </span> the Pseudocode below for the requirement above.\n",
    "\n",
    "def elements_count(Give the parameters along with default values):\n",
    "\n",
    "  1. Create an empty dictionary and assign it to **`element_count_dict`**\n",
    "\n",
    "  2. Write a for loop to iterate over each row element in **`my_data_local`**\n",
    "      - If element in the row at **`col_index_local`** is not in the key of **`element_count_dict`**, add it and initialize the value to 1.\n",
    "      - If element in the row at **`col_index_local`** is in the **`element_count_dict`**, increment the value by 1.\n",
    "\n",
    "  3. Sort the dictionary based on the corresponding values in descending order. \n",
    "      \n",
    "  3. Return **`element_count_dict`**"
   ]
  },
  {
   "cell_type": "markdown",
   "metadata": {},
   "source": [
    "### Function definition\n",
    "Update the function definition below. Include DocString that would explain what this function does."
   ]
  },
  {
   "cell_type": "code",
   "execution_count": null,
   "metadata": {},
   "outputs": [],
   "source": [
    "data[2][10].split(',')"
   ]
  },
  {
   "cell_type": "code",
   "execution_count": 11,
   "metadata": {},
   "outputs": [],
   "source": [
    "def elements_count(my_data_local, col_index_local, sep_local=','):\n",
    "    \"\"\"\n",
    "    This function returns the key value pair where\n",
    "    - key is the unique element\n",
    "    - value is the count of movies or TV shows or both with that unique element \\n\n",
    "    It takes following parameters as input:\\n\n",
    "        1. Data\n",
    "        2. Column index\n",
    "        3. The delimiter which separate each element in a single cell \n",
    "    It returns a dictionary in which the key-value pairs are stored with value in descending order.\n",
    "    \"\"\"\n",
    "    element_count_dict = {}\n",
    "    for row in my_data_local:\n",
    "        cell_elements = row[col_index_local].split(sep_local)\n",
    "        for item in cell_elements:\n",
    "            item_strip = item.strip()\n",
    "            if item_strip not in element_count_dict:\n",
    "                element_count_dict[item_strip] = 1\n",
    "            else:\n",
    "                element_count_dict[item_strip] += 1\n",
    "    sorted_elements_count = dict(sorted(element_count_dict.items(), key=lambda x:x[1], reverse=True))\n",
    "    return sorted_elements_count"
   ]
  },
  {
   "cell_type": "markdown",
   "metadata": {},
   "source": [
    "### Calling Function\n",
    "Use above created function to print the unique list of Genres which is in the column `listed-in`.\n",
    "\n",
    "It should print this separately for **`Movies`** and **`TV Shows`**."
   ]
  },
  {
   "cell_type": "code",
   "execution_count": 12,
   "metadata": {},
   "outputs": [
    {
     "data": {
      "text/plain": [
       "{'Family': 533,\n",
       " 'Comedy': 407,\n",
       " 'Animation': 381,\n",
       " 'Action-Adventure': 314,\n",
       " 'Documentary': 174,\n",
       " 'Fantasy': 158,\n",
       " 'Coming of Age': 153,\n",
       " 'Animals & Nature': 130,\n",
       " 'Drama': 121,\n",
       " 'Science Fiction': 76,\n",
       " 'Biographical': 41,\n",
       " 'Musical': 40,\n",
       " 'Kids': 39,\n",
       " 'Music': 38,\n",
       " 'Sports': 38,\n",
       " 'Historical': 38,\n",
       " 'Buddy': 24,\n",
       " 'Romance': 19,\n",
       " 'Superhero': 16,\n",
       " 'Crime': 16,\n",
       " 'Mystery': 8,\n",
       " 'Concert Film': 7,\n",
       " 'Variety': 7,\n",
       " 'Parody': 7,\n",
       " 'Anthology': 7,\n",
       " 'Dance': 6,\n",
       " 'Thriller': 5,\n",
       " 'Western': 5,\n",
       " 'Reality': 4,\n",
       " 'Lifestyle': 3,\n",
       " 'Movies': 3,\n",
       " 'Survival': 3,\n",
       " 'Spy/Espionage': 2,\n",
       " 'Romantic Comedy': 2,\n",
       " 'Medical': 2,\n",
       " 'Disaster': 2}"
      ]
     },
     "execution_count": 12,
     "metadata": {},
     "output_type": "execute_result"
    }
   ],
   "source": [
    "elements_count(disney_movies, 10)"
   ]
  },
  {
   "cell_type": "code",
   "execution_count": 13,
   "metadata": {},
   "outputs": [
    {
     "data": {
      "text/plain": [
       "{'Animation': 161,\n",
       " 'Action-Adventure': 138,\n",
       " 'Docuseries': 122,\n",
       " 'Comedy': 119,\n",
       " 'Kids': 102,\n",
       " 'Family': 99,\n",
       " 'Animals & Nature': 78,\n",
       " 'Coming of Age': 52,\n",
       " 'Fantasy': 34,\n",
       " 'Reality': 22,\n",
       " 'Anthology': 21,\n",
       " 'Buddy': 16,\n",
       " 'Historical': 15,\n",
       " 'Science Fiction': 15,\n",
       " 'Drama': 13,\n",
       " 'Music': 10,\n",
       " 'Game Show / Competition': 10,\n",
       " 'Survival': 6,\n",
       " 'Sports': 5,\n",
       " 'Lifestyle': 5,\n",
       " 'Variety': 5,\n",
       " 'Medical': 4,\n",
       " 'Anime': 4,\n",
       " 'Musical': 4,\n",
       " 'Mystery': 4,\n",
       " 'Superhero': 3,\n",
       " 'Series': 3,\n",
       " 'Western': 2,\n",
       " 'Soap Opera / Melodrama': 2,\n",
       " 'Parody': 2,\n",
       " 'Police/Cop': 1,\n",
       " 'Talk Show': 1,\n",
       " 'Romance': 1,\n",
       " 'Spy/Espionage': 1,\n",
       " 'Travel': 1}"
      ]
     },
     "execution_count": 13,
     "metadata": {},
     "output_type": "execute_result"
    }
   ],
   "source": [
    "elements_count(disney_shows, 10)"
   ]
  },
  {
   "cell_type": "code",
   "execution_count": 14,
   "metadata": {},
   "outputs": [
    {
     "data": {
      "text/plain": [
       "{'Family': 632,\n",
       " 'Animation': 542,\n",
       " 'Comedy': 526,\n",
       " 'Action-Adventure': 452,\n",
       " 'Animals & Nature': 208,\n",
       " 'Coming of Age': 205,\n",
       " 'Fantasy': 192,\n",
       " 'Documentary': 174,\n",
       " 'Kids': 141,\n",
       " 'Drama': 134,\n",
       " 'Docuseries': 122,\n",
       " 'Science Fiction': 91,\n",
       " 'Historical': 53,\n",
       " 'Music': 48,\n",
       " 'Musical': 44,\n",
       " 'Sports': 43,\n",
       " 'Biographical': 41,\n",
       " 'Buddy': 40,\n",
       " 'Anthology': 28,\n",
       " 'Reality': 26,\n",
       " 'Romance': 20,\n",
       " 'Superhero': 19,\n",
       " 'Crime': 16,\n",
       " 'Variety': 12,\n",
       " 'Mystery': 12,\n",
       " 'Game Show / Competition': 10,\n",
       " 'Survival': 9,\n",
       " 'Parody': 9,\n",
       " 'Lifestyle': 8,\n",
       " 'Concert Film': 7,\n",
       " 'Western': 7,\n",
       " 'Medical': 6,\n",
       " 'Dance': 6,\n",
       " 'Thriller': 5,\n",
       " 'Anime': 4,\n",
       " 'Movies': 3,\n",
       " 'Spy/Espionage': 3,\n",
       " 'Series': 3,\n",
       " 'Romantic Comedy': 2,\n",
       " 'Soap Opera / Melodrama': 2,\n",
       " 'Disaster': 2,\n",
       " 'Police/Cop': 1,\n",
       " 'Talk Show': 1,\n",
       " 'Travel': 1}"
      ]
     },
     "execution_count": 14,
     "metadata": {},
     "output_type": "execute_result"
    }
   ],
   "source": [
    "elements_count(data,10)"
   ]
  },
  {
   "cell_type": "markdown",
   "metadata": {},
   "source": [
    "Fill the blanks below manually based on the output in the above two cells.\n",
    "\n",
    "The maximum movies are listed in __Family__ followed by __Comedy__.\n",
    "\n",
    "The maximum Shows are listed in __Animation__ followed by __Action-Adventure__."
   ]
  },
  {
   "cell_type": "markdown",
   "metadata": {},
   "source": [
    "## Step 8: What is the average duration of movies and shows ##"
   ]
  },
  {
   "cell_type": "markdown",
   "metadata": {},
   "source": [
    "### Function description and output overview\n",
    "\n",
    "You need to write two functions for this step:\n",
    "\n",
    "1. The duration of movies is in minutes and shows in seasons.\n",
    "\n",
    "    Define function **`duration_conversion`** that will remove the suffix <span style=\"color:#fc5a37\"> minutes </span> and <span style=\"color:#fc5a37\"> seasons </span> and convert them to numeric.\n",
    "\n",
    "    This should take below parameters:\n",
    "\n",
    "    a. my_data_local\n",
    "\n",
    "    b. col_index_local  \n",
    "  \n",
    "  \n",
    "2. Create a function **`average`** that will create the average of all the values in a column in given dataset.\n",
    "\n",
    "    This should take below parameters:\n",
    "\n",
    "    a. my_data_local\n",
    "    \n",
    "    b. col_index_local"
   ]
  },
  {
   "cell_type": "markdown",
   "metadata": {},
   "source": [
    "### Pseudocode\n",
    "\n",
    "1. Write pseudocode for function **`duration_conversion`** that will delete any suffixes after the space.\n",
    "\n",
    "2. Write pseudcode for function **`average`**"
   ]
  },
  {
   "cell_type": "markdown",
   "metadata": {},
   "source": [
    "### Function definition\n",
    "Update the function definition for **`duration_conversion`** and **`average`**."
   ]
  },
  {
   "cell_type": "code",
   "execution_count": 15,
   "metadata": {},
   "outputs": [],
   "source": [
    "def duration_conversion(my_data_local, col_index_local):\n",
    "    \"\"\"\n",
    "    This function will remove the suffix minutes or seasons and convert them to numeric.\\n\n",
    "    It takes following parameters as input:\\n\n",
    "        1. Data\n",
    "        2. Column index\n",
    "    It returns a list in which the column duration contains only numeric values.\n",
    "    \"\"\"\n",
    "    new_list = []\n",
    "    for row in my_data_local:\n",
    "        mod_row = row.copy()\n",
    "        position = row[col_index_local].find(' ')\n",
    "        mod_row[col_index_local] = int(mod_row[col_index_local][:position])\n",
    "        new_list.append(mod_row)\n",
    "    return new_list"
   ]
  },
  {
   "cell_type": "code",
   "execution_count": 16,
   "metadata": {},
   "outputs": [],
   "source": [
    "def average(my_data_local, col_index_local):\n",
    "    \"\"\"\n",
    "    This function returns the average of all the values in a column in given dataset\\n\n",
    "    It takes following parameters as input:\\n\n",
    "        1. Data\n",
    "        2. Column index\n",
    "    It returns the average of selected column.\n",
    "    \"\"\"\n",
    "    sum = 0\n",
    "    for row in my_data_local:\n",
    "        sum += row[col_index_local]\n",
    "    avg = sum / len(my_data_local)\n",
    "    return avg"
   ]
  },
  {
   "cell_type": "markdown",
   "metadata": {},
   "source": [
    "### Calling functions\n",
    "Use the newly created functions to calculate the average duration for movies. \n",
    "\n",
    "You will have to first call the function **`duration_conversion`** on disney_movies to convert the duration to numeric. \n",
    "\n",
    "Also, remember to store this in another data list **`disney_movies_mod`**. \n",
    "\n",
    "Now call your average function using this new data list to calculate the average duration of movies. \n",
    "\n",
    "The expected output is:\n",
    "\n",
    "<style>\n",
    "    .code_block {\n",
    "        background-color: #ff795c;\n",
    "        color: white;\n",
    "    }\n",
    "</style>\n",
    "\n",
    "<div class=\"code_block\">\n",
    "Average Duration of Movies in minutes:  71.9106463878327"
   ]
  },
  {
   "cell_type": "code",
   "execution_count": 17,
   "metadata": {},
   "outputs": [],
   "source": [
    "disney_movies_mod = duration_conversion(disney_movies, 9)"
   ]
  },
  {
   "cell_type": "code",
   "execution_count": 18,
   "metadata": {},
   "outputs": [],
   "source": [
    "avg_movies = average(disney_movies_mod, 9)"
   ]
  },
  {
   "cell_type": "code",
   "execution_count": 19,
   "metadata": {},
   "outputs": [
    {
     "name": "stdout",
     "output_type": "stream",
     "text": [
      "Average Duration of Movies in minutes:  71.9106463878327\n"
     ]
    }
   ],
   "source": [
    "print(\"Average Duration of Movies in minutes: \", avg_movies)"
   ]
  },
  {
   "cell_type": "markdown",
   "metadata": {},
   "source": [
    " Now Calculate the average duration for TV Shows. \n",
    " \n",
    " The Expected output is:\n",
    "\n",
    "<style>\n",
    "    .code_block {\n",
    "        background-color: #ff795c;\n",
    "        color: white;\n",
    "    }\n",
    "</style>\n",
    "\n",
    "<div class=\"code_block\">\n",
    " The average duration of TV shows is 2 seasons."
   ]
  },
  {
   "cell_type": "code",
   "execution_count": 20,
   "metadata": {},
   "outputs": [],
   "source": [
    "disney_shows_mod = duration_conversion(disney_shows, 9)"
   ]
  },
  {
   "cell_type": "code",
   "execution_count": 21,
   "metadata": {},
   "outputs": [
    {
     "name": "stdout",
     "output_type": "stream",
     "text": [
      "Average Duration of TV shows in seasons:  2.1180904522613067\n"
     ]
    }
   ],
   "source": [
    "avg_shows = average(disney_shows_mod, 9)\n",
    "print(\"Average Duration of TV shows in seasons: \", avg_shows)"
   ]
  },
  {
   "cell_type": "markdown",
   "metadata": {},
   "source": [
    "## (OPTIONAL) Step 9: Can you make your function more robust? ##\n",
    "\n",
    "### Function description and output overview\n",
    "Make a function **`filter_data`** to filter the data based on criteria in the input.\n",
    "\n",
    "Use this function **`filter_data`** in **`elements_count`** to generate statistics for filtered data. \n",
    "\n",
    "For example, if your content manager asks you to provide the count of movies based on genre only in Germany. \n",
    "\n",
    "You start working on the function and after some time he wants the data only for the year 2004. \n",
    "\n",
    "With this ever changing filtering criteria, you decide to make your function handle this dynamic changing filtering list. \n",
    "\n",
    "You now accept the filtering criteria in a dictionary. Where keys are the column index and value are the respective filter values.\n",
    "\n",
    "If I want to print the count of movies based on genre and without any filtering criteria. \n",
    "\n",
    "We need to just call the function like this:\n",
    "```python\n",
    "print(items_count(disney_movies, 10, ',', {}))\n",
    "```\n",
    "The output should look like:\n",
    "\n",
    "```python\n",
    "{'Family': 533, 'Comedy': 407, 'Animation': 381, 'Action-Adventure': 314, 'Documentary': 174, 'Fantasy': 158, 'Coming of Age': 153, 'Animals & Nature': 130, 'Drama': 121, 'Science Fiction': 76, 'Biographical': 41, 'Musical': 40, 'Kids': 39, 'Music': 38, 'Sports': 38, 'Historical': 38, 'Buddy': 24, 'Romance': 19, 'Superhero': 16, 'Crime': 16, 'Mystery': 8, 'Concert Film': 7, 'Variety': 7, 'Parody': 7, 'Anthology': 7, 'Dance': 6, 'Thriller': 5, 'Western': 5, 'Reality': 4, 'Lifestyle': 3, 'Movies': 3, 'Survival': 3, 'Spy/Espionage': 2, 'Romantic Comedy': 2, 'Medical': 2, 'Disaster': 2}\n",
    "```\n"
   ]
  },
  {
   "cell_type": "code",
   "execution_count": 22,
   "metadata": {},
   "outputs": [],
   "source": [
    "def filter_data(row_local, filter_local):\n",
    "    '''\n",
    "    This function will take one row of the data at a time and also the filter criteria in the form of a dictionary where key is the column location and the value is the filter value expected.\\n\n",
    "    It takes following parameters as input:\\n\n",
    "        1. List contains one row\n",
    "        2. Dictionary {column:criteria,...}\n",
    "    It will return a list which contains one row that fulfill the criteria, otherwise return a empty list. \n",
    "    '''\n",
    "    include_row_ll = True # By default, the row qualifies for the filtering criteria\n",
    "    # Write a for loop that will loop over all the key value pairs of the filters and check the values in the row.\n",
    "    # Inside for loop, write a if-else that will check if there are \",\" in that field. If yes, then create a list out of it splitting it and then checking each value for the filter values. Else, directly check it for the filter values.\n",
    "    if not filter_local:\n",
    "        new_row = row_local\n",
    "    else:\n",
    "        count = 0\n",
    "        for key in filter_local:\n",
    "            if row_local[key].find(',') != -1:\n",
    "                cell_items = row_local[key].split(',')\n",
    "                for item in cell_items:\n",
    "                    if filter_local[key] == item.strip():\n",
    "                        count += 1\n",
    "            else:\n",
    "                if filter_local[key] == row_local[key]:\n",
    "                    count += 1\n",
    "    if count == len(filter_local):\n",
    "        new_row = row_local\n",
    "    else:\n",
    "        new_row = []\n",
    "    return new_row"
   ]
  },
  {
   "cell_type": "code",
   "execution_count": 23,
   "metadata": {},
   "outputs": [
    {
     "data": {
      "text/plain": [
       "['s129',\n",
       " 'Movie',\n",
       " 'Eragon',\n",
       " 'Stefen Fangmeier',\n",
       " 'Ed Speleers, Jeremy Irons, Sienna Guillory, Robert Carlyle, John Malkovich, Garrett Hedlund',\n",
       " 'United States, United Kingdom, Hungary',\n",
       " 'August 20, 2021',\n",
       " '2006',\n",
       " 'PG',\n",
       " '104 min',\n",
       " 'Action-Adventure, Family, Fantasy',\n",
       " 'In a mythical time, a teenage boy becomes a dragon rider and embarks on a journey of adventure.']"
      ]
     },
     "execution_count": 23,
     "metadata": {},
     "output_type": "execute_result"
    }
   ],
   "source": [
    "filter_data(data[128], {5:'Hungary'})"
   ]
  },
  {
   "cell_type": "code",
   "execution_count": null,
   "metadata": {},
   "outputs": [],
   "source": [
    "data[128]"
   ]
  },
  {
   "cell_type": "code",
   "execution_count": 24,
   "metadata": {},
   "outputs": [],
   "source": [
    "def items_count(data_local, col_local, sep_local, filters_local):\n",
    "    '''\n",
    "    This function returns the filtered key value pair where\n",
    "    - key is the unique element\n",
    "    - value is the count of movies or TV shows or both with that unique element \\n\n",
    "    It takes following parameters as input:\\n\n",
    "        1. Data\n",
    "        2. Column to be looked into\n",
    "        3. The delimiter e.g. ','\n",
    "        4. Filter criteria as dictionary e.g. {column:criteria, ....}\n",
    "    It returns a dictionary in which the key-value pairs are stored with value in descending order. \n",
    "    '''    \n",
    "    #use `filter_data` function within this function\n",
    "    element_count_dict = {}\n",
    "    for row in data_local:\n",
    "        filtered_row = filter_data(row, filters_local)\n",
    "        if not filtered_row:\n",
    "            continue\n",
    "        else:\n",
    "            cell_elements = filtered_row[col_local].split(sep_local)\n",
    "            for item in cell_elements:\n",
    "                item_strip = item.strip()\n",
    "                if item_strip not in element_count_dict:\n",
    "                    element_count_dict[item_strip] = 1\n",
    "                else:\n",
    "                    element_count_dict[item_strip] += 1\n",
    "    sorted_elements_count = dict(sorted(element_count_dict.items(), key=lambda x:x[1], reverse=True))\n",
    "    return sorted_elements_count\n",
    "        "
   ]
  },
  {
   "cell_type": "code",
   "execution_count": 25,
   "metadata": {},
   "outputs": [
    {
     "data": {
      "text/plain": [
       "[]"
      ]
     },
     "execution_count": 25,
     "metadata": {},
     "output_type": "execute_result"
    }
   ],
   "source": [
    "filter_data(data[130],{5:'germany'})"
   ]
  },
  {
   "cell_type": "markdown",
   "metadata": {},
   "source": [
    "### Calling function\n",
    "\n",
    "Print the count of movies based on genre and without any filtering criteria."
   ]
  },
  {
   "cell_type": "code",
   "execution_count": null,
   "metadata": {},
   "outputs": [],
   "source": [
    "print(items_count(disney_movies, 10, ',', {}))"
   ]
  },
  {
   "cell_type": "markdown",
   "metadata": {},
   "source": [
    "Now, print the count of movies based on genre and only for Germany. So you will have to give the filter criteria as {5: 'Germany'}"
   ]
  },
  {
   "cell_type": "code",
   "execution_count": 29,
   "metadata": {},
   "outputs": [
    {
     "name": "stdout",
     "output_type": "stream",
     "text": [
      "{'Family': 2, 'Fantasy': 2, 'Action-Adventure': 2, 'Animation': 1, 'Comedy': 1, 'Coming of Age': 1}\n"
     ]
    }
   ],
   "source": [
    "print(items_count(disney_movies, 10, ',', {5:'Hungary'}))"
   ]
  },
  {
   "cell_type": "markdown",
   "metadata": {},
   "source": [
    "Now, print the count of movies based on genre and only for Germany and that too only for year 2004. Now the filter to be used is {5: 'Germany', 7: '2004'}\n",
    "\n",
    "The expected output is:\n",
    "\n",
    "```python \n",
    "{'Comedy': 2, 'Action-Adventure': 1, 'Family': 1, 'Coming of Age': 1}\n",
    "```"
   ]
  },
  {
   "cell_type": "code",
   "execution_count": 31,
   "metadata": {},
   "outputs": [
    {
     "name": "stdout",
     "output_type": "stream",
     "text": [
      "{}\n"
     ]
    }
   ],
   "source": [
    "print(items_count(disney_movies, 10, ',', {5:'China',7:'2004'}))"
   ]
  }
 ],
 "metadata": {
  "kernelspec": {
   "display_name": "Python 3 (ipykernel)",
   "language": "python",
   "name": "python3"
  },
  "language_info": {
   "codemirror_mode": {
    "name": "ipython",
    "version": 3
   },
   "file_extension": ".py",
   "mimetype": "text/x-python",
   "name": "python",
   "nbconvert_exporter": "python",
   "pygments_lexer": "ipython3",
   "version": "3.12.3"
  },
  "vscode": {
   "interpreter": {
    "hash": "619b955346cbfe204b67180c22b650d924d6345250d3da715f150ba579a03d34"
   }
  }
 },
 "nbformat": 4,
 "nbformat_minor": 2
}
