{
 "cells": [
  {
   "cell_type": "markdown",
   "id": "eaae7c2c",
   "metadata": {},
   "source": [
    "# Exercises"
   ]
  },
  {
   "cell_type": "code",
   "execution_count": 9,
   "id": "3df258d7",
   "metadata": {},
   "outputs": [],
   "source": [
    "import numpy as np\n",
    "import matplotlib.pyplot as plt\n",
    "import seaborn as sns\n",
    "import pandas as pd\n",
    "import numpy as np\n",
    "import matplotlib.pyplot as plt\n",
    "from scipy.stats import norm"
   ]
  },
  {
   "cell_type": "markdown",
   "id": "7faffb3f",
   "metadata": {},
   "source": [
    "## 1. Coin Flips"
   ]
  },
  {
   "cell_type": "markdown",
   "id": "02412668",
   "metadata": {},
   "source": [
    "1. Simulate a fair coin flip for 10 times and calculate the estimated probability of getting a head (number of times you got a head divided by 10). Repeat for 100, 1000 and 10000 times. How does the estimated probability changes ? How can we interpret that ?\n"
   ]
  },
  {
   "cell_type": "code",
   "execution_count": null,
   "id": "f5ce779d",
   "metadata": {},
   "outputs": [],
   "source": []
  },
  {
   "cell_type": "code",
   "execution_count": null,
   "id": "87f52fcc",
   "metadata": {},
   "outputs": [],
   "source": []
  },
  {
   "cell_type": "markdown",
   "id": "7c8a5bed",
   "metadata": {},
   "source": [
    "2. Plot the pmf of the Binomial distribution of n = 10n=10 and p = 0.5p=0.5. (hint: start by sampling from the distribution for 100_000 times)"
   ]
  },
  {
   "cell_type": "code",
   "execution_count": null,
   "id": "56fcd7b7",
   "metadata": {},
   "outputs": [],
   "source": []
  },
  {
   "cell_type": "markdown",
   "id": "a8c09cce",
   "metadata": {},
   "source": [
    "3. Research other commonly used probability distributions and the random real life processes and events they are used to model (chi2, t-student...)"
   ]
  },
  {
   "cell_type": "markdown",
   "id": "1a3b9386",
   "metadata": {},
   "source": [
    "## 2. Analyzing Exam Scores with the Normal Distribution"
   ]
  },
  {
   "cell_type": "markdown",
   "id": "603165c6",
   "metadata": {},
   "source": [
    "You are given a list of exam scores representing students’ performance in a class. Solve the following tasks to analyze the distribution of these scores using normal distribution concepts. The list of exam scores is:"
   ]
  },
  {
   "cell_type": "code",
   "execution_count": null,
   "id": "b90f82af",
   "metadata": {},
   "outputs": [],
   "source": [
    "exam_score =  [85, 90, 78, 92, 88, 95, 70, 60, 82, 75, 80, 98, 88, 91, 83, 77, 89, 94, 86, 72]"
   ]
  },
  {
   "cell_type": "markdown",
   "id": "1b05fefb",
   "metadata": {},
   "source": [
    "#### 1. Calculate the mean and standard deviation of the scores.\n",
    "    - Hint: Use the numpy mean and std functions.\n",
    "\n",
    "#### 2. Plot the distribution of the score as a histogram.\n",
    "\n",
    "#### 3. Plot the normal distribution curve of the scores.\n",
    "\n",
    "    - Hint: To visualize the normal distribution curve, you can use the norm.pdf function from scipy.stats (more details [here](https://www.mathsisfun.com/data/random-variables.html)) You will need to specify the mean and standard deviation calculated in Task 1 and create spaced numbers over the range of the scores which can be done using:"
   ]
  },
  {
   "cell_type": "code",
   "execution_count": null,
   "id": "2b403e9b",
   "metadata": {},
   "outputs": [],
   "source": [
    "x_range = np.linspace(min(exam_scores), max(exam_scores), 100)"
   ]
  },
  {
   "cell_type": "markdown",
   "id": "8b241f1a",
   "metadata": {},
   "source": [
    "4. Calculate the percentage of students who scored above a certain threshold score (for example above 80)\n",
    "\n",
    "    - Hint: In this case, you can use norm.cdf from scipy.stats\n",
    "\n",
    "(more details [here](https://docs.scipy.org/doc/scipy/reference/generated/scipy.stats.norm.html)) as the following:"
   ]
  },
  {
   "cell_type": "code",
   "execution_count": null,
   "id": "7d33f8c7",
   "metadata": {},
   "outputs": [],
   "source": []
  },
  {
   "cell_type": "code",
   "execution_count": null,
   "id": "87a25b06",
   "metadata": {},
   "outputs": [],
   "source": []
  }
 ],
 "metadata": {
  "kernelspec": {
   "display_name": "Python 3 (ipykernel)",
   "language": "python",
   "name": "python3"
  },
  "language_info": {
   "codemirror_mode": {
    "name": "ipython",
    "version": 3
   },
   "file_extension": ".py",
   "mimetype": "text/x-python",
   "name": "python",
   "nbconvert_exporter": "python",
   "pygments_lexer": "ipython3",
   "version": "3.11.5"
  }
 },
 "nbformat": 4,
 "nbformat_minor": 5
}
