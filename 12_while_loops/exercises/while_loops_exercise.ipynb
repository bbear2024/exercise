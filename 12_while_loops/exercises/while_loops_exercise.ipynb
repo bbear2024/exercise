{
 "cells": [
  {
   "cell_type": "markdown",
   "metadata": {},
   "source": [
    "### --- WHILE LOOP EXERCISES ---"
   ]
  },
  {
   "cell_type": "markdown",
   "metadata": {},
   "source": [
    "### Infinte Loop Question"
   ]
  },
  {
   "cell_type": "markdown",
   "metadata": {},
   "source": [
    "Q1: The following cell has code containing an infinte loop in it. Change it so that when run, it will stop. \n",
    "If you try something and nothing is printed, then an infinite loop is probably still there. \n",
    "To stop the notebook from calculating on forever, navigate to the top bar, click on the *Kernel* tab, and click on *Interrupt*. \n",
    "This forcibly stops Python from executing.  "
   ]
  },
  {
   "cell_type": "code",
   "execution_count": 3,
   "metadata": {},
   "outputs": [
    {
     "name": "stdout",
     "output_type": "stream",
     "text": [
      "45\n"
     ]
    }
   ],
   "source": [
    "total, x = 0, 1\n",
    "while x <= 9:\n",
    "    total += x\n",
    "    x += 1\n",
    "print(total)"
   ]
  },
  {
   "cell_type": "markdown",
   "metadata": {},
   "source": [
    "### while loop to sum number from 1 to 10"
   ]
  },
  {
   "cell_type": "markdown",
   "metadata": {},
   "source": [
    "Q2: use a while loop to sum number from 1 to 10"
   ]
  },
  {
   "cell_type": "code",
   "execution_count": 5,
   "metadata": {},
   "outputs": [
    {
     "name": "stdout",
     "output_type": "stream",
     "text": [
      "55\n"
     ]
    }
   ],
   "source": [
    "i = 1\n",
    "num_sum = 0\n",
    "\n",
    "# Enter code below\n",
    "while i <= 10:\n",
    "    num_sum += i\n",
    "    i += 1\n",
    "print(num_sum)"
   ]
  },
  {
   "cell_type": "markdown",
   "metadata": {},
   "source": [
    "### While loop for searching a data structure"
   ]
  },
  {
   "cell_type": "markdown",
   "metadata": {},
   "source": [
    "Q3: Write a while loop that searches for 'Waldo' in the list of names and stops if it is found.\n"
   ]
  },
  {
   "cell_type": "code",
   "execution_count": 14,
   "metadata": {},
   "outputs": [],
   "source": [
    "\n",
    "names  = ['Alice', 'Diane', 'Tom', 'Bob', 'Waldo', 'Ross', 'Sonia', 'Amy']\n",
    "\n",
    "found = False\n",
    "i = 0"
   ]
  },
  {
   "cell_type": "code",
   "execution_count": 15,
   "metadata": {},
   "outputs": [
    {
     "name": "stdout",
     "output_type": "stream",
     "text": [
      "We found Waldo, the index is 4\n"
     ]
    }
   ],
   "source": [
    "# Enter code below\n",
    "while found == False:\n",
    "    if names[i] == 'Waldo':\n",
    "        print(f'We found Waldo, the index is {i}')\n",
    "        found = True\n",
    "    else:\n",
    "        i += 1"
   ]
  },
  {
   "cell_type": "markdown",
   "metadata": {},
   "source": [
    "Q4: but what if Waldo is not there ?? Take the loop from Q3 and add a condition to print 'We found Waldo!' if 'Waldo' was found."
   ]
  },
  {
   "cell_type": "code",
   "execution_count": 32,
   "metadata": {},
   "outputs": [],
   "source": [
    "names = ['Alice', 'Diane', 'Tom', 'Bob', 'Harry', 'Ross', 'Sonia', 'Amy', 'Waldo']\n",
    "\n",
    "found = False\n",
    "i = 0"
   ]
  },
  {
   "cell_type": "code",
   "execution_count": 33,
   "metadata": {},
   "outputs": [
    {
     "name": "stdout",
     "output_type": "stream",
     "text": [
      "We found Waldo, the index is 8\n"
     ]
    }
   ],
   "source": [
    "# Enter code below\n",
    "while found == False:\n",
    "    if i < len(names):\n",
    "        if names[i] == 'Waldo':\n",
    "            print(f'We found Waldo, the index is {i}')\n",
    "            found = True\n",
    "        else:\n",
    "            i += 1\n",
    "    else:\n",
    "        print(\"We didnt't find Waldo\")\n",
    "        break"
   ]
  },
  {
   "cell_type": "code",
   "execution_count": 42,
   "metadata": {},
   "outputs": [
    {
     "name": "stdout",
     "output_type": "stream",
     "text": [
      "We found Waldo\n"
     ]
    }
   ],
   "source": [
    "names = ['Alice', 'Diane', 'Tom', 'Bob', 'Harry', 'Ross', 'Sonia', 'Amy', 'Ana', 'Waldo']\n",
    "x=0\n",
    "i = 0\n",
    "while i < len(names):\n",
    "     x = names[i]\n",
    "     if x != 'Waldo':\n",
    "        i += 1\n",
    "     else:\n",
    "        print('We found Waldo')\n",
    "        i += 1"
   ]
  }
 ],
 "metadata": {
  "kernelspec": {
   "display_name": "nf_base",
   "language": "python",
   "name": "python3"
  },
  "language_info": {
   "codemirror_mode": {
    "name": "ipython",
    "version": 3
   },
   "file_extension": ".py",
   "mimetype": "text/x-python",
   "name": "python",
   "nbconvert_exporter": "python",
   "pygments_lexer": "ipython3",
   "version": "3.12.3"
  },
  "orig_nbformat": 4
 },
 "nbformat": 4,
 "nbformat_minor": 2
}
