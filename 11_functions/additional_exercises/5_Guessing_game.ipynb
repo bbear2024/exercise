{
 "cells": [
  {
   "attachments": {},
   "cell_type": "markdown",
   "metadata": {},
   "source": [
    "# Exercise to build a simple game\n",
    "\n",
    "For this assignment you'll use functions to build a guessing game. \n",
    "\n",
    "You will be prompted to build small functions that make up the individual components of the game and then build a function to put them all together into a game that you can play.\n",
    "\n",
    "For example, pretend all of the following is the solution to one of the problems, written in a function first and then called (for testing purposes) below. \n",
    "\n",
    "```python \n",
    "# Write the function to get the players name\n",
    "def get_player_name(): \n",
    "    # Function code to solve the problem\n",
    "    return player_name\n",
    "\n",
    "# Write the function that does something\n",
    "def exciting_game_content(player_name):\n",
    "    # some stuff happens\n",
    "    return outcome\n",
    "\n",
    "# Write the code that brings the functions together\n",
    "def game_code():\n",
    "    print(\"Welcome to the game!)\n",
    "    player = get_player_name()\n",
    "    outcome = exciting_game_content(player_name)\n",
    "    if outcome == True:\n",
    "        print(\"You won!)\n",
    "    else: \n",
    "        print(\"You lost!)\n",
    "\n",
    "# Play the game by running the main function\n",
    "game_code()\n",
    "```\n",
    "\n",
    "\n",
    "### Pseudocode (Description of the solution without writing real code)\n",
    "This is the out line of what the program should do:\n",
    "\n",
    "Set the parameters of the game at the start:  \n",
    "    User says how many turns they want to guess before they lose. Nice to have: have ability to select an unlimited game.  \n",
    "    User determines the range of numbers from which the computer will select.  \n",
    "\n",
    "Randomly select an integer from a specified range and store in memory.  \n",
    "The user is asked to guess what the integer is.  \n",
    "If the inputted guess matches the number in memory the user wins!  \n",
    "Else the user is told whether the guess was too low or too high  \n",
    "    and the user is asked again to make a guess.  \n",
    "This continues in a loop until the user guesses correctly or the number of guesses is exhausted.  \n",
    "\n",
    "Extra Credit Extensions:  \n",
    "1. The game can operate on easy mode where the history of guesses and responses are printed or on hard mode where the screen is cleared after each guess and the user is not reminded of their previous guesses.  \n",
    "\n",
    "2. There can be a hint function that gives the user the best next number to guess based on performing a \"binary search algorithm\". In the binary search the next guess should be the one in the middle of problem space. So from a range of 0 to 10 the best guess is 5 because in the event of a wrong guess the resulting problem space is guaranteed to be minimized no matter if the guess was too low or too high.\n"
   ]
  },
  {
   "cell_type": "code",
   "execution_count": null,
   "metadata": {},
   "outputs": [],
   "source": [
    "# This part of the text is written as a code block made up of comments. \n",
    "# You can write the code directly under the comments to keep track of what you are doing.\n",
    "# Maybe you need to edit the comments as you go along based on how your code develops. \n",
    "\n",
    "# Part 1 - Individual functions\n",
    "## create a function the returns the user input of how many guesses should be allowed in the game\n",
    "## create a function that returns the user input for minimum and maximum values of the range to be used in the game\n",
    "## create a function that returns a random value that is inside a given range\n",
    "## create a function that returns a user input. Ensure that the input is a integer\n",
    "## create a function that compares two numbers and prints a message based on if they are equal or if the seconds is lower or higher than the first. It should return True if there is a match otherwise false\n",
    "\n",
    "# Part 2 - Main function\n",
    "## create a function that combines the 5 previous function into a single program, perhaps with some more text printouts that plays through the game from beginning to end.\n",
    "## run the main function\n",
    "\n",
    "# Part 3 - Extra Credit\n",
    "## Create easy version and hard version of the game functions\n",
    "## Create a new version of the main function that allows the user to select which version to play at the beginning\n",
    "\n",
    "## build a hint function that gives out the best number to guess based on the min, max and previous guesses and answers.\n",
    "## Display the hint when the user is guessing\n"
   ]
  },
  {
   "cell_type": "code",
   "execution_count": null,
   "metadata": {},
   "outputs": [],
   "source": [
    "# Solutions"
   ]
  },
  {
   "cell_type": "code",
   "execution_count": null,
   "metadata": {},
   "outputs": [],
   "source": [
    "## create a function the returns the user input of how many guesses should be allowed in the game\n",
    "def set_turn_limit():\n",
    "        while True:\n",
    "            try:\n",
    "                turn_limit = int(input(\"How many guesses do you want to have? For unlimited enter '0': \"))\n",
    "                return turn_limit\n",
    "            except ValueError:\n",
    "                print(\"Please enter an integer\")"
   ]
  },
  {
   "cell_type": "code",
   "execution_count": null,
   "metadata": {},
   "outputs": [],
   "source": [
    "## create a function that returns the user input for minimum and maximum values of the range to be used in the game\n",
    "def set_game_params():\n",
    "    min = input\n",
    "    while True:\n",
    "        try:\n",
    "            min = int(input(\"What lower bound do you want: \"))\n",
    "            break\n",
    "        except ValueError:\n",
    "            print(\"Please enter an integer\")\n",
    "    while True:\n",
    "        try:\n",
    "            max = int(input(\"What upper bound do you want: \"))\n",
    "            if max <= min:\n",
    "                print(\"The upper bound must be greater than the lower bound: \")\n",
    "                continue\n",
    "            else:    \n",
    "                break\n",
    "        except ValueError:\n",
    "            print(\"Please enter an integer\")\n",
    "    return min, max\n"
   ]
  },
  {
   "cell_type": "code",
   "execution_count": null,
   "metadata": {},
   "outputs": [],
   "source": [
    "\n",
    "##  create a function that returns a random value that is inside a given range\n",
    "import random\n",
    "def computer_select(min, max):\n",
    "    computer_selection = random.randint(min,max)\n",
    "    return computer_selection"
   ]
  },
  {
   "cell_type": "code",
   "execution_count": null,
   "metadata": {},
   "outputs": [],
   "source": [
    "## create a function that returns a user input. Ensure that the input is a integer\n",
    "def user_guess():\n",
    "    while True:\n",
    "        try:\n",
    "            user_input = int(input(\"What is your guess?:\"))\n",
    "            return user_input\n",
    "        except ValueError:\n",
    "            print(\"Please enter an integer\")\n"
   ]
  },
  {
   "cell_type": "code",
   "execution_count": null,
   "metadata": {},
   "outputs": [],
   "source": [
    "## create a function that compares two numbers and prints a message based on if they are equal or if the second is lower or higher than the first. It should return True if there is a match otherwise false\n",
    "def compare_numbers(user_input, computer_selection):\n",
    "    if user_input == computer_selection:\n",
    "        print(\"You guessed correctly\")\n",
    "        return True\n",
    "    elif user_input < computer_selection:\n",
    "        print(f\"Your guess of {user_input} is too low\")\n",
    "        return False\n",
    "    elif user_input > computer_selection:\n",
    "        print(f\"Your guess of {user_input} is too high\")\n",
    "        return False"
   ]
  },
  {
   "cell_type": "code",
   "execution_count": null,
   "metadata": {},
   "outputs": [],
   "source": [
    "## create a function that combines the 5 previous function into a single program, perhaps with some more text printouts that plays through the game from beginning to end.     \n",
    "\n",
    "def game_function():\n",
    "    print(\"Welcome to the game. You need to guess the number the computer has put in its memory.\")\n",
    "    print(\"Let's choose the conditions of the game\")\n",
    "    min, max = set_game_params()\n",
    "    turn_limit = set_turn_limit()\n",
    "    computer_selection = computer_select(min, max)\n",
    "    turns = 1\n",
    "    while turns <= turn_limit or turn_limit == 0:\n",
    "        if compare_numbers(user_guess(), computer_selection):\n",
    "            print(f\"You guessed right in {turns} turns! Nice Job\")\n",
    "            break\n",
    "        else:\n",
    "            turns +=1\n",
    "    print(f\"The right answer was {computer_selection}\")\n",
    "\n",
    "    "
   ]
  },
  {
   "cell_type": "code",
   "execution_count": null,
   "metadata": {},
   "outputs": [],
   "source": [
    "## run the main function\n",
    "game_function()"
   ]
  }
 ],
 "metadata": {
  "kernelspec": {
   "display_name": "eda_env",
   "language": "python",
   "name": "python3"
  },
  "language_info": {
   "codemirror_mode": {
    "name": "ipython",
    "version": 3
   },
   "file_extension": ".py",
   "mimetype": "text/x-python",
   "name": "python",
   "nbconvert_exporter": "python",
   "pygments_lexer": "ipython3",
   "version": "3.9.12"
  },
  "toc": {
   "base_numbering": 1,
   "nav_menu": {},
   "number_sections": true,
   "sideBar": true,
   "skip_h1_title": false,
   "title_cell": "Table of Contents",
   "title_sidebar": "Contents",
   "toc_cell": false,
   "toc_position": {},
   "toc_section_display": true,
   "toc_window_display": false
  },
  "varInspector": {
   "cols": {
    "lenName": 16,
    "lenType": 16,
    "lenVar": 40
   },
   "kernels_config": {
    "python": {
     "delete_cmd_postfix": "",
     "delete_cmd_prefix": "del ",
     "library": "var_list.py",
     "varRefreshCmd": "print(var_dic_list())"
    },
    "r": {
     "delete_cmd_postfix": ") ",
     "delete_cmd_prefix": "rm(",
     "library": "var_list.r",
     "varRefreshCmd": "cat(var_dic_list()) "
    }
   },
   "types_to_exclude": [
    "module",
    "function",
    "builtin_function_or_method",
    "instance",
    "_Feature"
   ],
   "window_display": false
  },
  "vscode": {
   "interpreter": {
    "hash": "4441cb1c31c4c9af61191f957ee9ff03d02b5db9cbb804a231e192138a05ca64"
   }
  }
 },
 "nbformat": 4,
 "nbformat_minor": 4
}
