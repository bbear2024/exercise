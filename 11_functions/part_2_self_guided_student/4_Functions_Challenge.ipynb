{
 "cells": [
  {
   "cell_type": "markdown",
   "metadata": {},
   "source": [
    "# Instructions \n",
    "\n",
    "For this assignment you'll be working through solving more problems, but this time by building functions from scratch. \n",
    "\n",
    "\n",
    "For each problem, you should build a function into your solution. We will build each function into it's own cell, and then call it with some arguments in the next cell right after you define it. \n",
    "\n",
    "\n",
    "For example, pretend all of the following is the solution to one of the problems, written in a function first and then called (for testing purposes) below. \n",
    "\n",
    "```python \n",
    "def my_func(param1, param2, param3): \n",
    "    # Function code to solve the problem\n",
    "\n",
    "print(my_func(param11, param21, param31))\n",
    "print(my_func(param12, param22, param32))\n",
    "print(my_func(param13, param23, param33))\n",
    "print(my_func(param14, param24, param34))\n",
    "print(my_func(param15, param25, param35))\n",
    "```\n",
    "\n",
    "Note above that `my_func` is called five times after it's definition. \n",
    "\n",
    "\n",
    "These tests should check that `my_func` works correctly with different sets of arguments. You should aim to test your functions at least 5 times after you write them. It's good to try to think of tests that your function might not solve correctly (we call these **edge cases**). Not only does thinking like this help you solve the problem, but it also gives you more faith in your solution.\n",
    "\n",
    "\n",
    "# Assignment Questions \n",
    "\n",
    "### Part 1 - Basic Practice \n",
    "\n",
    "For the first part of the assignment, we're going to get some practice taking something we've already written and translating it to a function. In continuation of prior assignments, \n",
    "\n",
    "1. Write a function that computes the factorial for an inputted number.  \n",
    "2. Write a function that determines whether or not an inputted number is prime, and then prints 'The number you inputted is a prime/ not a prime number.' depending on what your script finds (note that this means putting a `print` in front of the function when testing it will be redundant for this case). \n"
   ]
  },
  {
   "cell_type": "code",
   "execution_count": 3,
   "metadata": {},
   "outputs": [],
   "source": [
    "#1. Write a function that computes the factorial for an inputted number.  \n",
    "def factorial(n):\n",
    "    result = 1\n",
    "    for i in range(n):\n",
    "        result *= (i + 1)\n",
    "    return result"
   ]
  },
  {
   "cell_type": "code",
   "execution_count": 6,
   "metadata": {},
   "outputs": [
    {
     "data": {
      "text/plain": [
       "3628800"
      ]
     },
     "execution_count": 6,
     "metadata": {},
     "output_type": "execute_result"
    }
   ],
   "source": [
    "a = factorial(10)\n",
    "a"
   ]
  },
  {
   "cell_type": "code",
   "execution_count": 28,
   "metadata": {},
   "outputs": [],
   "source": [
    "#2. Write a function that determines whether or not an inputted number is prime, \n",
    "# and then prints 'The number you inputted is a prime/ not a prime number.' \n",
    "# depending on what your script finds (note that this means putting a `print` in front of \n",
    "# the function when testing it will be redundant for this case). \n",
    "def prime_or_not(n):\n",
    "    count = 0\n",
    "    if n == 1:\n",
    "        print('1 is not a prime number')\n",
    "    else:\n",
    "        for i in range(2,n):\n",
    "            if n % i == 0:\n",
    "                count += 1\n",
    "        if count == 0:\n",
    "            print(f'{n} is a prime number')\n",
    "        else:\n",
    "            print(f'{n} is not a prime number')\n"
   ]
  },
  {
   "cell_type": "code",
   "execution_count": 41,
   "metadata": {},
   "outputs": [
    {
     "name": "stdout",
     "output_type": "stream",
     "text": [
      "23 is a prime number\n"
     ]
    }
   ],
   "source": [
    "prime_or_not(23)"
   ]
  },
  {
   "cell_type": "markdown",
   "metadata": {},
   "source": [
    "\n",
    "### Part 2 - Advanced Practice \n",
    "\n",
    "Now we're going to push our problem solving and programming skills even further by coding up functions to solve new problems. For each of the problems below, I would suggest coding it up in a similar way to how you did the other two (building the function, and then calling it some number of times (5) to test it out after that). \n",
    "\n",
    "1. Write a function that counts the number of words in an inputted string, where we consider words to be separated by spaces. \n",
    "2. Write a function that counts the number of words in an inputted string, where we consider words to be separated by a specified delimiter (so your function should accept two arguments, one for the string and one for the delimiter) and a space is defined as the default delimiter.  \n",
    "3. Write a function that takes in a string, and returns a list that holds the length of each word in the phrase, separated by an inputted delimiter (so you're function should accept two arguments again). Make a space the default delimiter like you did in `2`. For example, if the arguments to your function were `This is a test string` (and nothing else), your function should return `[4, 2, 1, 4, 6]`. Go ahead and don't worry about removing punctuation (you can include it in the word length - e.g. \"this.\" has five letters, if we count the period). \n",
    "4. Write a function that returns all the prime numbers up to an inputted number (**Hint**: It might be helpful to use/modify the prime function you wrote earlier).    \n",
    "5. Write a function that takes in a list of numbers, as well as an additional number (i.e. two arguments), and returns a list of `yes` or `no` depending on whether each number in the list is divisible by the second number. For example, if I input `[10, 25, 36, 12, 20]` as the list of numbers, and `5` as the additional number, your function should return `['yes', 'yes', 'no', 'no', 'yes']`.\n",
    "6. Write a function that takes in a list of strings, as well as an inputted letter (which looks like a string with a single character), and returns a list of only those strings from the input list that end with that letter. For example, if I input `['I', 'am', 'in', 'love', 'with', 'Python']` as the list of strings, and `n` as the inputted letter, your function should return `['in', 'Python']`.\n",
    "7. Write a function that takes in a list of strings, as well as an inputted substring (i.e. another string), and returns a list of the indices of the strings that contain that inputted substring. For example, if I input `['This', 'is, 'an' , 'example']` as the list of strings, and `is` as the substring, your function should return `[0, 1]`.\n"
   ]
  },
  {
   "cell_type": "code",
   "execution_count": 46,
   "metadata": {},
   "outputs": [],
   "source": [
    "#1. Write a function that counts the number of words in an inputted string, \n",
    "# where we consider words to be separated by spaces. \n",
    "def count_words(txt):\n",
    "    count = 0\n",
    "    txt_cleaned = txt.strip()\n",
    "    for i in txt_cleaned:\n",
    "        if i == ' ':\n",
    "            count += 1\n",
    "    return print(f'The string contains {count + 1} word(s)')"
   ]
  },
  {
   "cell_type": "code",
   "execution_count": 49,
   "metadata": {},
   "outputs": [
    {
     "name": "stdout",
     "output_type": "stream",
     "text": [
      "The string contains 4 word(s)\n"
     ]
    }
   ],
   "source": [
    "count_words(' some sdgdfg ,sdgd sdgj')"
   ]
  },
  {
   "cell_type": "code",
   "execution_count": 54,
   "metadata": {},
   "outputs": [],
   "source": [
    "#2. Write a function that counts the number of words in an inputted string, \n",
    "# where we consider words to be separated by a specified delimiter \n",
    "# (so your function should accept two arguments, one for the string and one for the delimiter) \n",
    "# and a space is defined as the default delimiter.  \n",
    "def count_words(txt, delimiter=' '):\n",
    "    count = 0\n",
    "    txt_cleaned = txt.strip(delimiter)\n",
    "    for i in txt_cleaned:\n",
    "        if i == delimiter:\n",
    "            count += 1\n",
    "    return print(f'The string contains {count + 1} word(s)')"
   ]
  },
  {
   "cell_type": "code",
   "execution_count": 58,
   "metadata": {},
   "outputs": [
    {
     "name": "stdout",
     "output_type": "stream",
     "text": [
      "The string contains 5 word(s)\n",
      "The string contains 5 word(s)\n",
      "The string contains 1 word(s)\n",
      "The string contains 2 word(s)\n",
      "The string contains 1 word(s)\n"
     ]
    }
   ],
   "source": [
    "count_words(' sdkjga, sdfodg,sdfsdf, er ,sd ',',')\n",
    "count_words(',sdkjga,    sdfodg,word,!?\" er ,sd ,',',')\n",
    "count_words(' sdkjga, sdfodg,sdfsdf, er ,sd ','?')\n",
    "count_words(' sdkjga, sdfodg!sdfsdf, er ,sd ','!')\n",
    "count_words('/ sdkjga, sdfodg,sdfsdf, er ,sd /','/')"
   ]
  },
  {
   "cell_type": "markdown",
   "metadata": {},
   "source": [
    "\n",
    "### Extra Challenge\n",
    "\n",
    "1. Let's build a calculator for figuring out how much I owe in taxes (and by calculator, I mean function). Write a function that takes in a list of tuples, where each tuple contains two values, as well as an income to compute the taxes on (so your function should accept two arguments). For the tuple list, the first value of a tuple will be an income upper bound, and the second will be a tax rate for all income up to the given income bound. You need to build a calculator that will calculate the tax for all income up to each income bound (if it goes up that high) for the given tax rate. You can assume that the list of tuples will be sorted by the income bound (e.g. the first value in the tuple), such that the lowest income bound will be first, and the highest last (see below for an example).  \n",
    "\n",
    " As an example, let's say my tax info is `[(50000, 0.08), (100000, 0.10), (150000, 0.15)]`. This means that the first 50k of income is taxed at 8%, the second 50k at 10%, and the rest at 15% (note here that any income that is left past the highest upper bound given is taxed at the rate for that highest upper bound). So, if the inputted income was 70k, then my taxes would be 50 * 0.08 + 20 * 0.10 = 6k. You should write your function to be generalized and accept any kind of list of tuples and any inputted income (so it'll accept two arguments).  \n",
    "\n",
    "2. Now modify your solution to `Extra Credit 1` to accept a list of tuples that is not sorted by the income bound. \n",
    "\n",
    " **Hint**: Trying using the `sorted` function and working with the `key` argument (a [lambda](https://www.educative.io/blog/python-lambda-functions-tutorial) function will probably be helpful here). "
   ]
  },
  {
   "cell_type": "code",
   "execution_count": null,
   "metadata": {},
   "outputs": [],
   "source": []
  }
 ],
 "metadata": {
  "kernelspec": {
   "display_name": "Python 3",
   "language": "python",
   "name": "python3"
  },
  "language_info": {
   "codemirror_mode": {
    "name": "ipython",
    "version": 3
   },
   "file_extension": ".py",
   "mimetype": "text/x-python",
   "name": "python",
   "nbconvert_exporter": "python",
   "pygments_lexer": "ipython3",
   "version": "3.12.3"
  },
  "toc": {
   "base_numbering": 1,
   "nav_menu": {},
   "number_sections": true,
   "sideBar": true,
   "skip_h1_title": false,
   "title_cell": "Table of Contents",
   "title_sidebar": "Contents",
   "toc_cell": false,
   "toc_position": {},
   "toc_section_display": true,
   "toc_window_display": false
  },
  "varInspector": {
   "cols": {
    "lenName": 16,
    "lenType": 16,
    "lenVar": 40
   },
   "kernels_config": {
    "python": {
     "delete_cmd_postfix": "",
     "delete_cmd_prefix": "del ",
     "library": "var_list.py",
     "varRefreshCmd": "print(var_dic_list())"
    },
    "r": {
     "delete_cmd_postfix": ") ",
     "delete_cmd_prefix": "rm(",
     "library": "var_list.r",
     "varRefreshCmd": "cat(var_dic_list()) "
    }
   },
   "types_to_exclude": [
    "module",
    "function",
    "builtin_function_or_method",
    "instance",
    "_Feature"
   ],
   "window_display": false
  }
 },
 "nbformat": 4,
 "nbformat_minor": 4
}
