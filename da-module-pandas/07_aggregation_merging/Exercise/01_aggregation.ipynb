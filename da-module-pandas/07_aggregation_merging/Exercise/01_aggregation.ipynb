{
 "cells": [
  {
   "cell_type": "markdown",
   "metadata": {},
   "source": [
    "Using the gapminder_total dataset solve the following tasks with pandas."
   ]
  },
  {
   "cell_type": "markdown",
   "metadata": {},
   "source": [
    "1. Read in data:\n",
    "df = pd.read_csv('../data/gapminder_total.csv')\n",
    "\n",
    "2. What is the median population in the data set?\n",
    "\n",
    "3. How often does each continent appear in the data set?\n",
    "\n",
    "4. Which continent has the lowest average fertility rate overall?\n",
    "\n",
    "5. What was the average life expectancy in Europe in 2015? \n",
    "Hint: first filter for 2015 then apply groupby.\n",
    "\n",
    "6. How many countries does each continent have in the dataset?\n",
    "Hint: filter for one year and count\n",
    "\n",
    "7. What is the average population of a European country in 1976 compare to 2015?\n",
    "Hint: once again filter for the year in question and do each year separately to compare\n",
    "\n",
    "BONUS\n",
    "\n",
    "8. What is the highest population a continent ever had?\n",
    "Hint: group by multiple columns\n",
    "\n",
    "9. Which continent had that population and in which year?\n",
    "Hint: group by multiple columns and filter for the result from #6"
   ]
  },
  {
   "cell_type": "code",
   "execution_count": 2,
   "metadata": {},
   "outputs": [],
   "source": [
    "import pandas as pd\n",
    "df = pd.read_csv('../data/gapminder_total.csv')"
   ]
  },
  {
   "cell_type": "code",
   "execution_count": 9,
   "metadata": {},
   "outputs": [
    {
     "name": "stdout",
     "output_type": "stream",
     "text": [
      "The median poplutation is 5190648.5\n"
     ]
    }
   ],
   "source": [
    "#2. What is the median population in the data set?\n",
    "print(f\"The median poplutation is {df['population'].median()}\")\n"
   ]
  },
  {
   "cell_type": "code",
   "execution_count": 7,
   "metadata": {},
   "outputs": [
    {
     "name": "stdout",
     "output_type": "stream",
     "text": [
      "Africa appears in the data set 3234 times.\n",
      "Asia appears in the data set 2574 times.\n",
      "Australia and Oceania appears in the data set 594 times.\n",
      "Europe appears in the data set 2640 times.\n",
      "North America appears in the data set 1254 times.\n",
      "South America appears in the data set 792 times.\n"
     ]
    }
   ],
   "source": [
    "#3. How often does each continent appear in the data set?\n",
    "dic = dict(df.groupby(['continent']).size())\n",
    "for conti in dic:\n",
    "    print(f'{conti} appears in the data set {dic[conti]} times.')"
   ]
  },
  {
   "cell_type": "code",
   "execution_count": 8,
   "metadata": {},
   "outputs": [
    {
     "data": {
      "text/plain": [
       "continent\n",
       "Africa                   3234\n",
       "Europe                   2640\n",
       "Asia                     2574\n",
       "North America            1254\n",
       "South America             792\n",
       "Australia and Oceania     594\n",
       "Name: count, dtype: int64"
      ]
     },
     "execution_count": 8,
     "metadata": {},
     "output_type": "execute_result"
    }
   ],
   "source": [
    "#3. How often does each continent appear in the data set?\n",
    "df['continent'].value_counts()\n"
   ]
  },
  {
   "cell_type": "code",
   "execution_count": 11,
   "metadata": {},
   "outputs": [
    {
     "name": "stdout",
     "output_type": "stream",
     "text": [
      "Europe has the lowest fertility rate overall: 2.17\n"
     ]
    }
   ],
   "source": [
    "#4. Which continent has the lowest average fertility rate overall?\n",
    "fertility_avg = df.groupby('continent')['fertility'].mean()\n",
    "fertility_avg_min = fertility_avg.min()\n",
    "for i, value in fertility_avg.items():\n",
    "    if value == fertility_avg_min:\n",
    "        print(i,'has the lowest fertility rate overall:', round(value,2))\n",
    "        "
   ]
  },
  {
   "cell_type": "code",
   "execution_count": 16,
   "metadata": {},
   "outputs": [
    {
     "name": "stdout",
     "output_type": "stream",
     "text": [
      "Europe has the lowest fertility rate overall: 2.17\n"
     ]
    }
   ],
   "source": [
    "#4. Which continent has the lowest average fertility rate overall?\n",
    "conti_low_fertility = df.groupby('continent')['fertility'].mean().idxmin()\n",
    "lowest_fertility = df.groupby('continent')['fertility'].mean().min()\n",
    "print(conti_low_fertility,'has the lowest fertility rate overall:', round(lowest_fertility,2))\n",
    "        "
   ]
  },
  {
   "cell_type": "code",
   "execution_count": 18,
   "metadata": {},
   "outputs": [
    {
     "name": "stdout",
     "output_type": "stream",
     "text": [
      "The average life expectancy in Europe in 2015 is 78.8 years old.\n"
     ]
    }
   ],
   "source": [
    "# 5. What was the average life expectancy in Europe in 2015? \n",
    "mask_2015 = df['year'] == 2015\n",
    "life_expectancy_avg_2015 = df[mask_2015].groupby('continent')['life_expectancy'].mean()\n",
    "print('The average life expectancy in Europe in 2015 is', round(life_expectancy_avg_2015['Europe'],1), 'years old.')"
   ]
  },
  {
   "cell_type": "code",
   "execution_count": 21,
   "metadata": {},
   "outputs": [
    {
     "name": "stdout",
     "output_type": "stream",
     "text": [
      "There are 49 countries in Africa.\n",
      "There are 39 countries in Asia.\n",
      "There are 9 countries in Australia and Oceania.\n",
      "There are 40 countries in Europe.\n",
      "There are 19 countries in North America.\n",
      "There are 12 countries in South America.\n"
     ]
    }
   ],
   "source": [
    "# 6. How many countries does each continent have in the dataset?\n",
    "unique_countries_in_continent = df.groupby('continent')['country'].nunique()\n",
    "for i, value in unique_countries_in_continent.items():\n",
    "    print(f'There are {value} countries in {i}.')"
   ]
  },
  {
   "cell_type": "code",
   "execution_count": 25,
   "metadata": {},
   "outputs": [
    {
     "data": {
      "image/png": "[encoded data removed]",
      "text/plain": [
       "<Figure size 640x480 with 1 Axes>"
      ]
     },
     "metadata": {},
     "output_type": "display_data"
    }
   ],
   "source": [
    "# 7. What is the average population of a European country in 1976 compare to 2015?\n",
    "import matplotlib.pyplot as plt\n",
    "mask_1976 = df['year'] == 1976\n",
    "mask_2015 = df['year'] == 2015\n",
    "p_avg_1976 = dict(df[mask_1976].groupby('continent')['population'].mean())\n",
    "p_avg_2015 = dict(df[mask_2015].groupby('continent')['population'].mean())\n",
    "# x = pd.DataFrame([[1976,2015],[p_avg_1976['Europe'],p_avg_2015['Europe']]])\n",
    "# y = [p_avg_1976['Europe'],p_avg_2015['Europe']]\n",
    "x = pd.DataFrame({'year':[1976,2015],'average_population':[p_avg_1976['Europe'],p_avg_2015['Europe']]})\n",
    "x.plot(kind='bar', x='year');"
   ]
  },
  {
   "cell_type": "code",
   "execution_count": 98,
   "metadata": {},
   "outputs": [
    {
     "data": {
      "text/plain": [
       "continent\n",
       "Africa                   1.822020e+08\n",
       "Asia                     1.376049e+09\n",
       "Australia and Oceania    2.396897e+07\n",
       "Europe                   8.201018e+07\n",
       "North America            3.217736e+08\n",
       "South America            2.078475e+08\n",
       "Name: population, dtype: float64"
      ]
     },
     "execution_count": 98,
     "metadata": {},
     "output_type": "execute_result"
    }
   ],
   "source": [
    "# 8. What is the highest population a continent ever had?\n",
    "df.groupby('continent')['population'].max()"
   ]
  },
  {
   "cell_type": "code",
   "execution_count": 3,
   "metadata": {},
   "outputs": [
    {
     "data": {
      "text/plain": [
       "np.float64(4271610225.0)"
      ]
     },
     "execution_count": 3,
     "metadata": {},
     "output_type": "execute_result"
    }
   ],
   "source": [
    "# 8. What is the highest population a continent ever had?\n",
    "df.groupby(['continent','year'])['population'].sum().max()"
   ]
  },
  {
   "cell_type": "code",
   "execution_count": 27,
   "metadata": {},
   "outputs": [
    {
     "data": {
      "text/plain": [
       "('Asia', 2015)"
      ]
     },
     "execution_count": 27,
     "metadata": {},
     "output_type": "execute_result"
    }
   ],
   "source": [
    "# 9. Which continent had that population and in which year?\n",
    "df.groupby(['continent','year'])['population'].sum().idxmax()"
   ]
  },
  {
   "cell_type": "code",
   "execution_count": 21,
   "metadata": {},
   "outputs": [
    {
     "data": {
      "text/html": [
       "<div>\n",
       "<style scoped>\n",
       "    .dataframe tbody tr th:only-of-type {\n",
       "        vertical-align: middle;\n",
       "    }\n",
       "\n",
       "    .dataframe tbody tr th {\n",
       "        vertical-align: top;\n",
       "    }\n",
       "\n",
       "    .dataframe thead th {\n",
       "        text-align: right;\n",
       "    }\n",
       "</style>\n",
       "<table border=\"1\" class=\"dataframe\">\n",
       "  <thead>\n",
       "    <tr style=\"text-align: right;\">\n",
       "      <th></th>\n",
       "      <th>continent</th>\n",
       "      <th>country</th>\n",
       "      <th>year</th>\n",
       "      <th>life_expectancy</th>\n",
       "      <th>fertility</th>\n",
       "      <th>population</th>\n",
       "    </tr>\n",
       "  </thead>\n",
       "  <tbody>\n",
       "    <tr>\n",
       "      <th>0</th>\n",
       "      <td>Africa</td>\n",
       "      <td>Algeria</td>\n",
       "      <td>1950</td>\n",
       "      <td>42.77</td>\n",
       "      <td>7.65</td>\n",
       "      <td>8872247.0</td>\n",
       "    </tr>\n",
       "    <tr>\n",
       "      <th>1</th>\n",
       "      <td>Africa</td>\n",
       "      <td>Algeria</td>\n",
       "      <td>1951</td>\n",
       "      <td>43.03</td>\n",
       "      <td>7.65</td>\n",
       "      <td>9039913.0</td>\n",
       "    </tr>\n",
       "    <tr>\n",
       "      <th>2</th>\n",
       "      <td>Africa</td>\n",
       "      <td>Algeria</td>\n",
       "      <td>1952</td>\n",
       "      <td>43.50</td>\n",
       "      <td>7.65</td>\n",
       "      <td>9216395.0</td>\n",
       "    </tr>\n",
       "    <tr>\n",
       "      <th>3</th>\n",
       "      <td>Africa</td>\n",
       "      <td>Algeria</td>\n",
       "      <td>1953</td>\n",
       "      <td>43.96</td>\n",
       "      <td>7.65</td>\n",
       "      <td>9405445.0</td>\n",
       "    </tr>\n",
       "    <tr>\n",
       "      <th>4</th>\n",
       "      <td>Africa</td>\n",
       "      <td>Algeria</td>\n",
       "      <td>1954</td>\n",
       "      <td>44.44</td>\n",
       "      <td>7.65</td>\n",
       "      <td>9609507.0</td>\n",
       "    </tr>\n",
       "    <tr>\n",
       "      <th>...</th>\n",
       "      <td>...</td>\n",
       "      <td>...</td>\n",
       "      <td>...</td>\n",
       "      <td>...</td>\n",
       "      <td>...</td>\n",
       "      <td>...</td>\n",
       "    </tr>\n",
       "    <tr>\n",
       "      <th>11083</th>\n",
       "      <td>South America</td>\n",
       "      <td>Venezuela</td>\n",
       "      <td>2011</td>\n",
       "      <td>74.80</td>\n",
       "      <td>2.44</td>\n",
       "      <td>29427631.0</td>\n",
       "    </tr>\n",
       "    <tr>\n",
       "      <th>11084</th>\n",
       "      <td>South America</td>\n",
       "      <td>Venezuela</td>\n",
       "      <td>2012</td>\n",
       "      <td>74.60</td>\n",
       "      <td>2.42</td>\n",
       "      <td>29854238.0</td>\n",
       "    </tr>\n",
       "    <tr>\n",
       "      <th>11085</th>\n",
       "      <td>South America</td>\n",
       "      <td>Venezuela</td>\n",
       "      <td>2013</td>\n",
       "      <td>74.70</td>\n",
       "      <td>2.39</td>\n",
       "      <td>30276045.0</td>\n",
       "    </tr>\n",
       "    <tr>\n",
       "      <th>11086</th>\n",
       "      <td>South America</td>\n",
       "      <td>Venezuela</td>\n",
       "      <td>2014</td>\n",
       "      <td>74.80</td>\n",
       "      <td>2.36</td>\n",
       "      <td>30693827.0</td>\n",
       "    </tr>\n",
       "    <tr>\n",
       "      <th>11087</th>\n",
       "      <td>South America</td>\n",
       "      <td>Venezuela</td>\n",
       "      <td>2015</td>\n",
       "      <td>74.80</td>\n",
       "      <td>2.34</td>\n",
       "      <td>31108083.0</td>\n",
       "    </tr>\n",
       "  </tbody>\n",
       "</table>\n",
       "<p>11088 rows × 6 columns</p>\n",
       "</div>"
      ],
      "text/plain": [
       "           continent    country  year  life_expectancy  fertility  population\n",
       "0             Africa    Algeria  1950            42.77       7.65   8872247.0\n",
       "1             Africa    Algeria  1951            43.03       7.65   9039913.0\n",
       "2             Africa    Algeria  1952            43.50       7.65   9216395.0\n",
       "3             Africa    Algeria  1953            43.96       7.65   9405445.0\n",
       "4             Africa    Algeria  1954            44.44       7.65   9609507.0\n",
       "...              ...        ...   ...              ...        ...         ...\n",
       "11083  South America  Venezuela  2011            74.80       2.44  29427631.0\n",
       "11084  South America  Venezuela  2012            74.60       2.42  29854238.0\n",
       "11085  South America  Venezuela  2013            74.70       2.39  30276045.0\n",
       "11086  South America  Venezuela  2014            74.80       2.36  30693827.0\n",
       "11087  South America  Venezuela  2015            74.80       2.34  31108083.0\n",
       "\n",
       "[11088 rows x 6 columns]"
      ]
     },
     "execution_count": 21,
     "metadata": {},
     "output_type": "execute_result"
    }
   ],
   "source": [
    "df"
   ]
  }
 ],
 "metadata": {
  "kernelspec": {
   "display_name": "base",
   "language": "python",
   "name": "python3"
  },
  "language_info": {
   "codemirror_mode": {
    "name": "ipython",
    "version": 3
   },
   "file_extension": ".py",
   "mimetype": "text/x-python",
   "name": "python",
   "nbconvert_exporter": "python",
   "pygments_lexer": "ipython3",
   "version": "3.12.3"
  }
 },
 "nbformat": 4,
 "nbformat_minor": 2
}
