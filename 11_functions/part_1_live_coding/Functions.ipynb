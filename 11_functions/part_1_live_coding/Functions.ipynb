{
 "cells": [
  {
   "cell_type": "markdown",
   "metadata": {},
   "source": [
    "# Introduction to Functions\n",
    "\n",
    "## Defintion\n",
    "\n",
    "- Functions are a small independent piece of code.\n",
    "- small independent piece of code is only executed when the function is 'called'.\n",
    "- Functions can take input- and outpunt variables.\n",
    "- allows other people to use the same function without knowling all the details of the code\n",
    "\n",
    "## Advantages of using functions\n",
    "- makes your code reusable\n",
    "- helps to organise your code\n",
    "  \n",
    "## Goal of this notebook\n",
    "\n",
    "At the end of this notebook you have practised:\n",
    "\n",
    "- define a function in python\n",
    "- call a function to execute it's code\n",
    "- pass parameteres into a function and understand what happens to the  \n",
    "  \n",
    "## Introduction to Functions\n",
    "\n",
    "```python\n",
    "def function_name(input_parameter):\n",
    "    # function body\n",
    "    return output\n",
    "```"
   ]
  },
  {
   "cell_type": "markdown",
   "metadata": {
    "ExecuteTime": {
     "end_time": "2020-07-20T09:11:38.576106Z",
     "start_time": "2020-07-20T09:11:38.562307Z"
    }
   },
   "source": [
    "### Function with single input parameter"
   ]
  },
  {
   "cell_type": "code",
   "execution_count": 10,
   "metadata": {},
   "outputs": [],
   "source": [
    "# define a function that adds 10 to a given number\n",
    "def add_ten(x):\n",
    "    return x+10"
   ]
  },
  {
   "cell_type": "code",
   "execution_count": 15,
   "metadata": {
    "ExecuteTime": {
     "end_time": "2020-07-20T09:16:02.946707Z",
     "start_time": "2020-07-20T09:16:02.939493Z"
    }
   },
   "outputs": [
    {
     "data": {
      "text/plain": [
       "12"
      ]
     },
     "execution_count": 15,
     "metadata": {},
     "output_type": "execute_result"
    }
   ],
   "source": [
    "# call the function for a specific input \n",
    "add_ten(2)\n"
   ]
  },
  {
   "cell_type": "markdown",
   "metadata": {},
   "source": [
    "### Function with multiple input parameters"
   ]
  },
  {
   "cell_type": "code",
   "execution_count": 17,
   "metadata": {},
   "outputs": [],
   "source": [
    "def add_up(x,y):\n",
    "    return x+y"
   ]
  },
  {
   "cell_type": "code",
   "execution_count": 20,
   "metadata": {},
   "outputs": [
    {
     "data": {
      "text/plain": [
       "23946"
      ]
     },
     "execution_count": 20,
     "metadata": {},
     "output_type": "execute_result"
    }
   ],
   "source": [
    "add_up(392,23554)"
   ]
  },
  {
   "cell_type": "markdown",
   "metadata": {},
   "source": [
    "...store your output in a new variable:"
   ]
  },
  {
   "cell_type": "code",
   "execution_count": 21,
   "metadata": {},
   "outputs": [],
   "source": [
    "# the result can be assigned to a new variable\n",
    "result = add_up(5,20)"
   ]
  },
  {
   "cell_type": "code",
   "execution_count": 22,
   "metadata": {},
   "outputs": [
    {
     "data": {
      "text/plain": [
       "25"
      ]
     },
     "execution_count": 22,
     "metadata": {},
     "output_type": "execute_result"
    }
   ],
   "source": [
    "result"
   ]
  },
  {
   "cell_type": "markdown",
   "metadata": {},
   "source": [
    "### Function Comments"
   ]
  },
  {
   "cell_type": "code",
   "execution_count": 23,
   "metadata": {},
   "outputs": [],
   "source": [
    "def add_up(x,y):\n",
    "    \"\"\"\n",
    "    this function sums up to given values x and y.\n",
    "    \"\"\"\n",
    "    return x+y"
   ]
  },
  {
   "cell_type": "code",
   "execution_count": null,
   "metadata": {},
   "outputs": [],
   "source": []
  },
  {
   "cell_type": "markdown",
   "metadata": {},
   "source": [
    "## Example of applying Discounts to Prices"
   ]
  },
  {
   "cell_type": "markdown",
   "metadata": {},
   "source": [
    "> Given a list of Prices: $ prices = [300, 550.3, 10.80, 400, 1000, 60, 150, 78, 290]$.\n",
    ">\n",
    "> Write a program that loops through the list and applies two types of discounts: \n",
    "> - The christmas discount gives 20% to every price. \n",
    "> - The special discount of 15% applies only to prices over 200.\n",
    ">\n",
    "> The result should be stored in a new list."
   ]
  },
  {
   "cell_type": "code",
   "execution_count": null,
   "metadata": {},
   "outputs": [],
   "source": [
    "prices = [300, 550.3, 10.80, 400, 1000, 60, 150, 78, 290]\n",
    "new_price_list = []"
   ]
  },
  {
   "cell_type": "markdown",
   "metadata": {},
   "source": [
    "### solution without functions"
   ]
  },
  {
   "cell_type": "code",
   "execution_count": null,
   "metadata": {},
   "outputs": [],
   "source": [
    "for price in prices:\n",
    "    \n",
    "    # the discout for christmas was 20%\n",
    "    price_xmas_disc = price*0.8\n",
    "    \n",
    "    # the special discount of 15% applies only to purchases that cost more than 200 Euro\n",
    "    if price_xmas_disc >= 200:\n",
    "        price_final = price_xmas_disc*0.85\n",
    "    else:\n",
    "        price_final = price_xmas_disc\n",
    "        \n",
    "    new_price_list.append(price_final)\n",
    "\n",
    "    "
   ]
  },
  {
   "cell_type": "code",
   "execution_count": null,
   "metadata": {},
   "outputs": [],
   "source": [
    "new_price_list"
   ]
  },
  {
   "cell_type": "markdown",
   "metadata": {},
   "source": [
    "### solution with functions"
   ]
  },
  {
   "cell_type": "code",
   "execution_count": null,
   "metadata": {},
   "outputs": [],
   "source": [
    "def apply_christmas_discount(x):\n",
    "    \"\"\"\n",
    "    this function applies the christmans discount of 20% to a given price x.\n",
    "    \"\"\"\n",
    "    return x*0.8\n",
    "\n",
    "def apply_special_discount(x):\n",
    "    \"\"\"\n",
    "    this function applies the special discount of 15% to a given price x only if the price is over 200.\n",
    "    \"\"\"\n",
    "    if x >= 200:\n",
    "        return x*0.85\n",
    "    else:\n",
    "        return x"
   ]
  },
  {
   "cell_type": "code",
   "execution_count": null,
   "metadata": {},
   "outputs": [],
   "source": [
    "prices = [300, 550.3, 10.80, 400, 1000, 60, 150, 78, 290]\n",
    "new_price_list = []\n",
    "\n",
    "for price in prices:\n",
    "\n",
    "    price_xmas_disc = apply_christmas_discount(price)\n",
    "    price_final = apply_special_discount(price_xmas_disc)\n",
    "\n",
    "    new_price_list.append(price_final)\n",
    "    "
   ]
  },
  {
   "cell_type": "code",
   "execution_count": null,
   "metadata": {},
   "outputs": [],
   "source": [
    "new_price_list"
   ]
  }
 ],
 "metadata": {
  "kernelspec": {
   "display_name": "Python 3 (ipykernel)",
   "language": "python",
   "name": "python3"
  },
  "language_info": {
   "codemirror_mode": {
    "name": "ipython",
    "version": 3
   },
   "file_extension": ".py",
   "mimetype": "text/x-python",
   "name": "python",
   "nbconvert_exporter": "python",
   "pygments_lexer": "ipython3",
   "version": "3.12.3"
  },
  "toc": {
   "base_numbering": 1,
   "nav_menu": {},
   "number_sections": true,
   "sideBar": true,
   "skip_h1_title": false,
   "title_cell": "Table of Contents",
   "title_sidebar": "Contents",
   "toc_cell": false,
   "toc_position": {},
   "toc_section_display": true,
   "toc_window_display": false
  },
  "varInspector": {
   "cols": {
    "lenName": 16,
    "lenType": 16,
    "lenVar": 40
   },
   "kernels_config": {
    "python": {
     "delete_cmd_postfix": "",
     "delete_cmd_prefix": "del ",
     "library": "var_list.py",
     "varRefreshCmd": "print(var_dic_list())"
    },
    "r": {
     "delete_cmd_postfix": ") ",
     "delete_cmd_prefix": "rm(",
     "library": "var_list.r",
     "varRefreshCmd": "cat(var_dic_list()) "
    }
   },
   "types_to_exclude": [
    "module",
    "function",
    "builtin_function_or_method",
    "instance",
    "_Feature"
   ],
   "window_display": false
  }
 },
 "nbformat": 4,
 "nbformat_minor": 4
}
