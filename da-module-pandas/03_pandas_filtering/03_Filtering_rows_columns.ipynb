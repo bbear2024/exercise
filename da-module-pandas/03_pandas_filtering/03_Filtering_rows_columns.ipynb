{
 "cells": [
  {
   "cell_type": "markdown",
   "id": "16637819",
   "metadata": {},
   "source": [
    "# <font color=\"green\">Filtering Dataframes</font>"
   ]
  },
  {
   "cell_type": "markdown",
   "id": "01b1cde5",
   "metadata": {},
   "source": [
    "--------------------------------"
   ]
  },
  {
   "cell_type": "markdown",
   "id": "1fddfb2e",
   "metadata": {},
   "source": [
    "## Introduction\n",
    "\n",
    "\n",
    "Filtering is a fundamental operation in data analysis, allowing us to extract subsets of data based on specific conditions or criteria. Whether you're working with large datasets or small ones, filtering techniques are indispensable for exploring and analyzing your data effectively.\n",
    "\n",
    "In this lecture, we'll explore various methods and techniques for filtering DataFrames using Pandas, a powerful library in Python for data manipulation and analysis. We'll cover how to filter rows and columns based on conditions, select specific data points, handle missing values, and more.\n",
    "\n",
    "By the end of this lecture, you'll have a solid understanding of how to apply filtering operations to your datasets, enabling you to extract valuable insights and make informed decisions from your data.\n",
    "\n",
    "Let's dive in and discover the power of filtering DataFrames!"
   ]
  },
  {
   "cell_type": "markdown",
   "id": "7fdb31ad",
   "metadata": {},
   "source": [
    "-----------------------------------"
   ]
  },
  {
   "cell_type": "markdown",
   "id": "7e547e7e",
   "metadata": {},
   "source": [
    "#### Comparison Operators for DataFrame Filtering\n",
    "\n",
    "Filtering data within pandas DataFrames can utilize a comprehensive set of comparison operators. These operators allow for flexible and powerful data selection based on specific criteria. Below is an overview of the primary comparison operators used in DataFrame filtering:\n",
    "\n",
    "- **Equality**: `x == 100`\n",
    "  - Checks if the values in column `x` are equal to 100.\n",
    "\n",
    "- **Greater Than and Less Than**: `x > 2`, `y < x`\n",
    "  - `x > 2` checks if the values in column `x` are greater than 2.\n",
    "  - `y < x` compares two columns directly, checking if the values in column `y` are less than those in column `x`.\n",
    "\n",
    "- **Not Equal**: `x != y`\n",
    "  - Evaluates whether the values in column `x` are not equal to those in column `y`.\n",
    "\n",
    "- **Value Inclusion**: `x.isin([...])`\n",
    "  - Determines if the values in column `x` are within a specified list.\n",
    "\n",
    "- **Value Range**: `x.between(a, b)`\n",
    "  - Checks if the values in column `x` lie within a range between `a` and `b` (inclusive).\n",
    "\n",
    "- **Check for NA**: `x.isna()`\n",
    "  - Identifies missing or NA values in column `x`.\n",
    "\n",
    "These operators are applied directly to the columns of the DataFrame to facilitate the filtering of data based on various conditions. This capability is instrumental in data analysis, allowing for the examination of subsets of data that meet specific criteria.\n"
   ]
  },
  {
   "cell_type": "code",
   "execution_count": null,
   "id": "343f813c",
   "metadata": {},
   "outputs": [],
   "source": [
    "import pandas as pd\n",
    "\n",
    "x = pd.Series([1, 4, 6, 2])\n",
    "y = pd.Series([9, 2, 3, 2])"
   ]
  },
  {
   "cell_type": "code",
   "execution_count": null,
   "id": "49b41213",
   "metadata": {},
   "outputs": [],
   "source": [
    "x < y"
   ]
  },
  {
   "cell_type": "code",
   "execution_count": null,
   "id": "daf1b384",
   "metadata": {},
   "outputs": [],
   "source": [
    "x == y"
   ]
  },
  {
   "cell_type": "code",
   "execution_count": null,
   "id": "98c1b76f",
   "metadata": {},
   "outputs": [],
   "source": [
    "x >= y"
   ]
  },
  {
   "cell_type": "code",
   "execution_count": null,
   "id": "dc58a684",
   "metadata": {},
   "outputs": [],
   "source": [
    "(x > 2) | (y == 9)"
   ]
  },
  {
   "cell_type": "code",
   "execution_count": null,
   "id": "ef792b5e",
   "metadata": {},
   "outputs": [],
   "source": [
    "(x == 2) & (y == 2)"
   ]
  },
  {
   "cell_type": "code",
   "execution_count": null,
   "id": "498caae0",
   "metadata": {},
   "outputs": [],
   "source": [
    "x.between(4, 6)"
   ]
  },
  {
   "cell_type": "code",
   "execution_count": null,
   "id": "9a326632",
   "metadata": {},
   "outputs": [],
   "source": [
    "y.isin([2, 9])"
   ]
  },
  {
   "cell_type": "code",
   "execution_count": null,
   "id": "6f39f20a",
   "metadata": {},
   "outputs": [],
   "source": [
    "x.isin(y)"
   ]
  },
  {
   "cell_type": "markdown",
   "id": "8a6c348b",
   "metadata": {},
   "source": [
    "# Filtering Techniques in Pandas\n",
    "\n",
    "Pandas provides a variety of methods for filtering data within DataFrames. These methods allow for the selection of data subsets based on specific conditions, enhancing the ability to perform detailed data analysis. Below, we explore several key techniques for filtering data in Pandas:\n",
    "\n",
    "## 1. Filtering with Single Logical Operators\n",
    "\n",
    "- **Usage**: Selects data based on a single condition.\n",
    "- **Example**: `df[df['column_name'] > value]`\n",
    "  - This filters the DataFrame to only include rows where the values in `column_name` are greater than a specified `value`.\n",
    "\n",
    "## 2. Filtering with Multiple Logical Operators\n",
    "\n",
    "- **Usage**: Combines multiple conditions for more complex filtering.\n",
    "- **Operators**: `&` (AND), `|` (OR), `~` (NOT)\n",
    "- **Example**: `df[(df['column1'] > value1) & (df['column2'] < value2)]`\n",
    "  - Retrieves rows where `column1` values are greater than `value1` AND `column2` values are less than `value2`.\n",
    "- **Alternative `query`Method**\n",
    "    This can be used as simple language statement.\n",
    "    \n",
    "    `df.query('column1 > value1 and column2 < value2')`\n",
    "\n",
    "## 3. Filtering with the **isin** Method\n",
    "\n",
    "- **Usage**: Filters rows based on whether column values are in a specified set.\n",
    "- **Example**: `df[df['column_name'].isin([value1, value2, value3])]`\n",
    "  - Selects rows where the `column_name` contains any of the specified values (`value1`, `value2`, or `value3`).\n",
    "\n",
    "## 4. Filtering Using the `str` Accessor\n",
    "\n",
    "- **Usage**: Applies string methods to filter data based on string column values.\n",
    "- **Example**: `df[df['column_name'].str.contains('substring')]`\n",
    "  - Filters the DataFrame to include only rows where `column_name` contains a specified substring.\n",
    "\n",
    "## 5. Filtering with the **between** Method\n",
    "\n",
    "- **Usage**: Selects rows based on whether column values fall within a specified range.\n",
    "- **Example**: `df[df['column_name'].between(value1, value2)]`\n",
    "  - Retrieves rows where the `column_name` values are between `value1` and `value2`, inclusive of both boundaries.\n",
    "\n",
    "Each of these filtering methods can be tailored to specific data analysis needs, allowing for the efficient examination of data subsets and the derivation of meaningful insights.\n"
   ]
  },
  {
   "cell_type": "code",
   "execution_count": null,
   "id": "3a5638c8",
   "metadata": {},
   "outputs": [],
   "source": [
    "import pandas as pd"
   ]
  },
  {
   "cell_type": "code",
   "execution_count": null,
   "id": "fa6acb66",
   "metadata": {},
   "outputs": [],
   "source": [
    "penguins = pd.read_csv(\"./data/penguins_simple.csv\", sep=\";\")"
   ]
  },
  {
   "cell_type": "code",
   "execution_count": null,
   "id": "4d876cc4",
   "metadata": {},
   "outputs": [],
   "source": [
    "penguins"
   ]
  },
  {
   "cell_type": "markdown",
   "id": "6c3fbfe9",
   "metadata": {},
   "source": [
    "## 1. Filtering with a single logical operator"
   ]
  },
  {
   "cell_type": "code",
   "execution_count": null,
   "id": "a0790eb0",
   "metadata": {},
   "outputs": [],
   "source": [
    "# let's filter for species Adelie\n",
    "\n",
    "# this is a boolean filter\n",
    "penguins['Species'] == 'Adelie'"
   ]
  },
  {
   "cell_type": "code",
   "execution_count": null,
   "id": "3f605cf1",
   "metadata": {},
   "outputs": [],
   "source": [
    "## we use the boolean filter to extract the subset of the dataframe we want, which includes all the rows that are True\n",
    "## in the boolean mask\n",
    "\n",
    "adelie = penguins[penguins['Species'] == 'Adelie']\n",
    "\n",
    "adelie"
   ]
  },
  {
   "cell_type": "markdown",
   "id": "b0b932b9",
   "metadata": {},
   "source": [
    "#### we can also use other logical operators such as > , < , >= , <= and !="
   ]
  },
  {
   "cell_type": "code",
   "execution_count": null,
   "id": "664c9753",
   "metadata": {},
   "outputs": [],
   "source": [
    "# let's filter for all penguins that are heavier than 4000 g\n",
    "\n",
    "body_mass_4000 = penguins[penguins['Body Mass (g)'] > 4000.0]\n",
    "\n",
    "body_mass_4000"
   ]
  },
  {
   "cell_type": "markdown",
   "id": "cec1c33c",
   "metadata": {},
   "source": [
    "## 2. Filtering with multiple logical operators"
   ]
  },
  {
   "cell_type": "markdown",
   "id": "d2f563ab",
   "metadata": {},
   "source": [
    "- we can combine multiple logical conditions \n",
    "- &” signs stands for “and” , the “|” stands for “or”"
   ]
  },
  {
   "cell_type": "code",
   "execution_count": null,
   "id": "8d909bf8",
   "metadata": {},
   "outputs": [],
   "source": [
    "# let's filter for body mass greater than 4000 and all species but Adelie\n",
    "\n",
    "boolean_mask = ((penguins['Body Mass (g)'] > 4000) & (penguins['Species'] != 'Adelie'))"
   ]
  },
  {
   "cell_type": "code",
   "execution_count": null,
   "id": "65a313b1",
   "metadata": {},
   "outputs": [],
   "source": [
    "penguins[boolean_mask]"
   ]
  },
  {
   "cell_type": "code",
   "execution_count": null,
   "id": "019fc5e0",
   "metadata": {},
   "outputs": [],
   "source": [
    "# we can also use the loc method here to apply the boolean mask\n",
    "\n",
    "penguins.loc[boolean_mask]"
   ]
  },
  {
   "cell_type": "markdown",
   "id": "19446873",
   "metadata": {},
   "source": [
    "Using `query`method"
   ]
  },
  {
   "cell_type": "code",
   "execution_count": null,
   "id": "54e9f07a",
   "metadata": {},
   "outputs": [],
   "source": [
    "penguins.query('`Body Mass (g)` > 4000.0 and Species != \"Adelie\"')"
   ]
  },
  {
   "cell_type": "markdown",
   "id": "c36b132f",
   "metadata": {},
   "source": [
    "## 3. Filtering with isin method"
   ]
  },
  {
   "cell_type": "markdown",
   "id": "1cf7f505",
   "metadata": {},
   "source": [
    "this is another useful method when we want to filter based on a string column"
   ]
  },
  {
   "cell_type": "code",
   "execution_count": null,
   "id": "d08f6848",
   "metadata": {},
   "outputs": [],
   "source": [
    "# let's filter for Chinstrap or Gentoo with body mass greater than 4500\n",
    "\n",
    "\n",
    "# isin work on as a single column like an OR\n",
    "penguins['Species'].isin(['Chinstrap', 'Gentoo'])"
   ]
  },
  {
   "cell_type": "code",
   "execution_count": null,
   "id": "0a285f96",
   "metadata": {},
   "outputs": [],
   "source": [
    "boolean_mask = (penguins['Species'].isin(['Chinstrap', 'Gentoo']))\n",
    "\n",
    "penguins[boolean_mask]"
   ]
  },
  {
   "cell_type": "code",
   "execution_count": null,
   "id": "a77272f0",
   "metadata": {},
   "outputs": [],
   "source": [
    "# note that we can flip the any condition with a 'not' operator (~)\n",
    "\n",
    "# for example, let's filter for species that are not Chinstrap and Gentoo\n",
    "\n",
    "boolean_mask = ~ penguins['Species'].isin(['Chinstrap', 'Gentoo'])\n",
    "\n",
    "penguins[boolean_mask]"
   ]
  },
  {
   "cell_type": "markdown",
   "id": "cc6e05b1",
   "metadata": {},
   "source": [
    "## 4. Filtering with the str accessor"
   ]
  },
  {
   "cell_type": "markdown",
   "id": "a2c24db8",
   "metadata": {},
   "source": [
    "we can use string methods to set conditions on string columns"
   ]
  },
  {
   "cell_type": "code",
   "execution_count": null,
   "id": "84483104",
   "metadata": {},
   "outputs": [],
   "source": [
    "# let's filter for countries in continents starting with the letter 'A'\n",
    "\n",
    "\n",
    "boolean_mask = penguins['Species'].str.startswith('A')\n",
    "\n",
    "penguins[boolean_mask]"
   ]
  },
  {
   "cell_type": "markdown",
   "id": "ebd0ab0e",
   "metadata": {},
   "source": [
    "## 5. Filtering with the between method"
   ]
  },
  {
   "cell_type": "markdown",
   "id": "c5d3edaf",
   "metadata": {},
   "source": [
    "this method is similar in concept to the isin method but it works for filering of numerical columns "
   ]
  },
  {
   "cell_type": "code",
   "execution_count": null,
   "id": "6cc94cf6",
   "metadata": {},
   "outputs": [],
   "source": [
    "# let's filter for countries that has a fertility rate between 1.8 and 2.6\n",
    "\n",
    "boolean_mask =  penguins['Body Mass (g)'].between(3500, 4000)\n",
    "\n",
    "penguins[boolean_mask]"
   ]
  },
  {
   "cell_type": "markdown",
   "id": "5a99f9b7",
   "metadata": {},
   "source": [
    "# Recap: Mastering Data Filtering in Pandas\n",
    "\n",
    "In today's lecture, we've explored a range of powerful techniques for filtering data within pandas DataFrames. These methods enable precise data selection and manipulation, essential for effective data analysis. Here's a brief recap of the key points covered:\n",
    "\n",
    "## Key Filtering Techniques\n",
    "\n",
    "1. **Single Logical Operators**: We started with the basics of using single logical operators to filter data based on single conditions.\n",
    "2. **Multiple Logical Operators**: We then advanced to combining conditions using logical operators (`&`, `|`, `~`) for more complex filtering scenarios.\n",
    "3. **The `isin` Method**: We explored the `isin` method for filtering rows based on a set of specified values, enhancing flexibility in data selection.\n",
    "4. **String Filtering with `str` Accessor**: We discussed how to leverage string methods via the `str` accessor for filtering based on string patterns and substrings.\n",
    "5. **Range Filtering with `between`**: Lastly, we looked at the `between` method for selecting data within a specified numeric range.\n",
    "\n",
    "## Practical Applications\n",
    "\n",
    "Throughout the lecture, we've applied these techniques to real-world data sets, demonstrating their utility in uncovering insights and facilitating data-driven decision-making. From simple condition checks to complex criteria combinations, we've seen how pandas simplifies data analysis tasks.\n",
    "\n",
    "## Conclusion\n",
    "\n",
    "The ability to filter data effectively is a cornerstone of data analysis with pandas. By mastering these techniques, you can navigate through large datasets with ease, focusing on the information that matters most to your analysis. As you continue to work with data, remember that the flexibility and power of pandas come from its wide range of functionalities, including these filtering capabilities.\n",
    "\n",
    "\n"
   ]
  },
  {
   "cell_type": "code",
   "execution_count": null,
   "id": "dd9d039e",
   "metadata": {},
   "outputs": [],
   "source": []
  }
 ],
 "metadata": {
  "kernelspec": {
   "display_name": "Python 3 (ipykernel)",
   "language": "python",
   "name": "python3"
  },
  "language_info": {
   "codemirror_mode": {
    "name": "ipython",
    "version": 3
   },
   "file_extension": ".py",
   "mimetype": "text/x-python",
   "name": "python",
   "nbconvert_exporter": "python",
   "pygments_lexer": "ipython3",
   "version": "3.9.12"
  }
 },
 "nbformat": 4,
 "nbformat_minor": 5
}
