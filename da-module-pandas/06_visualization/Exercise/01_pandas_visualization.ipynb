{
 "cells": [
  {
   "cell_type": "markdown",
   "metadata": {},
   "source": [
    "## Check your understanding\n",
    "\n",
    "Now it's time to try plotting yourself. \n",
    "\n",
    "**Practice with plotting**\n",
    "1. Plot the average amount of `chlorides` for each `quality` value. \n",
    "2. Plot the `alcohol` values against `pH` values (in a scatter plot). Does there appear to be any relationship between the two?\n",
    "3. Plot `total_acidity` values against `pH` values. Does there appear to be any relationship between the two?\n",
    "4. Plot a histogram of the `density` values. Are they evenly distributed within the data set?\n",
    "5. Plot a boxplot to look at the distribution of `citric acid`. \n",
    "\n",
    "**Extra Credit**  \n",
    "Check out the [pandas documentation](https://pandas.pydata.org/pandas-docs/stable/user_guide/visualization.html#visualization) and try out different types of plots. See if you find any interesting new insights into the data."
   ]
  }
 ],
 "metadata": {
  "language_info": {
   "name": "python"
  }
 },
 "nbformat": 4,
 "nbformat_minor": 2
}
