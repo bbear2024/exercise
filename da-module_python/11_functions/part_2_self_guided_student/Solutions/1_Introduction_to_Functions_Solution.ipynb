{
 "cells": [
  {
   "cell_type": "markdown",
   "source": [
    "# Introduction to Functions"
   ],
   "metadata": {}
  },
  {
   "cell_type": "markdown",
   "source": [
    "## Check your understanding\n",
    "\n",
    "1. Take a second to type out the version of the `get_evens` function above that returned the evens from 0 to 8 (e.g. it returned `[0, 2, 4, 6, 8]`) Type this out into a cell below (it'll make it easier to modify moving forward). \n",
    "2. Call this three separate times. What do you expect the output to be - do you expect it to change each time you call it? Why or why not?\n",
    "3. Now, modify the function so that it returns the evens from 0 to 18 (e.g. it returns `[0, 2, 4, 6, 8, 10, 12, 14, 16, 18]`). \n",
    "4. Next, modify the function that it returns the multiples of 3 from 0 to 18 (e.g. it returns `[0, 3, 6, 9, 12, 15, 18]`). \n",
    "5. Call this version of your function three separate times. What do you expect the output to be - do you expect it to change each time you call it? Why or why not?\n",
    "6. Finally, move the `return` statement in by one indentation level (e.g. a `Tab`, or 4 spaces). What do you expect to happen now if you call your function? Call it, and see if you get what you expected. If so, then why? If not, why not?"
   ],
   "metadata": {}
  },
  {
   "cell_type": "code",
   "execution_count": null,
   "source": [
    "#1\n",
    "def get_evens() :\n",
    "    evens = []\n",
    "    for i in range(9): \n",
    "        if i % 2 == 0 :\n",
    "            evens.append(i)\n",
    "    return(evens)"
   ],
   "outputs": [],
   "metadata": {}
  },
  {
   "cell_type": "code",
   "execution_count": null,
   "source": [
    "get_evens()"
   ],
   "outputs": [],
   "metadata": {}
  },
  {
   "cell_type": "code",
   "execution_count": null,
   "source": [
    "#2\n",
    "def get_evens() :\n",
    "    evens = []\n",
    "    for i in range(19): \n",
    "        if i % 2 == 0 :\n",
    "            evens.append(i)\n",
    "    return(evens)\n"
   ],
   "outputs": [],
   "metadata": {}
  },
  {
   "cell_type": "code",
   "execution_count": null,
   "source": [
    "get_evens()"
   ],
   "outputs": [],
   "metadata": {}
  },
  {
   "cell_type": "code",
   "execution_count": null,
   "source": [
    "#2\n",
    "def get_evens() :\n",
    "    evens = []\n",
    "    for i in range(19): \n",
    "        if i % 3 == 0 :\n",
    "            evens.append(i)\n",
    "    return(evens)"
   ],
   "outputs": [],
   "metadata": {}
  },
  {
   "cell_type": "code",
   "execution_count": null,
   "source": [
    "get_evens()"
   ],
   "outputs": [],
   "metadata": {}
  },
  {
   "cell_type": "markdown",
   "source": [
    "Nothing really happened, the function stayed the same and it returned the expected output at all times.  "
   ],
   "metadata": {}
  }
 ],
 "metadata": {
  "kernelspec": {
   "name": "python3",
   "display_name": "Python 3.8.5 64-bit ('nf_base': conda)"
  },
  "language_info": {
   "codemirror_mode": {
    "name": "ipython",
    "version": 3
   },
   "file_extension": ".py",
   "mimetype": "text/x-python",
   "name": "python",
   "nbconvert_exporter": "python",
   "pygments_lexer": "ipython3",
   "version": "3.8.5"
  },
  "toc": {
   "base_numbering": 1,
   "nav_menu": {},
   "number_sections": true,
   "sideBar": true,
   "skip_h1_title": false,
   "title_cell": "Table of Contents",
   "title_sidebar": "Contents",
   "toc_cell": false,
   "toc_position": {},
   "toc_section_display": true,
   "toc_window_display": false
  },
  "varInspector": {
   "cols": {
    "lenName": 16,
    "lenType": 16,
    "lenVar": 40
   },
   "kernels_config": {
    "python": {
     "delete_cmd_postfix": "",
     "delete_cmd_prefix": "del ",
     "library": "var_list.py",
     "varRefreshCmd": "print(var_dic_list())"
    },
    "r": {
     "delete_cmd_postfix": ") ",
     "delete_cmd_prefix": "rm(",
     "library": "var_list.r",
     "varRefreshCmd": "cat(var_dic_list()) "
    }
   },
   "types_to_exclude": [
    "module",
    "function",
    "builtin_function_or_method",
    "instance",
    "_Feature"
   ],
   "window_display": false
  },
  "interpreter": {
   "hash": "0e4771abb73651cc71498e03f3559c7e0f15f38d5124065b3832974a7bbffea7"
  }
 },
 "nbformat": 4,
 "nbformat_minor": 4
}