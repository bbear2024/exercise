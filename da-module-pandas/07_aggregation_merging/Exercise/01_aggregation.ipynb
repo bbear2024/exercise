{
 "cells": [
  {
   "cell_type": "markdown",
   "metadata": {},
   "source": [
    "Using the gapminder_total dataset solve the following tasks with pandas."
   ]
  },
  {
   "cell_type": "markdown",
   "metadata": {},
   "source": [
    "1. Read in data:\n",
    "df = pd.read_csv('../data/gapminder_total.csv')\n",
    "\n",
    "2. What is the median population in the data set?\n",
    "\n",
    "3. How often does each continent appear in the data set?\n",
    "\n",
    "4. Which continent has the lowest average fertility rate overall?\n",
    "\n",
    "5. What was the average life expectancy in Europe in 2015? \n",
    "Hint: first filter for 2015 then apply groupby.\n",
    "\n",
    "6. How many countries does each continent have in the dataset?\n",
    "Hint: filter for one year and count\n",
    "\n",
    "7. What is the average population of a European country in 1976 compare to 2015?\n",
    "Hint: once again filter for the year in question and do each year separately to compare\n",
    "\n",
    "BONUS\n",
    "\n",
    "8. What is the highest population a continent ever had?\n",
    "Hint: group by multiple columns\n",
    "\n",
    "9. Which continent had that population and in which year?\n",
    "Hint: group by multiple columns and filter for the result from #6"
   ]
  }
 ],
 "metadata": {
  "language_info": {
   "name": "python"
  }
 },
 "nbformat": 4,
 "nbformat_minor": 2
}
