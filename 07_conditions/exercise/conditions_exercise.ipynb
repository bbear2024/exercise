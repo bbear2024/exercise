{
 "cells": [
  {
   "cell_type": "markdown",
   "metadata": {},
   "source": [
    "## Check your understanding\n",
    "\n",
    "**1 - If Questions**\n",
    "\n",
    "1. Write an `if` statement to check if a number is smaller than 100.\n",
    "2. Write some code that accepts a user inputted number. It checks to see if that number is positive, and if it is it adds 50 to the number. Then print the number.\n",
    "\n",
    "**2 - Elif Else Questions**\n",
    "1. Write an `if`-`elif`-`else` statement that does the following: \n",
    "\n",
    " * Prints \"This is a single digit number.\" if `x` is a single digit number\n",
    " * Prints \"This is a double digit number.\" if `x` is a double digit number \n",
    " * Prints \"This is a big number.\" otherwise.\n",
    " \n",
    "**3 - And Or Not Questions**\n",
    "\n",
    "1. Write the condition in Python in a single statement: if x is between 20 and 30 print x.\n",
    "2. Write the following condition in two ways using Python: if x is greater than 10 print x.\n",
    "3. Write the following condition in Python: if x isn't a positive number print x.\n",
    "4. Write the following condition in Python: if x is between 1 and 50 except the numbers between 25 to 30 print x."
   ]
  },
  {
   "cell_type": "code",
   "execution_count": null,
   "metadata": {},
   "outputs": [],
   "source": [
    "x = int(input('Please enter a number'))\n",
    "if x > 0:\n",
    "    x += 50\n",
    "print(x)"
   ]
  },
  {
   "cell_type": "code",
   "execution_count": null,
   "metadata": {},
   "outputs": [],
   "source": [
    "x = int(input('Please enter a number'))\n",
    "if x <= 0:\n",
    "    print('Please enter a positive number')\n",
    "    x = int(input('Please enter a number'))\n",
    "if x > 0 and x < 10:\n",
    "    print('This is a single digit number')\n",
    "elif x >= 10 and x < 100:\n",
    "    print('This is a double digit number')\n",
    "else:\n",
    "    print('This is a big number')"
   ]
  },
  {
   "cell_type": "code",
   "execution_count": null,
   "metadata": {},
   "outputs": [],
   "source": [
    "if x > 20 and x < 30:\n",
    "    print x\n",
    "if x > 10:\n",
    "    print X\n",
    "if x <= 10:\n",
    "    print x\n",
    "if not x > 0:\n",
    "    print x\n",
    "if (x > 1 and x < 25) or (x > 30 and x < 50):\n",
    "    print x"
   ]
  },
  {
   "cell_type": "markdown",
   "metadata": {},
   "source": [
    "### 4 - Clean customer names"
   ]
  },
  {
   "cell_type": "markdown",
   "metadata": {},
   "source": [
    "In this exercise you have given two customer names assigned to two variables 'customer_name_1', 'customer_name_2'... As a data analyst you want to work with these customers, today we are only interested in the actual customers name. Please check if the company name ends with 'Company GmbH', if yes, then remove 'Company GmbH' (which string method could you use for that?), otherwise just leave the customer_name untouched. In both cases assign the output of your if condition to a new variable called 'customer_name_extracted_1' or '_2' or '_3' or '_4'. "
   ]
  },
  {
   "cell_type": "code",
   "execution_count": null,
   "metadata": {},
   "outputs": [],
   "source": [
    "customer_name_1 = 'Picaflor Company GmbH'\n",
    "customer_name_2 = 'Behrmann Company GmbH'\n",
    "customer_name_3 = 'Atlas Companyservice'\n",
    "customer_name_4 = 'McRae'"
   ]
  },
  {
   "cell_type": "code",
   "execution_count": null,
   "metadata": {},
   "outputs": [],
   "source": [
    "# write your solution here"
   ]
  },
  {
   "cell_type": "code",
   "execution_count": null,
   "metadata": {},
   "outputs": [],
   "source": [
    "customer_name_1[-12:] == 'Company GmbH'"
   ]
  },
  {
   "cell_type": "code",
   "execution_count": null,
   "metadata": {},
   "outputs": [],
   "source": [
    "customer_name_1[:-13]"
   ]
  },
  {
   "cell_type": "code",
   "execution_count": null,
   "metadata": {},
   "outputs": [],
   "source": [
    "if customer_name_1[-12:] == 'Company GmbH':\n",
    "    customer_name_extracted_1 = customer_name_1[:-13]\n",
    "else:\n",
    "    customer_name_extracted_1 = customer_name_1\n",
    "print(customer_name_extracted_1)\n",
    "if customer_name_2[-12:] == 'Company GmbH':\n",
    "    customer_name_extracted_2 = customer_name_2[:-13]\n",
    "else:\n",
    "    customer_name_extracted_2 = customer_name_2\n",
    "print(customer_name_extracted_2)\n",
    "if customer_name_3[-12:] == 'Company GmbH':\n",
    "    customer_name_extracted_3 = customer_name_3[:-13]\n",
    "else:\n",
    "    customer_name_extracted_3 = customer_name_3\n",
    "print(customer_name_extracted_3)\n",
    "if customer_name_4[-12:] == 'Company GmbH':\n",
    "    customer_name_extracted_4 = customer_name_4[:-13]\n",
    "else:\n",
    "    customer_name_extracted_4 = customer_name_4\n",
    "print(customer_name_extracted_4)"
   ]
  }
 ],
 "metadata": {
  "kernelspec": {
   "display_name": "base",
   "language": "python",
   "name": "python3"
  },
  "language_info": {
   "codemirror_mode": {
    "name": "ipython",
    "version": 3
   },
   "file_extension": ".py",
   "mimetype": "text/x-python",
   "name": "python",
   "nbconvert_exporter": "python",
   "pygments_lexer": "ipython3",
   "version": "3.12.3"
  }
 },
 "nbformat": 4,
 "nbformat_minor": 2
}
