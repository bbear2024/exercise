{
 "cells": [
  {
   "attachments": {},
   "cell_type": "markdown",
   "metadata": {},
   "source": [
    "# Looping\n",
    "\n",
    "## Objectives\n",
    "\n",
    "At the end of this notebook you should be able to:\n",
    "\n",
    "- understand the logic/structure of for-loops (flowcharts)\n",
    "- have more control over loops with continue, break and pass\n",
    "\n",
    "## Introduction\n",
    "\n",
    "We are now prepared to learn about another extremely powerful programming construct. Everything that we learned in the last section on logic is part of an idea called **control flow**. Flow refers to the order in which statements in your program are executed. Controlling this flow can be done in many ways; so far we have learned about `if`-`elif`-`else` statements, but there are a number of others.\n",
    "\n",
    "One thing that we find in programming is that we want to do something over and over (and over), possibly under the same circumstances each time, but frequently under slightly different circumstances each time. With the tools that we currently possess, we have to write out a line of Python for each time that we want to do that something. Let's go through a more concrete example.\n",
    "\n",
    "Consider that you are asked to write a program to calculate the sum of the numbers between 1 and 8 (without the use of any built-in Python functions). We could write an extremely simple line of code to do this for us."
   ]
  },
  {
   "cell_type": "code",
   "execution_count": null,
   "metadata": {
    "ExecuteTime": {
     "start_time": "2020-02-03T15:12:40.415Z"
    }
   },
   "outputs": [],
   "source": [
    "sum_1_8 = 1 + 2 + 3 + 4 + 5 + 6 + 7 + 8\n",
    "print(sum_1_8)"
   ]
  },
  {
   "attachments": {},
   "cell_type": "markdown",
   "metadata": {},
   "source": [
    "Luckily, we're learning Python, and Python has ways to do exactly what we described in a very succinct way. Now we could take `sum_1_8`, add 9 and subtract off 1. That works, but it involves some thinking to make this new idea work with the existing code that we have written.\n",
    "\n",
    "Instead of having all of these **hard coded** values in our definition of `sum_1_8`, we could instead **abstract** away part of our problem. What is this abstraction? In programming, we talk about abstraction when we want to refer to an idea whose implementation is more general and/or hidden from us. In the above example, we see exactly what we're doing to sum the numbers 1 through 8. This isn't abstracted at all. So, how are we to solve this problem more abstractly?\n",
    "\n",
    "This is a question that you will frequently be faced with; how do you do something... in code? A good strategy to solve these problems is to approach the problem from a high level (i.e. in plain English, no code).\n",
    "\n",
    "Let's do that with our coding problem above. \n"
   ]
  },
  {
   "attachments": {},
   "cell_type": "markdown",
   "metadata": {},
   "source": [
    "## for-loops\n",
    "\n",
    "**for-loop** is one of the concepts that make python so powerful. Here the loop-variable runs through the values one after the other in a sequence that also has to be specified. For example with a list or a range() function.\n",
    "\n",
    "> **Note:** The last number of a range() is **NOT** included!\n"
   ]
  },
  {
   "cell_type": "code",
   "execution_count": 2,
   "metadata": {},
   "outputs": [
    {
     "name": "stdout",
     "output_type": "stream",
     "text": [
      "36\n"
     ]
    }
   ],
   "source": [
    "total, x = 0, 1\n",
    "for x in range(9):\n",
    "    total += x\n",
    "    x += 1\n",
    "print(total)"
   ]
  },
  {
   "cell_type": "markdown",
   "metadata": {},
   "source": [
    "Let's break down the above code to see what is going on. On the first line, we declare a couple of variables (here you see the Python syntax used to do multiple assignments in a single line), `total` and `x`. `total` is the variable that we are going to aggregate our sum into, and `x` is the first number that we start our adding at. \n",
    "\n",
    "The next line declares the start of our newly learned `for` block. It naturally reads as: \"for x ranging from 0 to 9\", do stuff in the block. \n",
    "`range()` is actually one of python's built in functions. it lets you create quickly a range of values (for now just think of it as a list of values from 0 to 9 (excluding the last element), so `[0,1,2,3,4,5,6,7,8]`)\n",
    "The block then says we are to add the current value of `x` to total, and then add one to `x`.\n",
    "\n",
    "This is called an aggregate pattern, where you declare a variable up front that is designed to have values aggregated into it (e.g. `total`). Then, at the end of the loop, the value in total is the total aggregated value that you wanted to calculate. This is a simple yet powerful framework which we will see used many times in this course.\n",
    "\n",
    "We know that this `for` statement loops over the `for` block many times, but the values of `total` and `x` will change each time through the loop. So, let's take a look at what the values of both of these variables are throughout the execution of the loop.\n",
    "\n",
    "| After loop #  |   total   |   x   |   \n",
    "| ------------- |:---------:|:-----:|\n",
    "| 1             |  1        |   2   | \n",
    "| 2             |  3        |   3   |   \n",
    "| 3             |  6        |   4   |    \n",
    "| 4             |  10       |   5   |    \n",
    "| 5             |  15       |   6   |  \n",
    "| 6             |  21       |   7   |   \n",
    "| 7             |  28       |   8   |    \n",
    "\n",
    "We see that as we continue through the loop, `total` is growing by the value of `x` from the previous execution of the loop. \n"
   ]
  },
  {
   "cell_type": "markdown",
   "metadata": {},
   "source": [
    "There are great tools online that visualize the execution of a loop for you. Try out this one for example: https://pythontutor.com/visualize.html#mode=edit\n",
    "simply past the python-for-loop code in there and click 'Visualize Execution'."
   ]
  },
  {
   "cell_type": "markdown",
   "metadata": {},
   "source": [
    "### What do you need to write a for loop?"
   ]
  },
  {
   "cell_type": "markdown",
   "metadata": {},
   "source": [
    "To write a for loop you need two things: \n",
    "- **First** a sequence-like object (e.g. a list, a string, a dictionary or the output of a function producing sequences), also called a **iterable**. An **Iterable** is an object, which one can iterate over. \n",
    "- **Second**, a variable that takes different values as the loop iterates over the sequence."
   ]
  },
  {
   "cell_type": "markdown",
   "metadata": {},
   "source": [
    "### Syntax"
   ]
  },
  {
   "cell_type": "markdown",
   "metadata": {},
   "source": [
    "\n",
    "1. start with `for` \n",
    "2. give the variable name that refers to the current value of your iterable object\n",
    "3. write `in`\n",
    "4. name the iterable object and finish with `:`\n",
    "5. Indented block: All indented commands after the colon are executed within a for loop.\n",
    "6. End: The first unindented command is executed after the loop finishes."
   ]
  },
  {
   "cell_type": "code",
   "execution_count": null,
   "metadata": {},
   "outputs": [
    {
     "name": "stdout",
     "output_type": "stream",
     "text": [
      "1\n",
      "2\n",
      "3\n"
     ]
    }
   ],
   "source": [
    "for i in [1,2,3]:\n",
    "    print(i)"
   ]
  },
  {
   "cell_type": "markdown",
   "metadata": {},
   "source": []
  },
  {
   "cell_type": "markdown",
   "metadata": {},
   "source": [
    "#### Lists and For-Loops\n",
    "\n",
    "The efficient way to iterate through lists uses a `for` loop. "
   ]
  },
  {
   "cell_type": "code",
   "execution_count": null,
   "metadata": {},
   "outputs": [],
   "source": [
    "my_lst = [1, 2, 3, 4, 5]"
   ]
  },
  {
   "cell_type": "code",
   "execution_count": null,
   "metadata": {},
   "outputs": [
    {
     "name": "stdout",
     "output_type": "stream",
     "text": [
      "1\n",
      "2\n",
      "3\n",
      "4\n",
      "5\n"
     ]
    }
   ],
   "source": [
    "for num in my_lst:\n",
    "    print(num)"
   ]
  },
  {
   "cell_type": "markdown",
   "metadata": {},
   "source": [
    "Just as in the case of iterating through our strings, our `for` loop iterates over all of the values in our iterable (this time a `list`), and then places those values into the variable name we give (`num`) at each iteration of the loop.\n",
    "\n",
    "What if I absolutely need the indices, though? Is there a way that I can still iterate through using a for loop without `range()` or `len()` and still get the indices?? Yes!\n",
    "\n",
    "There is a function, `enumerate()`, that will allow us to iterate through a list or string (grabbing each of the individual elements in the list or characters in the string) while at the same time keeping track of their index. The trick is that instead of using just one variable (such as `num` above) to store the elements of the list as you loop through them, we use two variables. The first of these variables stores the current index, and the second stores the corresponding element in the list. Let's see how it works..."
   ]
  },
  {
   "cell_type": "code",
   "execution_count": null,
   "metadata": {},
   "outputs": [
    {
     "name": "stdout",
     "output_type": "stream",
     "text": [
      "0 1\n",
      "1 2\n",
      "2 3\n",
      "3 4\n",
      "4 5\n"
     ]
    }
   ],
   "source": [
    "for idx, num in enumerate(my_lst):\n",
    "    print(idx, num)"
   ]
  },
  {
   "cell_type": "markdown",
   "metadata": {},
   "source": [
    "The trick here is that when we call `enumerate()` on our list, `enumerate()` gives us back two values at each iteration through the loop. The first value is the current index (which we chose to store as `idx` above), and the second value is the current element of the list (which we chose to store as `num`). Note how `idx` tracks one behind `num`... this is because `idx` starts at 0 and `num` starts at 1."
   ]
  },
  {
   "cell_type": "markdown",
   "metadata": {},
   "source": [
    "### Some more examples"
   ]
  },
  {
   "cell_type": "code",
   "execution_count": null,
   "metadata": {},
   "outputs": [],
   "source": [
    "liste = [5, 8, 10]\n",
    "for i in liste:\n",
    "    print(i)"
   ]
  },
  {
   "cell_type": "code",
   "execution_count": null,
   "metadata": {},
   "outputs": [],
   "source": [
    "names = [\"Max\", \"Moritz\", \"Monika\"]\n",
    "for name in names:\n",
    "    print(name)"
   ]
  },
  {
   "cell_type": "code",
   "execution_count": null,
   "metadata": {},
   "outputs": [],
   "source": [
    "for x in range(10):\n",
    "    print(x)"
   ]
  },
  {
   "cell_type": "markdown",
   "metadata": {},
   "source": [
    "#### Dictionaries and For-Loops"
   ]
  },
  {
   "cell_type": "code",
   "execution_count": null,
   "metadata": {},
   "outputs": [],
   "source": [
    "states_caps_dict = {'Georgia': 'Atlanta', 'Colorado': 'Denver', 'Indiana': 'Indianapolis'}\n",
    "states_caps_dict"
   ]
  },
  {
   "cell_type": "markdown",
   "metadata": {},
   "source": [
    " Lists are an ordered collection of values; dictionaries, on the other hand, have keys and values that are tied together. However, if we were to traverse a dictionary with a for loop, we would expect to only get one of these out. Naturally, it's the keys."
   ]
  },
  {
   "cell_type": "code",
   "execution_count": null,
   "metadata": {},
   "outputs": [],
   "source": [
    "for thing in states_caps_dict:\n",
    "    print(thing)"
   ]
  },
  {
   "cell_type": "markdown",
   "metadata": {},
   "source": [
    "The natural question that follows is whether we can loop through all of the values? This can be done with the aptly named `values()` method on dictionaries."
   ]
  },
  {
   "cell_type": "code",
   "execution_count": null,
   "metadata": {},
   "outputs": [],
   "source": [
    "for value in states_caps_dict.values():\n",
    "    print(value)"
   ]
  },
  {
   "cell_type": "markdown",
   "metadata": {},
   "source": [
    "One thing to know is that there is an analogue to `values()` for keys, `keys()`.\n",
    "\n",
    "This is a very useful feature, but it gets even better! One of the most useful ways to loop through the contents of a dictionary is by getting each key-value pair together within the loop. The `items()` method does exactly this. To use it, we will employ a similar syntax to what we used with `enumerate()`."
   ]
  },
  {
   "cell_type": "code",
   "execution_count": null,
   "metadata": {},
   "outputs": [],
   "source": [
    "for state, capital in states_caps_dict.items():\n",
    "     print(state, capital)"
   ]
  },
  {
   "cell_type": "markdown",
   "metadata": {},
   "source": [
    "This is awesome! As a brief learning tangent, let's discuss what's happening when we use this syntax. As above, we are going to use the `items()` method, but this time not store the output in both a `state` *and* `capital` variable."
   ]
  },
  {
   "cell_type": "code",
   "execution_count": null,
   "metadata": {},
   "outputs": [],
   "source": [
    "for thing in states_caps_dict.items():\n",
    "     print(thing)"
   ]
  },
  {
   "cell_type": "markdown",
   "metadata": {},
   "source": [
    "Now that we're only using a single variable to grab the output of `items()`, we can clearly see that the method is outputting a tuple. What was happening when we used `state` and `capital` to grab the output?? Very frequently, we want to put the separate values from ordered collections into different variables. This happens so frequently, in fact, that Python has a built-in way to do it quickly (called **unpacking**).\n",
    "\n",
    "When Python sees the two variable names `state` and `capital` in the first implementation, it knows to take the values in the tuple returned from `items()` and put the first one in `state` and the second in `capital`. This is what was happening when we called `enumerate` on a list - it returned a tuple with the index it was on, as well as the value itself. It is up to you whether or not to grab those values in a single variable as a tuple or have Python unpack it for you into two variables.\n",
    "\n",
    "**Note**: Python will not allow you to \"unpack\" a collection containing a single item into multiple variables."
   ]
  },
  {
   "cell_type": "markdown",
   "metadata": {},
   "source": [
    "\n",
    "## The Magic of Iterables\n",
    "\n",
    "Strings and lists are two kinds of iterables that we have looked at today. There are many other kinds of iterables that we'll work with in Python, and you can even define your own iterable if you'd like. The important thing that we want to note for now, though, is that the `for` loops that we have looked at today will work for any iterable. You can simply write `for <variable name> in <iterable>:`, and at each iteration through the loop you will be able to access another element from that iterable via `variable name`. Also, as mentioned above, the `list()` constructor accepts any iterable as an argument, and then creates a `list`, where each element in the iterable is a single element in the `list`."
   ]
  }
 ],
 "metadata": {
  "kernelspec": {
   "display_name": "Python 3",
   "language": "python",
   "name": "python3"
  },
  "language_info": {
   "codemirror_mode": {
    "name": "ipython",
    "version": 3
   },
   "file_extension": ".py",
   "mimetype": "text/x-python",
   "name": "python",
   "nbconvert_exporter": "python",
   "pygments_lexer": "ipython3",
   "version": "3.10.13"
  },
  "toc": {
   "base_numbering": 1,
   "nav_menu": {},
   "number_sections": true,
   "sideBar": true,
   "skip_h1_title": false,
   "title_cell": "Table of Contents",
   "title_sidebar": "Contents",
   "toc_cell": false,
   "toc_position": {},
   "toc_section_display": true,
   "toc_window_display": false
  },
  "varInspector": {
   "cols": {
    "lenName": 16,
    "lenType": 16,
    "lenVar": 40
   },
   "kernels_config": {
    "python": {
     "delete_cmd_postfix": "",
     "delete_cmd_prefix": "del ",
     "library": "var_list.py",
     "varRefreshCmd": "print(var_dic_list())"
    },
    "r": {
     "delete_cmd_postfix": ") ",
     "delete_cmd_prefix": "rm(",
     "library": "var_list.r",
     "varRefreshCmd": "cat(var_dic_list()) "
    }
   },
   "types_to_exclude": [
    "module",
    "function",
    "builtin_function_or_method",
    "instance",
    "_Feature"
   ],
   "window_display": false
  }
 },
 "nbformat": 4,
 "nbformat_minor": 4
}
