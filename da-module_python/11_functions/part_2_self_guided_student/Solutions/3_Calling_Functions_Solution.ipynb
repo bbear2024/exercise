{
 "cells": [
  {
   "cell_type": "markdown",
   "source": [
    "# Calling Functions with Positional Versus Keyword Arguments"
   ],
   "metadata": {}
  },
  {
   "cell_type": "markdown",
   "source": [
    "## Check your understanding\n",
    "\n",
    "1. Which one of the following functions passes arguments by position, and which by keyword?\n",
    "\n",
    "    1. ```python \n",
    "        get_multiples(26, 2)      \n",
    "        ```\n",
    "\n",
    "    2. ```python \n",
    "        get_multiples(n=35, divisor=7)      \n",
    "        ```\n",
    "\n",
    "2. Which of the following function calls are valid? Why?\n",
    "    1. ```python \n",
    "       get_multiples(26, 13)\n",
    "       ```\n",
    "    2. ```python \n",
    "       get_multiples(n=26, 13)\n",
    "       ```\n",
    "    3. ```python \n",
    "       get_multiples(26, divisor=13)\n",
    "       ```\n",
    "    4. ```python \n",
    "       get_multiples(n=26, divisor=13)\n",
    "       ```\n",
    "    5. ```python \n",
    "       get_multiples(n=48, 8)\n",
    "       ```\n",
    "    6. ```python \n",
    "       get_multiples(50, divisor=10)\n",
    "       ```\n",
    "       \n",
    "3. Verify your answers by typing these into cells, or figure out why you don't see the results you expected. "
   ],
   "metadata": {}
  },
  {
   "cell_type": "markdown",
   "source": [
    "## 1. \n",
    "the first is passed by position, the second is by keyword   \n",
    "## 2.   \n",
    "    1. valid, all arguments passed by position  \n",
    "    2. not valid, because the keyword argument needs to be after the positional argument  \n",
    "    3. valid because the keyword argument is after the positional argument  \n",
    "    4. valid because both are keyword arguments  \n",
    "    5. not valid, same as 2  \n",
    "    6. valid, same as 3  "
   ],
   "metadata": {}
  },
  {
   "cell_type": "markdown",
   "source": [],
   "metadata": {}
  }
 ],
 "metadata": {
  "kernelspec": {
   "name": "python3",
   "display_name": "Python 3.8.3 64-bit ('base': conda)"
  },
  "language_info": {
   "codemirror_mode": {
    "name": "ipython",
    "version": 3
   },
   "file_extension": ".py",
   "mimetype": "text/x-python",
   "name": "python",
   "nbconvert_exporter": "python",
   "pygments_lexer": "ipython3",
   "version": "3.8.3"
  },
  "toc": {
   "base_numbering": 1,
   "nav_menu": {},
   "number_sections": true,
   "sideBar": true,
   "skip_h1_title": false,
   "title_cell": "Table of Contents",
   "title_sidebar": "Contents",
   "toc_cell": false,
   "toc_position": {},
   "toc_section_display": true,
   "toc_window_display": false
  },
  "varInspector": {
   "cols": {
    "lenName": 16,
    "lenType": 16,
    "lenVar": 40
   },
   "kernels_config": {
    "python": {
     "delete_cmd_postfix": "",
     "delete_cmd_prefix": "del ",
     "library": "var_list.py",
     "varRefreshCmd": "print(var_dic_list())"
    },
    "r": {
     "delete_cmd_postfix": ") ",
     "delete_cmd_prefix": "rm(",
     "library": "var_list.r",
     "varRefreshCmd": "cat(var_dic_list()) "
    }
   },
   "types_to_exclude": [
    "module",
    "function",
    "builtin_function_or_method",
    "instance",
    "_Feature"
   ],
   "window_display": false
  },
  "interpreter": {
   "hash": "7f431737fad36bc73747254a1fbc87e013b533e81a585a67520a99b40246ed61"
  }
 },
 "nbformat": 4,
 "nbformat_minor": 4
}