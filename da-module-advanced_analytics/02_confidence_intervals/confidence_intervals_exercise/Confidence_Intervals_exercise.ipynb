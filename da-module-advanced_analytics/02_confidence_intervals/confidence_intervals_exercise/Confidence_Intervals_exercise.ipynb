{
 "cells": [
  {
   "cell_type": "markdown",
   "id": "adabfbfe",
   "metadata": {},
   "source": [
    "## Exercise Confidence Intervals Exercise"
   ]
  },
  {
   "cell_type": "markdown",
   "id": "d7c38179",
   "metadata": {},
   "source": [
    "--------------------------"
   ]
  },
  {
   "cell_type": "markdown",
   "id": "19c4162d",
   "metadata": {},
   "source": [
    "For the Iris data set, calculate the 95% confidence intervals for the mean of the Length of the petal of Iris Setosa feature using bootstrapping. Create a notebook in which following questions shall be solved:\n",
    "\n",
    "1. Initialize empty list called sample_means\n",
    "2. Create a for loop that will loop 10,000 times\n",
    "3. In each iteration using the pandas method .sample() sample 100 profits with replacement\n",
    "4. Also in that same iteration take the mean of these 100 samples and then append it to the sample_means list\n",
    "5. Using sns.displot plot the distribution of the sample_means list\n",
    "6. Convert sample_means list to pandas Series\n",
    "7. Using pandas .quantile() calculate the upper (0.975) and lower (0.025) limits of the confidence interval of the sample_means Series\n",
    "\n",
    "### Bonus\n",
    "\n",
    "8. Calculate using the z-value formula\n",
    "9. Compare to the results of the bootstrapping method"
   ]
  },
  {
   "cell_type": "code",
   "execution_count": null,
   "id": "c80152a4",
   "metadata": {},
   "outputs": [],
   "source": [
    "# Import necessary libraries\n",
    "import numpy as np\n",
    "import pandas as pd\n",
    "import seaborn as sns\n",
    "import matplotlib.pyplot as plt\n",
    "from sklearn.datasets import load_iris"
   ]
  },
  {
   "cell_type": "code",
   "execution_count": null,
   "id": "024806a9",
   "metadata": {},
   "outputs": [],
   "source": [
    "# Load the Iris dataset\n",
    "iris = load_iris()\n",
    "iris_df = pd.DataFrame(data=iris.data, columns=iris.feature_names)\n",
    "\n"
   ]
  },
  {
   "cell_type": "code",
   "execution_count": null,
   "id": "2316148a",
   "metadata": {},
   "outputs": [],
   "source": [
    "# 1. Initialize an empty list called sample_means\n",
    "\n",
    "\n"
   ]
  },
  {
   "cell_type": "code",
   "execution_count": null,
   "id": "9172cd22",
   "metadata": {},
   "outputs": [],
   "source": [
    "# 2. Create a for loop that will loop 10,000 times.\n",
    "# 3. Sample 100 petal lengths with replacement\n",
    "# 4. Calculate the mean and append to sample_means\n"
   ]
  },
  {
   "cell_type": "code",
   "execution_count": null,
   "id": "2b20db2c",
   "metadata": {},
   "outputs": [],
   "source": []
  },
  {
   "cell_type": "code",
   "execution_count": null,
   "id": "79a3d4a5",
   "metadata": {},
   "outputs": [],
   "source": [
    "# 5. Plot the distribution of the sample_means list\n"
   ]
  },
  {
   "cell_type": "code",
   "execution_count": null,
   "id": "cfc87893",
   "metadata": {},
   "outputs": [],
   "source": [
    "# 6. Convert sample_means list to pandas Series\n"
   ]
  },
  {
   "cell_type": "code",
   "execution_count": null,
   "id": "a2f0f475",
   "metadata": {},
   "outputs": [],
   "source": [
    "# 7. Calculate the 95% confidence interval\n"
   ]
  },
  {
   "cell_type": "markdown",
   "id": "44117ab0",
   "metadata": {},
   "source": [
    "# Bonus"
   ]
  },
  {
   "cell_type": "code",
   "execution_count": null,
   "id": "b02c2e6b",
   "metadata": {},
   "outputs": [],
   "source": [
    "# 8. Calculate using the z-value formula\n"
   ]
  },
  {
   "cell_type": "code",
   "execution_count": null,
   "id": "07496134",
   "metadata": {},
   "outputs": [],
   "source": [
    "# 9. Compare the results\n"
   ]
  },
  {
   "cell_type": "code",
   "execution_count": null,
   "id": "aed9fe5e",
   "metadata": {},
   "outputs": [],
   "source": []
  }
 ],
 "metadata": {
  "kernelspec": {
   "display_name": "Python 3 (ipykernel)",
   "language": "python",
   "name": "python3"
  },
  "language_info": {
   "codemirror_mode": {
    "name": "ipython",
    "version": 3
   },
   "file_extension": ".py",
   "mimetype": "text/x-python",
   "name": "python",
   "nbconvert_exporter": "python",
   "pygments_lexer": "ipython3",
   "version": "3.11.5"
  }
 },
 "nbformat": 4,
 "nbformat_minor": 5
}
