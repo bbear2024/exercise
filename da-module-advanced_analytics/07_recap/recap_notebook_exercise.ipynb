{
 "cells": [
  {
   "cell_type": "markdown",
   "id": "c6be35ed-27a0-43e3-8071-ff0020b37a3f",
   "metadata": {},
   "source": [
    "## Part 1 Merging  Dataframes"
   ]
  },
  {
   "cell_type": "markdown",
   "id": "753ca751-bd5e-41a6-8bd1-c670c4806cf5",
   "metadata": {},
   "source": [
    "Let's import the pandas"
   ]
  },
  {
   "cell_type": "code",
   "execution_count": 1,
   "id": "18fc6069-b7c2-423c-90e4-a6278d409268",
   "metadata": {},
   "outputs": [],
   "source": [
    "import pandas as pd"
   ]
  },
  {
   "cell_type": "markdown",
   "id": "33b7fd4c-a45e-4f90-ad66-020f7a23c8d5",
   "metadata": {},
   "source": [
    "### 1.1 Creating Dataframes"
   ]
  },
  {
   "cell_type": "markdown",
   "id": "42b8f779-c779-44cb-bca9-d4c0fe0b1792",
   "metadata": {},
   "source": [
    "Let's create the datafarmes"
   ]
  },
  {
   "cell_type": "code",
   "execution_count": 2,
   "id": "8ed361c7-083d-4cc4-ae05-6593c5463a2e",
   "metadata": {},
   "outputs": [
    {
     "data": {
      "text/html": [
       "<div>\n",
       "<style scoped>\n",
       "    .dataframe tbody tr th:only-of-type {\n",
       "        vertical-align: middle;\n",
       "    }\n",
       "\n",
       "    .dataframe tbody tr th {\n",
       "        vertical-align: top;\n",
       "    }\n",
       "\n",
       "    .dataframe thead th {\n",
       "        text-align: right;\n",
       "    }\n",
       "</style>\n",
       "<table border=\"1\" class=\"dataframe\">\n",
       "  <thead>\n",
       "    <tr style=\"text-align: right;\">\n",
       "      <th></th>\n",
       "      <th>Order_ID</th>\n",
       "      <th>Spice_Name</th>\n",
       "      <th>Quantity</th>\n",
       "    </tr>\n",
       "  </thead>\n",
       "  <tbody>\n",
       "    <tr>\n",
       "      <th>0</th>\n",
       "      <td>1</td>\n",
       "      <td>Cinnamon</td>\n",
       "      <td>5</td>\n",
       "    </tr>\n",
       "    <tr>\n",
       "      <th>1</th>\n",
       "      <td>2</td>\n",
       "      <td>Turmeric</td>\n",
       "      <td>3</td>\n",
       "    </tr>\n",
       "    <tr>\n",
       "      <th>2</th>\n",
       "      <td>3</td>\n",
       "      <td>Cardamom</td>\n",
       "      <td>4</td>\n",
       "    </tr>\n",
       "    <tr>\n",
       "      <th>3</th>\n",
       "      <td>4</td>\n",
       "      <td>Nutmeg</td>\n",
       "      <td>2</td>\n",
       "    </tr>\n",
       "  </tbody>\n",
       "</table>\n",
       "</div>"
      ],
      "text/plain": [
       "   Order_ID Spice_Name  Quantity\n",
       "0         1   Cinnamon         5\n",
       "1         2   Turmeric         3\n",
       "2         3   Cardamom         4\n",
       "3         4     Nutmeg         2"
      ]
     },
     "execution_count": 2,
     "metadata": {},
     "output_type": "execute_result"
    }
   ],
   "source": [
    "# 1- Orders Dataset\n",
    "orders_data = {\n",
    "    'Order_ID': [1, 2, 3, 4],\n",
    "    'Spice_Name': ['Cinnamon', 'Turmeric', 'Cardamom', 'Nutmeg'],\n",
    "    'Quantity': [5, 3, 4, 2]\n",
    "}\n",
    "orders_df = pd.DataFrame(orders_data)\n",
    "orders_df"
   ]
  },
  {
   "cell_type": "code",
   "execution_count": 3,
   "id": "04a746a8-4eeb-47a9-9a70-50bbc7c8cfba",
   "metadata": {},
   "outputs": [
    {
     "data": {
      "text/html": [
       "<div>\n",
       "<style scoped>\n",
       "    .dataframe tbody tr th:only-of-type {\n",
       "        vertical-align: middle;\n",
       "    }\n",
       "\n",
       "    .dataframe tbody tr th {\n",
       "        vertical-align: top;\n",
       "    }\n",
       "\n",
       "    .dataframe thead th {\n",
       "        text-align: right;\n",
       "    }\n",
       "</style>\n",
       "<table border=\"1\" class=\"dataframe\">\n",
       "  <thead>\n",
       "    <tr style=\"text-align: right;\">\n",
       "      <th></th>\n",
       "      <th>Spice_Name</th>\n",
       "      <th>Price_per_Unit</th>\n",
       "    </tr>\n",
       "  </thead>\n",
       "  <tbody>\n",
       "    <tr>\n",
       "      <th>0</th>\n",
       "      <td>Cinnamon</td>\n",
       "      <td>2.5</td>\n",
       "    </tr>\n",
       "    <tr>\n",
       "      <th>1</th>\n",
       "      <td>Turmeric</td>\n",
       "      <td>1.8</td>\n",
       "    </tr>\n",
       "    <tr>\n",
       "      <th>2</th>\n",
       "      <td>Cardamom</td>\n",
       "      <td>3.0</td>\n",
       "    </tr>\n",
       "    <tr>\n",
       "      <th>3</th>\n",
       "      <td>Saffron</td>\n",
       "      <td>10.0</td>\n",
       "    </tr>\n",
       "  </tbody>\n",
       "</table>\n",
       "</div>"
      ],
      "text/plain": [
       "  Spice_Name  Price_per_Unit\n",
       "0   Cinnamon             2.5\n",
       "1   Turmeric             1.8\n",
       "2   Cardamom             3.0\n",
       "3    Saffron            10.0"
      ]
     },
     "execution_count": 3,
     "metadata": {},
     "output_type": "execute_result"
    }
   ],
   "source": [
    "# 2-Prices Dataset\n",
    "prices_data = {\n",
    "    'Spice_Name': ['Cinnamon', 'Turmeric', 'Cardamom', 'Saffron'],\n",
    "    'Price_per_Unit': [2.5, 1.8, 3.0, 10.0]\n",
    "}\n",
    "prices_df = pd.DataFrame(prices_data)\n",
    "prices_df\n"
   ]
  },
  {
   "cell_type": "code",
   "execution_count": 4,
   "id": "05685d0a-8fe9-4e9b-9978-aabf845119d4",
   "metadata": {},
   "outputs": [
    {
     "data": {
      "text/html": [
       "<div>\n",
       "<style scoped>\n",
       "    .dataframe tbody tr th:only-of-type {\n",
       "        vertical-align: middle;\n",
       "    }\n",
       "\n",
       "    .dataframe tbody tr th {\n",
       "        vertical-align: top;\n",
       "    }\n",
       "\n",
       "    .dataframe thead th {\n",
       "        text-align: right;\n",
       "    }\n",
       "</style>\n",
       "<table border=\"1\" class=\"dataframe\">\n",
       "  <thead>\n",
       "    <tr style=\"text-align: right;\">\n",
       "      <th></th>\n",
       "      <th>Order_ID</th>\n",
       "      <th>Customer_Name</th>\n",
       "      <th>Address</th>\n",
       "    </tr>\n",
       "  </thead>\n",
       "  <tbody>\n",
       "    <tr>\n",
       "      <th>0</th>\n",
       "      <td>1</td>\n",
       "      <td>Sara</td>\n",
       "      <td>123 Spice St.</td>\n",
       "    </tr>\n",
       "    <tr>\n",
       "      <th>1</th>\n",
       "      <td>2</td>\n",
       "      <td>Alex</td>\n",
       "      <td>456 Flavor Ave.</td>\n",
       "    </tr>\n",
       "    <tr>\n",
       "      <th>2</th>\n",
       "      <td>3</td>\n",
       "      <td>Hilal</td>\n",
       "      <td>789 Aroma Blvd.</td>\n",
       "    </tr>\n",
       "    <tr>\n",
       "      <th>3</th>\n",
       "      <td>5</td>\n",
       "      <td>Tanjina</td>\n",
       "      <td>101 Scent Rd.</td>\n",
       "    </tr>\n",
       "  </tbody>\n",
       "</table>\n",
       "</div>"
      ],
      "text/plain": [
       "   Order_ID Customer_Name          Address\n",
       "0         1          Sara    123 Spice St.\n",
       "1         2          Alex  456 Flavor Ave.\n",
       "2         3         Hilal  789 Aroma Blvd.\n",
       "3         5       Tanjina    101 Scent Rd."
      ]
     },
     "execution_count": 4,
     "metadata": {},
     "output_type": "execute_result"
    }
   ],
   "source": [
    "# 3-Customer Info Dataset\n",
    "customer_info_data = {\n",
    "    'Order_ID': [1, 2, 3, 5],\n",
    "    'Customer_Name': ['Sara', 'Alex', 'Hilal', 'Tanjina'],\n",
    "    'Address': ['123 Spice St.', '456 Flavor Ave.', '789 Aroma Blvd.', '101 Scent Rd.']\n",
    "}\n",
    "customer_info_df = pd.DataFrame(customer_info_data)\n",
    "customer_info_df"
   ]
  },
  {
   "cell_type": "code",
   "execution_count": 5,
   "id": "3290ae55-14dd-4c7f-b2e2-c573886b3dbc",
   "metadata": {},
   "outputs": [
    {
     "data": {
      "text/html": [
       "<div>\n",
       "<style scoped>\n",
       "    .dataframe tbody tr th:only-of-type {\n",
       "        vertical-align: middle;\n",
       "    }\n",
       "\n",
       "    .dataframe tbody tr th {\n",
       "        vertical-align: top;\n",
       "    }\n",
       "\n",
       "    .dataframe thead th {\n",
       "        text-align: right;\n",
       "    }\n",
       "</style>\n",
       "<table border=\"1\" class=\"dataframe\">\n",
       "  <thead>\n",
       "    <tr style=\"text-align: right;\">\n",
       "      <th></th>\n",
       "      <th>Order_ID</th>\n",
       "      <th>Spice_Name</th>\n",
       "      <th>Warehouse_Location</th>\n",
       "      <th>Stock_Available</th>\n",
       "    </tr>\n",
       "  </thead>\n",
       "  <tbody>\n",
       "    <tr>\n",
       "      <th>0</th>\n",
       "      <td>1</td>\n",
       "      <td>Cinnamon</td>\n",
       "      <td>North</td>\n",
       "      <td>20</td>\n",
       "    </tr>\n",
       "    <tr>\n",
       "      <th>1</th>\n",
       "      <td>3</td>\n",
       "      <td>Cardamom</td>\n",
       "      <td>East</td>\n",
       "      <td>30</td>\n",
       "    </tr>\n",
       "    <tr>\n",
       "      <th>2</th>\n",
       "      <td>4</td>\n",
       "      <td>Nutmeg</td>\n",
       "      <td>West</td>\n",
       "      <td>25</td>\n",
       "    </tr>\n",
       "    <tr>\n",
       "      <th>3</th>\n",
       "      <td>6</td>\n",
       "      <td>Paprika</td>\n",
       "      <td>South</td>\n",
       "      <td>15</td>\n",
       "    </tr>\n",
       "  </tbody>\n",
       "</table>\n",
       "</div>"
      ],
      "text/plain": [
       "   Order_ID Spice_Name Warehouse_Location  Stock_Available\n",
       "0         1   Cinnamon              North               20\n",
       "1         3   Cardamom               East               30\n",
       "2         4     Nutmeg               West               25\n",
       "3         6    Paprika              South               15"
      ]
     },
     "execution_count": 5,
     "metadata": {},
     "output_type": "execute_result"
    }
   ],
   "source": [
    "# 4-Warehouse Info Dataset\n",
    "warehouse_data = {\n",
    "    'Order_ID': [1, 3, 4, 6],\n",
    "    'Spice_Name': ['Cinnamon', 'Cardamom', 'Nutmeg', 'Paprika'],\n",
    "    'Warehouse_Location': ['North', 'East', 'West', 'South'],\n",
    "    'Stock_Available': [20, 30, 25, 15]\n",
    "}\n",
    "warehouse = pd.DataFrame(warehouse_data)\n",
    "warehouse"
   ]
  },
  {
   "cell_type": "markdown",
   "id": "03554757-a0bb-4414-b70d-290d47cd2ba6",
   "metadata": {},
   "source": [
    "### 1.2 Merge Orders with Prices"
   ]
  },
  {
   "cell_type": "code",
   "execution_count": 6,
   "id": "dc5adb08-a071-48cf-ac06-878cd68caf3a",
   "metadata": {},
   "outputs": [
    {
     "data": {
      "text/html": [
       "<div>\n",
       "<style scoped>\n",
       "    .dataframe tbody tr th:only-of-type {\n",
       "        vertical-align: middle;\n",
       "    }\n",
       "\n",
       "    .dataframe tbody tr th {\n",
       "        vertical-align: top;\n",
       "    }\n",
       "\n",
       "    .dataframe thead th {\n",
       "        text-align: right;\n",
       "    }\n",
       "</style>\n",
       "<table border=\"1\" class=\"dataframe\">\n",
       "  <thead>\n",
       "    <tr style=\"text-align: right;\">\n",
       "      <th></th>\n",
       "      <th>Order_ID</th>\n",
       "      <th>Spice_Name</th>\n",
       "      <th>Quantity</th>\n",
       "      <th>Price_per_Unit</th>\n",
       "    </tr>\n",
       "  </thead>\n",
       "  <tbody>\n",
       "    <tr>\n",
       "      <th>0</th>\n",
       "      <td>1</td>\n",
       "      <td>Cinnamon</td>\n",
       "      <td>5</td>\n",
       "      <td>2.5</td>\n",
       "    </tr>\n",
       "    <tr>\n",
       "      <th>1</th>\n",
       "      <td>2</td>\n",
       "      <td>Turmeric</td>\n",
       "      <td>3</td>\n",
       "      <td>1.8</td>\n",
       "    </tr>\n",
       "    <tr>\n",
       "      <th>2</th>\n",
       "      <td>3</td>\n",
       "      <td>Cardamom</td>\n",
       "      <td>4</td>\n",
       "      <td>3.0</td>\n",
       "    </tr>\n",
       "    <tr>\n",
       "      <th>3</th>\n",
       "      <td>4</td>\n",
       "      <td>Nutmeg</td>\n",
       "      <td>2</td>\n",
       "      <td>NaN</td>\n",
       "    </tr>\n",
       "  </tbody>\n",
       "</table>\n",
       "</div>"
      ],
      "text/plain": [
       "   Order_ID Spice_Name  Quantity  Price_per_Unit\n",
       "0         1   Cinnamon         5             2.5\n",
       "1         2   Turmeric         3             1.8\n",
       "2         3   Cardamom         4             3.0\n",
       "3         4     Nutmeg         2             NaN"
      ]
     },
     "execution_count": 6,
     "metadata": {},
     "output_type": "execute_result"
    }
   ],
   "source": [
    "# Merge Orders with Prices on 'Spice_Name'\n",
    "#do a left merge\n",
    "orders_prices_merged = pd.merge(orders_df, prices_df, on='Spice_Name', how='left')\n",
    "\n",
    "orders_prices_merged"
   ]
  },
  {
   "cell_type": "markdown",
   "id": "89f1cc68-a144-40c8-ad9c-828f408119ad",
   "metadata": {},
   "source": [
    "In the `orders_prices_merged` DataFrame, NaN values appear because the `Orders Dataset` includes spices like \"Nutmeg\" that are not listed in the Prices Dataset. We used a left merge on `Spice_Name`, meaning all rows from the `Orders Dataset` are kept, and corresponding rows from the `Prices Dataset` are included where matches are found; otherwise, NaN values are inserted. This shows how left merges retain all entries from the left DataFrame even if no corresponding entries exist in the right DataFrame."
   ]
  },
  {
   "cell_type": "code",
   "execution_count": 7,
   "id": "7ad2a40f-2ec2-4403-ba98-c297ac4919c6",
   "metadata": {},
   "outputs": [
    {
     "data": {
      "text/html": [
       "<div>\n",
       "<style scoped>\n",
       "    .dataframe tbody tr th:only-of-type {\n",
       "        vertical-align: middle;\n",
       "    }\n",
       "\n",
       "    .dataframe tbody tr th {\n",
       "        vertical-align: top;\n",
       "    }\n",
       "\n",
       "    .dataframe thead th {\n",
       "        text-align: right;\n",
       "    }\n",
       "</style>\n",
       "<table border=\"1\" class=\"dataframe\">\n",
       "  <thead>\n",
       "    <tr style=\"text-align: right;\">\n",
       "      <th></th>\n",
       "      <th>Order_ID</th>\n",
       "      <th>Spice_Name</th>\n",
       "      <th>Quantity</th>\n",
       "      <th>Customer_Name</th>\n",
       "      <th>Address</th>\n",
       "    </tr>\n",
       "  </thead>\n",
       "  <tbody>\n",
       "    <tr>\n",
       "      <th>0</th>\n",
       "      <td>1</td>\n",
       "      <td>Cinnamon</td>\n",
       "      <td>5</td>\n",
       "      <td>Sara</td>\n",
       "      <td>123 Spice St.</td>\n",
       "    </tr>\n",
       "    <tr>\n",
       "      <th>1</th>\n",
       "      <td>2</td>\n",
       "      <td>Turmeric</td>\n",
       "      <td>3</td>\n",
       "      <td>Alex</td>\n",
       "      <td>456 Flavor Ave.</td>\n",
       "    </tr>\n",
       "    <tr>\n",
       "      <th>2</th>\n",
       "      <td>3</td>\n",
       "      <td>Cardamom</td>\n",
       "      <td>4</td>\n",
       "      <td>Hilal</td>\n",
       "      <td>789 Aroma Blvd.</td>\n",
       "    </tr>\n",
       "    <tr>\n",
       "      <th>3</th>\n",
       "      <td>4</td>\n",
       "      <td>Nutmeg</td>\n",
       "      <td>2</td>\n",
       "      <td>NaN</td>\n",
       "      <td>NaN</td>\n",
       "    </tr>\n",
       "  </tbody>\n",
       "</table>\n",
       "</div>"
      ],
      "text/plain": [
       "   Order_ID Spice_Name  Quantity Customer_Name          Address\n",
       "0         1   Cinnamon         5          Sara    123 Spice St.\n",
       "1         2   Turmeric         3          Alex  456 Flavor Ave.\n",
       "2         3   Cardamom         4         Hilal  789 Aroma Blvd.\n",
       "3         4     Nutmeg         2           NaN              NaN"
      ]
     },
     "execution_count": 7,
     "metadata": {},
     "output_type": "execute_result"
    }
   ],
   "source": [
    "# Merge Orders with Customer Info on 'Order_ID'\n",
    "orders_customers_merged = pd.merge(orders_df, customer_info_df, on='Order_ID', how='left')\n",
    "orders_customers_merged\n"
   ]
  },
  {
   "cell_type": "markdown",
   "id": "89c528dc-3a65-46f1-a5ee-eb50c547177d",
   "metadata": {},
   "source": [
    "In the `orders_customers_merged` DataFrame, NaN values appear because the `Orders Dataset` contains an Order_ID column that is not listed in the `Customer Info Dataset`. Same thing happened as in the first merge"
   ]
  },
  {
   "cell_type": "code",
   "execution_count": 8,
   "id": "a1446389-a13e-46bc-8b2c-bc6f4a550a05",
   "metadata": {},
   "outputs": [
    {
     "data": {
      "text/html": [
       "<div>\n",
       "<style scoped>\n",
       "    .dataframe tbody tr th:only-of-type {\n",
       "        vertical-align: middle;\n",
       "    }\n",
       "\n",
       "    .dataframe tbody tr th {\n",
       "        vertical-align: top;\n",
       "    }\n",
       "\n",
       "    .dataframe thead th {\n",
       "        text-align: right;\n",
       "    }\n",
       "</style>\n",
       "<table border=\"1\" class=\"dataframe\">\n",
       "  <thead>\n",
       "    <tr style=\"text-align: right;\">\n",
       "      <th></th>\n",
       "      <th>Order_ID_x</th>\n",
       "      <th>Spice_Name</th>\n",
       "      <th>Quantity</th>\n",
       "      <th>Order_ID_y</th>\n",
       "      <th>Warehouse_Location</th>\n",
       "      <th>Stock_Available</th>\n",
       "    </tr>\n",
       "  </thead>\n",
       "  <tbody>\n",
       "    <tr>\n",
       "      <th>0</th>\n",
       "      <td>1</td>\n",
       "      <td>Cinnamon</td>\n",
       "      <td>5</td>\n",
       "      <td>1.0</td>\n",
       "      <td>North</td>\n",
       "      <td>20.0</td>\n",
       "    </tr>\n",
       "    <tr>\n",
       "      <th>1</th>\n",
       "      <td>2</td>\n",
       "      <td>Turmeric</td>\n",
       "      <td>3</td>\n",
       "      <td>NaN</td>\n",
       "      <td>NaN</td>\n",
       "      <td>NaN</td>\n",
       "    </tr>\n",
       "    <tr>\n",
       "      <th>2</th>\n",
       "      <td>3</td>\n",
       "      <td>Cardamom</td>\n",
       "      <td>4</td>\n",
       "      <td>3.0</td>\n",
       "      <td>East</td>\n",
       "      <td>30.0</td>\n",
       "    </tr>\n",
       "    <tr>\n",
       "      <th>3</th>\n",
       "      <td>4</td>\n",
       "      <td>Nutmeg</td>\n",
       "      <td>2</td>\n",
       "      <td>4.0</td>\n",
       "      <td>West</td>\n",
       "      <td>25.0</td>\n",
       "    </tr>\n",
       "  </tbody>\n",
       "</table>\n",
       "</div>"
      ],
      "text/plain": [
       "   Order_ID_x Spice_Name  Quantity  Order_ID_y Warehouse_Location  \\\n",
       "0           1   Cinnamon         5         1.0              North   \n",
       "1           2   Turmeric         3         NaN                NaN   \n",
       "2           3   Cardamom         4         3.0               East   \n",
       "3           4     Nutmeg         2         4.0               West   \n",
       "\n",
       "   Stock_Available  \n",
       "0             20.0  \n",
       "1              NaN  \n",
       "2             30.0  \n",
       "3             25.0  "
      ]
     },
     "execution_count": 8,
     "metadata": {},
     "output_type": "execute_result"
    }
   ],
   "source": [
    "# Merge Orders with Warehouse Info on 'Spice_Name' only\n",
    "orders_warehouse_merged = pd.merge(orders_df, warehouse, on='Spice_Name', how='left')\n",
    "\n",
    "orders_warehouse_merged\n"
   ]
  },
  {
   "cell_type": "code",
   "execution_count": 9,
   "id": "7cc2f316-7f74-4ae9-bd52-69279359a725",
   "metadata": {},
   "outputs": [
    {
     "data": {
      "text/html": [
       "<div>\n",
       "<style scoped>\n",
       "    .dataframe tbody tr th:only-of-type {\n",
       "        vertical-align: middle;\n",
       "    }\n",
       "\n",
       "    .dataframe tbody tr th {\n",
       "        vertical-align: top;\n",
       "    }\n",
       "\n",
       "    .dataframe thead th {\n",
       "        text-align: right;\n",
       "    }\n",
       "</style>\n",
       "<table border=\"1\" class=\"dataframe\">\n",
       "  <thead>\n",
       "    <tr style=\"text-align: right;\">\n",
       "      <th></th>\n",
       "      <th>Order_ID</th>\n",
       "      <th>Spice_Name</th>\n",
       "      <th>Quantity</th>\n",
       "      <th>Price_per_Unit</th>\n",
       "    </tr>\n",
       "  </thead>\n",
       "  <tbody>\n",
       "    <tr>\n",
       "      <th>0</th>\n",
       "      <td>1</td>\n",
       "      <td>Cinnamon</td>\n",
       "      <td>5</td>\n",
       "      <td>2.5</td>\n",
       "    </tr>\n",
       "    <tr>\n",
       "      <th>1</th>\n",
       "      <td>2</td>\n",
       "      <td>Turmeric</td>\n",
       "      <td>3</td>\n",
       "      <td>1.8</td>\n",
       "    </tr>\n",
       "    <tr>\n",
       "      <th>2</th>\n",
       "      <td>3</td>\n",
       "      <td>Cardamom</td>\n",
       "      <td>4</td>\n",
       "      <td>3.0</td>\n",
       "    </tr>\n",
       "  </tbody>\n",
       "</table>\n",
       "</div>"
      ],
      "text/plain": [
       "   Order_ID Spice_Name  Quantity  Price_per_Unit\n",
       "0         1   Cinnamon         5             2.5\n",
       "1         2   Turmeric         3             1.8\n",
       "2         3   Cardamom         4             3.0"
      ]
     },
     "execution_count": 9,
     "metadata": {},
     "output_type": "execute_result"
    }
   ],
   "source": [
    "# Inner Merge Orders with Prices on 'Spice_Name'\n",
    "orders_prices_inner = pd.merge(orders_df, prices_df, on='Spice_Name', how='inner')\n",
    "\n",
    "orders_prices_inner\n"
   ]
  },
  {
   "cell_type": "markdown",
   "id": "48433b78-2f01-4f43-b7c5-68c8c1654857",
   "metadata": {},
   "source": [
    "An inner merge only includes rows where the merge key (Spice_Name) is present in both dataframes. Therefore, only orders with spices that are listed in both the `Orders Dataset` and the `Prices` Dataset are included. Any orders with spices not listed in the `Prices` Dataset (like \"Nutmeg\") are excluded."
   ]
  },
  {
   "cell_type": "code",
   "execution_count": 11,
   "id": "2bab378f-24d1-4671-bcde-65903710cd94",
   "metadata": {},
   "outputs": [
    {
     "data": {
      "text/html": [
       "<div>\n",
       "<style scoped>\n",
       "    .dataframe tbody tr th:only-of-type {\n",
       "        vertical-align: middle;\n",
       "    }\n",
       "\n",
       "    .dataframe tbody tr th {\n",
       "        vertical-align: top;\n",
       "    }\n",
       "\n",
       "    .dataframe thead th {\n",
       "        text-align: right;\n",
       "    }\n",
       "</style>\n",
       "<table border=\"1\" class=\"dataframe\">\n",
       "  <thead>\n",
       "    <tr style=\"text-align: right;\">\n",
       "      <th></th>\n",
       "      <th>Order_ID</th>\n",
       "      <th>Spice_Name</th>\n",
       "      <th>Quantity</th>\n",
       "      <th>Customer_Name</th>\n",
       "      <th>Address</th>\n",
       "    </tr>\n",
       "  </thead>\n",
       "  <tbody>\n",
       "    <tr>\n",
       "      <th>0</th>\n",
       "      <td>1</td>\n",
       "      <td>Cinnamon</td>\n",
       "      <td>5</td>\n",
       "      <td>Sara</td>\n",
       "      <td>123 Spice St.</td>\n",
       "    </tr>\n",
       "    <tr>\n",
       "      <th>1</th>\n",
       "      <td>2</td>\n",
       "      <td>Turmeric</td>\n",
       "      <td>3</td>\n",
       "      <td>Alex</td>\n",
       "      <td>456 Flavor Ave.</td>\n",
       "    </tr>\n",
       "    <tr>\n",
       "      <th>2</th>\n",
       "      <td>3</td>\n",
       "      <td>Cardamom</td>\n",
       "      <td>4</td>\n",
       "      <td>Hilal</td>\n",
       "      <td>789 Aroma Blvd.</td>\n",
       "    </tr>\n",
       "  </tbody>\n",
       "</table>\n",
       "</div>"
      ],
      "text/plain": [
       "   Order_ID Spice_Name  Quantity Customer_Name          Address\n",
       "0         1   Cinnamon         5          Sara    123 Spice St.\n",
       "1         2   Turmeric         3          Alex  456 Flavor Ave.\n",
       "2         3   Cardamom         4         Hilal  789 Aroma Blvd."
      ]
     },
     "execution_count": 11,
     "metadata": {},
     "output_type": "execute_result"
    }
   ],
   "source": [
    "# Inner Merge Orders with Customer Info on 'Order_ID'\n",
    "orders_customers_inner = pd.merge(orders_df, customer_info_df, on='Order_ID', how='inner')\n",
    "orders_customers_inner"
   ]
  },
  {
   "cell_type": "markdown",
   "id": "fc35b593-adf0-41d3-88bc-1b50e30f308c",
   "metadata": {},
   "source": [
    "Same logic. Only orders that have corresponding customer information in the `Customer Info Dataset` are included. Orders with Order_ID not listed in the `Customer Info` Dataset (like Order_ID 4) are excluded."
   ]
  },
  {
   "cell_type": "code",
   "execution_count": 12,
   "id": "25087770-5397-4122-94be-acf8bcc8286f",
   "metadata": {},
   "outputs": [
    {
     "data": {
      "text/html": [
       "<div>\n",
       "<style scoped>\n",
       "    .dataframe tbody tr th:only-of-type {\n",
       "        vertical-align: middle;\n",
       "    }\n",
       "\n",
       "    .dataframe tbody tr th {\n",
       "        vertical-align: top;\n",
       "    }\n",
       "\n",
       "    .dataframe thead th {\n",
       "        text-align: right;\n",
       "    }\n",
       "</style>\n",
       "<table border=\"1\" class=\"dataframe\">\n",
       "  <thead>\n",
       "    <tr style=\"text-align: right;\">\n",
       "      <th></th>\n",
       "      <th>Order_ID</th>\n",
       "      <th>Spice_Name</th>\n",
       "      <th>Quantity</th>\n",
       "      <th>Price_per_Unit</th>\n",
       "    </tr>\n",
       "  </thead>\n",
       "  <tbody>\n",
       "    <tr>\n",
       "      <th>0</th>\n",
       "      <td>3.0</td>\n",
       "      <td>Cardamom</td>\n",
       "      <td>4.0</td>\n",
       "      <td>3.0</td>\n",
       "    </tr>\n",
       "    <tr>\n",
       "      <th>1</th>\n",
       "      <td>1.0</td>\n",
       "      <td>Cinnamon</td>\n",
       "      <td>5.0</td>\n",
       "      <td>2.5</td>\n",
       "    </tr>\n",
       "    <tr>\n",
       "      <th>2</th>\n",
       "      <td>4.0</td>\n",
       "      <td>Nutmeg</td>\n",
       "      <td>2.0</td>\n",
       "      <td>NaN</td>\n",
       "    </tr>\n",
       "    <tr>\n",
       "      <th>3</th>\n",
       "      <td>NaN</td>\n",
       "      <td>Saffron</td>\n",
       "      <td>NaN</td>\n",
       "      <td>10.0</td>\n",
       "    </tr>\n",
       "    <tr>\n",
       "      <th>4</th>\n",
       "      <td>2.0</td>\n",
       "      <td>Turmeric</td>\n",
       "      <td>3.0</td>\n",
       "      <td>1.8</td>\n",
       "    </tr>\n",
       "  </tbody>\n",
       "</table>\n",
       "</div>"
      ],
      "text/plain": [
       "   Order_ID Spice_Name  Quantity  Price_per_Unit\n",
       "0       3.0   Cardamom       4.0             3.0\n",
       "1       1.0   Cinnamon       5.0             2.5\n",
       "2       4.0     Nutmeg       2.0             NaN\n",
       "3       NaN    Saffron       NaN            10.0\n",
       "4       2.0   Turmeric       3.0             1.8"
      ]
     },
     "execution_count": 12,
     "metadata": {},
     "output_type": "execute_result"
    }
   ],
   "source": [
    "# Outer Merge Orders with Prices on 'Spice_Name'\n",
    "orders_prices_outer = pd.merge(orders_df, prices_df, on='Spice_Name', how='outer')\n",
    "orders_prices_outer\n"
   ]
  },
  {
   "cell_type": "markdown",
   "id": "d63f56b5-e575-498e-9c31-07b5ddff91f6",
   "metadata": {},
   "source": [
    "An outer merge includes all rows from both dataframes, regardless of whether the merge key (Spice_Name) is present in both. If a row in one dataframe doesn't have a matching row in the other, NaN values are used for the missing entries. "
   ]
  },
  {
   "cell_type": "code",
   "execution_count": 13,
   "id": "ad5de465-8d7c-4ea2-ab26-53a58dbba3a3",
   "metadata": {},
   "outputs": [
    {
     "data": {
      "text/html": [
       "<div>\n",
       "<style scoped>\n",
       "    .dataframe tbody tr th:only-of-type {\n",
       "        vertical-align: middle;\n",
       "    }\n",
       "\n",
       "    .dataframe tbody tr th {\n",
       "        vertical-align: top;\n",
       "    }\n",
       "\n",
       "    .dataframe thead th {\n",
       "        text-align: right;\n",
       "    }\n",
       "</style>\n",
       "<table border=\"1\" class=\"dataframe\">\n",
       "  <thead>\n",
       "    <tr style=\"text-align: right;\">\n",
       "      <th></th>\n",
       "      <th>Order_ID</th>\n",
       "      <th>Spice_Name</th>\n",
       "      <th>Quantity</th>\n",
       "      <th>Customer_Name</th>\n",
       "      <th>Address</th>\n",
       "    </tr>\n",
       "  </thead>\n",
       "  <tbody>\n",
       "    <tr>\n",
       "      <th>0</th>\n",
       "      <td>1</td>\n",
       "      <td>Cinnamon</td>\n",
       "      <td>5.0</td>\n",
       "      <td>Sara</td>\n",
       "      <td>123 Spice St.</td>\n",
       "    </tr>\n",
       "    <tr>\n",
       "      <th>1</th>\n",
       "      <td>2</td>\n",
       "      <td>Turmeric</td>\n",
       "      <td>3.0</td>\n",
       "      <td>Alex</td>\n",
       "      <td>456 Flavor Ave.</td>\n",
       "    </tr>\n",
       "    <tr>\n",
       "      <th>2</th>\n",
       "      <td>3</td>\n",
       "      <td>Cardamom</td>\n",
       "      <td>4.0</td>\n",
       "      <td>Hilal</td>\n",
       "      <td>789 Aroma Blvd.</td>\n",
       "    </tr>\n",
       "    <tr>\n",
       "      <th>3</th>\n",
       "      <td>4</td>\n",
       "      <td>Nutmeg</td>\n",
       "      <td>2.0</td>\n",
       "      <td>NaN</td>\n",
       "      <td>NaN</td>\n",
       "    </tr>\n",
       "    <tr>\n",
       "      <th>4</th>\n",
       "      <td>5</td>\n",
       "      <td>NaN</td>\n",
       "      <td>NaN</td>\n",
       "      <td>Tanjina</td>\n",
       "      <td>101 Scent Rd.</td>\n",
       "    </tr>\n",
       "  </tbody>\n",
       "</table>\n",
       "</div>"
      ],
      "text/plain": [
       "   Order_ID Spice_Name  Quantity Customer_Name          Address\n",
       "0         1   Cinnamon       5.0          Sara    123 Spice St.\n",
       "1         2   Turmeric       3.0          Alex  456 Flavor Ave.\n",
       "2         3   Cardamom       4.0         Hilal  789 Aroma Blvd.\n",
       "3         4     Nutmeg       2.0           NaN              NaN\n",
       "4         5        NaN       NaN       Tanjina    101 Scent Rd."
      ]
     },
     "execution_count": 13,
     "metadata": {},
     "output_type": "execute_result"
    }
   ],
   "source": [
    "# Outer Merge Orders with Customer Info on 'Order_ID'\n",
    "orders_customers_outer = pd.merge(orders_df, customer_info_df, on='Order_ID', how='outer')\n",
    "\n",
    "orders_customers_outer"
   ]
  },
  {
   "cell_type": "code",
   "execution_count": 23,
   "id": "2051a928-71e2-40c2-9b05-9ebc104d0f00",
   "metadata": {},
   "outputs": [
    {
     "data": {
      "text/html": [
       "<div>\n",
       "<style scoped>\n",
       "    .dataframe tbody tr th:only-of-type {\n",
       "        vertical-align: middle;\n",
       "    }\n",
       "\n",
       "    .dataframe tbody tr th {\n",
       "        vertical-align: top;\n",
       "    }\n",
       "\n",
       "    .dataframe thead th {\n",
       "        text-align: right;\n",
       "    }\n",
       "</style>\n",
       "<table border=\"1\" class=\"dataframe\">\n",
       "  <thead>\n",
       "    <tr style=\"text-align: right;\">\n",
       "      <th></th>\n",
       "      <th>Order_ID</th>\n",
       "      <th>Spice_Name</th>\n",
       "      <th>Quantity</th>\n",
       "      <th>Customer_Name</th>\n",
       "      <th>Address</th>\n",
       "    </tr>\n",
       "  </thead>\n",
       "  <tbody>\n",
       "    <tr>\n",
       "      <th>0</th>\n",
       "      <td>1</td>\n",
       "      <td>Cinnamon</td>\n",
       "      <td>5.0</td>\n",
       "      <td>NaN</td>\n",
       "      <td>NaN</td>\n",
       "    </tr>\n",
       "    <tr>\n",
       "      <th>1</th>\n",
       "      <td>2</td>\n",
       "      <td>Turmeric</td>\n",
       "      <td>3.0</td>\n",
       "      <td>NaN</td>\n",
       "      <td>NaN</td>\n",
       "    </tr>\n",
       "    <tr>\n",
       "      <th>2</th>\n",
       "      <td>3</td>\n",
       "      <td>Cardamom</td>\n",
       "      <td>4.0</td>\n",
       "      <td>NaN</td>\n",
       "      <td>NaN</td>\n",
       "    </tr>\n",
       "    <tr>\n",
       "      <th>3</th>\n",
       "      <td>4</td>\n",
       "      <td>Nutmeg</td>\n",
       "      <td>2.0</td>\n",
       "      <td>NaN</td>\n",
       "      <td>NaN</td>\n",
       "    </tr>\n",
       "    <tr>\n",
       "      <th>4</th>\n",
       "      <td>1</td>\n",
       "      <td>NaN</td>\n",
       "      <td>NaN</td>\n",
       "      <td>Sara</td>\n",
       "      <td>123 Spice St.</td>\n",
       "    </tr>\n",
       "    <tr>\n",
       "      <th>5</th>\n",
       "      <td>2</td>\n",
       "      <td>NaN</td>\n",
       "      <td>NaN</td>\n",
       "      <td>Alex</td>\n",
       "      <td>456 Flavor Ave.</td>\n",
       "    </tr>\n",
       "    <tr>\n",
       "      <th>6</th>\n",
       "      <td>3</td>\n",
       "      <td>NaN</td>\n",
       "      <td>NaN</td>\n",
       "      <td>Hilal</td>\n",
       "      <td>789 Aroma Blvd.</td>\n",
       "    </tr>\n",
       "    <tr>\n",
       "      <th>7</th>\n",
       "      <td>5</td>\n",
       "      <td>NaN</td>\n",
       "      <td>NaN</td>\n",
       "      <td>Tanjina</td>\n",
       "      <td>101 Scent Rd.</td>\n",
       "    </tr>\n",
       "  </tbody>\n",
       "</table>\n",
       "</div>"
      ],
      "text/plain": [
       "   Order_ID Spice_Name  Quantity Customer_Name          Address\n",
       "0         1   Cinnamon       5.0           NaN              NaN\n",
       "1         2   Turmeric       3.0           NaN              NaN\n",
       "2         3   Cardamom       4.0           NaN              NaN\n",
       "3         4     Nutmeg       2.0           NaN              NaN\n",
       "4         1        NaN       NaN          Sara    123 Spice St.\n",
       "5         2        NaN       NaN          Alex  456 Flavor Ave.\n",
       "6         3        NaN       NaN         Hilal  789 Aroma Blvd.\n",
       "7         5        NaN       NaN       Tanjina    101 Scent Rd."
      ]
     },
     "execution_count": 23,
     "metadata": {},
     "output_type": "execute_result"
    }
   ],
   "source": [
    "# Concatenate Orders and Customer Info Vertically\n",
    "concat_vertical = pd.concat([orders_df, customer_info_df], ignore_index=True, sort=False)\n",
    "concat_vertical"
   ]
  },
  {
   "cell_type": "markdown",
   "id": "34584c9e-de34-438b-8b8f-9ddb256dd8ba",
   "metadata": {},
   "source": [
    "## Part 2 Pivot table and aggregate"
   ]
  },
  {
   "cell_type": "code",
   "execution_count": 15,
   "id": "0702bdb9-8d40-4f19-b746-cba3758ca07b",
   "metadata": {},
   "outputs": [
    {
     "data": {
      "text/html": [
       "<div>\n",
       "<style scoped>\n",
       "    .dataframe tbody tr th:only-of-type {\n",
       "        vertical-align: middle;\n",
       "    }\n",
       "\n",
       "    .dataframe tbody tr th {\n",
       "        vertical-align: top;\n",
       "    }\n",
       "\n",
       "    .dataframe thead th {\n",
       "        text-align: right;\n",
       "    }\n",
       "</style>\n",
       "<table border=\"1\" class=\"dataframe\">\n",
       "  <thead>\n",
       "    <tr style=\"text-align: right;\">\n",
       "      <th></th>\n",
       "      <th>Order_ID</th>\n",
       "      <th>Spice_Name</th>\n",
       "      <th>Quantity</th>\n",
       "    </tr>\n",
       "  </thead>\n",
       "  <tbody>\n",
       "    <tr>\n",
       "      <th>0</th>\n",
       "      <td>1</td>\n",
       "      <td>Cinnamon</td>\n",
       "      <td>5</td>\n",
       "    </tr>\n",
       "    <tr>\n",
       "      <th>1</th>\n",
       "      <td>2</td>\n",
       "      <td>Turmeric</td>\n",
       "      <td>3</td>\n",
       "    </tr>\n",
       "    <tr>\n",
       "      <th>2</th>\n",
       "      <td>3</td>\n",
       "      <td>Cardamom</td>\n",
       "      <td>4</td>\n",
       "    </tr>\n",
       "    <tr>\n",
       "      <th>3</th>\n",
       "      <td>4</td>\n",
       "      <td>Nutmeg</td>\n",
       "      <td>2</td>\n",
       "    </tr>\n",
       "  </tbody>\n",
       "</table>\n",
       "</div>"
      ],
      "text/plain": [
       "   Order_ID Spice_Name  Quantity\n",
       "0         1   Cinnamon         5\n",
       "1         2   Turmeric         3\n",
       "2         3   Cardamom         4\n",
       "3         4     Nutmeg         2"
      ]
     },
     "execution_count": 15,
     "metadata": {},
     "output_type": "execute_result"
    }
   ],
   "source": [
    "# let's remember orders_df\n",
    "orders_df"
   ]
  },
  {
   "cell_type": "code",
   "execution_count": 26,
   "id": "20b2b75e",
   "metadata": {},
   "outputs": [
    {
     "data": {
      "text/html": [
       "<div>\n",
       "<style scoped>\n",
       "    .dataframe tbody tr th:only-of-type {\n",
       "        vertical-align: middle;\n",
       "    }\n",
       "\n",
       "    .dataframe tbody tr th {\n",
       "        vertical-align: top;\n",
       "    }\n",
       "\n",
       "    .dataframe thead th {\n",
       "        text-align: right;\n",
       "    }\n",
       "</style>\n",
       "<table border=\"1\" class=\"dataframe\">\n",
       "  <thead>\n",
       "    <tr style=\"text-align: right;\">\n",
       "      <th></th>\n",
       "      <th>Order_ID</th>\n",
       "      <th>Spice_Name</th>\n",
       "      <th>Quantity</th>\n",
       "    </tr>\n",
       "  </thead>\n",
       "  <tbody>\n",
       "    <tr>\n",
       "      <th>0</th>\n",
       "      <td>1</td>\n",
       "      <td>Cinnamon</td>\n",
       "      <td>5</td>\n",
       "    </tr>\n",
       "    <tr>\n",
       "      <th>1</th>\n",
       "      <td>2</td>\n",
       "      <td>Turmeric</td>\n",
       "      <td>3</td>\n",
       "    </tr>\n",
       "    <tr>\n",
       "      <th>2</th>\n",
       "      <td>3</td>\n",
       "      <td>Cardamom</td>\n",
       "      <td>4</td>\n",
       "    </tr>\n",
       "    <tr>\n",
       "      <th>3</th>\n",
       "      <td>4</td>\n",
       "      <td>Nutmeg</td>\n",
       "      <td>2</td>\n",
       "    </tr>\n",
       "    <tr>\n",
       "      <th>4</th>\n",
       "      <td>5</td>\n",
       "      <td>Cinnamon</td>\n",
       "      <td>4</td>\n",
       "    </tr>\n",
       "  </tbody>\n",
       "</table>\n",
       "</div>"
      ],
      "text/plain": [
       "   Order_ID Spice_Name  Quantity\n",
       "0         1   Cinnamon         5\n",
       "1         2   Turmeric         3\n",
       "2         3   Cardamom         4\n",
       "3         4     Nutmeg         2\n",
       "4         5   Cinnamon         4"
      ]
     },
     "execution_count": 26,
     "metadata": {},
     "output_type": "execute_result"
    }
   ],
   "source": [
    "new_row = {'Order_ID':5,'Spice_Name':'Cinnamon','Quantity':4}\n",
    "orders_df.loc[4] = new_row\n",
    "orders_df"
   ]
  },
  {
   "cell_type": "code",
   "execution_count": 27,
   "id": "172aae9e-a93e-44de-976e-b9051b16505f",
   "metadata": {},
   "outputs": [
    {
     "data": {
      "text/html": [
       "<div>\n",
       "<style scoped>\n",
       "    .dataframe tbody tr th:only-of-type {\n",
       "        vertical-align: middle;\n",
       "    }\n",
       "\n",
       "    .dataframe tbody tr th {\n",
       "        vertical-align: top;\n",
       "    }\n",
       "\n",
       "    .dataframe thead th {\n",
       "        text-align: right;\n",
       "    }\n",
       "</style>\n",
       "<table border=\"1\" class=\"dataframe\">\n",
       "  <thead>\n",
       "    <tr style=\"text-align: right;\">\n",
       "      <th></th>\n",
       "      <th>Count</th>\n",
       "    </tr>\n",
       "    <tr>\n",
       "      <th>Spice_Name</th>\n",
       "      <th></th>\n",
       "    </tr>\n",
       "  </thead>\n",
       "  <tbody>\n",
       "    <tr>\n",
       "      <th>Cardamom</th>\n",
       "      <td>1</td>\n",
       "    </tr>\n",
       "    <tr>\n",
       "      <th>Cinnamon</th>\n",
       "      <td>2</td>\n",
       "    </tr>\n",
       "    <tr>\n",
       "      <th>Nutmeg</th>\n",
       "      <td>1</td>\n",
       "    </tr>\n",
       "    <tr>\n",
       "      <th>Turmeric</th>\n",
       "      <td>1</td>\n",
       "    </tr>\n",
       "  </tbody>\n",
       "</table>\n",
       "</div>"
      ],
      "text/plain": [
       "            Count\n",
       "Spice_Name       \n",
       "Cardamom        1\n",
       "Cinnamon        2\n",
       "Nutmeg          1\n",
       "Turmeric        1"
      ]
     },
     "execution_count": 27,
     "metadata": {},
     "output_type": "execute_result"
    }
   ],
   "source": [
    "# Pivot table for count of each spice\n",
    "pivot_count = orders_df.pivot_table(values='Quantity', index='Spice_Name',aggfunc='count')\n",
    "pivot_count.rename(columns={'Quantity': 'Count'}, inplace=True) #to not o get confused with quantity column\n",
    "pivot_count"
   ]
  },
  {
   "cell_type": "code",
   "execution_count": 28,
   "id": "e3125a96-d032-4e7e-8515-0c6391443069",
   "metadata": {},
   "outputs": [
    {
     "data": {
      "text/html": [
       "<div>\n",
       "<style scoped>\n",
       "    .dataframe tbody tr th:only-of-type {\n",
       "        vertical-align: middle;\n",
       "    }\n",
       "\n",
       "    .dataframe tbody tr th {\n",
       "        vertical-align: top;\n",
       "    }\n",
       "\n",
       "    .dataframe thead th {\n",
       "        text-align: right;\n",
       "    }\n",
       "</style>\n",
       "<table border=\"1\" class=\"dataframe\">\n",
       "  <thead>\n",
       "    <tr style=\"text-align: right;\">\n",
       "      <th></th>\n",
       "      <th>Mean_Quantity</th>\n",
       "    </tr>\n",
       "    <tr>\n",
       "      <th>Spice_Name</th>\n",
       "      <th></th>\n",
       "    </tr>\n",
       "  </thead>\n",
       "  <tbody>\n",
       "    <tr>\n",
       "      <th>Cardamom</th>\n",
       "      <td>4.0</td>\n",
       "    </tr>\n",
       "    <tr>\n",
       "      <th>Cinnamon</th>\n",
       "      <td>4.5</td>\n",
       "    </tr>\n",
       "    <tr>\n",
       "      <th>Nutmeg</th>\n",
       "      <td>2.0</td>\n",
       "    </tr>\n",
       "    <tr>\n",
       "      <th>Turmeric</th>\n",
       "      <td>3.0</td>\n",
       "    </tr>\n",
       "  </tbody>\n",
       "</table>\n",
       "</div>"
      ],
      "text/plain": [
       "            Mean_Quantity\n",
       "Spice_Name               \n",
       "Cardamom              4.0\n",
       "Cinnamon              4.5\n",
       "Nutmeg                2.0\n",
       "Turmeric              3.0"
      ]
     },
     "execution_count": 28,
     "metadata": {},
     "output_type": "execute_result"
    }
   ],
   "source": [
    "# Pivot table for mean quantity ordered for each spice\n",
    "pivot_mean = orders_df.pivot_table(values='Quantity', index='Spice_Name', aggfunc='mean')\n",
    "pivot_mean.rename(columns={'Quantity': 'Mean_Quantity'}, inplace=True)\n",
    "pivot_mean"
   ]
  },
  {
   "cell_type": "code",
   "execution_count": 29,
   "id": "68c7f67e-a226-4644-997d-4e08eb6abf2e",
   "metadata": {},
   "outputs": [
    {
     "data": {
      "text/html": [
       "<div>\n",
       "<style scoped>\n",
       "    .dataframe tbody tr th:only-of-type {\n",
       "        vertical-align: middle;\n",
       "    }\n",
       "\n",
       "    .dataframe tbody tr th {\n",
       "        vertical-align: top;\n",
       "    }\n",
       "\n",
       "    .dataframe thead th {\n",
       "        text-align: right;\n",
       "    }\n",
       "</style>\n",
       "<table border=\"1\" class=\"dataframe\">\n",
       "  <thead>\n",
       "    <tr style=\"text-align: right;\">\n",
       "      <th></th>\n",
       "      <th>Spice_Name</th>\n",
       "      <th>Mean_Quantity</th>\n",
       "    </tr>\n",
       "  </thead>\n",
       "  <tbody>\n",
       "    <tr>\n",
       "      <th>0</th>\n",
       "      <td>Cardamom</td>\n",
       "      <td>4.0</td>\n",
       "    </tr>\n",
       "    <tr>\n",
       "      <th>1</th>\n",
       "      <td>Cinnamon</td>\n",
       "      <td>4.5</td>\n",
       "    </tr>\n",
       "    <tr>\n",
       "      <th>2</th>\n",
       "      <td>Nutmeg</td>\n",
       "      <td>2.0</td>\n",
       "    </tr>\n",
       "    <tr>\n",
       "      <th>3</th>\n",
       "      <td>Turmeric</td>\n",
       "      <td>3.0</td>\n",
       "    </tr>\n",
       "  </tbody>\n",
       "</table>\n",
       "</div>"
      ],
      "text/plain": [
       "  Spice_Name  Mean_Quantity\n",
       "0   Cardamom            4.0\n",
       "1   Cinnamon            4.5\n",
       "2     Nutmeg            2.0\n",
       "3   Turmeric            3.0"
      ]
     },
     "execution_count": 29,
     "metadata": {},
     "output_type": "execute_result"
    }
   ],
   "source": [
    "#let's try it with groupby\n",
    "mean_quantity = orders_df.groupby('Spice_Name')['Quantity'].mean().reset_index(name='Mean_Quantity')\n",
    "mean_quantity"
   ]
  },
  {
   "cell_type": "markdown",
   "id": "ddc5608e-365f-46c9-b5ab-b8cb046e45b2",
   "metadata": {},
   "source": [
    "Pivot tables are powerful for summarizing data in tabular form, however for hese purposes groupby is a better option for performing aggregations."
   ]
  },
  {
   "cell_type": "markdown",
   "id": "d76b04e0-6394-4712-ab7d-eb28155de7ec",
   "metadata": {},
   "source": [
    "## Part 3 Coin Flips"
   ]
  },
  {
   "cell_type": "markdown",
   "id": "9ebb251b-6563-46b5-ab69-c53c740bb187",
   "metadata": {},
   "source": [
    "Simulate a fair coin flip for 10 times and calculate the estimated probability of getting a head (number of times you got a head divided by 10). Repeat for 100, 1000 and 10000 times. How does the estimated probability changes ? How can we interpret that ?"
   ]
  },
  {
   "cell_type": "code",
   "execution_count": 42,
   "id": "3caa99c0-1657-4d3d-89c6-be91c0e59ce4",
   "metadata": {},
   "outputs": [
    {
     "data": {
      "text/plain": [
       "array([0.2, 0.4, 0.6, 0.6, 0.5, 0.4, 0.8, 0.3, 0.7, 0.4, 0.5, 0.7, 0.5,\n",
       "       0.3, 0.5, 0.7, 0.2, 0.4, 0.3, 0.7, 0.5, 0.6, 0.4, 0.6, 0.7, 0.4,\n",
       "       0.3, 0.4, 0.5, 0.5, 0.3, 0.3, 0.5, 0.2, 0.4, 0.4, 0.4, 0.5, 0.1,\n",
       "       0.5, 0.6, 0.6, 0.1, 0.6, 0.7, 0.7, 0.7, 0.6, 0.6, 0.7, 0.7, 0.9,\n",
       "       0.4, 0.8, 0.5, 0.6, 0.4, 0.5, 0.5, 0.6, 0.7, 0.6, 0.5, 0.4, 0.4,\n",
       "       0.6, 0.6, 0.7, 0.6, 0.7, 0.5, 0.6, 0.4, 0.6, 0.6, 0.3, 0.5, 0.6,\n",
       "       0.5, 0.3, 0.5, 0.3, 0.4, 0.6, 0.3, 0.5, 0.8, 0.4, 0.6, 0.6, 0.3,\n",
       "       0.9, 0.3, 0.3, 0.5, 0.8, 0.5, 0.7, 0.3, 0.5])"
      ]
     },
     "execution_count": 42,
     "metadata": {},
     "output_type": "execute_result"
    }
   ],
   "source": [
    "import numpy as np\n",
    "import seaborn as sns\n",
    "# Simulation Setup: The code simulates 10 coin flips (size=10) repeated 10,000 times (k = 10000)\n",
    "\n",
    "number_of_heads = []  \n",
    "k = 100\n",
    "\n",
    "#For each simulation, np.random.random(size=10) generates an array of 10 random numbers between 0 and 1. \n",
    "#flips = np.random.random(size=10) > 0.5 converts these random numbers into boolean values.\n",
    "for i in range(k):\n",
    "    heads = np.random.random(size=10) > 0.5\n",
    "    number_of_heads.append(np.sum(heads))\n",
    "\n",
    "# Convert the list of head counts to a numpy array for easier manipulation\n",
    "number_of_heads = np.array(number_of_heads)\n",
    "\n",
    "# Calculate the estimated probability of getting heads\n",
    "estimated_probabilities = number_of_heads / 10\n",
    "estimated_probabilities"
   ]
  },
  {
   "cell_type": "code",
   "execution_count": 43,
   "id": "cd3f0c7a-b7d2-4c8f-a1a8-d9811f5b375d",
   "metadata": {},
   "outputs": [
    {
     "data": {
      "image/png": "[encoded data removed]",
      "text/plain": [
       "<Figure size 500x500 with 1 Axes>"
      ]
     },
     "metadata": {},
     "output_type": "display_data"
    }
   ],
   "source": [
    "#let's make a plot\n",
    "sns.displot(number_of_heads, bins=11, discrete=True);"
   ]
  },
  {
   "cell_type": "code",
   "execution_count": 44,
   "id": "b67c719c-b80a-46d7-b356-acdf74d37af2",
   "metadata": {},
   "outputs": [
    {
     "data": {
      "text/plain": [
       "array([0.7, 0.6, 0.5, ..., 0.3, 0.4, 0.6])"
      ]
     },
     "execution_count": 44,
     "metadata": {},
     "output_type": "execute_result"
    }
   ],
   "source": [
    "number_of_heads = []  \n",
    "k = 10000\n",
    "\n",
    "#For each simulation, np.random.random(size=10) generates an array of 10 random numbers between 0 and 1. \n",
    "#flips = np.random.random(size=10) > 0.5 converts these random numbers into boolean values.\n",
    "for i in range(k):\n",
    "    heads = np.random.random(size=10) > 0.5\n",
    "    number_of_heads.append(np.sum(heads))\n",
    "# Convert the list of head counts to a numpy array for easier manipulation\n",
    "number_of_heads = np.array(number_of_heads)\n",
    "\n",
    "# Calculate the estimated probability of getting heads\n",
    "estimated_probabilities = number_of_heads / 10\n",
    "estimated_probabilities"
   ]
  },
  {
   "cell_type": "code",
   "execution_count": 45,
   "id": "f85ddebc-a3bc-403f-8e7c-5632efb85eb3",
   "metadata": {},
   "outputs": [
    {
     "data": {
      "image/png": "[encoded data removed]",
      "text/plain": [
       "<Figure size 500x500 with 1 Axes>"
      ]
     },
     "metadata": {},
     "output_type": "display_data"
    }
   ],
   "source": [
    "#let's make a plot\n",
    "sns.displot(number_of_heads, bins=11, discrete=True);"
   ]
  },
  {
   "cell_type": "markdown",
   "id": "53d434b7-7e49-4ee3-8057-eecead0836b8",
   "metadata": {},
   "source": [
    "As the number of trials increases, the mean estimated probability converges towards the true probability of 0.5.\n",
    "Standard deviation decreases with more trials, indicating more precise and reliable estimates."
   ]
  },
  {
   "cell_type": "code",
   "execution_count": 48,
   "id": "7c1fb99f-e8a3-4cfc-98cb-efaaf94a71dc",
   "metadata": {},
   "outputs": [
    {
     "data": {
      "image/png": "[encoded data removed]",
      "text/plain": [
       "<Figure size 500x500 with 1 Axes>"
      ]
     },
     "metadata": {},
     "output_type": "display_data"
    }
   ],
   "source": [
    "# Parameters of the Binomial distribution\n",
    "n = 10  # Number of trials\n",
    "p = 0.5  # Probability of success (getting a 'head')\n",
    "\n",
    "# Sample from the Binomial distribution\n",
    "samples = np.random.binomial(n, p, size=100_000)\n",
    "#Generates 100,000 samples from a Binomial distribution with parameters \n",
    "\n",
    "\n",
    "# plotting the pmf using the samples\n",
    "n_tails = pd.Series(samples)\n",
    "sns.displot(n_tails, discrete=True, stat=\"probability\");"
   ]
  },
  {
   "cell_type": "code",
   "execution_count": 47,
   "id": "d413b6d7-8f4f-4f6f-afb1-f508e8dcdd98",
   "metadata": {},
   "outputs": [
    {
     "data": {
      "text/plain": [
       "array([6, 3, 5, ..., 6, 6, 7], dtype=int32)"
      ]
     },
     "execution_count": 47,
     "metadata": {},
     "output_type": "execute_result"
    }
   ],
   "source": [
    "samples"
   ]
  },
  {
   "cell_type": "code",
   "execution_count": null,
   "id": "e8a4383c-4ae0-4563-b04d-9220b524bbd4",
   "metadata": {},
   "outputs": [],
   "source": []
  },
  {
   "cell_type": "code",
   "execution_count": 51,
   "id": "3d037e24-4945-4345-9ed2-3383bc476be9",
   "metadata": {},
   "outputs": [
    {
     "name": "stdout",
     "output_type": "stream",
     "text": [
      "Dice Roll\n",
      "1    0.185\n",
      "2    0.176\n",
      "3    0.169\n",
      "4    0.159\n",
      "5    0.150\n",
      "6    0.161\n",
      "Name: count, dtype: float64\n"
     ]
    }
   ],
   "source": [
    "import numpy as np\n",
    "import pandas as pd\n",
    "\n",
    "# 定义一个离散随机变量，假设掷一个六面骰子\n",
    "dice_rolls = np.random.randint(1, 7, size=1000)\n",
    "\n",
    "# 将结果转换为pandas DataFrame\n",
    "df = pd.DataFrame(dice_rolls, columns=['Dice Roll'])\n",
    "\n",
    "# 计算每个值的频率\n",
    "frequency = df['Dice Roll'].value_counts().sort_index()\n",
    "\n",
    "# 计算每个值的概率\n",
    "probability = frequency / len(df)\n",
    "\n",
    "print(probability)\n"
   ]
  },
  {
   "cell_type": "code",
   "execution_count": 54,
   "id": "ff6016b5",
   "metadata": {},
   "outputs": [
    {
     "data": {
      "text/plain": [
       "Dice Roll\n",
       "1    185\n",
       "2    176\n",
       "3    169\n",
       "4    159\n",
       "5    150\n",
       "6    161\n",
       "Name: count, dtype: int64"
      ]
     },
     "execution_count": 54,
     "metadata": {},
     "output_type": "execute_result"
    }
   ],
   "source": [
    "df['Dice Roll'].value_counts().sort_index()"
   ]
  }
 ],
 "metadata": {
  "kernelspec": {
   "display_name": "Python 3 (ipykernel)",
   "language": "python",
   "name": "python3"
  },
  "language_info": {
   "codemirror_mode": {
    "name": "ipython",
    "version": 3
   },
   "file_extension": ".py",
   "mimetype": "text/x-python",
   "name": "python",
   "nbconvert_exporter": "python",
   "pygments_lexer": "ipython3",
   "version": "3.12.3"
  }
 },
 "nbformat": 4,
 "nbformat_minor": 5
}
