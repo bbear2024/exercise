{
 "cells": [
  {
   "cell_type": "code",
   "execution_count": 1,
   "id": "2c43b3fd-b79e-4567-b0cb-338b796d80dd",
   "metadata": {},
   "outputs": [],
   "source": [
    "import pandas as pd\n",
    "\n",
    "# Sample data frame\n",
    "data = {\n",
    "    'quality': [3, 3, 3, 4, 4, 5, 5, 6, 6, 6, 6],\n",
    "    'chlorides': [0.1, 0.15, 0.12, 0.18, 0.14, 0.13, 0.17, 0.11, 0.10, 0.15, 0.16]\n",
    "}\n",
    "df = pd.DataFrame(data)"
   ]
  },
  {
   "cell_type": "code",
   "execution_count": 2,
   "id": "31bdea12-39af-439d-8c67-1b5c5997dcef",
   "metadata": {},
   "outputs": [],
   "source": [
    "# Group by 'quality' and inspect the grouped object\n",
    "grouped = df.groupby('quality')['chlorides']"
   ]
  },
  {
   "cell_type": "code",
   "execution_count": 8,
   "id": "8fc230de-af9f-4dbd-8222-8122b8ae3b88",
   "metadata": {},
   "outputs": [
    {
     "data": {
      "text/plain": [
       "<pandas.core.groupby.generic.SeriesGroupBy object at 0x0000020A373995E0>"
      ]
     },
     "execution_count": 8,
     "metadata": {},
     "output_type": "execute_result"
    }
   ],
   "source": [
    "# Method 1: Print the grouped object\n",
    "grouped"
   ]
  },
  {
   "cell_type": "code",
   "execution_count": 4,
   "id": "d6974ecd-37a8-47aa-b6e9-223ecba6ccee",
   "metadata": {},
   "outputs": [
    {
     "name": "stdout",
     "output_type": "stream",
     "text": [
      "Quality: 3\n",
      "0    0.10\n",
      "1    0.15\n",
      "2    0.12\n",
      "Name: chlorides, dtype: float64\n",
      "Quality: 4\n",
      "3    0.18\n",
      "4    0.14\n",
      "Name: chlorides, dtype: float64\n",
      "Quality: 5\n",
      "5    0.13\n",
      "6    0.17\n",
      "Name: chlorides, dtype: float64\n",
      "Quality: 6\n",
      "7     0.11\n",
      "8     0.10\n",
      "9     0.15\n",
      "10    0.16\n",
      "Name: chlorides, dtype: float64\n"
     ]
    }
   ],
   "source": [
    "# Method 2: Iterate through the groups\n",
    "for quality, group in grouped:\n",
    "    print(f\"Quality: {quality}\")\n",
    "    print(group)"
   ]
  },
  {
   "cell_type": "code",
   "execution_count": 5,
   "id": "0ad3fb7d-343f-48fc-b12f-c9088d06cfa3",
   "metadata": {},
   "outputs": [
    {
     "name": "stdout",
     "output_type": "stream",
     "text": [
      "Quality: 3\n",
      "0    0.10\n",
      "1    0.15\n",
      "2    0.12\n",
      "Name: chlorides, dtype: float64\n",
      "Quality: 4\n",
      "3    0.18\n",
      "4    0.14\n",
      "Name: chlorides, dtype: float64\n",
      "Quality: 5\n",
      "5    0.13\n",
      "6    0.17\n",
      "Name: chlorides, dtype: float64\n",
      "Quality: 6\n",
      "7     0.11\n",
      "8     0.10\n",
      "9     0.15\n",
      "10    0.16\n",
      "Name: chlorides, dtype: float64\n"
     ]
    }
   ],
   "source": [
    "# Method 3: Convert to a list of tuples and print\n",
    "grouped_list = [(quality, group) for quality, group in grouped]\n",
    "\n",
    "for quality, group in grouped_list:\n",
    "    print(f\"Quality: {quality}\")\n",
    "    print(group)"
   ]
  }
 ],
 "metadata": {
  "kernelspec": {
   "display_name": "Python 3 (ipykernel)",
   "language": "python",
   "name": "python3"
  },
  "language_info": {
   "codemirror_mode": {
    "name": "ipython",
    "version": 3
   },
   "file_extension": ".py",
   "mimetype": "text/x-python",
   "name": "python",
   "nbconvert_exporter": "python",
   "pygments_lexer": "ipython3",
   "version": "3.12.3"
  }
 },
 "nbformat": 4,
 "nbformat_minor": 5
}
