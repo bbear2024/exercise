{
 "cells": [
  {
   "cell_type": "markdown",
   "metadata": {},
   "source": [
    "### --- FOR LOOP EXERCISES ---"
   ]
  },
  {
   "cell_type": "markdown",
   "metadata": {},
   "source": [
    "### A List of Fruits"
   ]
  },
  {
   "cell_type": "code",
   "execution_count": null,
   "metadata": {},
   "outputs": [],
   "source": [
    "prices = {'apples': '3.0', 'oranges': '2.5', 'kiwis': '4.0'}"
   ]
  },
  {
   "cell_type": "markdown",
   "metadata": {},
   "source": [
    "Q1: Write a for loop over the key of 'prices' and print the key.\n"
   ]
  },
  {
   "cell_type": "code",
   "execution_count": null,
   "metadata": {},
   "outputs": [],
   "source": [
    "# please write your solution here\n",
    "for key in prices:\n",
    "    print(key)"
   ]
  },
  {
   "cell_type": "markdown",
   "metadata": {},
   "source": [
    "Q2: Write a for loop over the keys of 'prices' and prints both key and the value."
   ]
  },
  {
   "cell_type": "code",
   "execution_count": null,
   "metadata": {},
   "outputs": [],
   "source": [
    "# please write your solution here\n",
    "for key in prices:\n",
    "    print(key, prices[key])"
   ]
  },
  {
   "cell_type": "markdown",
   "metadata": {},
   "source": [
    "Q3: write a for loop that iterates over 'SPICED' and prints each letter."
   ]
  },
  {
   "cell_type": "code",
   "execution_count": null,
   "metadata": {},
   "outputs": [],
   "source": [
    "# please write your solution here\n",
    "for i in 'SPICED':\n",
    "    print(i)"
   ]
  },
  {
   "cell_type": "markdown",
   "metadata": {},
   "source": [
    "Q4: Write a for loop to  print a triangle(4x4) with 'Hi' (See the pattern below)\n"
   ]
  },
  {
   "cell_type": "code",
   "execution_count": null,
   "metadata": {},
   "outputs": [],
   "source": [
    "# Hi \n",
    "# Hi Hi \n",
    "# Hi Hi Hi \n",
    "# Hi Hi Hi Hi\n",
    "\n",
    "\n",
    "# Hint= (start, stop, step)\n",
    "# Hint = default start is 0, default step is 1"
   ]
  },
  {
   "cell_type": "code",
   "execution_count": null,
   "metadata": {},
   "outputs": [],
   "source": [
    "# please write your solution here\n",
    "pattern = 'Hi'\n",
    "for i in range(4):\n",
    "    print(pattern)\n",
    "    pattern += ' Hi'"
   ]
  },
  {
   "cell_type": "markdown",
   "metadata": {},
   "source": [
    "Q5: Write a for loop which prints the numbers: 2,4,6,8. Use the range function to iterate over that number sequence."
   ]
  },
  {
   "cell_type": "code",
   "execution_count": null,
   "metadata": {},
   "outputs": [],
   "source": [
    "# please write your solution here\n",
    "for i in range(2,9,2):\n",
    "    print(i)"
   ]
  },
  {
   "cell_type": "markdown",
   "metadata": {},
   "source": [
    "### Names of Employees"
   ]
  },
  {
   "cell_type": "code",
   "execution_count": 27,
   "metadata": {},
   "outputs": [],
   "source": [
    "names = ['Alice', 'Bob', 'Charlie', 'Delia']\n",
    "jobs = ['doctor', 'builder', 'cook', 'developer']"
   ]
  },
  {
   "cell_type": "markdown",
   "metadata": {},
   "source": [
    "Q5: Write a loop over two lists using zip() which prints 'name works as a job'"
   ]
  },
  {
   "cell_type": "code",
   "execution_count": 31,
   "metadata": {},
   "outputs": [
    {
     "name": "stdout",
     "output_type": "stream",
     "text": [
      "Alice works as a doctor\n",
      "Bob works as a builder\n",
      "Charlie works as a cook\n",
      "Delia works as a developer\n"
     ]
    }
   ],
   "source": [
    "# please write your solution here\n",
    "new_list = list(zip(names, jobs))\n",
    "for i in range(4):\n",
    "    print(f\"{new_list[i][0]} works as a {new_list[i][1]}\")"
   ]
  },
  {
   "cell_type": "markdown",
   "metadata": {},
   "source": [
    "Q6: write a for loop which prints all the names in the list except 'Charlie'"
   ]
  },
  {
   "cell_type": "code",
   "execution_count": 32,
   "metadata": {},
   "outputs": [],
   "source": [
    "names = ['Alice', 'Bob', 'Charlie', 'Delia']\n",
    "\n",
    "# Hint: if statement and continue\n",
    "\n",
    "# please write your solution here"
   ]
  },
  {
   "cell_type": "code",
   "execution_count": 36,
   "metadata": {},
   "outputs": [
    {
     "name": "stdout",
     "output_type": "stream",
     "text": [
      "Alice\n",
      "Bob\n",
      "Delia\n"
     ]
    }
   ],
   "source": [
    "for print_names in names:\n",
    "    if print_names != 'Charlie':\n",
    "        print(print_names)\n",
    "    else:\n",
    "        continue"
   ]
  },
  {
   "cell_type": "markdown",
   "metadata": {},
   "source": [
    "### The List with 11 numbers"
   ]
  },
  {
   "cell_type": "markdown",
   "metadata": {},
   "source": [
    "Q7: Assume that we are working with the list [0, 1, 2, 3, 4, 5, 6, 7, 8, 9, 10]. \n",
    "\n",
    "1. Write a `for` loop to iterate over the list and print each number.\n",
    "2. Add a condition to that for loop which only prints a number if it is even. (**Hint**: use the `%` operator.)\n",
    "\n",
    "    a. Do not only print the even number but store them in the list `evens`.\n",
    "3. Can you modify the condition in question (2) so that the for loop only prints a number if it is odd?\n",
    "4. Now modify the `for` loop so that we print out the index of the elements along with the elements themselves."
   ]
  },
  {
   "cell_type": "code",
   "execution_count": 37,
   "metadata": {},
   "outputs": [
    {
     "name": "stdout",
     "output_type": "stream",
     "text": [
      "0\n",
      "1\n",
      "2\n",
      "3\n",
      "4\n",
      "5\n",
      "6\n",
      "7\n",
      "8\n",
      "9\n",
      "10\n"
     ]
    }
   ],
   "source": [
    "# please write your solutions for Q7 1.-4. here\n",
    "#1. Write a `for` loop to iterate over the list and print each number.\n",
    "numbers = [0, 1, 2, 3, 4, 5, 6, 7, 8, 9, 10]\n",
    "for item in numbers:\n",
    "    print(item)"
   ]
  },
  {
   "cell_type": "code",
   "execution_count": 40,
   "metadata": {},
   "outputs": [
    {
     "name": "stdout",
     "output_type": "stream",
     "text": [
      "0\n",
      "2\n",
      "4\n",
      "6\n",
      "8\n",
      "10\n",
      "[0, 2, 4, 6, 8, 10]\n"
     ]
    }
   ],
   "source": [
    "#2. Add a condition to that for loop which only prints a number if it is even. (**Hint**: use the `%` operator.)\n",
    "\n",
    "#    a. Do not only print the even number but store them in the list `evens`.\n",
    "evens = []\n",
    "for item in numbers:\n",
    "    if item % 2 == 0:\n",
    "        print(item)\n",
    "        evens.append(item)\n",
    "print(evens)"
   ]
  },
  {
   "cell_type": "markdown",
   "metadata": {},
   "source": [
    "### Clean customer names\n",
    "\n",
    "Q8: you have given a list of customer names. As a data analyst you want to work with these customers, but first you have to bring them into a consistent format. Please create a new list 'customer_names_clean' that holds all the customer names of 'customer_names' in lower case."
   ]
  },
  {
   "cell_type": "code",
   "execution_count": 94,
   "metadata": {},
   "outputs": [],
   "source": [
    "customer_names = ['KUBIKOM Company GmbH',\n",
    "'Hauser Company',\n",
    "'artofhome Company e.K.',\n",
    "'Atlas Companyservice GmbH',\n",
    "'McRae Company',\n",
    "'Companywerte24.de',\n",
    "'Picaflor Company GmbH',\n",
    "'Behrmann Company GmbH',\n",
    "'Blackert & Borchers Company GmbH & Co KG',\n",
    "'Company Martin Lang',\n",
    "'pleasanthome Company GmbH']"
   ]
  },
  {
   "cell_type": "code",
   "execution_count": 101,
   "metadata": {},
   "outputs": [
    {
     "name": "stdout",
     "output_type": "stream",
     "text": [
      "['kubikom company gmbh', 'hauser company', 'artofhome company e.k.', 'atlas companyservice gmbh', 'mcrae company', 'companywerte24.de', 'picaflor company gmbh', 'behrmann company gmbh', 'blackert & borchers company gmbh & co kg', 'company martin lang', 'pleasanthome company gmbh']\n"
     ]
    }
   ],
   "source": [
    "# please write your solution here\n",
    "customer_names_clean = [item.lower() for item in customer_names]\n",
    "print(customer_names_clean)"
   ]
  },
  {
   "cell_type": "markdown",
   "metadata": {},
   "source": [
    "Q9: Now, we are only interested in the actual customers name. Please check if the company name ends with sth like 'Company GmbH' or 'GmbH' or sth like that, if yes, then remove this part (which string method could you use for that?), otherwise just leave the customer_name untouched. In both cases assign the output of your if condition to a new list called 'customer_names_extracted'."
   ]
  },
  {
   "cell_type": "code",
   "execution_count": 114,
   "metadata": {},
   "outputs": [
    {
     "name": "stdout",
     "output_type": "stream",
     "text": [
      "['kubikom', 'hauser', 'artofhome', 'atlas', 'mcrae', 'companywerte24', 'picaflor', 'behrmann', 'blackert & borchers', 'martin lang', 'pleasanthome']\n"
     ]
    }
   ],
   "source": [
    "# please write your solution here\n",
    "customer_names_extracted = []\n",
    "to_remove = [' company', 'company ', '.de']\n",
    "for company_name in customer_names_clean:\n",
    "    for name_to_remove in to_remove:\n",
    "        position = company_name.find(name_to_remove)\n",
    "        if position == -1:\n",
    "            pass\n",
    "        elif position == 0:\n",
    "            customer_names_extracted.append(company_name[8:])\n",
    "        else:\n",
    "            customer_names_extracted.append(company_name[:position])\n",
    "            break\n",
    "print(customer_names_extracted)\n"
   ]
  },
  {
   "cell_type": "markdown",
   "metadata": {},
   "source": [
    "### Clean email addresses"
   ]
  },
  {
   "cell_type": "markdown",
   "metadata": {},
   "source": [
    "Q10: For later analysis we would like to store the email provider in a seperate column.\n",
    "Please extract the email provider from all email addresses in 'email_address_list' and store it in a new list called 'email_provider_list'."
   ]
  },
  {
   "cell_type": "code",
   "execution_count": 115,
   "metadata": {},
   "outputs": [],
   "source": [
    "email_address_list = [\n",
    "'nolan_mckinney3462@the-quickest.com',\n",
    "'brenk4987@bestmail.us',\n",
    "'hugh_mckay4695@postpro.net',\n",
    "'aline3529@emailplus.org',\n",
    "'vaneldik8972@internetemails.net',\n",
    "'efren1904@imap.cc',\n",
    "'oralia_amptman2077@hotmail.com',\n",
    "'edgar8593@fastmail.es',\n",
    "'roseanne7176@ownmail.net',\n",
    "'ramirez7701@123mail.org',\n",
    "'ardell3815@mailsent.net',\n",
    "'terry4639@allmail.net',\n",
    "'dale896@swift-mail.com',\n",
    "'erich_cowan3404@bestmail.us',\n",
    "'agueda4209@mm.st'\n",
    "]"
   ]
  },
  {
   "cell_type": "code",
   "execution_count": 119,
   "metadata": {},
   "outputs": [
    {
     "name": "stdout",
     "output_type": "stream",
     "text": [
      "['the-quickest.com', 'bestmail.us', 'postpro.net', 'emailplus.org', 'internetemails.net', 'imap.cc', 'hotmail.com', 'fastmail.es', 'ownmail.net', '123mail.org', 'mailsent.net', 'allmail.net', 'swift-mail.com', 'bestmail.us', 'mm.st']\n"
     ]
    }
   ],
   "source": [
    "# please write your solution here\n",
    "email_provider_list = []\n",
    "for email_address in email_address_list:\n",
    "    email_provider_list.append(email_address[(email_address.find('@') + 1):])\n",
    "print(email_provider_list)"
   ]
  },
  {
   "cell_type": "markdown",
   "metadata": {},
   "source": [
    "### The list with customer data"
   ]
  },
  {
   "cell_type": "markdown",
   "metadata": {},
   "source": [
    "Q11: You have received a list with the personal data of new customers. For each customer, the first name, age and purchased product is stored in a list.\n",
    "1. Use the correct indices to write the following sentence for customer 3:\n",
    "\"{first name} is {age} years old and has bought {product}\".\n",
    "\n",
    "2. Use a for loop to iterate through all customers and print \n",
    "\"{first name} is {age} years old and has bought {product}\".\n",
    "for each of them\n",
    "\n",
    "3. Iterate through all customers and print \"Customer number {index}: {first name} is {age} years old and has bought {product}\"."
   ]
  },
  {
   "cell_type": "code",
   "execution_count": 125,
   "metadata": {},
   "outputs": [],
   "source": [
    "# pay attention! this is a list of lists...\n",
    "\n",
    "customers = [['Paul', 33, 'Macbook Pro'],\n",
    "            ['Anna', 12, 'Looping Louie'],\n",
    "            ['Gina', 85, 'Photo Album'],\n",
    "            ['Kim', 59, 'Plants']]"
   ]
  },
  {
   "cell_type": "code",
   "execution_count": 122,
   "metadata": {},
   "outputs": [
    {
     "name": "stdout",
     "output_type": "stream",
     "text": [
      "Kim is 59 years old and has bought Plants\n"
     ]
    }
   ],
   "source": [
    "# please write your solutions for Q10 1.-3. here\n",
    "#1. Use the correct indices to write the following sentence for customer 3:\n",
    "#\"{first name} is {age} years old and has bought {product}\".\n",
    "print(f'{customers[3][0]} is {customers[3][1]} years old and has bought {customers[3][2]}')"
   ]
  },
  {
   "cell_type": "code",
   "execution_count": 132,
   "metadata": {},
   "outputs": [
    {
     "name": "stdout",
     "output_type": "stream",
     "text": [
      "Paul is 33 years old and has bought Macbook Pro\n",
      "Anna is 12 years old and has bought Looping Louie\n",
      "Gina is 85 years old and has bought Photo Album\n",
      "Kim is 59 years old and has bought Plants\n"
     ]
    }
   ],
   "source": [
    "#2. Use a for loop to iterate through all customers and print \n",
    "#\"{first name} is {age} years old and has bought {product}\".\n",
    "#for each of them\n",
    "for customer in customers:\n",
    "    print(f'{customer[0]} is {customer[1]} years old and has bought {customer[2]}')"
   ]
  },
  {
   "cell_type": "code",
   "execution_count": 134,
   "metadata": {},
   "outputs": [
    {
     "name": "stdout",
     "output_type": "stream",
     "text": [
      "Customer number 0: Paul is 33 years old and has bought Macbook Pro\n",
      "Customer number 1: Anna is 12 years old and has bought Looping Louie\n",
      "Customer number 2: Gina is 85 years old and has bought Photo Album\n",
      "Customer number 3: Kim is 59 years old and has bought Plants\n"
     ]
    }
   ],
   "source": [
    "#3. Iterate through all customers and print \"Customer number {index}: {first name} is {age} years old and has bought {product}\".\n",
    "for id, customer in enumerate(customers):\n",
    "    print(f'Customer number {id}: {customer[0]} is {customer[1]} years old and has bought {customer[2]}')"
   ]
  },
  {
   "cell_type": "markdown",
   "metadata": {},
   "source": [
    "<details><summary>\n",
    "Click here for a hint.\n",
    "    </summary>\n",
    "    1. With customers[0] you access the first nested list ['Paul', 33, 'Macbook Pro']. You can index each of those elements again.\n",
    "    Try out: customers[0][0]\n",
    "    \n",
    "2. With a for loop you iterate through each customer in \"customers\", now each personal data from the customer can be accessed with: customer[0] (is first name) etc.\n",
    "    \n",
    "3. For the index, you will need to iterate through enumerate(customers).\n",
    "</details>"
   ]
  }
 ],
 "metadata": {
  "kernelspec": {
   "display_name": "nf_base",
   "language": "python",
   "name": "python3"
  },
  "language_info": {
   "codemirror_mode": {
    "name": "ipython",
    "version": 3
   },
   "file_extension": ".py",
   "mimetype": "text/x-python",
   "name": "python",
   "nbconvert_exporter": "python",
   "pygments_lexer": "ipython3",
   "version": "3.11.7"
  },
  "orig_nbformat": 4
 },
 "nbformat": 4,
 "nbformat_minor": 2
}
