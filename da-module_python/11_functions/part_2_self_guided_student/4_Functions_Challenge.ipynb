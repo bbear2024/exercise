{
 "cells": [
  {
   "cell_type": "markdown",
   "metadata": {},
   "source": [
    "# Instructions \n",
    "\n",
    "For this assignment you'll be working through solving more problems, but this time by building functions from scratch. \n",
    "\n",
    "\n",
    "For each problem, you should build a function into your solution. We will build each function into it's own cell, and then call it with some arguments in the next cell right after you define it. \n",
    "\n",
    "\n",
    "For example, pretend all of the following is the solution to one of the problems, written in a function first and then called (for testing purposes) below. \n",
    "\n",
    "```python \n",
    "def my_func(param1, param2, param3): \n",
    "    # Function code to solve the problem\n",
    "\n",
    "print(my_func(param11, param21, param31))\n",
    "print(my_func(param12, param22, param32))\n",
    "print(my_func(param13, param23, param33))\n",
    "print(my_func(param14, param24, param34))\n",
    "print(my_func(param15, param25, param35))\n",
    "```\n",
    "\n",
    "Note above that `my_func` is called five times after it's definition. \n",
    "\n",
    "\n",
    "These tests should check that `my_func` works correctly with different sets of arguments. You should aim to test your functions at least 5 times after you write them. It's good to try to think of tests that your function might not solve correctly (we call these **edge cases**). Not only does thinking like this help you solve the problem, but it also gives you more faith in your solution.\n",
    "\n",
    "\n",
    "# Assignment Questions \n",
    "\n",
    "### Part 1 - Basic Practice \n",
    "\n",
    "For the first part of the assignment, we're going to get some practice taking something we've already written and translating it to a function. In continuation of prior assignments, \n",
    "\n",
    "1. Write a function that computes the factorial for an inputted number.  \n",
    "2. Write a function that determines whether or not an inputted number is prime, and then prints 'The number you inputted is a prime/ not a prime number.' depending on what your script finds (note that this means putting a `print` in front of the function when testing it will be redundant for this case). \n"
   ]
  },
  {
   "cell_type": "code",
   "execution_count": 3,
   "metadata": {},
   "outputs": [],
   "source": [
    "#1. Write a function that computes the factorial for an inputted number.  \n",
    "def factorial(n):\n",
    "    result = 1\n",
    "    for i in range(n):\n",
    "        result *= (i + 1)\n",
    "    return result"
   ]
  },
  {
   "cell_type": "code",
   "execution_count": 6,
   "metadata": {},
   "outputs": [
    {
     "data": {
      "text/plain": [
       "3628800"
      ]
     },
     "execution_count": 6,
     "metadata": {},
     "output_type": "execute_result"
    }
   ],
   "source": [
    "a = factorial(10)\n",
    "a"
   ]
  },
  {
   "cell_type": "code",
   "execution_count": 27,
   "metadata": {},
   "outputs": [],
   "source": [
    "#2. Write a function that determines whether or not an inputted number is prime, \n",
    "# and then prints 'The number you inputted is a prime/ not a prime number.' \n",
    "# depending on what your script finds (note that this means putting a `print` in front of \n",
    "# the function when testing it will be redundant for this case). \n",
    "def prime_or_not(n):\n",
    "    count = 0\n",
    "    if n == 1:\n",
    "        print('1 is not a prime number')\n",
    "    else:\n",
    "        #loop i between 2 and n, if n only can be devided by it self, then n is prime number\n",
    "        for i in range(2,n+1):\n",
    "            if n % i == 0:\n",
    "                count += 1\n",
    "        if count == 1:\n",
    "            print(f'{n} is a prime number')\n",
    "        else:\n",
    "            print(f'{n} is not a prime number')\n"
   ]
  },
  {
   "cell_type": "code",
   "execution_count": 36,
   "metadata": {},
   "outputs": [
    {
     "name": "stdout",
     "output_type": "stream",
     "text": [
      "2 is a prime number\n",
      "3 is a prime number\n",
      "4 is not a prime number\n",
      "11 is a prime number\n",
      "157 is a prime number\n"
     ]
    }
   ],
   "source": [
    "prime_or_not(2)\n",
    "prime_or_not(3)\n",
    "prime_or_not(4)\n",
    "prime_or_not(11)\n",
    "prime_or_not(157)\n"
   ]
  },
  {
   "cell_type": "markdown",
   "metadata": {},
   "source": [
    "\n",
    "### Part 2 - Advanced Practice \n",
    "\n",
    "Now we're going to push our problem solving and programming skills even further by coding up functions to solve new problems. For each of the problems below, I would suggest coding it up in a similar way to how you did the other two (building the function, and then calling it some number of times (5) to test it out after that). \n",
    "\n",
    "1. Write a function that counts the number of words in an inputted string, where we consider words to be separated by spaces. \n",
    "2. Write a function that counts the number of words in an inputted string, where we consider words to be separated by a specified delimiter (so your function should accept two arguments, one for the string and one for the delimiter) and a space is defined as the default delimiter.  \n",
    "3. Write a function that takes in a string, and returns a list that holds the length of each word in the phrase, separated by an inputted delimiter (so you're function should accept two arguments again). Make a space the default delimiter like you did in `2`. For example, if the arguments to your function were `This is a test string` (and nothing else), your function should return `[4, 2, 1, 4, 6]`. Go ahead and don't worry about removing punctuation (you can include it in the word length - e.g. \"this.\" has five letters, if we count the period). \n",
    "4. Write a function that returns all the prime numbers up to an inputted number (**Hint**: It might be helpful to use/modify the prime function you wrote earlier).    \n",
    "5. Write a function that takes in a list of numbers, as well as an additional number (i.e. two arguments), and returns a list of `yes` or `no` depending on whether each number in the list is divisible by the second number. For example, if I input `[10, 25, 36, 12, 20]` as the list of numbers, and `5` as the additional number, your function should return `['yes', 'yes', 'no', 'no', 'yes']`.\n",
    "6. Write a function that takes in a list of strings, as well as an inputted letter (which looks like a string with a single character), and returns a list of only those strings from the input list that end with that letter. For example, if I input `['I', 'am', 'in', 'love', 'with', 'Python']` as the list of strings, and `n` as the inputted letter, your function should return `['in', 'Python']`.\n",
    "7. Write a function that takes in a list of strings, as well as an inputted substring (i.e. another string), and returns a list of the indices of the strings that contain that inputted substring. For example, if I input `['This', 'is, 'an' , 'example']` as the list of strings, and `is` as the substring, your function should return `[0, 1]`.\n"
   ]
  },
  {
   "cell_type": "code",
   "execution_count": 46,
   "metadata": {},
   "outputs": [],
   "source": [
    "#1. Write a function that counts the number of words in an inputted string, \n",
    "# where we consider words to be separated by spaces. \n",
    "def count_words(txt):\n",
    "    count = 0\n",
    "    txt_cleaned = txt.strip()\n",
    "    for i in txt_cleaned:\n",
    "        if i == ' ':\n",
    "            count += 1\n",
    "    return print(f'The string contains {count + 1} word(s)')"
   ]
  },
  {
   "cell_type": "code",
   "execution_count": 49,
   "metadata": {},
   "outputs": [
    {
     "name": "stdout",
     "output_type": "stream",
     "text": [
      "The string contains 4 word(s)\n"
     ]
    }
   ],
   "source": [
    "count_words(' some sdgdfg ,sdgd sdgj')"
   ]
  },
  {
   "cell_type": "code",
   "execution_count": 54,
   "metadata": {},
   "outputs": [],
   "source": [
    "#2. Write a function that counts the number of words in an inputted string, \n",
    "# where we consider words to be separated by a specified delimiter \n",
    "# (so your function should accept two arguments, one for the string and one for the delimiter) \n",
    "# and a space is defined as the default delimiter.  \n",
    "def count_words(txt, delimiter=' '):\n",
    "    count = 0\n",
    "    txt_cleaned = txt.strip(delimiter)\n",
    "    for i in txt_cleaned:\n",
    "        if i == delimiter:\n",
    "            count += 1\n",
    "    return print(f'The string contains {count + 1} word(s)')"
   ]
  },
  {
   "cell_type": "code",
   "execution_count": 58,
   "metadata": {},
   "outputs": [
    {
     "name": "stdout",
     "output_type": "stream",
     "text": [
      "The string contains 5 word(s)\n",
      "The string contains 5 word(s)\n",
      "The string contains 1 word(s)\n",
      "The string contains 2 word(s)\n",
      "The string contains 1 word(s)\n"
     ]
    }
   ],
   "source": [
    "count_words(' sdkjga, sdfodg,sdfsdf, er ,sd ',',')\n",
    "count_words(',sdkjga,    sdfodg,word,!?\" er ,sd ,',',')\n",
    "count_words(' sdkjga, sdfodg,sdfsdf, er ,sd ','?')\n",
    "count_words(' sdkjga, sdfodg!sdfsdf, er ,sd ','!')\n",
    "count_words('/ sdkjga, sdfodg,sdfsdf, er ,sd /','/')"
   ]
  },
  {
   "cell_type": "code",
   "execution_count": 52,
   "metadata": {},
   "outputs": [],
   "source": [
    "#3. Write a function that takes in a string, and returns a list that holds the length of each word \n",
    "# in the phrase, separated by an inputted delimiter (so you're function should accept two arguments \n",
    "# again). Make a space the default delimiter like you did in `2`. For example, if the arguments to\n",
    "#  your function were `This is a test string` (and nothing else), your function should return \n",
    "# `[4, 2, 1, 4, 6]`. Go ahead and don't worry about removing punctuation (you can include it in the \n",
    "# word length - e.g. \"this.\" has five letters, if we count the period). \n",
    "\n",
    "def count_length_of_words(txt, delimiter=' '):\n",
    "    count = 0\n",
    "    word_length = []\n",
    "    txt_cleaned = txt.strip(delimiter)\n",
    "    for i in txt_cleaned:\n",
    "        count += 1\n",
    "        if i == delimiter:\n",
    "            word_length.append(count-1) #the length should not consider delimiter\n",
    "            count = 0\n",
    "        if i == txt_cleaned[-1]: #at the end, there is no delimiter\n",
    "            word_length.append(count)\n",
    "    return print(word_length)"
   ]
  },
  {
   "cell_type": "code",
   "execution_count": 53,
   "metadata": {},
   "outputs": [
    {
     "name": "stdout",
     "output_type": "stream",
     "text": [
      "[4, 2, 1, 4, 6]\n",
      "[4, 3, 2, 5, 7]\n",
      "[4, 2, 1, 4, 6]\n",
      "[4, 2, 3, 4, 9]\n",
      "[7, 0, 7, 5, 2]\n"
     ]
    }
   ],
   "source": [
    "count_length_of_words('This is a test string')\n",
    "count_length_of_words('This, is, a, test, string',',')\n",
    "count_length_of_words(' This is a test string ')\n",
    "count_length_of_words('This.is. a .test.   string.','.')\n",
    "count_length_of_words('.This is.. a test. stri.ng.','.')"
   ]
  },
  {
   "cell_type": "code",
   "execution_count": 46,
   "metadata": {},
   "outputs": [],
   "source": [
    "#4. Write a function that returns all the prime numbers up to an inputted number \n",
    "# (**Hint**: It might be helpful to use/modify the prime function you wrote earlier). \n",
    "\n",
    "def prime(n):\n",
    "    prime_number = []\n",
    "    for x in range(2,n+1):\n",
    "        count = 0\n",
    "        for i in range(2,x+1):\n",
    "            if x % i == 0:\n",
    "                count += 1\n",
    "        if count == 1:\n",
    "            prime_number.append(x)\n",
    "    return prime_number"
   ]
  },
  {
   "cell_type": "code",
   "execution_count": 48,
   "metadata": {},
   "outputs": [
    {
     "name": "stdout",
     "output_type": "stream",
     "text": [
      "[2, 3, 5, 7, 11, 13, 17, 19, 23, 29, 31, 37, 41, 43, 47, 53, 59, 61, 67, 71, 73, 79, 83, 89, 97]\n"
     ]
    }
   ],
   "source": [
    "print(prime(100))"
   ]
  },
  {
   "cell_type": "code",
   "execution_count": 49,
   "metadata": {},
   "outputs": [],
   "source": [
    "#5. Write a function that takes in a list of numbers, as well as an additional number \n",
    "# (i.e. two arguments), and returns a list of `yes` or `no` depending on whether each \n",
    "# number in the list is divisible by the second number. For example, if I input \n",
    "# `[10, 25, 36, 12, 20]` as the list of numbers, and `5` as the additional number, \n",
    "# your function should return `['yes', 'yes', 'no', 'no', 'yes']`.\n",
    "\n",
    "def if_divisible(number_list, divisor):\n",
    "    yes_or_no = []\n",
    "    for number in number_list:\n",
    "        if number % divisor == 0:\n",
    "            yes_or_no.append('yes')\n",
    "        else:\n",
    "            yes_or_no.append('no')\n",
    "    return yes_or_no"
   ]
  },
  {
   "cell_type": "code",
   "execution_count": 51,
   "metadata": {},
   "outputs": [
    {
     "name": "stdout",
     "output_type": "stream",
     "text": [
      "['yes', 'no', 'no', 'no', 'yes', 'no']\n",
      "['yes', 'yes', 'no', 'no', 'no', 'no']\n",
      "['yes', 'no', 'no', 'no', 'no', 'no']\n",
      "['no', 'no', 'yes', 'no', 'yes', 'no']\n",
      "['no', 'no', 'no', 'no', 'no', 'yes']\n"
     ]
    }
   ],
   "source": [
    "print(if_divisible([12, 3, 5, 79, 10, 49], 2))\n",
    "print(if_divisible([12, 3, 5, 79, 10, 49], 3))\n",
    "print(if_divisible([12, 3, 5, 79, 10, 49], 4))\n",
    "print(if_divisible([12, 3, 5, 79, 10, 49], 5))\n",
    "print(if_divisible([12, 3, 5, 79, 10, 49], 7))"
   ]
  },
  {
   "cell_type": "code",
   "execution_count": 59,
   "metadata": {},
   "outputs": [],
   "source": [
    "#6. Write a function that takes in a list of strings, as well as an inputted letter \n",
    "# (which looks like a string with a single character), and returns a list of only \n",
    "# those strings from the input list that end with that letter. For example, if I \n",
    "# input `['I', 'am', 'in', 'love', 'with', 'Python']` as the list of strings, \n",
    "# and `n` as the inputted letter, your function should return `['in', 'Python']`.\n",
    "\n",
    "def end_with(list, letter):\n",
    "    end_with_letter = []\n",
    "    for item in list:\n",
    "        if item.endswith(letter):\n",
    "            end_with_letter.append(item)\n",
    "    return end_with_letter"
   ]
  },
  {
   "cell_type": "code",
   "execution_count": 60,
   "metadata": {},
   "outputs": [
    {
     "name": "stdout",
     "output_type": "stream",
     "text": [
      "['I']\n",
      "['in', 'Python']\n",
      "['with']\n",
      "['am']\n",
      "['ini', 'wi']\n"
     ]
    }
   ],
   "source": [
    "print(end_with(['I', 'am', 'in', 'love', 'with', 'Python'], 'I'))\n",
    "print(end_with(['I', 'am', 'in', 'love', 'with', 'Python'], 'n'))\n",
    "print(end_with(['I', 'am', 'in', 'love', 'with', 'Python'], 'h'))\n",
    "print(end_with(['I', 'am', 'in', 'love', 'with', 'Python'], 'm'))\n",
    "print(end_with(['I', 'am', 'ini', 'loveI', 'wi', 'Python'], 'i'))"
   ]
  },
  {
   "cell_type": "code",
   "execution_count": 63,
   "metadata": {},
   "outputs": [],
   "source": [
    "#7. Write a function that takes in a list of strings, as well as an inputted substring \n",
    "# (i.e. another string), and returns a list of the indices of the strings that contain \n",
    "# that inputted substring. For example, if I input `['This', 'is, 'an' , 'example']` as \n",
    "# the list of strings, and `is` as the substring, your function should return `[0, 1]`.\n",
    "\n",
    "def index_strings(list, substring):\n",
    "    index = 0\n",
    "    index_list = []\n",
    "    for item in list:\n",
    "        if item.find(substring) != -1:\n",
    "            index_list.append(index)\n",
    "        index += 1\n",
    "    return index_list"
   ]
  },
  {
   "cell_type": "code",
   "execution_count": 65,
   "metadata": {},
   "outputs": [
    {
     "name": "stdout",
     "output_type": "stream",
     "text": [
      "[0, 1]\n",
      "[0, 1, 2, 3]\n",
      "[2, 3]\n",
      "[0]\n",
      "[]\n"
     ]
    }
   ],
   "source": [
    "print(index_strings(['This', 'is', 'an', 'example'], 'is'))\n",
    "print(index_strings(['This', 'is', 'his', 'sister'], 'is'))\n",
    "print(index_strings(['This', 'is', 'an', 'example'], 'a'))\n",
    "print(index_strings(['This', 'is', 'an', 'example'], 'Th'))\n",
    "print(index_strings(['This', 'is', 'an', 'example'], 'th'))"
   ]
  },
  {
   "cell_type": "markdown",
   "metadata": {},
   "source": [
    "\n",
    "### Extra Challenge\n",
    "\n",
    "1. Let's build a calculator for figuring out how much I owe in taxes (and by calculator, I mean function). Write a function that takes in a list of tuples, where each tuple contains two values, as well as an income to compute the taxes on (so your function should accept two arguments). For the tuple list, the first value of a tuple will be an income upper bound, and the second will be a tax rate for all income up to the given income bound. You need to build a calculator that will calculate the tax for all income up to each income bound (if it goes up that high) for the given tax rate. You can assume that the list of tuples will be sorted by the income bound (e.g. the first value in the tuple), such that the lowest income bound will be first, and the highest last (see below for an example).  \n",
    "\n",
    " As an example, let's say my tax info is `[(50000, 0.08), (100000, 0.10), (150000, 0.15)]`. This means that the first 50k of income is taxed at 8%, the second 50k at 10%, and the rest at 15% (note here that any income that is left past the highest upper bound given is taxed at the rate for that highest upper bound). So, if the inputted income was 70k, then my taxes would be 50 * 0.08 + 20 * 0.10 = 6k. You should write your function to be generalized and accept any kind of list of tuples and any inputted income (so it'll accept two arguments).  \n",
    "\n",
    "2. Now modify your solution to `Extra Credit 1` to accept a list of tuples that is not sorted by the income bound. \n",
    "\n",
    " **Hint**: Trying using the `sorted` function and working with the `key` argument (a [lambda](https://www.educative.io/blog/python-lambda-functions-tutorial) function will probably be helpful here). "
   ]
  },
  {
   "cell_type": "code",
   "execution_count": 2,
   "metadata": {},
   "outputs": [],
   "source": [
    "tax_info = [(150000, 0.08), (50000, 0.10), (100000, 0.15)]"
   ]
  },
  {
   "cell_type": "code",
   "execution_count": 3,
   "metadata": {},
   "outputs": [
    {
     "name": "stdout",
     "output_type": "stream",
     "text": [
      "None\n"
     ]
    }
   ],
   "source": [
    "print(tax_info.sort())"
   ]
  },
  {
   "cell_type": "code",
   "execution_count": null,
   "metadata": {},
   "outputs": [],
   "source": [
    "def tax_calculator(list, income):\n"
   ]
  }
 ],
 "metadata": {
  "kernelspec": {
   "display_name": "Python 3",
   "language": "python",
   "name": "python3"
  },
  "language_info": {
   "codemirror_mode": {
    "name": "ipython",
    "version": 3
   },
   "file_extension": ".py",
   "mimetype": "text/x-python",
   "name": "python",
   "nbconvert_exporter": "python",
   "pygments_lexer": "ipython3",
   "version": "3.12.3"
  },
  "toc": {
   "base_numbering": 1,
   "nav_menu": {},
   "number_sections": true,
   "sideBar": true,
   "skip_h1_title": false,
   "title_cell": "Table of Contents",
   "title_sidebar": "Contents",
   "toc_cell": false,
   "toc_position": {},
   "toc_section_display": true,
   "toc_window_display": false
  },
  "varInspector": {
   "cols": {
    "lenName": 16,
    "lenType": 16,
    "lenVar": 40
   },
   "kernels_config": {
    "python": {
     "delete_cmd_postfix": "",
     "delete_cmd_prefix": "del ",
     "library": "var_list.py",
     "varRefreshCmd": "print(var_dic_list())"
    },
    "r": {
     "delete_cmd_postfix": ") ",
     "delete_cmd_prefix": "rm(",
     "library": "var_list.r",
     "varRefreshCmd": "cat(var_dic_list()) "
    }
   },
   "types_to_exclude": [
    "module",
    "function",
    "builtin_function_or_method",
    "instance",
    "_Feature"
   ],
   "window_display": false
  }
 },
 "nbformat": 4,
 "nbformat_minor": 4
}
